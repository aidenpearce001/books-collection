{
 "cells": [
  {
   "cell_type": "code",
   "execution_count": 6,
   "id": "01c51601",
   "metadata": {},
   "outputs": [
    {
     "name": "stderr",
     "output_type": "stream",
     "text": [
      "C:\\Users\\Watch Dogs\\Anaconda3\\envs\\books\\lib\\site-packages\\urllib3\\connectionpool.py:1020: InsecureRequestWarning: Unverified HTTPS request is being made to host 'nhasachphuongnam.com'. Adding certificate verification is strongly advised. See: https://urllib3.readthedocs.io/en/1.26.x/advanced-usage.html#ssl-warnings\n",
      "  InsecureRequestWarning,\n"
     ]
    }
   ],
   "source": [
    "import requests\n",
    "from bs4 import BeautifulSoup\n",
    "\n",
    "url = \"https://nhasachphuongnam.com/vi/sach-tieng-viet-page-2.html?items_per_page=128&result_ids=pagination_contents&is_ajax=1\"\n",
    "\n",
    "payload={}\n",
    "headers = {\n",
    "  'Connection': 'keep-alive',\n",
    "  'Pragma': 'no-cache',\n",
    "  'Cache-Control': 'no-cache',\n",
    "  'sec-ch-ua': '\"Chromium\";v=\"94\", \"Google Chrome\";v=\"94\", \";Not A Brand\";v=\"99\"',\n",
    "  'Accept': 'application/json, text/javascript, */*; q=0.01',\n",
    "  'X-Requested-With': 'XMLHttpRequest',\n",
    "  'sec-ch-ua-mobile': '?0',\n",
    "  'User-Agent': 'Mozilla/5.0 (Windows NT 10.0; Win64; x64) AppleWebKit/537.36 (KHTML, like Gecko) Chrome/94.0.4606.71 Safari/537.36',\n",
    "  'sec-ch-ua-platform': '\"Windows\"',\n",
    "  'Sec-Fetch-Site': 'same-origin',\n",
    "  'Sec-Fetch-Mode': 'cors',\n",
    "  'Sec-Fetch-Dest': 'empty',\n",
    "  'Referer': 'https://nhasachphuongnam.com/vi/sach-tieng-viet-page-3.html',\n",
    "  'Accept-Language': 'vi,en-US;q=0.9,en;q=0.8,vi-VN;q=0.7',\n",
    "  'Cookie': 'sid_customer_d577e=c81a4f54e12eb374c53db1cf4d78f94e-C'\n",
    "}\n",
    "\n",
    "response = requests.request(\"GET\", url, headers=headers, verify=False).json()"
   ]
  },
  {
   "cell_type": "code",
   "execution_count": 8,
   "id": "f66af2c7",
   "metadata": {},
   "outputs": [
    {
     "data": {
      "text/plain": [
       "dict_keys(['current_url', 'html', 'notifications'])"
      ]
     },
     "execution_count": 8,
     "metadata": {},
     "output_type": "execute_result"
    }
   ],
   "source": [
    "response.keys()"
   ]
  },
  {
   "cell_type": "code",
   "execution_count": 12,
   "id": "267af3c3",
   "metadata": {},
   "outputs": [],
   "source": [
    "html = BeautifulSoup(response['html']['pagination_contents'])"
   ]
  },
  {
   "cell_type": "code",
   "execution_count": 24,
   "id": "febe9457",
   "metadata": {},
   "outputs": [
    {
     "data": {
      "text/plain": [
       "'https://nhasachphuongnam.com/vi/bai-tap-tieng-anh-theo-chuong-trinh-moi-cua-bo-gddt-lop-9-tap-2-co-dap-an.html'"
      ]
     },
     "execution_count": 24,
     "metadata": {},
     "output_type": "execute_result"
    }
   ],
   "source": [
    "book_html=  html.find('div',{'class':'grid-list vs-grid-table-wrapper et-grid-table-wrapper'})\n",
    "bookshelf = book_html.findAll('div',{'class':'vs-grid vs-grid-table et-grid'})\n",
    "bookshelf[0].a['href']"
   ]
  }
 ],
 "metadata": {
  "kernelspec": {
   "display_name": "book",
   "language": "python",
   "name": "book"
  },
  "language_info": {
   "codemirror_mode": {
    "name": "ipython",
    "version": 3
   },
   "file_extension": ".py",
   "mimetype": "text/x-python",
   "name": "python",
   "nbconvert_exporter": "python",
   "pygments_lexer": "ipython3",
   "version": "3.7.11"
  }
 },
 "nbformat": 4,
 "nbformat_minor": 5
}
