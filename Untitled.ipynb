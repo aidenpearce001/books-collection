{
 "cells": [
  {
   "cell_type": "code",
   "execution_count": 1,
   "id": "7ddf61e4",
   "metadata": {},
   "outputs": [],
   "source": [
    "import pandas as pd \n",
    "import json\n",
    "import re\n",
    "import os\n",
    "import shutil\n",
    "import glob\n",
    "\n",
    "from collections import defaultdict\n",
    "import unicodedata"
   ]
  },
  {
   "cell_type": "code",
   "execution_count": 3,
   "id": "6f1eeeb2",
   "metadata": {},
   "outputs": [
    {
     "data": {
      "text/plain": [
       "Index(['tên sách', 'ảnh bìa', 'thể loại', 'nội dung tóm tắt', 'số trang',\n",
       "       'tác giả', 'dịch giả', 'giá bìa', 'kích thước', 'nhà phát hành',\n",
       "       'nhà xuất bản'],\n",
       "      dtype='object')"
      ]
     },
     "execution_count": 3,
     "metadata": {},
     "output_type": "execute_result"
    }
   ],
   "source": [
    "_phuongnam = pd.read_csv(\"phuongnam/phuongnam_CHĂM SÓC GIA ĐÌNH.csv\")\n",
    "_phuongnam.columns"
   ]
  },
  {
   "cell_type": "code",
   "execution_count": 5,
   "id": "ad3f6183",
   "metadata": {},
   "outputs": [
    {
     "name": "stderr",
     "output_type": "stream",
     "text": [
      "C:\\Users\\aiden\\anaconda3\\envs\\books\\lib\\site-packages\\ipykernel_launcher.py:2: FutureWarning: In a future version of pandas all arguments of DataFrame.drop except for the argument 'labels' will be keyword-only\n",
      "  \n"
     ]
    },
    {
     "data": {
      "text/plain": [
       "Index(['tên sách', 'ảnh bìa', 'thể loại', 'tác giả', 'nội dung tóm tắt',\n",
       "       'giá bìa', 'nhà phát hành', 'nhà xuất bản', 'ngày xuất bản',\n",
       "       'kích thước', 'loại bìa', 'số trang', 'dịch giả', 'path', 'phiên bản'],\n",
       "      dtype='object')"
      ]
     },
     "execution_count": 5,
     "metadata": {},
     "output_type": "execute_result"
    }
   ],
   "source": [
    "_tiki = pd.read_csv(\"tiki/tiki_CHĂM SÓC GIA ĐÌNH.csv\")\n",
    "_tiki = _tiki.drop(\"Unnamed: 0\",1)\n",
    "_tiki = _tiki.drop(_tiki.index[0])\n",
    "_tiki.columns= _tiki.columns.str.lower()\n",
    "_tiki = _tiki.rename(columns={'công ty phát hành': 'nhà phát hành'})\n",
    "_tiki.columns"
   ]
  },
  {
   "cell_type": "code",
   "execution_count": 6,
   "id": "447925b8",
   "metadata": {},
   "outputs": [
    {
     "data": {
      "text/plain": [
       "{'loại bìa', 'ngày xuất bản', 'path', 'phiên bản'}"
      ]
     },
     "execution_count": 6,
     "metadata": {},
     "output_type": "execute_result"
    }
   ],
   "source": [
    "set(_phuongnam.columns) ^ set(_tiki.columns)"
   ]
  },
  {
   "cell_type": "code",
   "execution_count": 34,
   "id": "96e41e8a",
   "metadata": {},
   "outputs": [
    {
     "name": "stdout",
     "output_type": "stream",
     "text": [
      "{'_NGÀNH CÔNG NGHỆ - THÔNG TIN.csv', '_SÁCH KINH TẾ.csv', '_CHĂM SÓC GIA ĐÌNH.csv', '_THIẾU NHI .csv', '_NGÀNH NGHỆ THUẬT.csv', '_SÁCH GIÁO TRÌNH.csv', '_TẠP CHÍ - CATALOGUE.csv', '_NGÀNH KHOA HỌC XÃ HỘI VÀ NHÂN VĂN.csv', '_PHONG THỦY - KINH DỊCH.csv', '_VĂN HỌC.csv', '_HỌC NGÔN NGỮ.csv', '_SÁCH KỸ NĂNG.csv', '_TỪ ĐIỂN.csv'}\n"
     ]
    }
   ],
   "source": [
    "tiki_set = set(map(lambda x: x.replace(\"tiki\\\\tiki\", \"\"), glob.glob(\"tiki/*\")))\n",
    "pn_set = set(map(lambda x: x.replace(\"phuongnam\\\\phuongnam\", \"\"), glob.glob(\"phuongnam/*\")))\n",
    "intersect = tiki_set & pn_set\n",
    "print(intersect)\n",
    "tiki_only = tiki_set - intersect\n",
    "pn_only = pn_set - intersect"
   ]
  },
  {
   "cell_type": "code",
   "execution_count": 35,
   "id": "daa81d70",
   "metadata": {
    "scrolled": true
   },
   "outputs": [
    {
     "data": {
      "text/plain": [
       "{'_NGÀNH KHOA HỌC KỸ THUẬT – CÔNG NGHỆ.csv',\n",
       " '_NGÀNH KHOA HỌC TỰ NHIÊN.csv',\n",
       " '_NGÀNH NÔNG - LÂM - NGƯ NGHIỆP.csv',\n",
       " '_NGÀNH PHÁP LUẬT – THUẾ.csv',\n",
       " '_NGÀNH THỂ DỤC – THỂ THAO.csv',\n",
       " '_NGÀNH Y HỌC.csv',\n",
       " '_NHÀ Ở - PET.csv',\n",
       " '_TUỔI TEEN.csv'}"
      ]
     },
     "execution_count": 35,
     "metadata": {},
     "output_type": "execute_result"
    }
   ],
   "source": [
    "pn_only"
   ]
  },
  {
   "cell_type": "code",
   "execution_count": 44,
   "id": "6a521deb",
   "metadata": {},
   "outputs": [
    {
     "name": "stderr",
     "output_type": "stream",
     "text": [
      "C:\\Users\\aiden\\anaconda3\\envs\\books\\lib\\site-packages\\ipykernel_launcher.py:3: FutureWarning: In a future version of pandas all arguments of DataFrame.drop except for the argument 'labels' will be keyword-only\n",
      "  This is separate from the ipykernel package so we can avoid doing imports until\n"
     ]
    }
   ],
   "source": [
    "for i in tiki_only:\n",
    "    _tiki = pd.read_csv(\"tiki/tiki\"+i)\n",
    "    _tiki = _tiki.drop(\"Unnamed: 0\",1)\n",
    "    _tiki = _tiki.drop(_tiki.index[0])\n",
    "    _tiki.columns= _tiki.columns.str.lower()\n",
    "    _tiki = _tiki.rename(columns={'công ty phát hành': 'nhà phát hành'})\n",
    "    \n",
    "    _tiki.to_csv('allocate/'+i,index=False)"
   ]
  },
  {
   "cell_type": "code",
   "execution_count": 46,
   "id": "513d8c85",
   "metadata": {},
   "outputs": [],
   "source": [
    "for i in pn_only:\n",
    "    try:\n",
    "        _phuongnam = pd.read_csv(\"phuongnam/phuongnam\"+i)\n",
    "        _phuongnam.to_csv('allocate/'+i,index=False)\n",
    "    except:\n",
    "        pass"
   ]
  },
  {
   "cell_type": "code",
   "execution_count": 41,
   "id": "eff623f8",
   "metadata": {},
   "outputs": [
    {
     "name": "stderr",
     "output_type": "stream",
     "text": [
      "C:\\Users\\aiden\\anaconda3\\envs\\books\\lib\\site-packages\\ipykernel_launcher.py:4: FutureWarning: In a future version of pandas all arguments of DataFrame.drop except for the argument 'labels' will be keyword-only\n",
      "  after removing the cwd from sys.path.\n"
     ]
    },
    {
     "name": "stdout",
     "output_type": "stream",
     "text": [
      "No columns to parse from file\n"
     ]
    }
   ],
   "source": [
    "for i in intersect:\n",
    "    try:\n",
    "        _tiki = pd.read_csv(\"tiki/tiki\"+i)\n",
    "        _tiki = _tiki.drop(\"Unnamed: 0\",1)\n",
    "        _tiki = _tiki.drop(_tiki.index[0])\n",
    "        _tiki.columns= _tiki.columns.str.lower()\n",
    "        _tiki = _tiki.rename(columns={'công ty phát hành': 'nhà phát hành'})\n",
    "\n",
    "        _phuongnam = pd.read_csv(\"phuongnam/phuongnam\"+i)\n",
    "        merged = pd.concat([_tiki,_phuongnam])\n",
    "\n",
    "        merged.to_csv('allocate/'+i,index=False)\n",
    "    except Exception as E:\n",
    "        print(E)\n",
    "#     _dict = _phuongnam.to_dict('records')"
   ]
  },
  {
   "cell_type": "code",
   "execution_count": 50,
   "id": "83cc4d48",
   "metadata": {},
   "outputs": [
    {
     "name": "stdout",
     "output_type": "stream",
     "text": [
      "{'_SÁCH KINH TẾ.csv', '_CHĂM SÓC GIA ĐÌNH.csv', '_THIẾU NHI .csv', '_NGÀNH NGHỆ THUẬT.csv', '_SÁCH GIÁO TRÌNH.csv', '_NGÀNH KHOA HỌC TỰ NHIÊN.csv', '_NGÀNH KHOA HỌC XÃ HỘI VÀ NHÂN VĂN.csv', '_TẠP CHÍ - CATALOGUE.csv', '_VĂN HỌC.csv', '_PHONG THỦY - KINH DỊCH.csv', '_NHÂN VẬT - SỰ KIỆN .csv', '_HỌC NGÔN NGỮ.csv', '_NGÀNH KHOA HỌC KỸ THUẬT – CÔNG NGHỆ.csv', '_SÁCH KỸ NĂNG.csv', '_TỪ ĐIỂN.csv', '_SÁCH THAM KHẢO.csv', '_NGÀNH THỂ DỤC – THỂ THAO.csv', '_NGÀNH Y HỌC.csv'}\n"
     ]
    }
   ],
   "source": [
    "fahasa_set = set(map(lambda x: x.replace(\"fahasa\\\\fahasa\", \"\"), glob.glob(\"fahasa/*\")))\n",
    "allocate_set = set(map(lambda x: x.replace(\"allocate\\\\\", \"\"), glob.glob(\"allocate/*\")))\n",
    "intersect = allocate_set & fahasa_set\n",
    "print(intersect)\n",
    "fahasa_only = tiki_set - intersect\n",
    "all_only = pn_set - intersect"
   ]
  },
  {
   "cell_type": "code",
   "execution_count": 52,
   "id": "fcfe12c9",
   "metadata": {},
   "outputs": [
    {
     "data": {
      "text/plain": [
       "{'_Chăm sóc sức khỏe.csv',\n",
       " '_NGÀNH CÔNG NGHỆ - THÔNG TIN.csv',\n",
       " '_SÁCH GIÁO KHOA.csv',\n",
       " '_TỬ VI - CHIÊM TINH.csv'}"
      ]
     },
     "execution_count": 52,
     "metadata": {},
     "output_type": "execute_result"
    }
   ],
   "source": [
    "fahasa_only"
   ]
  },
  {
   "cell_type": "code",
   "execution_count": null,
   "id": "6372214c",
   "metadata": {},
   "outputs": [],
   "source": [
    "for i in intersect:\n",
    "    try:\n",
    "        _fahasa = pd.read_csv(\"fahasa/fahasa\"+il)\n",
    "        _fahasa = _fahasa.drop(\"Unnamed: 0\",1)\n",
    "        _fahasa = _fahasa.drop(_fahasa.index[0])\n",
    "        _fahasa = _fahasa.dropna(how='all', axis=1)\n",
    "\n",
    "        _phuongnam = pd.read_csv(\"phuongnam/phuongnam\"+i)\n",
    "        merged = pd.concat([_tiki,_phuongnam])\n",
    "\n",
    "        merged.to_csv('allocate/'+i,index=False)\n",
    "    except Exception as E:\n",
    "        print(E)\n",
    "#     _dict = _phuongnam.to_dict('records')"
   ]
  },
  {
   "cell_type": "code",
   "execution_count": 53,
   "id": "d7661c03",
   "metadata": {},
   "outputs": [
    {
     "data": {
      "text/plain": [
       "Index(['tên sách', 'ảnh bìa', 'thể loại', 'tác giả', 'nội dung tóm tắt',\n",
       "       'giá bìa', 'nhà phát hành', 'nhà xuất bản', 'ngày xuất bản',\n",
       "       'kích thước', 'loại bìa', 'số trang', 'dịch giả', 'path', 'phiên bản'],\n",
       "      dtype='object')"
      ]
     },
     "execution_count": 53,
     "metadata": {},
     "output_type": "execute_result"
    }
   ],
   "source": [
    "allocate = pd.read_csv(\"allocate/_CHĂM SÓC GIA ĐÌNH.csv\")\n",
    "allocate.columns"
   ]
  },
  {
   "cell_type": "code",
   "execution_count": 55,
   "id": "8438bf74",
   "metadata": {},
   "outputs": [
    {
     "data": {
      "text/plain": [
       "{'dịch giả', 'nhà phát hành', 'phiên bản'}"
      ]
     },
     "execution_count": 55,
     "metadata": {},
     "output_type": "execute_result"
    }
   ],
   "source": [
    "set(allocate.columns) ^ set(_fahasa.columns)"
   ]
  },
  {
   "cell_type": "code",
   "execution_count": 54,
   "id": "7b3e6ec1",
   "metadata": {},
   "outputs": [
    {
     "name": "stderr",
     "output_type": "stream",
     "text": [
      "C:\\Users\\aiden\\anaconda3\\envs\\books\\lib\\site-packages\\ipykernel_launcher.py:2: FutureWarning: In a future version of pandas all arguments of DataFrame.drop except for the argument 'labels' will be keyword-only\n",
      "  \n"
     ]
    }
   ],
   "source": [
    "_fahasa = pd.read_csv(\"fahasa/fahasa_CHĂM SÓC GIA ĐÌNH.csv\")\n",
    "_fahasa = _fahasa.drop(\"Unnamed: 0\",1)\n",
    "_fahasa = _fahasa.drop(_fahasa.index[0])\n",
    "_fahasa = _fahasa.dropna(how='all', axis=1)"
   ]
  },
  {
   "cell_type": "code",
   "execution_count": null,
   "id": "c2689c1d",
   "metadata": {},
   "outputs": [],
   "source": []
  }
 ],
 "metadata": {
  "kernelspec": {
   "display_name": "books",
   "language": "python",
   "name": "books"
  },
  "language_info": {
   "codemirror_mode": {
    "name": "ipython",
    "version": 3
   },
   "file_extension": ".py",
   "mimetype": "text/x-python",
   "name": "python",
   "nbconvert_exporter": "python",
   "pygments_lexer": "ipython3",
   "version": "3.7.11"
  }
 },
 "nbformat": 4,
 "nbformat_minor": 5
}
