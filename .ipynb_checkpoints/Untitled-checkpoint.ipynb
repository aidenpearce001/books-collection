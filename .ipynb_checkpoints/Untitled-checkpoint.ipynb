{
 "cells": [
  {
   "cell_type": "code",
   "execution_count": 1,
   "id": "7ddf61e4",
   "metadata": {},
   "outputs": [],
   "source": [
    "import pandas as pd \n",
    "import json\n",
    "import re\n",
    "import os\n",
    "import shutil\n",
    "import glob\n",
    "\n",
    "from collections import defaultdict\n",
    "import unicodedata"
   ]
  },
  {
   "cell_type": "markdown",
   "id": "ca24f72d",
   "metadata": {},
   "source": [
    "# TIKI & Phuongnam"
   ]
  },
  {
   "cell_type": "code",
   "execution_count": 32,
   "id": "fe6b7fa5",
   "metadata": {},
   "outputs": [],
   "source": [
    "_phuongnam_cols = []\n",
    "for pn in glob.glob(\"phuongnam/*\"):\n",
    "    try:\n",
    "        df_pn = pd.read_csv(pn)\n",
    "        _phuongnam_cols = _phuongnam_cols + list(df_pn.columns)\n",
    "    except:\n",
    "        pass\n",
    "    \n",
    "_phuongnam_cols = set(_phuongnam_cols)"
   ]
  },
  {
   "cell_type": "code",
   "execution_count": 83,
   "id": "33ac107e",
   "metadata": {},
   "outputs": [],
   "source": [
    "_tiki_cols = []\n",
    "for tiki in glob.glob(\"tiki/*\"):\n",
    "    df_tiki = pd.read_csv(tiki)\n",
    "    _tiki_cols = _tiki_cols + list(df_tiki.columns)\n",
    "    \n",
    "_tiki_cols = set(_tiki_cols)"
   ]
  },
  {
   "cell_type": "code",
   "execution_count": 39,
   "id": "08c07a7d",
   "metadata": {},
   "outputs": [],
   "source": [
    "tiki_remove = ['Lưu ý','Model','Phiên bản','Thương hiệu','Unnamed: 0','Xuất xứ','Xuất xứ thương hiệu','path']"
   ]
  },
  {
   "cell_type": "code",
   "execution_count": 47,
   "id": "c56980b6",
   "metadata": {},
   "outputs": [],
   "source": [
    "for pn in glob.glob(\"phuongnam/*\"):\n",
    "    try:\n",
    "        _phuongnam = pd.read_csv(pn)\n",
    "        _phuongnam = _phuongnam.rename(columns={'loại sản phẩm': 'loại bìa'})\n",
    "\n",
    "        _phuongnam.to_csv(pn,index=False)\n",
    "    except:\n",
    "        pass"
   ]
  },
  {
   "cell_type": "code",
   "execution_count": 42,
   "id": "9a67bfa9",
   "metadata": {},
   "outputs": [
    {
     "name": "stderr",
     "output_type": "stream",
     "text": [
      "C:\\Users\\Watch Dogs\\Anaconda3\\envs\\books\\lib\\site-packages\\ipykernel_launcher.py:3: FutureWarning: In a future version of pandas all arguments of DataFrame.drop except for the argument 'labels' will be keyword-only\n",
      "  This is separate from the ipykernel package so we can avoid doing imports until\n"
     ]
    }
   ],
   "source": [
    "for tiki in glob.glob(\"tiki/*\"):\n",
    "    _tiki = pd.read_csv(tiki)\n",
    "    _tiki = _tiki.drop(tiki_remove,1,errors='ignore')\n",
    "    _tiki = _tiki.drop(_tiki.index[0])\n",
    "    _tiki.columns= _tiki.columns.str.lower()\n",
    "    _tiki = _tiki.rename(columns={'công ty phát hành': 'nhà phát hành'})\n",
    "    \n",
    "    _tiki.to_csv(tiki,index=False)"
   ]
  },
  {
   "cell_type": "code",
   "execution_count": 48,
   "id": "6f1eeeb2",
   "metadata": {},
   "outputs": [
    {
     "data": {
      "text/plain": [
       "Index(['tên sách', 'ảnh bìa', 'thể loại', 'nội dung tóm tắt', 'kích thước',\n",
       "       'số trang', 'tác giả', 'giá bìa', 'nhà xuất bản', 'dịch giả',\n",
       "       'nhà phát hành', 'loại bìa'],\n",
       "      dtype='object')"
      ]
     },
     "execution_count": 48,
     "metadata": {},
     "output_type": "execute_result"
    }
   ],
   "source": [
    "_phuongnam = pd.read_csv(\"phuongnam/phuongnam_VĂN HỌC.csv\")\n",
    "_phuongnam.columns"
   ]
  },
  {
   "cell_type": "code",
   "execution_count": 61,
   "id": "ad3f6183",
   "metadata": {},
   "outputs": [
    {
     "data": {
      "text/plain": [
       "Index(['tên sách', 'ảnh bìa', 'thể loại', 'tác giả', 'nội dung tóm tắt',\n",
       "       'giá bìa', 'nhà phát hành', 'nhà xuất bản', 'ngày xuất bản',\n",
       "       'kích thước', 'loại bìa', 'số trang', 'dịch giả'],\n",
       "      dtype='object')"
      ]
     },
     "execution_count": 61,
     "metadata": {},
     "output_type": "execute_result"
    }
   ],
   "source": [
    "_tiki = pd.read_csv(\"tiki/tiki_VĂN HỌC.csv\")\n",
    "_tiki.columns"
   ]
  },
  {
   "cell_type": "code",
   "execution_count": 51,
   "id": "447925b8",
   "metadata": {},
   "outputs": [
    {
     "data": {
      "text/plain": [
       "{'ngày xuất bản'}"
      ]
     },
     "execution_count": 51,
     "metadata": {},
     "output_type": "execute_result"
    }
   ],
   "source": [
    "set(_phuongnam.columns) ^ set(_tiki.columns)"
   ]
  },
  {
   "cell_type": "code",
   "execution_count": 23,
   "id": "a65d060e",
   "metadata": {},
   "outputs": [
    {
     "data": {
      "text/plain": [
       "set()"
      ]
     },
     "execution_count": 23,
     "metadata": {},
     "output_type": "execute_result"
    }
   ],
   "source": [
    "set(__df.columns) ^ set(_tiki.columns)"
   ]
  },
  {
   "cell_type": "code",
   "execution_count": 52,
   "id": "96e41e8a",
   "metadata": {},
   "outputs": [
    {
     "name": "stdout",
     "output_type": "stream",
     "text": [
      "{'_NGÀNH KHOA HỌC XÃ HỘI VÀ NHÂN VĂN.csv', '_NGÀNH NGHỆ THUẬT.csv', '_HỌC NGÔN NGỮ.csv', '_NGÀNH CÔNG NGHỆ - THÔNG TIN.csv', '_SÁCH KỸ NĂNG.csv', '_THIẾU NHI .csv', '_CHĂM SÓC GIA ĐÌNH.csv', '_VĂN HỌC.csv', '_PHONG THỦY - KINH DỊCH.csv', '_SÁCH KINH TẾ.csv', '_TẠP CHÍ - CATALOGUE.csv', '_SÁCH GIÁO TRÌNH.csv', '_TỪ ĐIỂN.csv'}\n"
     ]
    }
   ],
   "source": [
    "tiki_set = set(map(lambda x: x.replace(\"tiki\\\\tiki\", \"\"), glob.glob(\"tiki/*\")))\n",
    "pn_set = set(map(lambda x: x.replace(\"phuongnam\\\\phuongnam\", \"\"), glob.glob(\"phuongnam/*\")))\n",
    "intersect = tiki_set & pn_set\n",
    "print(intersect)\n",
    "tiki_only = tiki_set - intersect\n",
    "pn_only = pn_set - intersect"
   ]
  },
  {
   "cell_type": "code",
   "execution_count": 53,
   "id": "daa81d70",
   "metadata": {
    "scrolled": true
   },
   "outputs": [
    {
     "data": {
      "text/plain": [
       "{'_NGÀNH KHOA HỌC KỸ THUẬT – CÔNG NGHỆ.csv',\n",
       " '_NGÀNH KHOA HỌC TỰ NHIÊN.csv',\n",
       " '_NGÀNH NÔNG - LÂM - NGƯ NGHIỆP.csv',\n",
       " '_NGÀNH PHÁP LUẬT – THUẾ.csv',\n",
       " '_NGÀNH THỂ DỤC – THỂ THAO.csv',\n",
       " '_NGÀNH Y HỌC.csv',\n",
       " '_NHÀ Ở - PET.csv',\n",
       " '_TUỔI TEEN.csv'}"
      ]
     },
     "execution_count": 53,
     "metadata": {},
     "output_type": "execute_result"
    }
   ],
   "source": [
    "pn_only"
   ]
  },
  {
   "cell_type": "code",
   "execution_count": 122,
   "id": "6a521deb",
   "metadata": {},
   "outputs": [],
   "source": [
    "for i in tiki_only:\n",
    "    _tiki = pd.read_csv(\"tiki/tiki\"+i)\n",
    "    _tiki = _tiki.rename(columns={'công ty phát hành': 'nhà phát hành'})\n",
    "    _tiki.to_csv('allocate/'+i,index=False)"
   ]
  },
  {
   "cell_type": "code",
   "execution_count": 123,
   "id": "513d8c85",
   "metadata": {},
   "outputs": [
    {
     "name": "stdout",
     "output_type": "stream",
     "text": [
      "_NGÀNH NÔNG - LÂM - NGƯ NGHIỆP.csv No columns to parse from file\n"
     ]
    }
   ],
   "source": [
    "for i in pn_only:\n",
    "    try:\n",
    "        df_pn = pd.DataFrame(columns = _tiki.columns)\n",
    "        _phuongnam = pd.read_csv(\"phuongnam/phuongnam\"+i)\n",
    "        \n",
    "        df_pn = pd.concat([df_pn,_phuongnam])\n",
    "        _phuongnam.to_csv('allocate/'+i,index=False)\n",
    "    except Exception as E:\n",
    "        print(i,E)"
   ]
  },
  {
   "cell_type": "code",
   "execution_count": 124,
   "id": "eff623f8",
   "metadata": {},
   "outputs": [
    {
     "name": "stdout",
     "output_type": "stream",
     "text": [
      "[Errno 2] No such file or directory: 'tiki/tiki_NGÀNH KHOA HỌC TỰ NHIÊN.csv'\n",
      "[Errno 2] No such file or directory: 'phuongnam/phuongnam_NHÂN VẬT - SỰ KIỆN .csv'\n",
      "[Errno 2] No such file or directory: 'tiki/tiki_NGÀNH KHOA HỌC KỸ THUẬT – CÔNG NGHỆ.csv'\n",
      "[Errno 2] No such file or directory: 'phuongnam/phuongnam_SÁCH THAM KHẢO.csv'\n",
      "[Errno 2] No such file or directory: 'tiki/tiki_NGÀNH Y HỌC.csv'\n",
      "[Errno 2] No such file or directory: 'tiki/tiki_NGÀNH THỂ DỤC – THỂ THAO.csv'\n"
     ]
    }
   ],
   "source": [
    "for i in intersect:\n",
    "    try:\n",
    "        _tiki = pd.read_csv(\"tiki/tiki\"+i)\n",
    "        _phuongnam = pd.read_csv(\"phuongnam/phuongnam\"+i)\n",
    "        merged = pd.concat([_tiki,_phuongnam])\n",
    "\n",
    "        merged.to_csv('allocate/'+i,index=False)\n",
    "    except Exception as E:\n",
    "        print(E)\n",
    "#     _dict = _phuongnam.to_dict('records')"
   ]
  },
  {
   "cell_type": "code",
   "execution_count": null,
   "id": "47dc760b",
   "metadata": {},
   "outputs": [],
   "source": [
    "_df1 = pd.DataFrame()\n",
    "for _all in glob.glob(\"allocate/*\"):\n",
    "    _a = pd.read_csv(_all)\n",
    "    _df1 = pd.concat([_df1,_a])\n",
    "    \n",
    "_df1.to_csv(\"books.csv\",index=False)"
   ]
  },
  {
   "cell_type": "code",
   "execution_count": 75,
   "id": "0667c74f",
   "metadata": {},
   "outputs": [
    {
     "data": {
      "text/plain": [
       "Index(['tên sách', 'ảnh bìa', 'thể loại', 'tác giả', 'nội dung tóm tắt',\n",
       "       'giá bìa', 'nhà phát hành', 'nhà xuất bản', 'ngày xuất bản',\n",
       "       'kích thước', 'loại bìa', 'số trang', 'dịch giả'],\n",
       "      dtype='object')"
      ]
     },
     "execution_count": 75,
     "metadata": {},
     "output_type": "execute_result"
    }
   ],
   "source": [
    "___df = pd.read_csv(\"books.csv\")\n",
    "___df.columns"
   ]
  },
  {
   "cell_type": "markdown",
   "id": "8e10f53e",
   "metadata": {},
   "source": [
    "# FAHASA"
   ]
  },
  {
   "cell_type": "code",
   "execution_count": 104,
   "id": "e58cb0bf",
   "metadata": {},
   "outputs": [
    {
     "data": {
      "text/plain": [
       "Index(['tên sách', 'ảnh bìa', 'thể loại', 'tác giả', 'nội dung tóm tắt',\n",
       "       'giá bìa', 'nhà phát hành', 'nhà xuất bản', 'ngày xuất bản',\n",
       "       'kích thước', 'loại bìa', 'số trang', 'dịch giả'],\n",
       "      dtype='object')"
      ]
     },
     "execution_count": 104,
     "metadata": {},
     "output_type": "execute_result"
    }
   ],
   "source": [
    "name = pd.read_csv(\"allocate/_PHONG THỦY - KINH DỊCH.csv\")\n",
    "name.columns"
   ]
  },
  {
   "cell_type": "code",
   "execution_count": 109,
   "id": "1b93c12c",
   "metadata": {},
   "outputs": [
    {
     "data": {
      "text/plain": [
       "{'Unnamed: 0',\n",
       " 'công ty phát hành',\n",
       " 'dịch giả',\n",
       " 'giá bìa',\n",
       " 'kích thước',\n",
       " 'loại bìa',\n",
       " 'ngày xuất bản',\n",
       " 'nhà xuất bản',\n",
       " 'nội dung tóm tắt',\n",
       " 'path',\n",
       " 'phiên bản',\n",
       " 'số trang',\n",
       " 'thương hiệu',\n",
       " 'thể loại',\n",
       " 'tác giả',\n",
       " 'tên sách',\n",
       " 'xuất xứ',\n",
       " 'xuất xứ thương hiệu',\n",
       " 'ảnh bìa'}"
      ]
     },
     "execution_count": 109,
     "metadata": {},
     "output_type": "execute_result"
    }
   ],
   "source": [
    "_fahasa_cols = []\n",
    "for fahasa in glob.glob(\"fahasa/*\"):\n",
    "    try:\n",
    "        df_fahasa = pd.read_csv(fahasa)\n",
    "        _fahasa_cols = _fahasa_cols + list(df_fahasa.columns)\n",
    "    except:\n",
    "        pass\n",
    "    \n",
    "_fahasa_cols = set(_fahasa_cols)\n",
    "_fahasa_cols"
   ]
  },
  {
   "cell_type": "code",
   "execution_count": 110,
   "id": "19c593ff",
   "metadata": {},
   "outputs": [
    {
     "data": {
      "text/plain": [
       "{'Unnamed: 0',\n",
       " 'công ty phát hành',\n",
       " 'nhà phát hành',\n",
       " 'path',\n",
       " 'phiên bản',\n",
       " 'thương hiệu',\n",
       " 'xuất xứ',\n",
       " 'xuất xứ thương hiệu'}"
      ]
     },
     "execution_count": 110,
     "metadata": {},
     "output_type": "execute_result"
    }
   ],
   "source": [
    "set(name.columns) ^ _fahasa_cols"
   ]
  },
  {
   "cell_type": "code",
   "execution_count": 141,
   "id": "0a5343c3",
   "metadata": {},
   "outputs": [],
   "source": [
    "fahasa_rename = {'công ty phát hành':'nhà phát hành'}"
   ]
  },
  {
   "cell_type": "code",
   "execution_count": 142,
   "id": "7b52d71d",
   "metadata": {},
   "outputs": [],
   "source": [
    "fahasa_remove = ['Unnamed: 0','phiên bản','thương hiệu','xuất xứ thương hiệu','xuất xứ','path']"
   ]
  },
  {
   "cell_type": "code",
   "execution_count": 143,
   "id": "80f6d5e2",
   "metadata": {},
   "outputs": [
    {
     "name": "stderr",
     "output_type": "stream",
     "text": [
      "C:\\Users\\Watch Dogs\\Anaconda3\\envs\\books\\lib\\site-packages\\ipykernel_launcher.py:3: FutureWarning: In a future version of pandas all arguments of DataFrame.drop except for the argument 'labels' will be keyword-only\n",
      "  This is separate from the ipykernel package so we can avoid doing imports until\n"
     ]
    }
   ],
   "source": [
    "for fahasa in glob.glob(\"fahasa/*\"):\n",
    "    _fahasa = pd.read_csv(fahasa)\n",
    "    _fahasa = _fahasa.drop(fahasa_remove,1,errors='ignore')\n",
    "    _fahasa = _fahasa.drop(_fahasa.index[0])\n",
    "    _fahasa.columns= _fahasa.columns.str.lower()\n",
    "    _fahasa = _fahasa.rename(columns=fahasa_rename)\n",
    "    \n",
    "    _fahasa.to_csv(fahasa,index=False)"
   ]
  },
  {
   "cell_type": "code",
   "execution_count": 144,
   "id": "1be777bf",
   "metadata": {},
   "outputs": [
    {
     "data": {
      "text/plain": [
       "Index(['tên sách', 'ảnh bìa', 'thể loại', 'tác giả', 'nội dung tóm tắt',\n",
       "       'giá bìa', 'nhà phát hành', 'nhà xuất bản', 'ngày xuất bản',\n",
       "       'kích thước', 'loại bìa', 'số trang', 'dịch giả'],\n",
       "      dtype='object')"
      ]
     },
     "execution_count": 144,
     "metadata": {},
     "output_type": "execute_result"
    }
   ],
   "source": [
    "_df = pd.read_csv(\"fahasa/fahasa_VĂN HỌC.csv\")\n",
    "_df.columns"
   ]
  },
  {
   "cell_type": "code",
   "execution_count": 145,
   "id": "d6130c5f",
   "metadata": {},
   "outputs": [
    {
     "data": {
      "text/plain": [
       "set()"
      ]
     },
     "execution_count": 145,
     "metadata": {},
     "output_type": "execute_result"
    }
   ],
   "source": [
    "set(_df.columns) ^ set(name.columns)"
   ]
  },
  {
   "cell_type": "code",
   "execution_count": 137,
   "id": "83cc4d48",
   "metadata": {},
   "outputs": [
    {
     "name": "stdout",
     "output_type": "stream",
     "text": [
      "{'_NGÀNH KHOA HỌC XÃ HỘI VÀ NHÂN VĂN.csv', '_NGÀNH KHOA HỌC TỰ NHIÊN.csv', '_NHÂN VẬT - SỰ KIỆN .csv', '_NGÀNH NGHỆ THUẬT.csv', '_HỌC NGÔN NGỮ.csv', '_SÁCH KỸ NĂNG.csv', '_THIẾU NHI .csv', '_NGÀNH KHOA HỌC KỸ THUẬT – CÔNG NGHỆ.csv', '_SÁCH THAM KHẢO.csv', '_VĂN HỌC.csv', '_CHĂM SÓC GIA ĐÌNH.csv', '_SÁCH KINH TẾ.csv', '_TẠP CHÍ - CATALOGUE.csv', '_PHONG THỦY - KINH DỊCH.csv', '_SÁCH GIÁO TRÌNH.csv', '_NGÀNH Y HỌC.csv', '_TỪ ĐIỂN.csv', '_NGÀNH THỂ DỤC – THỂ THAO.csv'}\n"
     ]
    }
   ],
   "source": [
    "fahasa_set = set(map(lambda x: x.replace(\"fahasa\\\\fahasa\", \"\"), glob.glob(\"fahasa/*\")))\n",
    "allocate_set = set(map(lambda x: x.replace(\"allocate\\\\\", \"\"), glob.glob(\"allocate/*\")))\n",
    "intersect = allocate_set & fahasa_set\n",
    "print(intersect)\n",
    "fahasa_only = fahasa_set - intersect\n",
    "all_only = allocate_set - intersect"
   ]
  },
  {
   "cell_type": "code",
   "execution_count": 138,
   "id": "fcfe12c9",
   "metadata": {},
   "outputs": [
    {
     "data": {
      "text/plain": [
       "{'_FOREIGN BOOKS .csv', '_ĐẢNG - ĐOÀN - HỘI.csv'}"
      ]
     },
     "execution_count": 138,
     "metadata": {},
     "output_type": "execute_result"
    }
   ],
   "source": [
    "fahasa_only"
   ]
  },
  {
   "cell_type": "code",
   "execution_count": 147,
   "id": "f922f058",
   "metadata": {},
   "outputs": [
    {
     "data": {
      "text/plain": [
       "{'_Chăm sóc sức khỏe.csv',\n",
       " '_NGÀNH PHÁP LUẬT – THUẾ.csv',\n",
       " '_NHÀ Ở - PET.csv',\n",
       " '_SÁCH GIÁO KHOA.csv',\n",
       " '_TUỔI TEEN.csv',\n",
       " '_TỬ VI - CHIÊM TINH.csv'}"
      ]
     },
     "execution_count": 147,
     "metadata": {},
     "output_type": "execute_result"
    }
   ],
   "source": [
    "all_only"
   ]
  },
  {
   "cell_type": "code",
   "execution_count": 146,
   "id": "7c3ca5a1",
   "metadata": {},
   "outputs": [],
   "source": [
    "for i in fahasa_only:\n",
    "    \n",
    "    _fahasa = pd.read_csv(\"fahasa/fahasa\"+i)\n",
    "    _fahasa = _fahasa.rename(columns=fahasa_rename)\n",
    "    _fahasa.to_csv('allocate_v2/'+i,index=False)"
   ]
  },
  {
   "cell_type": "code",
   "execution_count": 149,
   "id": "879b8c0b",
   "metadata": {},
   "outputs": [],
   "source": [
    "for i in all_only:\n",
    "    _all_only = pd.read_csv(\"allocate/\"+i)\n",
    "    _all_only.to_csv('allocate_v2/'+i,index=False)"
   ]
  },
  {
   "cell_type": "code",
   "execution_count": 150,
   "id": "6372214c",
   "metadata": {},
   "outputs": [],
   "source": [
    "for i in intersect:\n",
    "    _all = pd.read_csv(\"allocate/\"+i)\n",
    "\n",
    "    _fahasa = pd.read_csv(\"fahasa/fahasa\"+i)\n",
    "    merged = pd.concat([_all,_fahasa])\n",
    "\n",
    "    merged.to_csv('allocate_v2/'+i,index=False)\n",
    "#     _dict = _phuongnam.to_dict('records')"
   ]
  },
  {
   "cell_type": "markdown",
   "id": "3f03a7cf",
   "metadata": {},
   "source": [
    "# VINA"
   ]
  },
  {
   "cell_type": "code",
   "execution_count": 179,
   "id": "4c3078c4",
   "metadata": {},
   "outputs": [
    {
     "data": {
      "text/html": [
       "<div>\n",
       "<style scoped>\n",
       "    .dataframe tbody tr th:only-of-type {\n",
       "        vertical-align: middle;\n",
       "    }\n",
       "\n",
       "    .dataframe tbody tr th {\n",
       "        vertical-align: top;\n",
       "    }\n",
       "\n",
       "    .dataframe thead th {\n",
       "        text-align: right;\n",
       "    }\n",
       "</style>\n",
       "<table border=\"1\" class=\"dataframe\">\n",
       "  <thead>\n",
       "    <tr style=\"text-align: right;\">\n",
       "      <th></th>\n",
       "      <th>Unnamed: 0</th>\n",
       "      <th>tên sách</th>\n",
       "      <th>ảnh bìa</th>\n",
       "      <th>thể loại</th>\n",
       "      <th>nội dung tóm tắt</th>\n",
       "      <th>giá bìa</th>\n",
       "      <th>khối lượng</th>\n",
       "      <th>kích thước</th>\n",
       "      <th>mã sản phẩm</th>\n",
       "      <th>ngày phát hành</th>\n",
       "      <th>ngôn ngữ</th>\n",
       "      <th>nhà phát hành</th>\n",
       "      <th>nhà xuất bản</th>\n",
       "      <th>số trang</th>\n",
       "      <th>tác giả</th>\n",
       "      <th>định dạng</th>\n",
       "      <th>người dịch</th>\n",
       "    </tr>\n",
       "  </thead>\n",
       "  <tbody>\n",
       "    <tr>\n",
       "      <th>0</th>\n",
       "      <td>0</td>\n",
       "      <td>NaN</td>\n",
       "      <td>NaN</td>\n",
       "      <td>NaN</td>\n",
       "      <td>NaN</td>\n",
       "      <td>NaN</td>\n",
       "      <td>NaN</td>\n",
       "      <td>NaN</td>\n",
       "      <td>NaN</td>\n",
       "      <td>NaN</td>\n",
       "      <td>NaN</td>\n",
       "      <td>NaN</td>\n",
       "      <td>NaN</td>\n",
       "      <td>NaN</td>\n",
       "      <td>NaN</td>\n",
       "      <td>NaN</td>\n",
       "      <td>NaN</td>\n",
       "    </tr>\n",
       "    <tr>\n",
       "      <th>1</th>\n",
       "      <td>1</td>\n",
       "      <td>Em Đồng Ý Ly Hôn</td>\n",
       "      <td>https://www.vinabook.com/images/thumbnails/pro...</td>\n",
       "      <td>Hạnh phúc gia đình</td>\n",
       "      <td>Thông tin tác giả    Chúy \\n                ...</td>\n",
       "      <td>65.0</td>\n",
       "      <td>198.00 gam</td>\n",
       "      <td>13 x 20.5 cm</td>\n",
       "      <td>1.130000e+12</td>\n",
       "      <td>06/12/2016</td>\n",
       "      <td>Tiếng Việt</td>\n",
       "      <td>Alpha books</td>\n",
       "      <td>Nxb Lao động</td>\n",
       "      <td>220.0</td>\n",
       "      <td>Chúy</td>\n",
       "      <td>Bìa mềm</td>\n",
       "      <td>NaN</td>\n",
       "    </tr>\n",
       "    <tr>\n",
       "      <th>2</th>\n",
       "      <td>2</td>\n",
       "      <td>Nội Tình Của Ngoại Tình</td>\n",
       "      <td>https://www.vinabook.com/images/thumbnails/pro...</td>\n",
       "      <td>Hạnh phúc gia đình</td>\n",
       "      <td>Thông tin tác giả    Esther Perel     Vào tr...</td>\n",
       "      <td>220.0</td>\n",
       "      <td>506.00 gam</td>\n",
       "      <td>14 x 20.5 cm</td>\n",
       "      <td>8.935279e+12</td>\n",
       "      <td>06/03/2019</td>\n",
       "      <td>Tiếng Việt</td>\n",
       "      <td>Saigon Books</td>\n",
       "      <td>NXB Văn hóa - Văn nghệ</td>\n",
       "      <td>428.0</td>\n",
       "      <td>Esther Perel</td>\n",
       "      <td>Bìa mềm</td>\n",
       "      <td>Trung Uyên , Nhã Thư</td>\n",
       "    </tr>\n",
       "    <tr>\n",
       "      <th>3</th>\n",
       "      <td>3</td>\n",
       "      <td>Làm Sao Hợp Với Nửa Kia?</td>\n",
       "      <td>https://www.vinabook.com/images/thumbnails/pro...</td>\n",
       "      <td>Hạnh phúc gia đình</td>\n",
       "      <td>Thông tin tác giả    Michelle Skeen     Vào ...</td>\n",
       "      <td>73.0</td>\n",
       "      <td>220.00 gam</td>\n",
       "      <td>13.5 x 21 cm</td>\n",
       "      <td>8.935074e+12</td>\n",
       "      <td>04/2019</td>\n",
       "      <td>Tiếng Việt</td>\n",
       "      <td>Văn Lang</td>\n",
       "      <td>Nxb Thanh Hóa</td>\n",
       "      <td>184.0</td>\n",
       "      <td>Michelle Skeen</td>\n",
       "      <td>Bìa mềm</td>\n",
       "      <td>Thế Anh</td>\n",
       "    </tr>\n",
       "    <tr>\n",
       "      <th>4</th>\n",
       "      <td>4</td>\n",
       "      <td>9 Nguyên Tắc Làm Một Người Chồng Tốt</td>\n",
       "      <td>https://www.vinabook.com/images/thumbnails/pro...</td>\n",
       "      <td>Hạnh phúc gia đình</td>\n",
       "      <td>Thông tin tác giả    Trác Nhã     Vào trang ...</td>\n",
       "      <td>119.0</td>\n",
       "      <td>500.00 gam</td>\n",
       "      <td>13 x 19 cm</td>\n",
       "      <td>8.936057e+12</td>\n",
       "      <td>20/08/2020</td>\n",
       "      <td>Tiếng Việt</td>\n",
       "      <td>Quảng Văn</td>\n",
       "      <td>NXB Phụ Nữ</td>\n",
       "      <td>384.0</td>\n",
       "      <td>Trác Nhã</td>\n",
       "      <td>Bìa mềm</td>\n",
       "      <td>Thu Trần , Hân Vũ</td>\n",
       "    </tr>\n",
       "  </tbody>\n",
       "</table>\n",
       "</div>"
      ],
      "text/plain": [
       "   Unnamed: 0                              tên sách  \\\n",
       "0           0                                   NaN   \n",
       "1           1                      Em Đồng Ý Ly Hôn   \n",
       "2           2               Nội Tình Của Ngoại Tình   \n",
       "3           3              Làm Sao Hợp Với Nửa Kia?   \n",
       "4           4  9 Nguyên Tắc Làm Một Người Chồng Tốt   \n",
       "\n",
       "                                             ảnh bìa            thể loại  \\\n",
       "0                                                NaN                 NaN   \n",
       "1  https://www.vinabook.com/images/thumbnails/pro...  Hạnh phúc gia đình   \n",
       "2  https://www.vinabook.com/images/thumbnails/pro...  Hạnh phúc gia đình   \n",
       "3  https://www.vinabook.com/images/thumbnails/pro...  Hạnh phúc gia đình   \n",
       "4  https://www.vinabook.com/images/thumbnails/pro...  Hạnh phúc gia đình   \n",
       "\n",
       "                                    nội dung tóm tắt  giá bìa    khối lượng  \\\n",
       "0                                                NaN      NaN           NaN   \n",
       "1    Thông tin tác giả    Chúy \\n                ...     65.0   198.00 gam    \n",
       "2    Thông tin tác giả    Esther Perel     Vào tr...    220.0   506.00 gam    \n",
       "3    Thông tin tác giả    Michelle Skeen     Vào ...     73.0   220.00 gam    \n",
       "4    Thông tin tác giả    Trác Nhã     Vào trang ...    119.0   500.00 gam    \n",
       "\n",
       "       kích thước   mã sản phẩm  ngày phát hành      ngôn ngữ   nhà phát hành  \\\n",
       "0             NaN           NaN             NaN           NaN             NaN   \n",
       "1   13 x 20.5 cm   1.130000e+12     06/12/2016    Tiếng Việt     Alpha books    \n",
       "2   14 x 20.5 cm   8.935279e+12     06/03/2019    Tiếng Việt    Saigon Books    \n",
       "3   13.5 x 21 cm   8.935074e+12        04/2019    Tiếng Việt        Văn Lang    \n",
       "4     13 x 19 cm   8.936057e+12     20/08/2020    Tiếng Việt       Quảng Văn    \n",
       "\n",
       "               nhà xuất bản   số trang           tác giả  định dạng  \\\n",
       "0                       NaN        NaN               NaN        NaN   \n",
       "1             Nxb Lao động       220.0             Chúy    Bìa mềm    \n",
       "2   NXB Văn hóa - Văn nghệ       428.0     Esther Perel    Bìa mềm    \n",
       "3            Nxb Thanh Hóa       184.0   Michelle Skeen    Bìa mềm    \n",
       "4               NXB Phụ Nữ       384.0         Trác Nhã    Bìa mềm    \n",
       "\n",
       "               người dịch  \n",
       "0                     NaN  \n",
       "1                     NaN  \n",
       "2   Trung Uyên , Nhã Thư   \n",
       "3                Thế Anh   \n",
       "4      Thu Trần , Hân Vũ   "
      ]
     },
     "execution_count": 179,
     "metadata": {},
     "output_type": "execute_result"
    }
   ],
   "source": [
    "_vi = pd.read_csv(\"vina/vina_CHĂM SÓC GIA ĐÌNH.csv\")\n",
    "_vi = _vi.dropna(how='all', axis=1)\n",
    "_vi.head()"
   ]
  },
  {
   "cell_type": "code",
   "execution_count": null,
   "id": "4d4e0d8a",
   "metadata": {},
   "outputs": [],
   "source": [
    "_vina_remove = [' isbn',' khối lượng',' mã sản phẩm',' ngôn ngữ',' đóng cuốn']"
   ]
  },
  {
   "cell_type": "code",
   "execution_count": null,
   "id": "2d262aab",
   "metadata": {},
   "outputs": [],
   "source": [
    "for vina in glob.glob(\"vina/*\"):\n",
    "    _vina = pd.read_csv(vina)\n",
    "    _vina = _vina.drop(tiki_remove,1,errors='ignore')\n",
    "    _vina = _vina.drop(_tiki.index[0])\n",
    "    _vina.columns= _vina.columns.str.lower()\n",
    "    _vina = _vina.rename(columns={'công ty phát hành': 'nhà phát hành'})\n",
    "    \n",
    "    _vina.to_csv(vina,index=False)"
   ]
  },
  {
   "cell_type": "code",
   "execution_count": 183,
   "id": "30b08617",
   "metadata": {},
   "outputs": [
    {
     "data": {
      "text/plain": [
       "Index(['tên sách', 'ảnh bìa', 'thể loại', 'tác giả', 'nội dung tóm tắt',\n",
       "       'giá bìa', 'nhà phát hành', 'nhà xuất bản', 'ngày xuất bản',\n",
       "       'kích thước', 'loại bìa', 'số trang', 'dịch giả'],\n",
       "      dtype='object')"
      ]
     },
     "execution_count": 183,
     "metadata": {},
     "output_type": "execute_result"
    }
   ],
   "source": [
    "name.columns"
   ]
  },
  {
   "cell_type": "code",
   "execution_count": 177,
   "id": "886739cf",
   "metadata": {},
   "outputs": [
    {
     "data": {
      "text/plain": [
       "{' isbn',\n",
       " ' khối lượng',\n",
       " ' kích thước',\n",
       " ' mã sản phẩm',\n",
       " ' ngày phát hành',\n",
       " ' ngôn ngữ',\n",
       " ' người dịch',\n",
       " ' nhà phát hành',\n",
       " ' nhà xuất bản',\n",
       " ' số trang',\n",
       " ' tác giả',\n",
       " ' đóng cuốn',\n",
       " ' định dạng',\n",
       " 'Unnamed: 0',\n",
       " 'giá bìa',\n",
       " 'nội dung tóm tắt',\n",
       " 'thể loại',\n",
       " 'tên sách',\n",
       " 'ảnh bìa'}"
      ]
     },
     "execution_count": 177,
     "metadata": {},
     "output_type": "execute_result"
    }
   ],
   "source": [
    "_vina_cols = []\n",
    "for vina in glob.glob(\"vina/*\"):\n",
    "    try:\n",
    "        df_vina = pd.read_csv(vina)\n",
    "        df_vina = df_vina.dropna(how='all', axis=1)\n",
    "#         df_vina= df_vina.rename(columns=rename_dict)\n",
    "        _vina_cols = _vina_cols + list(df_vina.columns)\n",
    "    except:\n",
    "        pass\n",
    "    \n",
    "_vina_cols = set(_vina_cols)\n",
    "_vina_cols"
   ]
  },
  {
   "cell_type": "code",
   "execution_count": 184,
   "id": "a0a1b04c",
   "metadata": {},
   "outputs": [],
   "source": [
    "vina_remove = [' isbn',' khối lượng',' mã sản phẩm',' ngôn ngữ',' đóng cuốn','Unnamed: 0']"
   ]
  },
  {
   "cell_type": "code",
   "execution_count": 193,
   "id": "56dc50ba",
   "metadata": {},
   "outputs": [],
   "source": [
    "rename_dict = {}\n",
    "\n",
    "for i in sorted(_vina_cols):\n",
    "    rename_dict[i] = i.lstrip().lower()\n",
    "rename_dict[' người dịch'] = 'dịch giả'\n",
    "rename_dict[' ngày phát hành'] = 'ngày xuất bản'\n",
    "rename_dict[' định dạng'] = 'loại bìa'"
   ]
  },
  {
   "cell_type": "code",
   "execution_count": 194,
   "id": "6f1c5372",
   "metadata": {},
   "outputs": [
    {
     "name": "stderr",
     "output_type": "stream",
     "text": [
      "C:\\Users\\Watch Dogs\\Anaconda3\\envs\\books\\lib\\site-packages\\ipykernel_launcher.py:5: FutureWarning: In a future version of pandas all arguments of DataFrame.drop except for the argument 'labels' will be keyword-only\n",
      "  \"\"\"\n"
     ]
    }
   ],
   "source": [
    "for vina in glob.glob(\"vina/*\"):\n",
    "    df_vina = pd.read_csv(vina)\n",
    "    df_vina = df_vina.dropna(how='all', axis=1)\n",
    "    df_vina = df_vina.drop(df_vina.index[0])\n",
    "    df_vina = df_vina.drop(vina_remove,1,errors='ignore')\n",
    "    df_vina = df_vina.rename(columns=rename_dict)\n",
    "    df_vina.to_csv(vina,index=False)"
   ]
  },
  {
   "cell_type": "code",
   "execution_count": 195,
   "id": "5dfec4d1",
   "metadata": {},
   "outputs": [
    {
     "data": {
      "text/plain": [
       "Index(['tên sách', 'ảnh bìa', 'thể loại', 'nội dung tóm tắt', 'giá bìa',\n",
       "       'kích thước', 'ngày xuất bản', 'nhà phát hành', 'nhà xuất bản',\n",
       "       'số trang', 'tác giả', 'loại bìa', 'dịch giả'],\n",
       "      dtype='object')"
      ]
     },
     "execution_count": 195,
     "metadata": {},
     "output_type": "execute_result"
    }
   ],
   "source": [
    "_vina = pd.read_csv(\"vina/vina_HỌC NGÔN NGỮ.csv\")\n",
    "_vina.columns"
   ]
  },
  {
   "cell_type": "code",
   "execution_count": 196,
   "id": "b76d0803",
   "metadata": {},
   "outputs": [
    {
     "data": {
      "text/plain": [
       "set()"
      ]
     },
     "execution_count": 196,
     "metadata": {},
     "output_type": "execute_result"
    }
   ],
   "source": [
    "set(_vina.columns) ^ set(name.columns)"
   ]
  },
  {
   "cell_type": "code",
   "execution_count": 197,
   "id": "3320176c",
   "metadata": {},
   "outputs": [
    {
     "name": "stdout",
     "output_type": "stream",
     "text": [
      "{'_NGÀNH KHOA HỌC XÃ HỘI VÀ NHÂN VĂN.csv', '_NGÀNH KHOA HỌC TỰ NHIÊN.csv', '_NHÀ Ở - PET.csv', '_NGÀNH NGHỆ THUẬT.csv', '_HỌC NGÔN NGỮ.csv', '_SÁCH KỸ NĂNG.csv', '_THIẾU NHI .csv', '_NGÀNH KHOA HỌC KỸ THUẬT – CÔNG NGHỆ.csv', '_CHĂM SÓC GIA ĐÌNH.csv', '_VĂN HỌC.csv', '_NHÂN VẬT - SỰ KIỆN .csv', '_SÁCH KINH TẾ.csv', '_SÁCH GIÁO TRÌNH.csv', '_NGÀNH Y HỌC.csv', '_NGÀNH PHÁP LUẬT – THUẾ.csv', '_TỪ ĐIỂN.csv', '_NGÀNH THỂ DỤC – THỂ THAO.csv'}\n"
     ]
    }
   ],
   "source": [
    "vina_set = set(map(lambda x: x.replace(\"vina\\\\vina\", \"\"), glob.glob(\"vina/*\")))\n",
    "allocate_set = set(map(lambda x: x.replace(\"allocate_v2\\\\\", \"\"), glob.glob(\"allocate_v2/*\")))\n",
    "intersect = allocate_set & vina_set\n",
    "print(intersect)\n",
    "fahasa_only = vina_set - intersect\n",
    "all_only = allocate_set - intersect"
   ]
  },
  {
   "cell_type": "code",
   "execution_count": 199,
   "id": "e5318996",
   "metadata": {},
   "outputs": [],
   "source": [
    "for i in fahasa_only:\n",
    "    _vina = pd.read_csv(\"vina/vina\"+i)\n",
    "    _vina = _fahasa.rename(columns=rename_dict)\n",
    "    _vina.to_csv('allocate/'+i,index=False)"
   ]
  },
  {
   "cell_type": "code",
   "execution_count": 200,
   "id": "10d60b29",
   "metadata": {},
   "outputs": [],
   "source": [
    "for i in all_only:\n",
    "    _all_only = pd.read_csv(\"allocate_v2/\"+i)\n",
    "    _all_only.to_csv('allocate/'+i,index=False)"
   ]
  },
  {
   "cell_type": "code",
   "execution_count": 201,
   "id": "d796ecdc",
   "metadata": {},
   "outputs": [],
   "source": [
    "for i in intersect:\n",
    "    _all = pd.read_csv(\"allocate_v2/\"+i)\n",
    "\n",
    "    _vina = pd.read_csv(\"vina/vina\"+i)\n",
    "    merged = pd.concat([_all,_vina])\n",
    "\n",
    "    merged.to_csv('allocate/'+i,index=False)"
   ]
  },
  {
   "cell_type": "code",
   "execution_count": 202,
   "id": "70a5a796",
   "metadata": {},
   "outputs": [
    {
     "data": {
      "text/plain": [
       "121947"
      ]
     },
     "execution_count": 202,
     "metadata": {},
     "output_type": "execute_result"
    }
   ],
   "source": [
    "total = 0\n",
    "for _ in glob.glob(\"allocate/*\"):\n",
    "    _df = pd.read_csv(_)\n",
    "    total += _df.shape[0]\n",
    "    \n",
    "total"
   ]
  },
  {
   "cell_type": "code",
   "execution_count": 226,
   "id": "7c395284",
   "metadata": {},
   "outputs": [
    {
     "name": "stdout",
     "output_type": "stream",
     "text": [
      "allocate\\_CHĂM SÓC GIA ĐÌNH.csv\n",
      "CHĂM SÓC GIA ĐÌNH/CHĂM SÓC GIA ĐÌNH.csv\n",
      "allocate\\_Chăm sóc sức khỏe.csv\n",
      "Chăm sóc sức khỏe/Chăm sóc sức khỏe.csv\n",
      "allocate\\_FOREIGN BOOKS.csv\n",
      "FOREIGN BOOKS/FOREIGN BOOKS.csv\n",
      "allocate\\_HỌC NGÔN NGỮ.csv\n",
      "HỌC NGÔN NGỮ/HỌC NGÔN NGỮ.csv\n",
      "allocate\\_NGÀNH CÔNG NGHỆ - THÔNG TIN.csv\n",
      "NGÀNH CÔNG NGHỆ - THÔNG TIN/NGÀNH CÔNG NGHỆ - THÔNG TIN.csv\n",
      "allocate\\_NGÀNH KHOA HỌC KỸ THUẬT – CÔNG NGHỆ.csv\n",
      "NGÀNH KHOA HỌC KỸ THUẬT – CÔNG NGHỆ/NGÀNH KHOA HỌC KỸ THUẬT – CÔNG NGHỆ.csv\n",
      "allocate\\_NGÀNH KHOA HỌC TỰ NHIÊN.csv\n",
      "NGÀNH KHOA HỌC TỰ NHIÊN/NGÀNH KHOA HỌC TỰ NHIÊN.csv\n",
      "allocate\\_NGÀNH KHOA HỌC XÃ HỘI VÀ NHÂN VĂN.csv\n",
      "NGÀNH KHOA HỌC XÃ HỘI VÀ NHÂN VĂN/NGÀNH KHOA HỌC XÃ HỘI VÀ NHÂN VĂN.csv\n",
      "allocate\\_NGÀNH NGHỆ THUẬT.csv\n",
      "NGÀNH NGHỆ THUẬT/NGÀNH NGHỆ THUẬT.csv\n",
      "allocate\\_NGÀNH NÔNG - LÂM - NGƯ NGHIỆP.csv\n",
      "NGÀNH NÔNG - LÂM - NGƯ NGHIỆP/NGÀNH NÔNG - LÂM - NGƯ NGHIỆP.csv\n",
      "allocate\\_NGÀNH PHÁP LUẬT – THUẾ.csv\n",
      "NGÀNH PHÁP LUẬT – THUẾ/NGÀNH PHÁP LUẬT – THUẾ.csv\n",
      "allocate\\_NGÀNH THỂ DỤC – THỂ THAO.csv\n",
      "NGÀNH THỂ DỤC – THỂ THAO/NGÀNH THỂ DỤC – THỂ THAO.csv\n",
      "allocate\\_NGÀNH Y HỌC.csv\n",
      "NGÀNH Y HỌC/NGÀNH Y HỌC.csv\n",
      "allocate\\_NHÀ Ở - PET.csv\n",
      "NHÀ Ở - PET/NHÀ Ở - PET.csv\n",
      "allocate\\_NHÂN VẬT - SỰ KIỆN.csv\n",
      "NHÂN VẬT - SỰ KIỆN/NHÂN VẬT - SỰ KIỆN.csv\n",
      "allocate\\_PHONG THỦY - KINH DỊCH.csv\n",
      "PHONG THỦY - KINH DỊCH/PHONG THỦY - KINH DỊCH.csv\n",
      "allocate\\_SÁCH GIÁO KHOA.csv\n",
      "SÁCH GIÁO KHOA/SÁCH GIÁO KHOA.csv\n",
      "allocate\\_SÁCH GIÁO TRÌNH.csv\n",
      "SÁCH GIÁO TRÌNH/SÁCH GIÁO TRÌNH.csv\n",
      "allocate\\_SÁCH KINH TẾ.csv\n",
      "SÁCH KINH TẾ/SÁCH KINH TẾ.csv\n",
      "allocate\\_SÁCH KỸ NĂNG.csv\n",
      "SÁCH KỸ NĂNG/SÁCH KỸ NĂNG.csv\n",
      "allocate\\_SÁCH THAM KHẢO.csv\n",
      "SÁCH THAM KHẢO/SÁCH THAM KHẢO.csv\n",
      "allocate\\_THIẾU NHI.csv\n",
      "THIẾU NHI/THIẾU NHI.csv\n",
      "allocate\\_TUỔI TEEN.csv\n",
      "TUỔI TEEN/TUỔI TEEN.csv\n",
      "allocate\\_TẠP CHÍ - CATALOGUE.csv\n",
      "TẠP CHÍ - CATALOGUE/TẠP CHÍ - CATALOGUE.csv\n",
      "allocate\\_TỪ ĐIỂN.csv\n",
      "TỪ ĐIỂN/TỪ ĐIỂN.csv\n",
      "allocate\\_TỬ VI - CHIÊM TINH.csv\n",
      "TỬ VI - CHIÊM TINH/TỬ VI - CHIÊM TINH.csv\n",
      "allocate\\_VĂN HỌC.csv\n",
      "VĂN HỌC/VĂN HỌC.csv\n",
      "allocate\\_ĐẢNG - ĐOÀN - HỘI.csv\n",
      "ĐẢNG - ĐOÀN - HỘI/ĐẢNG - ĐOÀN - HỘI.csv\n"
     ]
    }
   ],
   "source": [
    "for _ in glob.glob(\"allocate/*\"):\n",
    "    os.mkdir('books/'+_.split(\"_\")[1][:-4])\n",
    "    print(_)\n",
    "    print(_.split(\"_\")[1][:-4]+'/'+_.split(\"_\")[1])\n",
    "    shutil.copy(_, 'books/'+_.split(\"_\")[1][:-4]+'/'+_.split(\"_\")[1])\n"
   ]
  },
  {
   "cell_type": "markdown",
   "id": "3ed7c316",
   "metadata": {},
   "source": [
    "# Customer Order"
   ]
  },
  {
   "cell_type": "code",
   "execution_count": 230,
   "id": "2e2d941b",
   "metadata": {},
   "outputs": [
    {
     "data": {
      "text/plain": [
       "Index(['tên sách', 'ảnh bìa', 'thể loại', 'tác giả', 'nội dung tóm tắt',\n",
       "       'giá bìa', 'nhà phát hành', 'nhà xuất bản', 'ngày xuất bản',\n",
       "       'kích thước', 'loại bìa', 'số trang', 'dịch giả'],\n",
       "      dtype='object')"
      ]
     },
     "execution_count": 230,
     "metadata": {},
     "output_type": "execute_result"
    }
   ],
   "source": [
    "_ngonngu = pd.read_csv(\"allocate/_HỌC NGÔN NGỮ.csv\")\n",
    "_ngonngu.columns"
   ]
  },
  {
   "cell_type": "code",
   "execution_count": 231,
   "id": "d8603ff1",
   "metadata": {},
   "outputs": [
    {
     "data": {
      "text/plain": [
       "array(['Tiếng Hàn ', 'Tiếng Nhật ', 'Sách Tiếng Anh tổng hợp',\n",
       "       'Tiếng Việt', 'Ngữ pháp ', 'Giao tiếp – hội thoại', 'Luyện nghe',\n",
       "       'Từ vựng', 'Luyện thi IELTS', 'Luyện thi TOEIC', 'Luyện thi TOEFL',\n",
       "       'Luyện thi Chứng chỉ A, B, C', 'Tiếng Trung', 'Tiếng Pháp ',\n",
       "       'Tiếng Đức ', 'Ngoại ngữ khác'], dtype=object)"
      ]
     },
     "execution_count": 231,
     "metadata": {},
     "output_type": "execute_result"
    }
   ],
   "source": [
    "_ngonngu['thể loại'].unique()"
   ]
  },
  {
   "cell_type": "code",
   "execution_count": 233,
   "id": "b59a16f2",
   "metadata": {},
   "outputs": [],
   "source": [
    "_tieng_anh = ['Ngữ pháp ', 'Giao tiếp – hội thoại', 'Luyện nghe',\n",
    "       'Từ vựng', 'Luyện thi IELTS', 'Luyện thi TOEIC', 'Luyện thi TOEFL',\n",
    "       'Luyện thi Chứng chỉ A, B, C']"
   ]
  },
  {
   "cell_type": "code",
   "execution_count": 244,
   "id": "c7420e5a",
   "metadata": {},
   "outputs": [],
   "source": [
    "_ngonngu[~_ngonngu['thể loại'].str.contains('|'.join(_tieng_anh))].to_csv(\"_HỌC NGÔN NGỮ.csv\",index=False)"
   ]
  },
  {
   "cell_type": "code",
   "execution_count": 243,
   "id": "4d55255c",
   "metadata": {},
   "outputs": [],
   "source": [
    "_ngonngu[_ngonngu['thể loại'].str.contains('|'.join(_tieng_anh))].to_csv(\"Tiếng Anh.csv\",index=False)"
   ]
  },
  {
   "cell_type": "code",
   "execution_count": 246,
   "id": "20ac264b",
   "metadata": {},
   "outputs": [],
   "source": [
    "_khoa_hoc= pd.read_csv(\"allocate/_NGÀNH KHOA HỌC XÃ HỘI VÀ NHÂN VĂN.csv\")"
   ]
  },
  {
   "cell_type": "code",
   "execution_count": 247,
   "id": "fd91d422",
   "metadata": {},
   "outputs": [
    {
     "data": {
      "text/plain": [
       "array(['Chính trị', 'Văn hóa', 'Du lịch', 'Sư phạm - Giáo dục',\n",
       "       '- Thế Giới', '- Việt Nam', '- Kiến thức tôn giáo',\n",
       "       'Triết học phương Đông', 'Triết học phương Tây',\n",
       "       'Nghiệp vụ báo chí', 'khoa học và xã hội', '- Châu Á',\n",
       "       '- Phật giáo', '- Thiên chúa giáo', '- Tôn giáo khác'],\n",
       "      dtype=object)"
      ]
     },
     "execution_count": 247,
     "metadata": {},
     "output_type": "execute_result"
    }
   ],
   "source": [
    "_khoa_hoc['thể loại'].unique()"
   ]
  },
  {
   "cell_type": "code",
   "execution_count": 249,
   "id": "9b3f12e7",
   "metadata": {},
   "outputs": [],
   "source": [
    "_lich_su = ['- Châu Á']"
   ]
  },
  {
   "cell_type": "code",
   "execution_count": 248,
   "id": "12510e8f",
   "metadata": {},
   "outputs": [],
   "source": [
    "_ton_giao = ['- Phật giáo', '- Thiên chúa giáo', '- Tôn giáo khác']"
   ]
  },
  {
   "cell_type": "code",
   "execution_count": 250,
   "id": "4b0233cd",
   "metadata": {},
   "outputs": [],
   "source": [
    "_khoa_hoc[~_khoa_hoc['thể loại'].str.contains('|'.join(_lich_su+_ton_giao))].to_csv(\"_NGÀNH KHOA HỌC XÃ HỘI VÀ NHÂN VĂN.csv\",index=False)"
   ]
  },
  {
   "cell_type": "code",
   "execution_count": 251,
   "id": "78580fa8",
   "metadata": {},
   "outputs": [],
   "source": [
    "_khoa_hoc[_khoa_hoc['thể loại'].str.contains('|'.join(_lich_su))].to_csv(\"_Lịch sử - Địa lý.csv\",index=False)"
   ]
  },
  {
   "cell_type": "code",
   "execution_count": 252,
   "id": "009ba656",
   "metadata": {},
   "outputs": [],
   "source": [
    "_khoa_hoc[_khoa_hoc['thể loại'].str.contains('|'.join(_ton_giao))].to_csv(\"_Tôn giáo.csv\",index=False)"
   ]
  }
 ],
 "metadata": {
  "kernelspec": {
   "display_name": "book",
   "language": "python",
   "name": "book"
  },
  "language_info": {
   "codemirror_mode": {
    "name": "ipython",
    "version": 3
   },
   "file_extension": ".py",
   "mimetype": "text/x-python",
   "name": "python",
   "nbconvert_exporter": "python",
   "pygments_lexer": "ipython3",
   "version": "3.7.11"
  }
 },
 "nbformat": 4,
 "nbformat_minor": 5
}
