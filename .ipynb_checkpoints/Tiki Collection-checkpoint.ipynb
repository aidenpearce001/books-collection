{
 "cells": [
  {
   "cell_type": "code",
   "execution_count": 1,
   "id": "d2964902",
   "metadata": {},
   "outputs": [],
   "source": [
    "import requests\n",
    "import pandas as pd \n",
    "import json\n",
    "import concurrent.futures\n",
    "import re\n",
    "import queue\n",
    "import os\n",
    "\n",
    "from collections import defaultdict\n",
    "import unicodedata"
   ]
  },
  {
   "cell_type": "code",
   "execution_count": 2,
   "id": "30eb3326",
   "metadata": {},
   "outputs": [
    {
     "data": {
      "text/html": [
       "<div>\n",
       "<style scoped>\n",
       "    .dataframe tbody tr th:only-of-type {\n",
       "        vertical-align: middle;\n",
       "    }\n",
       "\n",
       "    .dataframe tbody tr th {\n",
       "        vertical-align: top;\n",
       "    }\n",
       "\n",
       "    .dataframe thead th {\n",
       "        text-align: right;\n",
       "    }\n",
       "</style>\n",
       "<table border=\"1\" class=\"dataframe\">\n",
       "  <thead>\n",
       "    <tr style=\"text-align: right;\">\n",
       "      <th></th>\n",
       "      <th>Thể loại</th>\n",
       "      <th>Nguồn nhập</th>\n",
       "    </tr>\n",
       "  </thead>\n",
       "  <tbody>\n",
       "    <tr>\n",
       "      <th>0</th>\n",
       "      <td>VĂN HỌC</td>\n",
       "      <td>NaN</td>\n",
       "    </tr>\n",
       "    <tr>\n",
       "      <th>1</th>\n",
       "      <td>Văn học đương đại</td>\n",
       "      <td>https://nhasachphuongnam.com/vi/van-hoc-duong-...</td>\n",
       "    </tr>\n",
       "    <tr>\n",
       "      <th>2</th>\n",
       "      <td>Văn học kinh điển – cổ điển</td>\n",
       "      <td>https://www.fahasa.com/sach-trong-nuoc/van-hoc...</td>\n",
       "    </tr>\n",
       "    <tr>\n",
       "      <th>3</th>\n",
       "      <td>Văn học kinh điển – cổ điển</td>\n",
       "      <td>https://nhasachphuongnam.com/vi/van-hoc-kinh-d...</td>\n",
       "    </tr>\n",
       "    <tr>\n",
       "      <th>4</th>\n",
       "      <td>Văn học kinh điển – cổ điển</td>\n",
       "      <td>https://tiki.vn/tac-pham-kinh-dien/c842</td>\n",
       "    </tr>\n",
       "  </tbody>\n",
       "</table>\n",
       "</div>"
      ],
      "text/plain": [
       "                      Thể loại  \\\n",
       "0                      VĂN HỌC   \n",
       "1            Văn học đương đại   \n",
       "2  Văn học kinh điển – cổ điển   \n",
       "3  Văn học kinh điển – cổ điển   \n",
       "4  Văn học kinh điển – cổ điển   \n",
       "\n",
       "                                          Nguồn nhập  \n",
       "0                                                NaN  \n",
       "1  https://nhasachphuongnam.com/vi/van-hoc-duong-...  \n",
       "2  https://www.fahasa.com/sach-trong-nuoc/van-hoc...  \n",
       "3  https://nhasachphuongnam.com/vi/van-hoc-kinh-d...  \n",
       "4            https://tiki.vn/tac-pham-kinh-dien/c842  "
      ]
     },
     "execution_count": 2,
     "metadata": {},
     "output_type": "execute_result"
    }
   ],
   "source": [
    "df = pd.read_csv(\"DATA.csv\")\n",
    "df.head()"
   ]
  },
  {
   "cell_type": "code",
   "execution_count": 3,
   "id": "65cdde9c",
   "metadata": {},
   "outputs": [],
   "source": [
    "df2 = pd.read_csv(\"DATA_v2.csv\")\n",
    "df2.dropna(inplace = True) \n",
    "df2.columns = [\"Thể loại\", \"Nguồn nhập\", \"type\"]\n",
    "\n",
    "# Remove all row that not have tiki\n",
    "df2 = df2[df2['Nguồn nhập'].str.contains(\"tiki\")]\n",
    "group_f1 = df2.groupby(\"Thể loại\")[\"Nguồn nhập\"].apply(list).to_dict()\n",
    "group_f2 = df2.groupby(\"type\")[\"Thể loại\"].apply(list).to_dict()\n",
    "\n",
    "n_dict = defaultdict(dict)\n",
    "for k, v in group_f2.items():\n",
    "    for stype in v:\n",
    "        n_dict[k][stype] = group_f1[stype]"
   ]
  },
  {
   "cell_type": "code",
   "execution_count": null,
   "id": "e6419a66",
   "metadata": {},
   "outputs": [],
   "source": [
    "import json\n",
    "with open(\"category.json\", \"w\",encoding='utf-8') as outfile:\n",
    "    json.dump(n_dict,outfile,indent = 4,ensure_ascii=False)"
   ]
  },
  {
   "cell_type": "code",
   "execution_count": 4,
   "id": "2d0726ce",
   "metadata": {},
   "outputs": [],
   "source": [
    "_category_path = \"https://tiki.vn/api/personalish/v1/blocks/listings?limit=48&include=advertisement&aggregations=1&category={}&page={}&urlKey={}\"\n",
    "_book_detail = 'https://tiki.vn/api/v2/products/{}?platform=web&spid={}'"
   ]
  },
  {
   "cell_type": "code",
   "execution_count": 5,
   "id": "bb08ce5e",
   "metadata": {},
   "outputs": [],
   "source": [
    "url = \"https://tiki.vn/api/personalish/v1/blocks/listings?limit=48&include=advertisement&aggregations=1&trackity_id=c0a5b178-9ff2-3eaa-d2c2-ce87bba5db01&categoryId=316\"\n",
    "_book_detail = 'https://tiki.vn/api/v2/products/{}?platform=web&spid=119384919'\n",
    "payload={}\n",
    "headers = {\n",
    "  'authority': 'tiki.vn',\n",
    "  'pragma': 'no-cache',\n",
    "  'cache-control': 'no-cache',\n",
    "  'sec-ch-ua': '\"Chromium\";v=\"94\", \"Google Chrome\";v=\"94\", \";Not A Brand\";v=\"99\"',\n",
    "  'accept': 'application/json, text/plain, */*',\n",
    "  'sec-ch-ua-mobile': '?0',\n",
    "  'user-agent': 'Mozilla/5.0 (Windows NT 10.0; Win64; x64) AppleWebKit/537.36 (KHTML, like Gecko) Chrome/94.0.4606.71 Safari/537.36',\n",
    "  'sec-ch-ua-platform': '\"Windows\"',\n",
    "  'sec-fetch-site': 'same-origin',\n",
    "  'sec-fetch-mode': 'cors',\n",
    "  'sec-fetch-dest': 'empty',\n",
    "  'referer': 'https://tiki.vn/sach-truyen-tieng-viet/c316',\n",
    "  'accept-language': 'vi,en-US;q=0.9,en;q=0.8,vi-VN;q=0.7'\n",
    "}"
   ]
  },
  {
   "cell_type": "code",
   "execution_count": null,
   "id": "c6cdc26f",
   "metadata": {},
   "outputs": [],
   "source": [
    "_category = {}\n",
    "_reverse_mapping = {}\n",
    "for _ in response['filters'][0]['values']:\n",
    "    _category[_['url_key']] = _['query_value']\n",
    "    \n",
    "for _ in response['filters'][0]['values']:\n",
    "    _reverse_mapping[_['query_value']] = _['display_value']"
   ]
  },
  {
   "cell_type": "markdown",
   "id": "7a8f4a1a",
   "metadata": {},
   "source": [
    "_exmaple = {Tên sách, Ảnh bìa, Tên Tác giả, Nhà Xuất bản, Thể loại, tóm tắt, giá"
   ]
  },
  {
   "cell_type": "code",
   "execution_count": 24,
   "id": "f2d89535",
   "metadata": {},
   "outputs": [
    {
     "ename": "SyntaxError",
     "evalue": "invalid syntax (Temp/ipykernel_14812/2680023410.py, line 38)",
     "output_type": "error",
     "traceback": [
      "\u001b[1;36m  File \u001b[1;32m\"C:\\Users\\WATCHD~1\\AppData\\Local\\Temp/ipykernel_14812/2680023410.py\"\u001b[1;36m, line \u001b[1;32m38\u001b[0m\n\u001b[1;33m    book['Tác giả'] = ','.join([if 'authors' in __res author['name'] for author in __res['authors'] if 'authors'])\u001b[0m\n\u001b[1;37m                                 ^\u001b[0m\n\u001b[1;31mSyntaxError\u001b[0m\u001b[1;31m:\u001b[0m invalid syntax\n"
     ]
    }
   ],
   "source": [
    "_big_dict = {}\n",
    "booksQueue = queue.Queue()\n",
    "\n",
    "class Crawler():\n",
    "    def __init__(self, categoryid, urlkey, cname):\n",
    "        self.categoryid = categoryid\n",
    "        self.urlkey = urlkey\n",
    "        self.category_name = cname\n",
    "        \n",
    "    def crawl(self):\n",
    "        _concurrent = self._bookshelf()\n",
    "        \n",
    "        return len(_concurrent)\n",
    "#         print(len(_concurrent))\n",
    "        \n",
    "#         with concurrent.futures.ThreadPoolExecutor(max_workers=os.cpu_count()*5) as executor:\n",
    "#             executor.map(self._books, _concurrent)\n",
    "            \n",
    "    def _books(self, book_tuple):\n",
    "        \n",
    "        book = {}\n",
    "        \n",
    "        __res =  requests.request(\"GET\",_book_detail.format(book_tuple[0],book_tuple[1]), headers=headers).json()\n",
    "        print(__res['url_path'])\n",
    "        book['path'] = __res['url_path']\n",
    "        book['Tên Sách'] = __res['name']\n",
    "        book['Ảnh bìa'] = __res['thumbnail_url']\n",
    "        for _spec in __res['specifications'][0]['attributes']:\n",
    "            book[_spec['name']] = _spec['value']\n",
    "            \n",
    "            _big_dict[_spec['name']] = ''\n",
    "#         book['Nhà phát hành'] = __res['specifications'][0]['attributes'][0][\"value\"]\n",
    "#         book['Nhà xuất bản'] = __res['specifications'][0]['attributes'][-1][\"value\"]\n",
    "#         book['Dịch Giả'] = __res['specifications'][0]['attributes'][3][\"value\"]\n",
    "#         book['Số trang'] = __res['specifications'][0]['attributes'][3][\"value\"]\n",
    "#         book['Ngày xuất bản'] = __res['specifications'][0]['attributes'][1][\"value\"]\n",
    "        if 'authors' in __res:\n",
    "            book['Tác giả'] = ','.join([ author['name'] for author in __res['authors'] if 'authors'])\n",
    "        else:\n",
    "            book['Tác giả'] = ''\n",
    "        book['Thể loại'] = self.category_name\n",
    "        book['Giá bìa'] = __res['price']\n",
    "#         book['Nội dung tóm tắt'] = __res['short_description']\n",
    "        book['Nội dung tóm tắt'] = unicodedata.normalize(\"NFKD\",__res['short_description'])\n",
    "        \n",
    "        booksQueue.put(book)\n",
    "        print(book)\n",
    "            \n",
    "        print(f\"Number of products in my pocket {booksQueue.qsize()}\")\n",
    "        \n",
    "        \n",
    "    def _bookshelf(self):\n",
    "        \n",
    "        _bookshelf = []\n",
    "        _res = requests.request(\"GET\", _category_path.format(self.categoryid, 0, self.urlkey), headers=headers).json()\n",
    "        _total = _res['paging']['last_page']+1\n",
    "        \n",
    "        for _ in range(_total):\n",
    "#             print(f\"total page of {self.urlkey} : {_total}\")\n",
    "            _res = requests.request(\"GET\", _category_path.format(self.categoryid, _, self.urlkey), headers=headers).json()\n",
    "            for data in _res['data']:\n",
    "                _bookshelf.append( (data['id'],data['seller_product_id']) )\n",
    "            \n",
    "        \n",
    "        return _bookshelf"
   ]
  },
  {
   "cell_type": "code",
   "execution_count": null,
   "id": "5c58c411",
   "metadata": {},
   "outputs": [],
   "source": [
    "__res.json()['thumbnail_url']"
   ]
  },
  {
   "cell_type": "code",
   "execution_count": 10,
   "id": "1679e9f3",
   "metadata": {},
   "outputs": [
    {
     "data": {
      "text/plain": [
       "['https:', '', 'tiki.vn', 'du-ky', 'c4933']"
      ]
     },
     "execution_count": 10,
     "metadata": {},
     "output_type": "execute_result"
    }
   ],
   "source": [
    "_url = 'https://tiki.vn/du-ky/c4933'\n",
    "_split = _url.split(\"/\")\n",
    "_split"
   ]
  },
  {
   "cell_type": "code",
   "execution_count": 25,
   "id": "e96e170f",
   "metadata": {},
   "outputs": [
    {
     "name": "stdout",
     "output_type": "stream",
     "text": [
      "so-ghi-chep-khau-gay-a5-hinh-chu-deli-40-trang-70g-1-quyen-nhieu-mau-fa540-n07-p114571877.html?spid=114571925\n"
     ]
    },
    {
     "ename": "KeyError",
     "evalue": "'authors'",
     "output_type": "error",
     "traceback": [
      "\u001b[1;31m---------------------------------------------------------------------------\u001b[0m",
      "\u001b[1;31mKeyError\u001b[0m                                  Traceback (most recent call last)",
      "\u001b[1;32mC:\\Users\\WATCHD~1\\AppData\\Local\\Temp/ipykernel_14812/2427069453.py\u001b[0m in \u001b[0;36m<module>\u001b[1;34m\u001b[0m\n\u001b[0;32m      1\u001b[0m \u001b[0mt\u001b[0m \u001b[1;33m=\u001b[0m \u001b[0mCrawler\u001b[0m\u001b[1;33m(\u001b[0m\u001b[0m_split\u001b[0m\u001b[1;33m[\u001b[0m\u001b[1;33m-\u001b[0m\u001b[1;36m1\u001b[0m\u001b[1;33m]\u001b[0m\u001b[1;33m[\u001b[0m\u001b[1;36m1\u001b[0m\u001b[1;33m:\u001b[0m\u001b[1;33m]\u001b[0m\u001b[1;33m,\u001b[0m\u001b[0m_split\u001b[0m\u001b[1;33m[\u001b[0m\u001b[1;33m-\u001b[0m\u001b[1;36m2\u001b[0m\u001b[1;33m]\u001b[0m\u001b[1;33m,\u001b[0m\u001b[1;34m'Chăm sóc sức khỏe'\u001b[0m\u001b[1;33m)\u001b[0m\u001b[1;33m\u001b[0m\u001b[1;33m\u001b[0m\u001b[0m\n\u001b[0;32m      2\u001b[0m \u001b[1;31m# print(t._bookshelf())\u001b[0m\u001b[1;33m\u001b[0m\u001b[1;33m\u001b[0m\u001b[1;33m\u001b[0m\u001b[0m\n\u001b[1;32m----> 3\u001b[1;33m \u001b[0mt\u001b[0m\u001b[1;33m.\u001b[0m\u001b[0m_books\u001b[0m\u001b[1;33m(\u001b[0m\u001b[1;33m(\u001b[0m\u001b[1;36m114571877\u001b[0m\u001b[1;33m,\u001b[0m \u001b[1;36m114571925\u001b[0m\u001b[1;33m)\u001b[0m\u001b[1;33m)\u001b[0m\u001b[1;33m\u001b[0m\u001b[1;33m\u001b[0m\u001b[0m\n\u001b[0m\u001b[0;32m      4\u001b[0m \u001b[1;31m# t.crawl()\u001b[0m\u001b[1;33m\u001b[0m\u001b[1;33m\u001b[0m\u001b[1;33m\u001b[0m\u001b[0m\n",
      "\u001b[1;32mC:\\Users\\WATCHD~1\\AppData\\Local\\Temp/ipykernel_14812/3560297902.py\u001b[0m in \u001b[0;36m_books\u001b[1;34m(self, book_tuple)\u001b[0m\n\u001b[0;32m     36\u001b[0m \u001b[1;31m#         book['Ngày xuất bản'] = __res['specifications'][0]['attributes'][1][\"value\"]\u001b[0m\u001b[1;33m\u001b[0m\u001b[1;33m\u001b[0m\u001b[1;33m\u001b[0m\u001b[0m\n\u001b[0;32m     37\u001b[0m \u001b[1;33m\u001b[0m\u001b[0m\n\u001b[1;32m---> 38\u001b[1;33m         \u001b[0mbook\u001b[0m\u001b[1;33m[\u001b[0m\u001b[1;34m'Tác giả'\u001b[0m\u001b[1;33m]\u001b[0m \u001b[1;33m=\u001b[0m \u001b[1;34m','\u001b[0m\u001b[1;33m.\u001b[0m\u001b[0mjoin\u001b[0m\u001b[1;33m(\u001b[0m\u001b[1;33m[\u001b[0m\u001b[0mauthor\u001b[0m\u001b[1;33m[\u001b[0m\u001b[1;34m'name'\u001b[0m\u001b[1;33m]\u001b[0m \u001b[1;32mfor\u001b[0m \u001b[0mauthor\u001b[0m \u001b[1;32min\u001b[0m \u001b[0m__res\u001b[0m\u001b[1;33m[\u001b[0m\u001b[1;34m'authors'\u001b[0m\u001b[1;33m]\u001b[0m \u001b[1;32mif\u001b[0m \u001b[1;34m'authors'\u001b[0m \u001b[1;32min\u001b[0m \u001b[0m__res\u001b[0m\u001b[1;33m]\u001b[0m\u001b[1;33m)\u001b[0m\u001b[1;33m\u001b[0m\u001b[1;33m\u001b[0m\u001b[0m\n\u001b[0m\u001b[0;32m     39\u001b[0m         \u001b[0mbook\u001b[0m\u001b[1;33m[\u001b[0m\u001b[1;34m'Thể loại'\u001b[0m\u001b[1;33m]\u001b[0m \u001b[1;33m=\u001b[0m \u001b[0mself\u001b[0m\u001b[1;33m.\u001b[0m\u001b[0mcategory_name\u001b[0m\u001b[1;33m\u001b[0m\u001b[1;33m\u001b[0m\u001b[0m\n\u001b[0;32m     40\u001b[0m         \u001b[0mbook\u001b[0m\u001b[1;33m[\u001b[0m\u001b[1;34m'Giá bìa'\u001b[0m\u001b[1;33m]\u001b[0m \u001b[1;33m=\u001b[0m \u001b[0m__res\u001b[0m\u001b[1;33m[\u001b[0m\u001b[1;34m'price'\u001b[0m\u001b[1;33m]\u001b[0m\u001b[1;33m\u001b[0m\u001b[1;33m\u001b[0m\u001b[0m\n",
      "\u001b[1;31mKeyError\u001b[0m: 'authors'"
     ]
    }
   ],
   "source": [
    "t = Crawler(_split[-1][1:],_split[-2],'Chăm sóc sức khỏe')\n",
    "# print(t._bookshelf())\n",
    "t._books((114571877, 114571925))\n",
    "# t.crawl()"
   ]
  },
  {
   "cell_type": "code",
   "execution_count": null,
   "id": "bff8199c",
   "metadata": {},
   "outputs": [],
   "source": [
    "t = Crawler(_split[-1][1:],_split[-2],'Chăm sóc sức khỏe')\n",
    "t._books((352665,37551012))"
   ]
  },
  {
   "cell_type": "code",
   "execution_count": 7,
   "id": "11f2912c",
   "metadata": {},
   "outputs": [],
   "source": [
    "_url = \"https://tiki.vn/api/v2/products?limit=48&include=advertisement&aggregations=1&trackity_id=c0a5b178-9ff2-3eaa-d2c2-ce87bba5db01&q=Ph%C6%B0%C6%A1ng+%C4%90%C3%B4ng+L%C6%B0%E1%BB%9Bt+Ngo%C3%A0i+C%E1%BB%ADa+S%E1%BB%95&page={}\"\n",
    "\n",
    "payload={}\n",
    "headers = {\n",
    "  'authority': 'tiki.vn',\n",
    "  'pragma': 'no-cache',\n",
    "  'cache-control': 'no-cache',\n",
    "  'sec-ch-ua': '\"Chromium\";v=\"94\", \"Google Chrome\";v=\"94\", \";Not A Brand\";v=\"99\"',\n",
    "  'accept': 'application/json, text/plain, */*',\n",
    "  'x-guest-token': 'O6ACamf8DJlu4ERthrPyLeH0cid1wKxv',\n",
    "  'sec-ch-ua-mobile': '?0',\n",
    "  'user-agent': 'Mozilla/5.0 (Windows NT 10.0; Win64; x64) AppleWebKit/537.36 (KHTML, like Gecko) Chrome/94.0.4606.81 Safari/537.36',\n",
    "  'sec-ch-ua-platform': '\"Windows\"',\n",
    "  'sec-fetch-site': 'same-origin',\n",
    "  'sec-fetch-mode': 'cors',\n",
    "  'sec-fetch-dest': 'empty',\n",
    "  'referer': 'https://tiki.vn/search?q=Ph%C6%B0%C6%A1ng%20%C4%90%C3%B4ng%20L%C6%B0%E1%BB%9Bt%20Ngo%C3%A0i%20C%E1%BB%ADa%20S%E1%BB%95',\n",
    "  'accept-language': 'vi,en-US;q=0.9,en;q=0.8,vi-VN;q=0.7'\n",
    "}\n",
    "\n"
   ]
  },
  {
   "cell_type": "code",
   "execution_count": 8,
   "id": "e616cfb1",
   "metadata": {},
   "outputs": [],
   "source": [
    "_bookshelf = []\n",
    "_res = requests.request(\"GET\", _url.format(1), headers=headers).json()\n",
    "_total = _res['paging']['last_page']+1\n",
    "\n",
    "for _ in range(_total):\n",
    "    _ +=1\n",
    "    _res = requests.request(\"GET\", _url.format(_), headers=headers).json()\n",
    "    for data in _res['data']:\n",
    "        _bookshelf.append( (data['id'],data['seller_product_id']) )"
   ]
  },
  {
   "cell_type": "code",
   "execution_count": 21,
   "id": "ba56a94d",
   "metadata": {},
   "outputs": [
    {
     "name": "stdout",
     "output_type": "stream",
     "text": [
      "hanh-trinh-ve-phuong-dong-kho-nho-tai-ban-2020-p53599268.html?spid=57702468\n",
      "{'path': 'hanh-trinh-ve-phuong-dong-kho-nho-tai-ban-2020-p53599268.html?spid=57702468', 'Tên Sách': 'Hành Trình Về Phương Đông (Khổ Nhỏ) - Tái Bản 2020', 'Ảnh bìa': 'https://salt.tikicdn.com/cache/280x280/ts/product/d3/dd/8a/a57562e7033338eb034baa2057eb6d55.jpg', 'Công ty phát hành': 'First News - Trí Việt', 'Nhà xuất bản': 'Nhà Xuất Bản Thế Giới', 'Tác giả': 'Nguyên Phong,Nguyễn Phong', 'Thể loại': 'Chăm sóc sức khỏe', 'Giá bìa': 54900, 'Nội dung tóm tắt': 'Hành Trình Về Phương Đông (Khổ Nhỏ) Tái Bản 2020Hành Trình Về Phương Đông kể về những trải nghiệm của một đoàn khoa học gồm các chuyên gia hàng đầu của Hội Khoa Học Hoàng Gia Anh được cử sang Ấn Độ n...'}\n",
      "Number of products in my pocket 1\n",
      "phuong-dong-luot-ngoai-cua-so-tai-ban-2019-p14100924.html?spid=14100925\n",
      "{'path': 'phuong-dong-luot-ngoai-cua-so-tai-ban-2019-p14100924.html?spid=14100925', 'Tên Sách': 'Phương Đông Lướt Ngoài Cửa Sổ (Tái Bản 2019)', 'Ảnh bìa': 'https://salt.tikicdn.com/cache/280x280/ts/product/26/75/69/1c95ba52c9cee5a7e38adb0d82570742.jpg', 'Công ty phát hành': 'Nhã Nam', 'Ngày xuất bản': '2019-10-04 00:00:00', 'Kích thước': '14 x 20.5 cm', 'Loại bìa': 'Bìa mềm', 'Số trang': '548', 'Tác giả': 'Paul Theroux', 'Thể loại': 'Chăm sóc sức khỏe', 'Giá bìa': 102600, 'Nội dung tóm tắt': 'Phương Đông Lướt Ngoài Cửa Sổ là chặng hành trình xuyên Châu Á của Paul Theroux vào năm 1973 và đến rất nhiều năm sau này, chặng hàng trình ấy vẫn đang được hàng triệu bạn đọc trên thế giới biết đến v...'}\n",
      "Number of products in my pocket 2\n",
      "phuong-dong-luot-ngoai-cua-so-tai-ban-2017-p596667.html?spid=37551014\n",
      "{'path': 'phuong-dong-luot-ngoai-cua-so-tai-ban-2017-p596667.html?spid=37551014', 'Tên Sách': 'Phương Đông Lướt Ngoài Cửa Sổ (Tái Bản 2017)', 'Ảnh bìa': 'https://salt.tikicdn.com/cache/280x280/media/catalog/product/p/h/phuong-dong-luot-ngoai-cua-so.u4972.d20170329.t101419.865906.jpg', 'Công ty phát hành': 'Nhã Nam', 'Ngày xuất bản': '2017-03-01 00:00:00', 'Kích thước': '14.5 x 20.5', 'Số trang': '543', 'Tác giả': 'Paul Theroux', 'Thể loại': 'Chăm sóc sức khỏe', 'Giá bìa': 122500, 'Nội dung tóm tắt': 'Phương Đông Lướt Ngoài Cửa Sổ (Tái Bản 2017) Phương Đông Lướt Ngoài Cửa Sổ là chặng hành trình xuyên Châu Á của Paul Theroux vào năm 1973 và đến rất nhiều năm sau này, chặng hàng trình ấy vẫn đang đư...'}\n",
      "Number of products in my pocket 3\n",
      "combo-2-cuon-phuong-dong-luot-ngoai-cua-so-hanh-trinh-ve-phuong-dong-tang-kem-bookmark-p15729765.html?spid=15729766\n",
      "{'path': 'combo-2-cuon-phuong-dong-luot-ngoai-cua-so-hanh-trinh-ve-phuong-dong-tang-kem-bookmark-p15729765.html?spid=15729766', 'Tên Sách': 'Combo 2 cuốn Phương Đông Lướt Ngoài Cửa Sổ + Hành Trình Về Phương Đông ( Tặng kèm bookmark)', 'Ảnh bìa': 'https://salt.tikicdn.com/cache/280x280/ts/product/23/2a/65/e5f0dcf486905e7f6800ff03a7e99088.jpg', 'Công ty phát hành': 'Nhã Nam', 'Loại bìa': 'Bìa mềm', 'Tác giả': 'Nhiều Tác Giả', 'Thể loại': 'Chăm sóc sức khỏe', 'Giá bìa': 203000, 'Nội dung tóm tắt': 'Phương Đông Lướt Ngoài Cửa Sổ (Tái Bản 2017)Phương Đông Lướt Ngoài Cửa Sổ là chặng hành trình xuyên Châu Á của Paul Theroux vào năm 1973 và đến rất nhiều năm sau này, chặng hàng trình ấy vẫn đang đượ...'}\n",
      "Number of products in my pocket 4\n",
      "so-ghi-chep-khau-gay-a5-hinh-chu-deli-40-trang-70g-1-quyen-nhieu-mau-fa540-n07-p114571877.html?spid=114571925\n"
     ]
    },
    {
     "ename": "KeyError",
     "evalue": "'authors'",
     "output_type": "error",
     "traceback": [
      "\u001b[1;31m---------------------------------------------------------------------------\u001b[0m",
      "\u001b[1;31mKeyError\u001b[0m                                  Traceback (most recent call last)",
      "\u001b[1;32mC:\\Users\\WATCHD~1\\AppData\\Local\\Temp/ipykernel_14812/2410078714.py\u001b[0m in \u001b[0;36m<module>\u001b[1;34m\u001b[0m\n\u001b[0;32m      1\u001b[0m \u001b[1;32mfor\u001b[0m \u001b[0m_tup\u001b[0m \u001b[1;32min\u001b[0m \u001b[0m_bookshelf\u001b[0m\u001b[1;33m:\u001b[0m\u001b[1;33m\u001b[0m\u001b[1;33m\u001b[0m\u001b[0m\n\u001b[0;32m      2\u001b[0m     \u001b[0mt\u001b[0m \u001b[1;33m=\u001b[0m \u001b[0mCrawler\u001b[0m\u001b[1;33m(\u001b[0m\u001b[0m_split\u001b[0m\u001b[1;33m[\u001b[0m\u001b[1;33m-\u001b[0m\u001b[1;36m1\u001b[0m\u001b[1;33m]\u001b[0m\u001b[1;33m[\u001b[0m\u001b[1;36m1\u001b[0m\u001b[1;33m:\u001b[0m\u001b[1;33m]\u001b[0m\u001b[1;33m,\u001b[0m\u001b[0m_split\u001b[0m\u001b[1;33m[\u001b[0m\u001b[1;33m-\u001b[0m\u001b[1;36m2\u001b[0m\u001b[1;33m]\u001b[0m\u001b[1;33m,\u001b[0m\u001b[1;34m'Chăm sóc sức khỏe'\u001b[0m\u001b[1;33m)\u001b[0m\u001b[1;33m\u001b[0m\u001b[1;33m\u001b[0m\u001b[0m\n\u001b[1;32m----> 3\u001b[1;33m     \u001b[0mt\u001b[0m\u001b[1;33m.\u001b[0m\u001b[0m_books\u001b[0m\u001b[1;33m(\u001b[0m\u001b[0m_tup\u001b[0m\u001b[1;33m)\u001b[0m\u001b[1;33m\u001b[0m\u001b[1;33m\u001b[0m\u001b[0m\n\u001b[0m",
      "\u001b[1;32mC:\\Users\\WATCHD~1\\AppData\\Local\\Temp/ipykernel_14812/1239632172.py\u001b[0m in \u001b[0;36m_books\u001b[1;34m(self, book_tuple)\u001b[0m\n\u001b[0;32m     36\u001b[0m \u001b[1;31m#         book['Ngày xuất bản'] = __res['specifications'][0]['attributes'][1][\"value\"]\u001b[0m\u001b[1;33m\u001b[0m\u001b[1;33m\u001b[0m\u001b[1;33m\u001b[0m\u001b[0m\n\u001b[0;32m     37\u001b[0m \u001b[1;33m\u001b[0m\u001b[0m\n\u001b[1;32m---> 38\u001b[1;33m         \u001b[0mbook\u001b[0m\u001b[1;33m[\u001b[0m\u001b[1;34m'Tác giả'\u001b[0m\u001b[1;33m]\u001b[0m \u001b[1;33m=\u001b[0m \u001b[1;34m','\u001b[0m\u001b[1;33m.\u001b[0m\u001b[0mjoin\u001b[0m\u001b[1;33m(\u001b[0m\u001b[1;33m[\u001b[0m\u001b[0mauthor\u001b[0m\u001b[1;33m[\u001b[0m\u001b[1;34m'name'\u001b[0m\u001b[1;33m]\u001b[0m \u001b[1;32mfor\u001b[0m \u001b[0mauthor\u001b[0m \u001b[1;32min\u001b[0m \u001b[0m__res\u001b[0m\u001b[1;33m[\u001b[0m\u001b[1;34m'authors'\u001b[0m\u001b[1;33m]\u001b[0m \u001b[1;32mif\u001b[0m \u001b[0m__res\u001b[0m\u001b[1;33m[\u001b[0m\u001b[1;34m'authors'\u001b[0m\u001b[1;33m]\u001b[0m\u001b[1;33m]\u001b[0m\u001b[1;33m)\u001b[0m\u001b[1;33m\u001b[0m\u001b[1;33m\u001b[0m\u001b[0m\n\u001b[0m\u001b[0;32m     39\u001b[0m         \u001b[0mbook\u001b[0m\u001b[1;33m[\u001b[0m\u001b[1;34m'Thể loại'\u001b[0m\u001b[1;33m]\u001b[0m \u001b[1;33m=\u001b[0m \u001b[0mself\u001b[0m\u001b[1;33m.\u001b[0m\u001b[0mcategory_name\u001b[0m\u001b[1;33m\u001b[0m\u001b[1;33m\u001b[0m\u001b[0m\n\u001b[0;32m     40\u001b[0m         \u001b[0mbook\u001b[0m\u001b[1;33m[\u001b[0m\u001b[1;34m'Giá bìa'\u001b[0m\u001b[1;33m]\u001b[0m \u001b[1;33m=\u001b[0m \u001b[0m__res\u001b[0m\u001b[1;33m[\u001b[0m\u001b[1;34m'price'\u001b[0m\u001b[1;33m]\u001b[0m\u001b[1;33m\u001b[0m\u001b[1;33m\u001b[0m\u001b[0m\n",
      "\u001b[1;31mKeyError\u001b[0m: 'authors'"
     ]
    }
   ],
   "source": [
    "for _tup in _bookshelf:\n",
    "    t = Crawler(_split[-1][1:],_split[-2],'Chăm sóc sức khỏe')\n",
    "    t._books(_tup)"
   ]
  },
  {
   "cell_type": "code",
   "execution_count": null,
   "id": "26a9db80",
   "metadata": {},
   "outputs": [],
   "source": [
    "booksQueue.qsize()"
   ]
  },
  {
   "cell_type": "code",
   "execution_count": null,
   "id": "c328b596",
   "metadata": {
    "scrolled": true
   },
   "outputs": [],
   "source": [
    "_total = 0\n",
    "\n",
    "for _name in n_dict.keys():\n",
    "    total = 0 \n",
    "    booksQueue = queue.Queue()\n",
    "#     print(_name)\n",
    "    for k,v in n_dict[_name].items():\n",
    "#         print(v)\n",
    "        _split = v[0].split(\"/\")\n",
    "#         print(_split)\n",
    "        t = Crawler(_split[-1][1:],_split[-2], k)\n",
    "        total += t.crawl()\n",
    "    \n",
    "    print(f'{_name } : {total}')\n",
    "\n",
    "    _total += total\n",
    "#     df = pd.DataFrame(columns=['Tên Sách', 'Ảnh bìa','Thể loại','Tác giả','Nội dung tóm tắt','Giá bìa']+ list(_big_dict.keys()),index=[0])\n",
    "#     while not booksQueue.empty():\n",
    "#         df = df.append(booksQueue.get(),ignore_index=True)\n",
    "\n",
    "#     df.to_csv('tiki_'+ _name+'.csv')"
   ]
  },
  {
   "cell_type": "code",
   "execution_count": null,
   "id": "3101d4bf",
   "metadata": {},
   "outputs": [],
   "source": [
    "_total"
   ]
  },
  {
   "cell_type": "code",
   "execution_count": null,
   "id": "2fcecf1d",
   "metadata": {},
   "outputs": [],
   "source": [
    "4896 + 2865 + 282 + 7211 + 888 + 353 + 823 + 1212 + 924 + 6536 + 10952 + 1836 + 8659 + 496 + 1011 + 236 + 16410"
   ]
  },
  {
   "cell_type": "code",
   "execution_count": null,
   "id": "cb69c92f",
   "metadata": {},
   "outputs": [],
   "source": [
    "3814 + 125  + 2616 + 208 + 6301 + 704 + 277 +704 + 1090 +363 +4554 +9148+ 1522+234+6906+835+208+ 13464"
   ]
  },
  {
   "cell_type": "code",
   "execution_count": null,
   "id": "60c218ce",
   "metadata": {},
   "outputs": [],
   "source": [
    "for k,v in n_dict['VĂN HỌC'].items():\n",
    "    print(v)\n",
    "    _split = v[0].split(\"/\")\n",
    "    print(_split)\n",
    "    t = Crawler(_split[-1][1:],_split[-2], k)\n",
    "    t.crawl()"
   ]
  },
  {
   "cell_type": "code",
   "execution_count": null,
   "id": "5331ea42",
   "metadata": {},
   "outputs": [],
   "source": [
    "df = pd.DataFrame(columns=['Tên Sách', 'Ảnh bìa','Thể loại','Tác giả','Nội dung tóm tắt','Giá bìa']+ list(_big_dict.keys()),index=[0])\n",
    "while not booksQueue.empty():\n",
    "    df = df.append(booksQueue.get(),ignore_index=True)\n",
    "                           \n",
    "df.to_csv('tiki_'+ 'Chăm sóc sức khỏe'+'.csv')"
   ]
  },
  {
   "cell_type": "code",
   "execution_count": null,
   "id": "f4d00345",
   "metadata": {},
   "outputs": [],
   "source": [
    "df['Ảnh bìa']"
   ]
  },
  {
   "cell_type": "code",
   "execution_count": null,
   "id": "7df16d8e",
   "metadata": {},
   "outputs": [],
   "source": [
    "for _url,_id in _category.items():\n",
    "    print(_id,_url)\n",
    "    t = Crawler(_id,_url)\n",
    "    t.crawl()"
   ]
  },
  {
   "cell_type": "code",
   "execution_count": null,
   "id": "847f08ca",
   "metadata": {},
   "outputs": [],
   "source": [
    "print(f\"Number of products in my pocket {booksQueue.qsize()}\")"
   ]
  },
  {
   "cell_type": "code",
   "execution_count": null,
   "id": "322f0953",
   "metadata": {},
   "outputs": [],
   "source": [
    "df = pd.DataFrame(a, columns=['Tên Sách', 'Tên tác giả','Thể loại','Nội dung tóm tắt','Giá bìa'],index=[0])\n",
    "while not booksQueue.empty():\n",
    "    df = df.append(booksQueue.get(),ignore_index=True)"
   ]
  },
  {
   "cell_type": "code",
   "execution_count": null,
   "id": "75bacfe0",
   "metadata": {},
   "outputs": [],
   "source": [
    "df.to_csv(\"tiki_book.csv\",)"
   ]
  },
  {
   "cell_type": "code",
   "execution_count": null,
   "id": "590f97ec",
   "metadata": {},
   "outputs": [],
   "source": [
    "_phuongnam = pd.read_csv(\"_phuongnam.csv\")\n",
    "_phuongnam = _phuongnam.drop(\"Unnamed: 0\",1)\n",
    "_phuongnam = _phuongnam.drop(_phuongnam.index[0])\n",
    "_phuongnam.head()"
   ]
  },
  {
   "cell_type": "code",
   "execution_count": null,
   "id": "74a426bb",
   "metadata": {},
   "outputs": [],
   "source": [
    "_phuongnam.shape"
   ]
  },
  {
   "cell_type": "code",
   "execution_count": null,
   "id": "5f255cc2",
   "metadata": {
    "scrolled": true
   },
   "outputs": [],
   "source": [
    "_suckhoe = pd.read_csv(\"tiki_Chăm sóc sức khỏe.csv\")\n",
    "_suckhoe = _suckhoe.drop(\"Unnamed: 0\",1)\n",
    "_suckhoe = _suckhoe.drop(_suckhoe.index[0])\n",
    "_suckhoe.head()"
   ]
  },
  {
   "cell_type": "code",
   "execution_count": null,
   "id": "b115b1a5",
   "metadata": {},
   "outputs": [],
   "source": [
    "_suckhoe.columns"
   ]
  },
  {
   "cell_type": "code",
   "execution_count": null,
   "id": "62a6a7e3",
   "metadata": {},
   "outputs": [],
   "source": [
    "cols = list(_phuongnam.columns) + list(_suckhoe.columns)\n",
    "set(cols)"
   ]
  },
  {
   "cell_type": "code",
   "execution_count": null,
   "id": "d68f3823",
   "metadata": {},
   "outputs": [],
   "source": [
    "cols[5] == cols[-3]"
   ]
  },
  {
   "cell_type": "code",
   "execution_count": null,
   "id": "8ddb5bc8",
   "metadata": {},
   "outputs": [],
   "source": [
    "cols[-3]"
   ]
  },
  {
   "cell_type": "code",
   "execution_count": null,
   "id": "8952ad01",
   "metadata": {},
   "outputs": [],
   "source": [
    "_suckhoe['Ảnh bìa'][47]"
   ]
  },
  {
   "cell_type": "code",
   "execution_count": null,
   "id": "002b8b15",
   "metadata": {},
   "outputs": [],
   "source": [
    "_suckhoe['Kích thước'][47]"
   ]
  },
  {
   "cell_type": "code",
   "execution_count": null,
   "id": "6f0b0289",
   "metadata": {},
   "outputs": [],
   "source": [
    "for i,v in enumerate(_suckhoe['Kích thước']):\n",
    "    print(i,v)"
   ]
  },
  {
   "cell_type": "code",
   "execution_count": null,
   "id": "4c9c1d67",
   "metadata": {},
   "outputs": [],
   "source": [
    "import glob\n",
    "import re\n",
    "for _ in glob.glob(\"tiki/*\"):\n",
    "#     print(_)\n",
    "    _tiki = pd.read_csv(_)\n",
    "    _df = pd.DataFrame(_tiki,columns=set(cols))\n",
    "    result = re.search('_(.*).csv', _)\n",
    "    for i in _dict:\n",
    "        print(i['Thể loại'])\n",
    "        if n_dict1[i['Thể loại']] == result.group(1):\n",
    "            _df.append(i,ignore_index=True)\n",
    "        \n",
    "    _df.to_csv('allocate/'+result.group(1)+'.csv')\n",
    "    break\n",
    "#     print(n_dict1[result.group(1)])\n",
    "#     _tiki = pd.read_csv(_)\n",
    "#     df = pd.DataFrame(_tiki,columns=cols)\n",
    "    \n",
    "#     for i in \n",
    "#     df.to_csv(_)\n",
    "    \n",
    "    \n",
    "#     print(df.head())\n",
    "#     break\n",
    "#     _tiki.columns = cols\n",
    "    "
   ]
  },
  {
   "cell_type": "code",
   "execution_count": null,
   "id": "6cd54060",
   "metadata": {
    "scrolled": true
   },
   "outputs": [],
   "source": [
    "_phuongnam.head()"
   ]
  },
  {
   "cell_type": "code",
   "execution_count": null,
   "id": "af90d33a",
   "metadata": {},
   "outputs": [],
   "source": [
    "_dict = _phuongnam.to_dict(orient='records')"
   ]
  },
  {
   "cell_type": "code",
   "execution_count": null,
   "id": "758163e5",
   "metadata": {},
   "outputs": [],
   "source": [
    "_dict[0]"
   ]
  },
  {
   "cell_type": "code",
   "execution_count": null,
   "id": "920a0e6d",
   "metadata": {},
   "outputs": [],
   "source": [
    "\n",
    "\n",
    "for _ in _dict:\n",
    "    "
   ]
  },
  {
   "cell_type": "code",
   "execution_count": null,
   "id": "053c0b94",
   "metadata": {},
   "outputs": [],
   "source": [
    "# df = _suckhoe(columns=cols,index=[0])\n",
    "\n",
    "for index, row in _phuongnam.iterrows():\n",
    "    print(row['Thể loại'])\n",
    "    print(index)"
   ]
  },
  {
   "cell_type": "code",
   "execution_count": null,
   "id": "06637b94",
   "metadata": {},
   "outputs": [],
   "source": [
    "df2 = pd.read_csv(\"DATA_v2.csv\")\n",
    "df2.dropna(inplace = True) \n",
    "df2.columns = [\"Thể loại\", \"Nguồn nhập\", \"type\"]\n",
    "\n",
    "# Remove all row that not have tiki\n",
    "# df2 = df2[df2['Nguồn nhập'].str.contains(\"tiki\")]\n",
    "group_f1 = df2.groupby(\"Thể loại\")[\"Nguồn nhập\"].apply(list).to_dict()\n",
    "group_f2 = df2.groupby(\"type\")[\"Thể loại\"].apply(list).to_dict()\n",
    "\n",
    "n_dict1 = defaultdict(dict)\n",
    "for k, v in group_f2.items():\n",
    "    for _ in v:\n",
    "        n_dict1[_] = k\n",
    "        \n",
    "n_dict1\n",
    "#     print(v)\n",
    "#     for stype in v:\n",
    "#         n_dict[k][stype] = group_f1[stype]"
   ]
  },
  {
   "cell_type": "code",
   "execution_count": null,
   "id": "3d188a10",
   "metadata": {},
   "outputs": [],
   "source": [
    "n_dict1['Luyện thi IELTS']"
   ]
  },
  {
   "cell_type": "code",
   "execution_count": null,
   "id": "5d705266",
   "metadata": {},
   "outputs": [],
   "source": [
    "df2.head()"
   ]
  },
  {
   "cell_type": "code",
   "execution_count": null,
   "id": "ff425eca",
   "metadata": {},
   "outputs": [],
   "source": [
    "for _ in glob.glob(\"allocate/*\"):\n",
    "#     print(_)\n",
    "    _tiki = pd.read_csv(_)\n",
    "#     print(_tiki.columns)\n",
    "    _tiki = _tiki.drop(\"Unnamed: 0\",1)\n",
    "    _tiki = _tiki.drop(\"Unnamed: 0.1\",1)\n",
    "    _tiki = _tiki.drop(_tiki.index[0])\n",
    "    \n",
    "    _tiki.to_csv(_)\n",
    "df1 = pd.read_csv(\"allocate/VĂN HỌC.csv\")\n",
    "df1.head()"
   ]
  },
  {
   "cell_type": "code",
   "execution_count": null,
   "id": "0af29e7c",
   "metadata": {},
   "outputs": [],
   "source": [
    "df1 = pd.read_csv(\"allocate/VĂN HỌC.csv\")\n",
    "df1.head()"
   ]
  }
 ],
 "metadata": {
  "kernelspec": {
   "display_name": "book",
   "language": "python",
   "name": "book"
  },
  "language_info": {
   "codemirror_mode": {
    "name": "ipython",
    "version": 3
   },
   "file_extension": ".py",
   "mimetype": "text/x-python",
   "name": "python",
   "nbconvert_exporter": "python",
   "pygments_lexer": "ipython3",
   "version": "3.7.11"
  }
 },
 "nbformat": 4,
 "nbformat_minor": 5
}
