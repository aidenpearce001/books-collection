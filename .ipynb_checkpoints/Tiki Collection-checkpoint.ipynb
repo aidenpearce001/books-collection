{
 "cells": [
  {
   "cell_type": "code",
   "execution_count": 1,
   "id": "d2964902",
   "metadata": {},
   "outputs": [],
   "source": [
    "import requests\n",
    "import pandas as pd \n",
    "import json\n",
    "import concurrent.futures\n",
    "import re\n",
    "import queue\n",
    "import os\n",
    "\n",
    "from collections import defaultdict\n",
    "import unicodedata"
   ]
  },
  {
   "cell_type": "code",
   "execution_count": 2,
   "id": "30eb3326",
   "metadata": {},
   "outputs": [
    {
     "data": {
      "text/html": [
       "<div>\n",
       "<style scoped>\n",
       "    .dataframe tbody tr th:only-of-type {\n",
       "        vertical-align: middle;\n",
       "    }\n",
       "\n",
       "    .dataframe tbody tr th {\n",
       "        vertical-align: top;\n",
       "    }\n",
       "\n",
       "    .dataframe thead th {\n",
       "        text-align: right;\n",
       "    }\n",
       "</style>\n",
       "<table border=\"1\" class=\"dataframe\">\n",
       "  <thead>\n",
       "    <tr style=\"text-align: right;\">\n",
       "      <th></th>\n",
       "      <th>Thể loại</th>\n",
       "      <th>Nguồn nhập</th>\n",
       "    </tr>\n",
       "  </thead>\n",
       "  <tbody>\n",
       "    <tr>\n",
       "      <th>0</th>\n",
       "      <td>VĂN HỌC</td>\n",
       "      <td>NaN</td>\n",
       "    </tr>\n",
       "    <tr>\n",
       "      <th>1</th>\n",
       "      <td>Văn học đương đại</td>\n",
       "      <td>https://nhasachphuongnam.com/vi/van-hoc-duong-...</td>\n",
       "    </tr>\n",
       "    <tr>\n",
       "      <th>2</th>\n",
       "      <td>Văn học kinh điển – cổ điển</td>\n",
       "      <td>https://www.fahasa.com/sach-trong-nuoc/van-hoc...</td>\n",
       "    </tr>\n",
       "    <tr>\n",
       "      <th>3</th>\n",
       "      <td>Văn học kinh điển – cổ điển</td>\n",
       "      <td>https://nhasachphuongnam.com/vi/van-hoc-kinh-d...</td>\n",
       "    </tr>\n",
       "    <tr>\n",
       "      <th>4</th>\n",
       "      <td>Văn học kinh điển – cổ điển</td>\n",
       "      <td>https://tiki.vn/tac-pham-kinh-dien/c842</td>\n",
       "    </tr>\n",
       "  </tbody>\n",
       "</table>\n",
       "</div>"
      ],
      "text/plain": [
       "                      Thể loại  \\\n",
       "0                      VĂN HỌC   \n",
       "1            Văn học đương đại   \n",
       "2  Văn học kinh điển – cổ điển   \n",
       "3  Văn học kinh điển – cổ điển   \n",
       "4  Văn học kinh điển – cổ điển   \n",
       "\n",
       "                                          Nguồn nhập  \n",
       "0                                                NaN  \n",
       "1  https://nhasachphuongnam.com/vi/van-hoc-duong-...  \n",
       "2  https://www.fahasa.com/sach-trong-nuoc/van-hoc...  \n",
       "3  https://nhasachphuongnam.com/vi/van-hoc-kinh-d...  \n",
       "4            https://tiki.vn/tac-pham-kinh-dien/c842  "
      ]
     },
     "execution_count": 2,
     "metadata": {},
     "output_type": "execute_result"
    }
   ],
   "source": [
    "df = pd.read_csv(\"DATA.csv\")\n",
    "df.head()"
   ]
  },
  {
   "cell_type": "code",
   "execution_count": 3,
   "id": "65cdde9c",
   "metadata": {},
   "outputs": [],
   "source": [
    "df2 = pd.read_csv(\"DATA_v2.csv\")\n",
    "df2.dropna(inplace = True) \n",
    "df2.columns = [\"Thể loại\", \"Nguồn nhập\", \"type\"]\n",
    "\n",
    "# Remove all row that not have tiki\n",
    "df2 = df2[df2['Nguồn nhập'].str.contains(\"tiki\")]\n",
    "group_f1 = df2.groupby(\"Thể loại\")[\"Nguồn nhập\"].apply(list).to_dict()\n",
    "group_f2 = df2.groupby(\"type\")[\"Thể loại\"].apply(list).to_dict()\n",
    "\n",
    "n_dict = defaultdict(dict)\n",
    "for k, v in group_f2.items():\n",
    "    for stype in v:\n",
    "        n_dict[k][stype] = group_f1[stype]"
   ]
  },
  {
   "cell_type": "code",
   "execution_count": null,
   "id": "e6419a66",
   "metadata": {},
   "outputs": [],
   "source": [
    "import json\n",
    "with open(\"category.json\", \"w\",encoding='utf-8') as outfile:\n",
    "    json.dump(n_dict,outfile,indent = 4,ensure_ascii=False)"
   ]
  },
  {
   "cell_type": "code",
   "execution_count": 4,
   "id": "2d0726ce",
   "metadata": {},
   "outputs": [],
   "source": [
    "_category_path = \"https://tiki.vn/api/personalish/v1/blocks/listings?limit=48&include=advertisement&aggregations=1&category={}&page={}&urlKey={}\"\n",
    "_book_detail = 'https://tiki.vn/api/v2/products/{}?platform=web&spid={}'"
   ]
  },
  {
   "cell_type": "code",
   "execution_count": 5,
   "id": "bb08ce5e",
   "metadata": {},
   "outputs": [],
   "source": [
    "url = \"https://tiki.vn/api/personalish/v1/blocks/listings?limit=48&include=advertisement&aggregations=1&trackity_id=c0a5b178-9ff2-3eaa-d2c2-ce87bba5db01&categoryId=316\"\n",
    "_book_detail = 'https://tiki.vn/api/v2/products/{}?platform=web&spid=119384919'\n",
    "payload={}\n",
    "headers = {\n",
    "  'authority': 'tiki.vn',\n",
    "  'pragma': 'no-cache',\n",
    "  'cache-control': 'no-cache',\n",
    "  'sec-ch-ua': '\"Chromium\";v=\"94\", \"Google Chrome\";v=\"94\", \";Not A Brand\";v=\"99\"',\n",
    "  'accept': 'application/json, text/plain, */*',\n",
    "  'sec-ch-ua-mobile': '?0',\n",
    "  'user-agent': 'Mozilla/5.0 (Windows NT 10.0; Win64; x64) AppleWebKit/537.36 (KHTML, like Gecko) Chrome/94.0.4606.71 Safari/537.36',\n",
    "  'sec-ch-ua-platform': '\"Windows\"',\n",
    "  'sec-fetch-site': 'same-origin',\n",
    "  'sec-fetch-mode': 'cors',\n",
    "  'sec-fetch-dest': 'empty',\n",
    "  'referer': 'https://tiki.vn/sach-truyen-tieng-viet/c316',\n",
    "  'accept-language': 'vi,en-US;q=0.9,en;q=0.8,vi-VN;q=0.7'\n",
    "}"
   ]
  },
  {
   "cell_type": "code",
   "execution_count": null,
   "id": "c6cdc26f",
   "metadata": {},
   "outputs": [],
   "source": [
    "_category = {}\n",
    "_reverse_mapping = {}\n",
    "for _ in response['filters'][0]['values']:\n",
    "    _category[_['url_key']] = _['query_value']\n",
    "    \n",
    "for _ in response['filters'][0]['values']:\n",
    "    _reverse_mapping[_['query_value']] = _['display_value']"
   ]
  },
  {
   "cell_type": "markdown",
   "id": "7a8f4a1a",
   "metadata": {},
   "source": [
    "_exmaple = {Tên sách, Ảnh bìa, Tên Tác giả, Nhà Xuất bản, Thể loại, tóm tắt, giá"
   ]
  },
  {
   "cell_type": "code",
   "execution_count": 77,
   "id": "f2d89535",
   "metadata": {},
   "outputs": [],
   "source": [
    "_big_dict = {}\n",
    "booksQueue = queue.Queue()\n",
    "\n",
    "class Crawler():\n",
    "    def __init__(self, categoryid, urlkey, cname):\n",
    "        self.categoryid = categoryid\n",
    "        self.urlkey = urlkey\n",
    "        self.category_name = cname\n",
    "        \n",
    "    def crawl(self):\n",
    "        _concurrent = self._bookshelf()\n",
    "        \n",
    "        return len(_concurrent)\n",
    "#         print(len(_concurrent))\n",
    "        \n",
    "        with concurrent.futures.ThreadPoolExecutor(max_workers=os.cpu_count()*3) as executor:\n",
    "            executor.map(self._books, _concurrent)\n",
    "            \n",
    "    def _books(self, book_tuple):\n",
    "        \n",
    "        book = {}\n",
    "        \n",
    "        __res =  requests.request(\"GET\",_book_detail.format(book_tuple[0],book_tuple[1]), headers=headers).json()\n",
    "        book['path'] = __res['url_path']\n",
    "        book['Tên Sách'] = __res['name']\n",
    "        book['Ảnh bìa'] = __res['thumbnail_url']\n",
    "        for _spec in __res['specifications'][0]['attributes']:\n",
    "            _value = _spec['value']\n",
    "            if '<p>' in _spec['value']:\n",
    "                book[_spec['name']] = re.sub('<[^<]+?>', '', _value)\n",
    "            else :\n",
    "                book[_spec['name']] = _value\n",
    "            \n",
    "            _big_dict[_spec['name']] = ''\n",
    "        if 'authors' in __res:\n",
    "            book['Tác giả'] = ','.join([author['name'] for author in __res['authors']])\n",
    "        else:\n",
    "            book['Tác giả'] = ''\n",
    "        book['Thể loại'] = self.category_name\n",
    "        book['Giá bìa'] = __res['price']\n",
    "        book['Nội dung tóm tắt'] = unicodedata.normalize(\"NFKD\",__res['short_description'])\n",
    "        \n",
    "        booksQueue.put(book)\n",
    "            \n",
    "        print(f\"Number of products in my pocket {booksQueue.qsize()}\")\n",
    "        \n",
    "        \n",
    "    def _bookshelf(self):\n",
    "        \n",
    "        _bookshelf = []\n",
    "        _res = requests.request(\"GET\", _category_path.format(self.categoryid, 1, self.urlkey), headers=headers).json()\n",
    "        _total = _res['paging']['last_page']+1\n",
    "        \n",
    "        for _ in range(_total+1):\n",
    "            _ =+1\n",
    "#             print(f\"total page of {self.urlkey} : {_total}\")\n",
    "            _res = requests.request(\"GET\", _category_path.format(self.categoryid, _, self.urlkey), headers=headers).json()\n",
    "            for data in _res['data']:\n",
    "                _bookshelf.append( (data['id'],data['seller_product_id']) )\n",
    "            \n",
    "        \n",
    "        return _bookshelf"
   ]
  },
  {
   "cell_type": "code",
   "execution_count": 34,
   "id": "5c58c411",
   "metadata": {},
   "outputs": [],
   "source": [
    "__res =  requests.request(\"GET\",_book_detail.format(114571877,114571925), headers=headers).json()"
   ]
  },
  {
   "cell_type": "code",
   "execution_count": 37,
   "id": "b1e1fce9",
   "metadata": {},
   "outputs": [
    {
     "data": {
      "text/plain": [
       "False"
      ]
     },
     "execution_count": 37,
     "metadata": {},
     "output_type": "execute_result"
    }
   ],
   "source": [
    "'authors' in __res.keys()"
   ]
  },
  {
   "cell_type": "code",
   "execution_count": 75,
   "id": "1679e9f3",
   "metadata": {},
   "outputs": [
    {
     "data": {
      "text/plain": [
       "['https:', '', 'tiki.vn', 'du-ky', 'c4933']"
      ]
     },
     "execution_count": 75,
     "metadata": {},
     "output_type": "execute_result"
    }
   ],
   "source": [
    "_url = 'https://tiki.vn/du-ky/c4933'\n",
    "_split = _url.split(\"/\")\n",
    "_split"
   ]
  },
  {
   "cell_type": "code",
   "execution_count": 80,
   "id": "e96e170f",
   "metadata": {},
   "outputs": [
    {
     "name": "stdout",
     "output_type": "stream",
     "text": [
      "[(77160746, 77160747), (3577373, 3609471), (53545646, 53545647), (76106026, 76262768), (4085769, 4085771), (17406542, 17406543), (117595287, 117595289), (109982962, 109982963), (14100924, 14100925), (70722135, 70722136), (387725, 20491958), (10190801, 10190802), (14684956, 14684957), (497538, 212412), (23943907, 59072249), (24593377, 24593378), (14523892, 14523893), (26412706, 26412707), (576158, 87495949), (111582626, 111582628), (10669577, 10669578), (22367423, 59005374), (113583666, 113583669), (548212, 272396), (105278809, 105278810), (32314535, 34747302), (15592528, 15592531), (644149, 24825210), (5995385, 5995387), (477659, 188098), (11491784, 11491785), (15867080, 15867081), (107059011, 107059012), (11371237, 20460938), (53720985, 54138841), (115482831, 115482832), (10738152, 20488984), (5745743, 20477853), (10707066, 56273931), (48481757, 48481758), (51550236, 55751890), (56542201, 56542202), (72882541, 72882542), (14660324, 87497438), (10669924, 10669925), (41294584, 41294585), (33765288, 33765289), (71353257, 72136412), (70844535, 70844536), (22136754, 37551004), (413558, 116548), (2247301, 9950467), (1058052, 70772170), (565422, 20470851), (724163, 88207621), (15686464, 24826114), (587908, 587909), (33402238, 33402239), (8011013, 20426514), (70369806, 94146918), (31665275, 104675315), (54426455, 54426456), (430935, 114399458), (15592527, 20434492), (8234987, 115276818), (3283825, 20488216), (69480788, 69480789), (21022447, 24593653), (41135529, 76749801), (3281227, 20475048), (56575562, 56575563), (50214757, 50214758), (77160746, 77160747), (3577373, 3609471), (53545646, 53545647), (76106026, 76262768), (4085769, 4085771), (17406542, 17406543), (117595287, 117595289), (109982962, 109982963), (14100924, 14100925), (70722135, 70722136), (387725, 20491958), (10190801, 10190802), (14684956, 14684957), (497538, 212412), (23943907, 59072249), (24593377, 24593378), (14523892, 14523893), (26412706, 26412707), (576158, 87495949), (111582626, 111582628), (10669577, 10669578), (22367423, 59005374), (113583666, 113583669), (548212, 272396), (105278809, 105278810), (32314535, 34747302), (15592528, 15592531), (644149, 24825210), (5995385, 5995387), (477659, 188098), (11491784, 11491785), (15867080, 15867081), (107059011, 107059012), (11371237, 20460938), (53720985, 54138841), (115482831, 115482832), (10738152, 20488984), (5745743, 20477853), (10707066, 56273931), (48481757, 48481758), (51550236, 55751890), (56542201, 56542202), (72882541, 72882542), (14660324, 87497438), (10669924, 10669925), (41294584, 41294585), (33765288, 33765289), (71353257, 72136412), (70844535, 70844536), (22136754, 37551004), (413558, 116548), (2247301, 9950467), (1058052, 70772170), (565422, 20470851), (724163, 88207621), (15686464, 24826114), (587908, 587909), (33402238, 33402239), (8011013, 20426514), (70369806, 94146918), (31665275, 104675315), (54426455, 54426456), (430935, 114399458), (15592527, 20434492), (8234987, 115276818), (3283825, 20488216), (69480788, 69480789), (21022447, 24593653), (41135529, 76749801), (3281227, 20475048), (56575562, 56575563), (50214757, 50214758), (77160746, 77160747), (3577373, 3609471), (53545646, 53545647), (76106026, 76262768), (4085769, 4085771), (17406542, 17406543), (117595287, 117595289), (109982962, 109982963), (14100924, 14100925), (70722135, 70722136), (387725, 20491958), (10190801, 10190802), (14684956, 14684957), (497538, 212412), (23943907, 59072249), (24593377, 24593378), (14523892, 14523893), (26412706, 26412707), (576158, 87495949), (111582626, 111582628), (10669577, 10669578), (22367423, 59005374), (113583666, 113583669), (548212, 272396), (105278809, 105278810), (32314535, 34747302), (15592528, 15592531), (644149, 24825210), (5995385, 5995387), (477659, 188098), (11491784, 11491785), (15867080, 15867081), (107059011, 107059012), (11371237, 20460938), (53720985, 54138841), (115482831, 115482832), (10738152, 20488984), (5745743, 20477853), (10707066, 56273931), (48481757, 48481758), (51550236, 55751890), (56542201, 56542202), (72882541, 72882542), (14660324, 87497438), (10669924, 10669925), (41294584, 41294585), (33765288, 33765289), (71353257, 72136412), (70844535, 70844536), (22136754, 37551004), (413558, 116548), (2247301, 9950467), (1058052, 70772170), (565422, 20470851), (724163, 88207621), (15686464, 24826114), (587908, 587909), (33402238, 33402239), (8011013, 20426514), (70369806, 94146918), (31665275, 104675315), (54426455, 54426456), (430935, 114399458), (15592527, 20434492), (8234987, 115276818), (3283825, 20488216), (69480788, 69480789), (21022447, 24593653), (41135529, 76749801), (3281227, 20475048), (56575562, 56575563), (50214757, 50214758), (77160746, 77160747), (3577373, 3609471), (53545646, 53545647), (76106026, 76262768), (4085769, 4085771), (17406542, 17406543), (117595287, 117595289), (109982962, 109982963), (14100924, 14100925), (70722135, 70722136), (387725, 20491958), (10190801, 10190802), (14684956, 14684957), (497538, 212412), (23943907, 59072249), (24593377, 24593378), (14523892, 14523893), (26412706, 26412707), (576158, 87495949), (111582626, 111582628), (10669577, 10669578), (22367423, 59005374), (113583666, 113583669), (548212, 272396), (105278809, 105278810), (32314535, 34747302), (15592528, 15592531), (644149, 24825210), (5995385, 5995387), (477659, 188098), (11491784, 11491785), (15867080, 15867081), (107059011, 107059012), (11371237, 20460938), (53720985, 54138841), (115482831, 115482832), (10738152, 20488984), (5745743, 20477853), (10707066, 56273931), (48481757, 48481758), (51550236, 55751890), (56542201, 56542202), (72882541, 72882542), (14660324, 87497438), (10669924, 10669925), (41294584, 41294585), (33765288, 33765289), (71353257, 72136412), (70844535, 70844536), (22136754, 37551004), (413558, 116548), (2247301, 9950467), (1058052, 70772170), (565422, 20470851), (724163, 88207621), (15686464, 24826114), (587908, 587909), (33402238, 33402239), (8011013, 20426514), (70369806, 94146918), (31665275, 104675315), (54426455, 54426456), (430935, 114399458), (15592527, 20434492), (8234987, 115276818), (3283825, 20488216), (69480788, 69480789), (21022447, 24593653), (41135529, 76749801), (3281227, 20475048), (56575562, 56575563), (50214757, 50214758), (77160746, 77160747), (3577373, 3609471), (53545646, 53545647), (76106026, 76262768), (4085769, 4085771), (17406542, 17406543), (117595287, 117595289), (109982962, 109982963), (14100924, 14100925), (70722135, 70722136), (387725, 20491958), (10190801, 10190802), (14684956, 14684957), (497538, 212412), (23943907, 59072249), (24593377, 24593378), (14523892, 14523893), (26412706, 26412707), (576158, 87495949), (111582626, 111582628), (10669577, 10669578), (22367423, 59005374), (113583666, 113583669), (548212, 272396), (105278809, 105278810), (32314535, 34747302), (15592528, 15592531), (644149, 24825210), (5995385, 5995387), (477659, 188098), (11491784, 11491785), (15867080, 15867081), (107059011, 107059012), (11371237, 20460938), (53720985, 54138841), (115482831, 115482832), (10738152, 20488984), (5745743, 20477853), (10707066, 56273931), (48481757, 48481758), (51550236, 55751890), (56542201, 56542202), (72882541, 72882542), (14660324, 87497438), (10669924, 10669925), (41294584, 41294585), (33765288, 33765289), (71353257, 72136412), (70844535, 70844536), (22136754, 37551004), (413558, 116548), (2247301, 9950467), (1058052, 70772170), (565422, 20470851), (724163, 88207621), (15686464, 24826114), (587908, 587909), (33402238, 33402239), (8011013, 20426514), (70369806, 94146918), (31665275, 104675315), (54426455, 54426456), (430935, 114399458), (15592527, 20434492), (8234987, 115276818), (3283825, 20488216), (69480788, 69480789), (21022447, 24593653), (41135529, 76749801), (3281227, 20475048), (56575562, 56575563), (50214757, 50214758)]\n"
     ]
    }
   ],
   "source": [
    "t = Crawler(_split[-1][1:],_split[-2],'Chăm sóc sức khỏe')\n",
    "print(t._bookshelf())\n",
    "# t._books((114571877, 114571925))\n",
    "# t.crawl()"
   ]
  },
  {
   "cell_type": "code",
   "execution_count": null,
   "id": "bff8199c",
   "metadata": {},
   "outputs": [],
   "source": [
    "t = Crawler(_split[-1][1:],_split[-2],'Chăm sóc sức khỏe')\n",
    "t._books((352665,37551012))"
   ]
  },
  {
   "cell_type": "code",
   "execution_count": 7,
   "id": "11f2912c",
   "metadata": {},
   "outputs": [],
   "source": [
    "_url = \"https://tiki.vn/api/v2/products?limit=48&include=advertisement&aggregations=1&trackity_id=c0a5b178-9ff2-3eaa-d2c2-ce87bba5db01&q=Ph%C6%B0%C6%A1ng+%C4%90%C3%B4ng+L%C6%B0%E1%BB%9Bt+Ngo%C3%A0i+C%E1%BB%ADa+S%E1%BB%95&page={}\"\n",
    "\n",
    "payload={}\n",
    "headers = {\n",
    "  'authority': 'tiki.vn',\n",
    "  'pragma': 'no-cache',\n",
    "  'cache-control': 'no-cache',\n",
    "  'sec-ch-ua': '\"Chromium\";v=\"94\", \"Google Chrome\";v=\"94\", \";Not A Brand\";v=\"99\"',\n",
    "  'accept': 'application/json, text/plain, */*',\n",
    "  'x-guest-token': 'O6ACamf8DJlu4ERthrPyLeH0cid1wKxv',\n",
    "  'sec-ch-ua-mobile': '?0',\n",
    "  'user-agent': 'Mozilla/5.0 (Windows NT 10.0; Win64; x64) AppleWebKit/537.36 (KHTML, like Gecko) Chrome/94.0.4606.81 Safari/537.36',\n",
    "  'sec-ch-ua-platform': '\"Windows\"',\n",
    "  'sec-fetch-site': 'same-origin',\n",
    "  'sec-fetch-mode': 'cors',\n",
    "  'sec-fetch-dest': 'empty',\n",
    "  'referer': 'https://tiki.vn/search?q=Ph%C6%B0%C6%A1ng%20%C4%90%C3%B4ng%20L%C6%B0%E1%BB%9Bt%20Ngo%C3%A0i%20C%E1%BB%ADa%20S%E1%BB%95',\n",
    "  'accept-language': 'vi,en-US;q=0.9,en;q=0.8,vi-VN;q=0.7'\n",
    "}\n",
    "\n"
   ]
  },
  {
   "cell_type": "code",
   "execution_count": 8,
   "id": "e616cfb1",
   "metadata": {},
   "outputs": [],
   "source": [
    "_bookshelf = []\n",
    "_res = requests.request(\"GET\", _url.format(1), headers=headers).json()\n",
    "_total = _res['paging']['last_page']+1\n",
    "\n",
    "for _ in range(_total):\n",
    "    _ +=1\n",
    "    _res = requests.request(\"GET\", _url.format(_), headers=headers).json()\n",
    "    for data in _res['data']:\n",
    "        _bookshelf.append( (data['id'],data['seller_product_id']) )"
   ]
  },
  {
   "cell_type": "code",
   "execution_count": 68,
   "id": "ba56a94d",
   "metadata": {},
   "outputs": [
    {
     "name": "stdout",
     "output_type": "stream",
     "text": [
      "hanh-trinh-ve-phuong-dong-kho-nho-tai-ban-2020-p53599268.html?spid=57702468\n",
      "{'path': 'hanh-trinh-ve-phuong-dong-kho-nho-tai-ban-2020-p53599268.html?spid=57702468', 'Tên Sách': 'Hành Trình Về Phương Đông (Khổ Nhỏ) - Tái Bản 2020', 'Ảnh bìa': 'https://salt.tikicdn.com/cache/280x280/ts/product/d3/dd/8a/a57562e7033338eb034baa2057eb6d55.jpg', 'Công ty phát hành': 'First News - Trí Việt', 'Nhà xuất bản': 'Nhà Xuất Bản Thế Giới', 'Tác giả': 'Nguyên Phong,Nguyễn Phong', 'Thể loại': 'Chăm sóc sức khỏe', 'Giá bìa': 54900, 'Nội dung tóm tắt': 'Hành Trình Về Phương Đông (Khổ Nhỏ) Tái Bản 2020Hành Trình Về Phương Đông kể về những trải nghiệm của một đoàn khoa học gồm các chuyên gia hàng đầu của Hội Khoa Học Hoàng Gia Anh được cử sang Ấn Độ n...'}\n",
      "Number of products in my pocket 1\n",
      "phuong-dong-luot-ngoai-cua-so-tai-ban-2019-p14100924.html?spid=14100925\n",
      "{'path': 'phuong-dong-luot-ngoai-cua-so-tai-ban-2019-p14100924.html?spid=14100925', 'Tên Sách': 'Phương Đông Lướt Ngoài Cửa Sổ (Tái Bản 2019)', 'Ảnh bìa': 'https://salt.tikicdn.com/cache/280x280/ts/product/26/75/69/1c95ba52c9cee5a7e38adb0d82570742.jpg', 'Công ty phát hành': 'Nhã Nam', 'Ngày xuất bản': '2019-10-04 00:00:00', 'Kích thước': '14 x 20.5 cm', 'Loại bìa': 'Bìa mềm', 'Số trang': '548', 'Tác giả': 'Paul Theroux', 'Thể loại': 'Chăm sóc sức khỏe', 'Giá bìa': 102600, 'Nội dung tóm tắt': 'Phương Đông Lướt Ngoài Cửa Sổ là chặng hành trình xuyên Châu Á của Paul Theroux vào năm 1973 và đến rất nhiều năm sau này, chặng hàng trình ấy vẫn đang được hàng triệu bạn đọc trên thế giới biết đến v...'}\n",
      "Number of products in my pocket 2\n",
      "phuong-dong-luot-ngoai-cua-so-tai-ban-2017-p596667.html?spid=37551014\n",
      "{'path': 'phuong-dong-luot-ngoai-cua-so-tai-ban-2017-p596667.html?spid=37551014', 'Tên Sách': 'Phương Đông Lướt Ngoài Cửa Sổ (Tái Bản 2017)', 'Ảnh bìa': 'https://salt.tikicdn.com/cache/280x280/media/catalog/product/p/h/phuong-dong-luot-ngoai-cua-so.u4972.d20170329.t101419.865906.jpg', 'Công ty phát hành': 'Nhã Nam', 'Ngày xuất bản': '2017-03-01 00:00:00', 'Kích thước': '14.5 x 20.5', 'Số trang': '543', 'Tác giả': 'Paul Theroux', 'Thể loại': 'Chăm sóc sức khỏe', 'Giá bìa': 122500, 'Nội dung tóm tắt': 'Phương Đông Lướt Ngoài Cửa Sổ (Tái Bản 2017) Phương Đông Lướt Ngoài Cửa Sổ là chặng hành trình xuyên Châu Á của Paul Theroux vào năm 1973 và đến rất nhiều năm sau này, chặng hàng trình ấy vẫn đang đư...'}\n",
      "Number of products in my pocket 3\n",
      "combo-2-cuon-phuong-dong-luot-ngoai-cua-so-hanh-trinh-ve-phuong-dong-tang-kem-bookmark-p15729765.html?spid=15729766\n",
      "{'path': 'combo-2-cuon-phuong-dong-luot-ngoai-cua-so-hanh-trinh-ve-phuong-dong-tang-kem-bookmark-p15729765.html?spid=15729766', 'Tên Sách': 'Combo 2 cuốn Phương Đông Lướt Ngoài Cửa Sổ + Hành Trình Về Phương Đông ( Tặng kèm bookmark)', 'Ảnh bìa': 'https://salt.tikicdn.com/cache/280x280/ts/product/23/2a/65/e5f0dcf486905e7f6800ff03a7e99088.jpg', 'Công ty phát hành': 'Nhã Nam', 'Loại bìa': 'Bìa mềm', 'Tác giả': 'Nhiều Tác Giả', 'Thể loại': 'Chăm sóc sức khỏe', 'Giá bìa': 203000, 'Nội dung tóm tắt': 'Phương Đông Lướt Ngoài Cửa Sổ (Tái Bản 2017)Phương Đông Lướt Ngoài Cửa Sổ là chặng hành trình xuyên Châu Á của Paul Theroux vào năm 1973 và đến rất nhiều năm sau này, chặng hàng trình ấy vẫn đang đượ...'}\n",
      "Number of products in my pocket 4\n",
      "so-ghi-chep-khau-gay-a5-hinh-chu-deli-40-trang-70g-1-quyen-nhieu-mau-fa540-n07-p114571877.html?spid=114571925\n",
      "{'path': 'so-ghi-chep-khau-gay-a5-hinh-chu-deli-40-trang-70g-1-quyen-nhieu-mau-fa540-n07-p114571877.html?spid=114571925', 'Tên Sách': 'Sổ tay ghi chép khâu gáy A5 hình chữ Deli 40 trang 70g - 1 quyển - Nhiều màu - Phù hợp làm sổ kế hoach planner, viết nhật kí, sử dụng như tập vở học sinh - FA540-N07', 'Ảnh bìa': 'https://salt.tikicdn.com/cache/280x280/ts/product/5c/3a/ce/e648660f77ad538993f1ff9e7ec2ab18.jpg', 'Thương hiệu': 'Deli', 'Xuất xứ': 'Trung Quốc', 'Số trang': '40', 'Xuất xứ thương hiệu': 'Trung Quốc', 'Tác giả': '', 'Thể loại': 'Chăm sóc sức khỏe', 'Giá bìa': 11000, 'Nội dung tóm tắt': 'TÍNH NĂNG SẢN PHẨM:️Sổ tay ghi chép khâu gáy được sử dụng với mục đích ghi chép, vẽ phác thảo cho học sinh, người đi làm.️Sổ thiết kế bìa mỏng, nhẹ nhàng.️Chất lượng giấy đạt tiêu chuẩn chống lóa, bảo...'}\n",
      "Number of products in my pocket 5\n",
      "combo-sach-van-hoc-hay-phuong-dong-luot-ngoai-cua-so-tren-duong-tang-kem-postcard-greenlife-p22136754.html?spid=22136755\n",
      "{'path': 'combo-sach-van-hoc-hay-phuong-dong-luot-ngoai-cua-so-tren-duong-tang-kem-postcard-greenlife-p22136754.html?spid=22136755', 'Tên Sách': 'Combo Sách Văn Học Hay:  Phương Đông Lướt Ngoài Cửa Sổ + Trên Đường - (Tặng Kèm Postcard Greenlife)', 'Ảnh bìa': 'https://salt.tikicdn.com/cache/280x280/ts/product/6c/0b/be/f4711feeed7d0adde1ba7a945024455f.jpg', 'Công ty phát hành': 'Nhã Nam', 'Kích thước': '\\xa0\\n\\n\\n\\n14 x 20.5 cm\\n\\n\\n', 'Loại bìa': 'Bìa mềm', 'Tác giả': 'Nhiều Tác Giả', 'Thể loại': 'Chăm sóc sức khỏe', 'Giá bìa': 220850, 'Nội dung tóm tắt': 'Combo Sách Văn Học Hay:  Phương Đông Lướt Ngoài Cửa Sổ + Trên Đường - (Tặng Kèm Postcard Greenlife)\"Đi một ngày đàng học một sàng khôn\" càng đi nhiều bạn sẽ càng học được nhiều điều từ cuộc sống ban ...'}\n",
      "Number of products in my pocket 6\n",
      "combo-sach-hay-phuong-dong-luot-ngoai-cua-so-tai-ban-2019-hanh-trinh-ve-phuong-dong-tai-ban-tang-kem-postcard-greenlife-aha-p15734744.html?spid=15734745\n",
      "{'path': 'combo-sach-hay-phuong-dong-luot-ngoai-cua-so-tai-ban-2019-hanh-trinh-ve-phuong-dong-tai-ban-tang-kem-postcard-greenlife-aha-p15734744.html?spid=15734745', 'Tên Sách': 'Combo Sách Hay: Phương Đông Lướt Ngoài Cửa Sổ (Tái Bản 2019) + Hành Trình Về Phương Đông (Tái Bản) - Tặng kèm Postcard GreenLife (AHA)  ', 'Ảnh bìa': 'https://salt.tikicdn.com/cache/280x280/ts/product/f0/61/c2/2dd96264b5549bccd8de3c1caa8b54bd.jpg', 'Công ty phát hành': 'Nhã Nam', 'Loại bìa': 'Bìa mềm', 'Tác giả': 'Paul Theroux,Baird T. Spalding', 'Thể loại': 'Chăm sóc sức khỏe', 'Giá bìa': 218000, 'Nội dung tóm tắt': 'Combo Sách Hay: Phương Đông Lướt Ngoài Cửa Sổ (Tái Bản 2019) + Hành Trình Về Phương Đông (Tái Bản) - Tặng kèm Postcard GreenLife (AHA)  Bộ sách để đời cho những độc giả khao khát được đi, được khám p...'}\n",
      "Number of products in my pocket 7\n",
      "phuong-dong-luot-ngoai-cua-so-p352665.html?spid=37551012\n",
      "{'path': 'phuong-dong-luot-ngoai-cua-so-p352665.html?spid=37551012', 'Tên Sách': 'Phương Đông Lướt Ngoài Cửa Sổ', 'Ảnh bìa': 'https://salt.tikicdn.com/cache/280x280/media/catalog/product/p/h/phuong-dong-luot-ngoai-cua_so.jpg', 'Công ty phát hành': 'Nhã Nam', 'Ngày xuất bản': '2012-09-30 00:00:00', 'Kích thước': '14 x 20.5 cm', 'Loại bìa': 'Bìa mềm', 'Số trang': '548', 'Tác giả': 'Paul Theroux', 'Thể loại': 'Chăm sóc sức khỏe', 'Giá bìa': 107497, 'Nội dung tóm tắt': 'TIKI KHUYÊN ĐỌC ĐÁNH GIÁ TỪ TIKI.VN: Phương Đông Lướt Ngoài Cửa Sổ là chặng hành trình xuyên Châu Á của Paul Theroux vào năm 1973 và đến rất nhiều năm sau này, chặng hàng trình ấy vẫn đang được hàng...'}\n",
      "Number of products in my pocket 8\n",
      "so-tay-ghi-chep-a5-gay-xoan-60-trang-deli-ke-ngang-mau-ngau-nhien-la560-01-p88979638.html?spid=88979640\n",
      "{'path': 'so-tay-ghi-chep-a5-gay-xoan-60-trang-deli-ke-ngang-mau-ngau-nhien-la560-01-p88979638.html?spid=88979640', 'Tên Sách': 'Sổ tay ghi chép A5 gáy xoắn 60 trang Deli - Kẻ ngang - Màu ngẫu nhiên - LA560-01', 'Ảnh bìa': 'https://salt.tikicdn.com/cache/280x280/ts/product/ae/86/84/0456dee7f711c534f38a71bd981e17d1.png', 'Thương hiệu': 'Deli', 'Xuất xứ': 'Trung Quốc', 'Xuất xứ thương hiệu': 'Trung Quốc', 'Tác giả': '', 'Thể loại': 'Chăm sóc sức khỏe', 'Giá bìa': 21000, 'Nội dung tóm tắt': '@   - Ử À ĐỘ Ề Ả Ẩ   Ấ Ạ Ệ SỔ TAY GHI CHÉP A5 GÁY XOẮN 60 TRANGTÍNH NĂNG SẢN PHẨM:️ Sổ được làm bằng chất liệu chống lóa, bảo vệ cho đôi mắt của bạn️ Giấy kẻ ngang thuận tiện cho việc ghi chép thông...'}\n",
      "Number of products in my pocket 9\n"
     ]
    },
    {
     "name": "stdout",
     "output_type": "stream",
     "text": [
      "combo-phuong-dong-luot-ngoai-cua-so-tren-duong-2-cuon-du-ky-dac-sac-tang-kem-bookmark-happy-life-p22142672.html?spid=120492743\n",
      "{'path': 'combo-phuong-dong-luot-ngoai-cua-so-tren-duong-2-cuon-du-ky-dac-sac-tang-kem-bookmark-happy-life-p22142672.html?spid=120492743', 'Tên Sách': 'Combo Phương Đông Lướt Ngoài Cửa Sổ + Trên Đường (2 cuốn Du Ký Đặc Sắc - Tặng kèm bookmark Happy Life) ', 'Ảnh bìa': 'https://salt.tikicdn.com/cache/280x280/ts/product/6c/0b/be/e656434069091f144c42a391647876dd.jpg', 'Công ty phát hành': 'Nhã Nam', 'Loại bìa': 'Bìa mềm', 'Nhà xuất bản': 'Nhà Xuất Bản Văn Học', 'Tác giả': 'Jack Kerouac,Paul Theroux', 'Thể loại': 'Chăm sóc sức khỏe', 'Giá bìa': 234000, 'Nội dung tóm tắt': 'Combo Phương Đông Lướt Ngoài Cửa Sổ + Trên Đường (2 cuốn Du Ký Đặc Sắc - Tặng kèm bookmark Happy Life) Cùng khám phá nước Mỹ và Các nước Châu Á khác thông qua chuyến hành trình xuyên quốc gia qua com...'}\n",
      "Number of products in my pocket 10\n",
      "sach-phuong-dong-luot-ngoai-cua-so-tang-kem-bookmark-thiet-ke-p77221459.html?spid=77221461\n",
      "{'path': 'sach-phuong-dong-luot-ngoai-cua-so-tang-kem-bookmark-thiet-ke-p77221459.html?spid=77221461', 'Tên Sách': 'Sách - Phương Đông Lướt Ngoài Cửa Sổ (tặng kèm bookmark thiết kế)', 'Ảnh bìa': 'https://salt.tikicdn.com/cache/280x280/ts/product/05/92/1a/4430c56573b22658330794158954535e.jpg', 'Công ty phát hành': 'Nhã Nam ', 'Nhà xuất bản': 'Nhà Xuất Bản Thế Giới', 'Tác giả': 'Paul Theroux', 'Thể loại': 'Chăm sóc sức khỏe', 'Giá bìa': 110000, 'Nội dung tóm tắt': '       Tác giả: Paul Theroux   Ngày xuất bản: 03-2017   Kích thước: 14.5 x 20.5   Nhà xuất bản: Nhà Xuất Bản Thế Giới   Số trang: 543   GIỚI THIỆU SÁCH   Phương Đông Lướt Ngoài Cửa Sổ (Tái B...'}\n",
      "Number of products in my pocket 11\n",
      "combo-2-cuon-sach-nao-minh-cung-dap-xe-den-paris-phuong-dong-luot-ngoai-cua-so-p84872231.html?spid=84872232\n",
      "{'path': 'combo-2-cuon-sach-nao-minh-cung-dap-xe-den-paris-phuong-dong-luot-ngoai-cua-so-p84872231.html?spid=84872232', 'Tên Sách': 'Combo 2 cuốn sách: Nào, mình cùng đạp xe đến Paris + Phương Đông lướt ngoài cửa sổ', 'Ảnh bìa': 'https://salt.tikicdn.com/cache/280x280/ts/product/1b/fc/d1/35d178db43cfb9aad4808f9a2314de99.jpg', 'Công ty phát hành': 'Nhã Nam', 'Nhà xuất bản': 'Nhà Xuất Bản Thế Giới', 'Tác giả': '', 'Thể loại': 'Chăm sóc sức khỏe', 'Giá bìa': 178620, 'Nội dung tóm tắt': '1. Nào Mình Cùng Đạp Xe Đến ParisLàm sao có thể đạp xe đến Paris? Có chứ, bởi cô gái ấy đi là để viết cuốn sách đời mình, bởi cô tự nhận mình là một chiến mã khao khát đồng hoang. 291 ngày và 15 ngà...'}\n",
      "Number of products in my pocket 12\n",
      "so-tay-a5-deli-bia-cung-co-the-thay-loi-so-loi-o-vuong-ke-ngang-ha560-na560-p88966027.html?spid=88966031\n",
      "{'path': 'so-tay-a5-deli-bia-cung-co-the-thay-loi-so-loi-o-vuong-ke-ngang-ha560-na560-p88966027.html?spid=88966031', 'Tên Sách': 'Sổ Tay A5 Deli - Bìa Cứng - Có Thể Thay Lõi Sổ - Lõi Ô Vuông/Kẻ Ngang -HA560/NA560', 'Ảnh bìa': 'https://salt.tikicdn.com/cache/280x280/ts/product/94/b1/91/6fff1c8fca77f889ab1e5eedbbfef69c.jpg', 'Thương hiệu': 'Deli', 'Xuất xứ': 'Trung Quốc', 'Xuất xứ thương hiệu': 'Trung Quốc', 'Tác giả': '', 'Thể loại': 'Chăm sóc sức khỏe', 'Giá bìa': 21000, 'Nội dung tóm tắt': '@   - Ử À ĐỘ Ề Ả Ẩ   Ấ Ạ Ệ ổ   ò ắ ốTÍNH NĂNG SẢN PHẨM:️Sổ được sử dụng với nhiều mục đích về văn phòng, học tập, giáo dục. ️Phù hợp cho tất cả mọi đối tượng.️Chất liệu giấy đạt chuẩn chất lượng cao...'}\n",
      "Number of products in my pocket 13\n",
      "combo-tren-duong-phuong-dong-luot-ngoai-cua-so-p10365710.html?spid=10365711\n",
      "{'path': 'combo-tren-duong-phuong-dong-luot-ngoai-cua-so-p10365710.html?spid=10365711', 'Tên Sách': 'Combo Trên Đường + Phương Đông Lướt Ngoài Cửa Sổ', 'Ảnh bìa': 'https://salt.tikicdn.com/cache/280x280/ts/product/f3/fd/27/302b336c0863a3cc59eadee1764220e6.png', 'Công ty phát hành': 'Nhã Nam', 'Ngày xuất bản': '2017-07-20 09:57:15', 'Kích thước': '14 x 20,5 cm', 'Loại bìa': 'Bìa mềm', 'Tác giả': 'Jack Kerouac,Paul Theroux', 'Thể loại': 'Chăm sóc sức khỏe', 'Giá bìa': 224000, 'Nội dung tóm tắt': 'Combo Trên Đường + Phương Đông Lướt Ngoài Cửa SổTrên ĐườngCuộc phiêu lưu xuyên Mỹ của Sal Paradise và Dean Moriarty dựa trên những chuyến đi có thật của Jack Kerouac và Neal Cassady, hai trong s...'}\n",
      "Number of products in my pocket 14\n",
      "combo-2-cuon-sach-gai-phuot-phuong-dong-luot-ngoai-cua-so-p84872223.html?spid=84872226\n",
      "{'path': 'combo-2-cuon-sach-gai-phuot-phuong-dong-luot-ngoai-cua-so-p84872223.html?spid=84872226', 'Tên Sách': 'Combo 2 cuốn sách: Gái Phượt + Phương Đông lướt ngoài cửa sổ', 'Ảnh bìa': 'https://salt.tikicdn.com/cache/280x280/ts/product/3b/d0/f3/2215c23c7514591737bfac2c6cf46dae.jpg', 'Công ty phát hành': 'Nhã Nam', 'Nhà xuất bản': 'Nhà Xuất Bản Thế Giới', 'Tác giả': '', 'Thể loại': 'Chăm sóc sức khỏe', 'Giá bìa': 163020, 'Nội dung tóm tắt': '1. Phương Đông Lướt Ngoài Cửa Sổ là chặng hành trình xuyên Châu Á của Paul Theroux vào năm 1973 và đến rất nhiều năm sau này, chặng hàng trình ấy vẫn đang được hàng triệu bạn đọc trên thế giới biết đ...'}\n",
      "Number of products in my pocket 15\n",
      "bo-2-cuon-sach-hay-ve-phong-su-du-ky-hoang-de-phuong-dong-luot-ngoai-cua-so-p28265386.html?spid=28265387\n",
      "{'path': 'bo-2-cuon-sach-hay-ve-phong-su-du-ky-hoang-de-phuong-dong-luot-ngoai-cua-so-p28265386.html?spid=28265387', 'Tên Sách': 'Bộ 2 cuốn sách hay về phóng sự du ký: Hoàng Đế - Phương Đông Lướt Ngoài Của Sổ', 'Ảnh bìa': 'https://salt.tikicdn.com/cache/280x280/ts/product/91/d6/e7/31e826174dee4d9b68f51a58f15f4fd6.png', 'Công ty phát hành': 'Thái Hà', 'Ngày xuất bản': '2019-01-16 14:55:58', 'Kích thước': '13 x 20.5 cm\\n14 x 20.5 cm', 'Loại bìa': 'Bìa mềm', 'Tác giả': 'Ryszard Kapuściński,Paul Theroux', 'Thể loại': 'Chăm sóc sức khỏe', 'Giá bìa': 177995, 'Nội dung tóm tắt': 'Bộ 2 cuốn sách hay về phóng sự du ký: Hoàng Đế - Phương Đông Lướt Ngoài Của SổHoàng ĐếHoàng Đế là cuốn sách không chỉ mở đầu sự nghiệp quốc tế của phóng sự gia tầm cỡ nhất Ba Lan, mà còn đưa thể...'}\n",
      "Number of products in my pocket 16\n",
      "so-ghi-chep-khau-gay-nhieu-hinh-monster-60-trang-70g-deli-1-quyen-size-a5-nhieu-mau-sac-fa560-n03-p114572063.html?spid=114572085\n",
      "{'path': 'so-ghi-chep-khau-gay-nhieu-hinh-monster-60-trang-70g-deli-1-quyen-size-a5-nhieu-mau-sac-fa560-n03-p114572063.html?spid=114572085', 'Tên Sách': 'Sổ ghi chép khâu gáy nhiều hình quái vật nhỏ đáng yêu Monster 60 trang 70gsm Deli - 1 quyển - Phù hợp làm sổ kế hoach planner, viết nhật kí, sử dụng như tập vở học sinh - Size A5 nhiều màu sắc - FA560-N03', 'Ảnh bìa': 'https://salt.tikicdn.com/cache/280x280/ts/product/1f/57/17/7277fd59acc4964ad37847c57321f847.jpg', 'Thương hiệu': 'Deli', 'Xuất xứ': 'Trung Quốc', 'Số trang': '60', 'Xuất xứ thương hiệu': 'Trung Quốc', 'Tác giả': '', 'Thể loại': 'Chăm sóc sức khỏe', 'Giá bìa': 16000, 'Nội dung tóm tắt': 'TÍNH NĂNG SẢN PHẨM:️Sổ tay ghi chép khâu gáy được sử dụng với mục đích ghi chép, vẽ phác thảo cho học sinh, người đi làm.️Sổ thiết kế bìa mỏng, nhẹ nhàng.️Chất lượng giấy đạt tiêu chuẩn chống lóa, bảo...'}\n",
      "Number of products in my pocket 17\n",
      "combo-2-cuon-sach-dep-trai-khong-ngai-di-my-phuong-dong-luot-ngoai-cua-so-p84872255.html?spid=84872256\n",
      "{'path': 'combo-2-cuon-sach-dep-trai-khong-ngai-di-my-phuong-dong-luot-ngoai-cua-so-p84872255.html?spid=84872256', 'Tên Sách': 'Combo 2 cuốn sách: Đẹp trại không ngại đi mỹ + Phương Đông lướt ngoài cửa sổ', 'Ảnh bìa': 'https://salt.tikicdn.com/cache/280x280/ts/product/0c/ba/77/9a68e6a61ef4533cade049189bdf658a.jpg', 'Công ty phát hành': 'Nhã Nam', 'Nhà xuất bản': 'Nhà Xuất Bản Thế Giới', 'Tác giả': '', 'Thể loại': 'Chăm sóc sức khỏe', 'Giá bìa': 163800, 'Nội dung tóm tắt': '1. Phương Đông Lướt Ngoài Cửa Sổ là chặng hành trình xuyên Châu Á của Paul Theroux vào năm 1973 và đến rất nhiều năm sau này, chặng hàng trình ấy vẫn đang được hàng triệu bạn đọc trên thế giới biết đ...'}\n"
     ]
    },
    {
     "name": "stdout",
     "output_type": "stream",
     "text": [
      "Number of products in my pocket 18\n",
      "va-tuyet-da-roi-ngoai-cua-so-du-ky-p576158.html?spid=77576459\n",
      "{'path': 'va-tuyet-da-roi-ngoai-cua-so-du-ky-p576158.html?spid=77576459', 'Tên Sách': 'Và Tuyết Đã Rơi Ngoài Cửa Sổ (Du Ký)', 'Ảnh bìa': 'https://salt.tikicdn.com/cache/280x280/media/catalog/product/f/i/file-in-fim-va-tuyet-da-roi-ngoai-cua-so.u547.d20170222.t113824.382606.jpg', 'Công ty phát hành': 'Liên Việt', 'Ngày xuất bản': '2017-02-22 00:00:00', 'Kích thước': '13.5 x 20.5 cm ', 'Loại bìa': 'Bìa mềm', 'Số trang': '278', 'Nhà xuất bản': 'Nhà Xuất Bản Hội Nhà Văn', 'Tác giả': 'Dili', 'Thể loại': 'Chăm sóc sức khỏe', 'Giá bìa': 60200, 'Nội dung tóm tắt': 'Và Tuyết Đã Rơi Ngoài Cửa Sổ (Du Ký) \"Và tuyết đã rơi ngoài cửa sổ\" là những câu chuyện trải dài từ Doha, Vũ Di Sơn, Lệ Giang, Cao Hùng, Tam Giác Vàng, Yangon, Daegu, Seoul, Kota Kinabalu cho đến Hee...'}\n",
      "Number of products in my pocket 19\n",
      "nang-ngoai-o-cua-so-p29348712.html?spid=29348713\n",
      "{'path': 'nang-ngoai-o-cua-so-p29348712.html?spid=29348713', 'Tên Sách': 'Nắng Ngoài Ô Cửa Sổ', 'Ảnh bìa': 'https://salt.tikicdn.com/cache/280x280/ts/product/42/b8/86/5b99bfd32758aeb9363f0d0732068893.jpg', 'Công ty phát hành': 'NXB Văn Hoá Văn Nghệ', 'Tác giả': 'Trần Ngọc Mỹ', 'Thể loại': 'Chăm sóc sức khỏe', 'Giá bìa': 80360, 'Nội dung tóm tắt': 'Một số trích đoạn:   (1) – Nhịp tim của con chị đấy, chị nghe thấy chưa ạ?   Lời nữ hộ sinh cắt ngang dòng suy nghĩ của Hằng. Hằng khẽ gật đầu. Ừ, thiên thần bé nhỏ của Hằng đấy. Ai bảo Hằng ch...'}\n",
      "Number of products in my pocket 20\n",
      "hanh-trinh-ve-phuong-dong-bia-cung-p787753.html?spid=787755\n",
      "{'path': 'hanh-trinh-ve-phuong-dong-bia-cung-p787753.html?spid=787755', 'Tên Sách': 'Hành Trình Về Phương Đông (Bìa Cứng)', 'Ảnh bìa': 'https://salt.tikicdn.com/cache/280x280/media/catalog/product/x/d/xdsxfvgdg.u3059.d20171009.t113449.756666.jpg', 'Công ty phát hành': 'First News - Trí Việt', 'Ngày xuất bản': '2017-10-06 00:00:00', 'Kích thước': '16 x 24 cm', 'Dịch Giả': 'Nguyên Phong', 'Loại bìa': 'Bìa cứng', 'Số trang': '206', 'Tác giả': 'Baird T. Spalding', 'Thể loại': 'Chăm sóc sức khỏe', 'Giá bìa': 90800, 'Nội dung tóm tắt': 'Hành Trình Về Phương Đông “Hành trình về phương Đông” kể về những trải nghiệm của một đoàn khoa học gồm các chuyên gia hàng đầu của Hội Khoa Học Hoàng Gia Anh được cử sang Ấn Độ nghiên cứu về huyền h...'}\n",
      "Number of products in my pocket 21\n",
      "cua-so-phia-dong-p4476285.html?spid=4477421\n",
      "{'path': 'cua-so-phia-dong-p4476285.html?spid=4477421', 'Tên Sách': 'Cửa Sổ Phía Đông', 'Ảnh bìa': 'https://salt.tikicdn.com/cache/280x280/ts/product/92/69/2f/e19d23031ab33245347a1fc0f1488ffb.jpg', 'Công ty phát hành': 'NXB Trẻ', 'Ngày xuất bản': '2018-01-09 00:00:00', 'Kích thước': '14 x 20 cm', 'Loại bìa': 'Bìa mềm', 'Số trang': '240', 'Tác giả': 'Nguyễn Thị Kim Hòa', 'Thể loại': 'Chăm sóc sức khỏe', 'Giá bìa': 54800, 'Nội dung tóm tắt': 'Câu chuyện về hành trình tìm lại ký ức sau khi bị xóa bỏ của một cô gái, từ đó mở ra biết bao bi kịch của những số phận xung quanh cô ấy. Tất cả đều mang nỗi đau chiến tranh theo nhiều cách khác nhau....'}\n",
      "Number of products in my pocket 22\n",
      "combo-van-minh-dong-phuong-va-tay-phuong-va-tu-sach-triet-hoc-phuong-dong-tinh-hoa-dao-hoc-dong-phuong-tang-kem-so-tay-p16230836.html?spid=89423800\n",
      "{'path': 'combo-van-minh-dong-phuong-va-tay-phuong-va-tu-sach-triet-hoc-phuong-dong-tinh-hoa-dao-hoc-dong-phuong-tang-kem-so-tay-p16230836.html?spid=89423800', 'Tên Sách': 'Combo  Văn Minh Đông Phương Và Tây Phương và Tủ Sách Triết Học Phương Đông - Tinh Hoa Đạo Học Đông Phương ( Tặng Kèm Sổ Tay )', 'Ảnh bìa': 'https://salt.tikicdn.com/cache/280x280/ts/product/49/4c/35/3f6f289156bfafabdaca6989d47cf7df.jpg', 'Công ty phát hành': 'NXB Trẻ', 'Ngày xuất bản': '2019-01-01 16:26:03', 'Kích thước': '13 x 19 cm\\n13 x 19 cm', 'Loại bìa': 'Bìa mềm', 'Số trang': '288', 'Nhà xuất bản': 'NXB Trẻ', 'Tác giả': 'Thu Giang Nguyễn Duy Cần,Thu Giang, Nguyễn Duy Cần', 'Thể loại': 'Chăm sóc sức khỏe', 'Giá bìa': 80750, 'Nội dung tóm tắt': 'Combo Văn Minh Đông Phương Và Tây Phương và Tủ Sách Triết Học Phương Đông - Tinh Hoa Đạo Học Đông Phương ( Tặng Kèm Sổ Tay )Bản đặc biệt tặng kèm sổ tay, mẫu ngẫu nhiên và số lượng có hạn.Văn Minh Đ...'}\n",
      "Number of products in my pocket 23\n",
      "ba-tao-bay-ra-ngoai-cua-so-va-9-truyen-ngan-khac-p76479240.html?spid=76479241\n",
      "{'path': 'ba-tao-bay-ra-ngoai-cua-so-va-9-truyen-ngan-khac-p76479240.html?spid=76479241', 'Tên Sách': 'Ba Tao Bay Ra Ngoài Cửa Sổ Và 9 Truyện Ngắn Khác', 'Ảnh bìa': 'https://salt.tikicdn.com/cache/280x280/ts/product/0f/ff/6f/de1b1d0e76f1b4a13be8be669b7c632a.jpg', 'Công ty phát hành': 'Hội Nhà Văn', 'Ngày xuất bản': '2019-12-09 07:42:29', 'Phiên bản': 'Thường', 'Loại bìa': 'Bìa mềm', 'Số trang': '204', 'Nhà xuất bản': 'Nhà Xuất Bản Hội Nhà Văn', 'Tác giả': '', 'Thể loại': 'Chăm sóc sức khỏe', 'Giá bìa': 161500, 'Nội dung tóm tắt': 'Tập truyện ngắn mới ra lò của nhà văn Trần Nhã Thụy: “Ba tao bay ra ngoài cửa sổ & 9 truyện ngắn khác”. NXB Hội Nhà văn, 2020. Sách gồm 10 truyện ngắn viết trong khoảng 10 năm: 2009-2019. Tên cá...'}\n",
      "Number of products in my pocket 24\n",
      "so-tay-ghi-chep-a5-bia-da-pu-deli-112-trang-mau-cam-vang-1-quyen-3183-p88974369.html?spid=88974371\n",
      "{'path': 'so-tay-ghi-chep-a5-bia-da-pu-deli-112-trang-mau-cam-vang-1-quyen-3183-p88974369.html?spid=88974371', 'Tên Sách': 'Sổ tay ghi chép A5 bìa da PU Deli 112 trang - Màu Cam/Vàng - 1 quyển - 3183', 'Ảnh bìa': 'https://salt.tikicdn.com/cache/280x280/ts/product/33/a1/6e/447f33c2b7d04ae97bc39c10676f297f.png', 'Thương hiệu': 'Deli', 'Xuất xứ': 'Trung Quốc', 'Xuất xứ thương hiệu': 'Trung Quốc', 'Tác giả': '', 'Thể loại': 'Chăm sóc sức khỏe', 'Giá bìa': 125000, 'Nội dung tóm tắt': '@   - Ử À ĐỘ Ề Ả Ẩ   Ấ Ạ Ệ ổ ì  ổ   TÍNH NĂNG SẢN PHẨM: ️Sổ tay được thiết kế với màu sắc nổi bật, trẻ trung. Phù hợp với mọi mục đích sử dụng trong việc ghi chép, vẽ phác thảo. ️Bìa mặt da sổ PU cao...'}\n",
      "Number of products in my pocket 25\n",
      "nhung-canh-cua-so-deu-mo-p716232.html?spid=716234\n",
      "{'path': 'nhung-canh-cua-so-deu-mo-p716232.html?spid=716234', 'Tên Sách': 'Những Cánh Cửa Sổ Đều Mở', 'Ảnh bìa': 'https://salt.tikicdn.com/cache/280x280/media/catalog/product/n/x/nxbtre_full_11212017_092104.u5426.d20170712.t104443.599851.jpg', 'Công ty phát hành': 'NXB Trẻ', 'Ngày xuất bản': '2017-07-01 00:00:00', 'Kích thước': '13 x 20 cm', 'Loại bìa': 'Bìa mềm', 'Số trang': '192', 'Tác giả': 'Tiểu Quyên', 'Thể loại': 'Chăm sóc sức khỏe', 'Giá bìa': 43200, 'Nội dung tóm tắt': 'Những Cánh Cửa Đều Mở là tập tạp văn thứ hai (sau Nửa đêm nằm nhớ, Nhà xuất bản Trẻ, phát hành tháng 3/2016) tôi muốn gửi đến bạn đọc. Và cũng có thể là cuốn sách sau cùng tôi viết cho thể loại này. M...'}\n",
      "Number of products in my pocket 26\n",
      "combo-nghe-thuat-songs-ba-nguoi-thay-vi-dai-nha-gia-kim-va-hanh-trinh-ve-phuong-dong-tang-so-tay-vadata-p15125287.html?spid=15125288\n",
      "{'path': 'combo-nghe-thuat-songs-ba-nguoi-thay-vi-dai-nha-gia-kim-va-hanh-trinh-ve-phuong-dong-tang-so-tay-vadata-p15125287.html?spid=15125288', 'Tên Sách': 'Combo nghệ thuật sôngs: Ba người thầy vĩ đại, nhà giả kim và hành trình về phương đông tặng sổ tay vadata', 'Ảnh bìa': 'https://salt.tikicdn.com/cache/280x280/ts/product/79/2c/0f/42bc8aca2bf54db360f7a7e92edaa3a9.jpg', 'Công ty phát hành': 'Nhiều công ty phát hành', 'Tác giả': '', 'Thể loại': 'Chăm sóc sức khỏe', 'Giá bìa': 211000, 'Nội dung tóm tắt': 'Ba Người Thầy Vĩ Đại“Tôi đã nếm trải nhiều thất bại trong hành trình đi qua những tháng ngày của mình. Thế nhưng, mỗi chướng ngại cuối cùng đều lại chính là một bàn đạp đưa tôi gần hơn nữa tới chân ...'}\n",
      "Number of products in my pocket 27\n",
      "totto-chan-ben-cua-so-tai-ban-p8885999.html?spid=8886000\n",
      "{'path': 'totto-chan-ben-cua-so-tai-ban-p8885999.html?spid=8886000', 'Tên Sách': 'Totto - Chan Bên Cửa Sổ (Tái Bản)', 'Ảnh bìa': 'https://salt.tikicdn.com/cache/280x280/ts/product/44/a9/b6/d0338c88f2001ed1ebcc71cc02eb20fd.jpg', 'Công ty phát hành': 'Nhã Nam', 'Ngày xuất bản': '2018-12-01 00:00:00', 'Kích thước': '14 x 19 cm', 'Dịch Giả': 'Trương Thùy Lan', 'Loại bìa': 'Bìa mềm', 'Tác giả': 'Kuroyanagi Tetsuko', 'Thể loại': 'Chăm sóc sức khỏe', 'Giá bìa': 73100, 'Nội dung tóm tắt': 'Không còn cách nào khác, mẹ đành đưa Totto-chan đến một ngôi trường mới, trường Tomoe. Đấy là một ngôi trường kỳ lạ, lớp học thì ở trong toa xe điện cũ, học sinh thì được thoả thích thay đổi chỗ ngồi ...'}\n",
      "Number of products in my pocket 28\n"
     ]
    },
    {
     "name": "stdout",
     "output_type": "stream",
     "text": [
      "so-tay-ghi-chep-60-trang-gay-lo-xo-a5-deli-xanh-duong-hong-vang-xanh-la-qha560-p88973339.html?spid=119029012\n",
      "{'path': 'so-tay-ghi-chep-60-trang-gay-lo-xo-a5-deli-xanh-duong-hong-vang-xanh-la-qha560-p88973339.html?spid=119029012', 'Tên Sách': 'Sổ Tay Ghi Chép 60 Trang Gáy Lò Xo A5 Deli - Xanh Dương/Hồng/Vàng/Xanh Lá - QHA560', 'Ảnh bìa': 'https://salt.tikicdn.com/cache/280x280/ts/product/41/52/60/fc81f63db1f1d270555b106c08dc1150.png', 'Thương hiệu': 'Deli', 'Xuất xứ': 'Trung Quốc', 'Xuất xứ thương hiệu': 'Trung Quốc', 'Tác giả': '', 'Thể loại': 'Chăm sóc sức khỏe', 'Giá bìa': 99000, 'Nội dung tóm tắt': '@   - Ử À ĐỘ Ề Ả Ẩ   Ấ Ạ Ệ ổ   é   á ò   TÍNH NĂNG SẢN PHẨM:️Sổ tay được thiết kế các màu tông nhẹ nhàng, trong suốt. ️Sổ gáy xoắn có thể xoay được các trang, đặc biệt là có thể tháo rời để lấy giấy ...'}\n",
      "Number of products in my pocket 29\n",
      "combo-4-cuon-sach-hay-cua-nha-van-nguyen-nhat-anh-con-cho-nho-mang-gio-hoa-hong-toi-la-beto-co-gai-den-tu-hom-qua-co-hai-con-meo-ngoi-ben-cua-so-tang-bookmark-p34476093.html?spid=89424311\n",
      "{'path': 'combo-4-cuon-sach-hay-cua-nha-van-nguyen-nhat-anh-con-cho-nho-mang-gio-hoa-hong-toi-la-beto-co-gai-den-tu-hom-qua-co-hai-con-meo-ngoi-ben-cua-so-tang-bookmark-p34476093.html?spid=89424311', 'Tên Sách': 'Combo 4 Cuốn Sách Hay Của Nhà Văn Nguyễn Nhật Ánh: Con Chó Nhỏ Mang Giỏ Hoa Hồng + Tôi Là Bêtô + Cô Gái Đến Từ Hôm Qua + Có Hai Con Mèo Ngồi Bên Cửa Sổ tặng Bookmark', 'Ảnh bìa': 'https://salt.tikicdn.com/cache/280x280/ts/product/88/82/ae/342e5a53cd29cebbfbfc690282018772.jpg', 'Công ty phát hành': 'NXB Trẻ', 'Số trang': '234', 'Nhà xuất bản': 'NXB Trẻ', 'Tác giả': '', 'Thể loại': 'Chăm sóc sức khỏe', 'Giá bìa': 323000, 'Nội dung tóm tắt': '1. Con Chó Nhỏ Mang Giỏ Hoa HồngCon Chó Nhỏ Mang Giỏ Hoa Hồng là tác phẩm mới nhất của nhà văn chuyên viết cho thanh thiếu niên Nguyễn Nhật Ánh, nối tiếp sau Bảy bước tới mùa hè, Tôi thấy hoa vàng tr...'}\n",
      "Number of products in my pocket 30\n",
      "totto-chan-ben-cua-so-tai-ban-2017-p892683.html?spid=54763715\n",
      "{'path': 'totto-chan-ben-cua-so-tai-ban-2017-p892683.html?spid=54763715', 'Tên Sách': 'Totto-Chan Bên Cửa Sổ (Tái Bản 2017)', 'Ảnh bìa': 'https://salt.tikicdn.com/cache/280x280/ts/product/da/33/ae/67490e9bb9d2058b645120d077029622.jpg', 'Công ty phát hành': 'Nhã Nam', 'Ngày xuất bản': '2017-11-28 13:54:55', 'Kích thước': '14 x 19 cm', 'Dịch Giả': 'Trương Thùy Lan', 'Loại bìa': 'Bìa mềm', 'Số trang': '355', 'Nhà xuất bản': 'Nhà Xuất Bản Văn Học', 'Tác giả': 'Kuroyanagi Tetsuko', 'Thể loại': 'Chăm sóc sức khỏe', 'Giá bìa': 88500, 'Nội dung tóm tắt': 'Totto-Chan Bên Cửa Sổ (Tái Bản 2017)Vừa vào lớp một được vài ngày, Totto-chan đã bị đuổi học!!!Không còn cách nào khác, mẹ đành đưa Totto-chan đến một ngôi trường mới, trường Tomoe. Đấy là một ngôi ...'}\n",
      "Number of products in my pocket 31\n",
      "nguoi-dan-ba-sau-cua-so-p10277500.html?spid=20450994\n",
      "{'path': 'nguoi-dan-ba-sau-cua-so-p10277500.html?spid=20450994', 'Tên Sách': 'Người Đàn Bà Sau Cửa Sổ', 'Ảnh bìa': 'https://salt.tikicdn.com/cache/280x280/ts/product/4e/81/2e/e95e99c32d18f1f394b30d5bf988ed61.jpg', 'Công ty phát hành': 'Nhã Nam', 'Ngày xuất bản': '2019-01-01 00:00:00', 'Kích thước': '15,5 x 24 cm', 'Dịch Giả': 'Lan Young', 'Loại bìa': 'Bìa mềm', 'Số trang': '485', 'Tác giả': 'A. J. Finn', 'Thể loại': 'Chăm sóc sức khỏe', 'Giá bìa': 148500, 'Nội dung tóm tắt': 'Mắc chứng sợ khoảng rộng và không thể ra khỏi nhà, Anna Fox cựu bác sĩ tâm lý trẻ em tự tạo niềm vui cho mình bằng cách theo dõi hàng xóm, chụp hình họ với chiếc máy ảnh Nikon của mình. Đến một ngày, ...'}\n",
      "Number of products in my pocket 32\n",
      "so-tay-ghi-chep-deli-dan-gay-174-252mm-hinh-anh-phi-hanh-gia-16k-128-trang-nhieu-mau-t16128-p114571992.html?spid=114572005\n",
      "{'path': 'so-tay-ghi-chep-deli-dan-gay-174-252mm-hinh-anh-phi-hanh-gia-16k-128-trang-nhieu-mau-t16128-p114571992.html?spid=114572005', 'Tên Sách': 'Sổ tay ghi chép Deli dán gáy 174*252mm hình ảnh phi hành gia 16K 128 trang - Nhiều mẫu - T16128', 'Ảnh bìa': 'https://salt.tikicdn.com/cache/280x280/ts/product/2e/96/fd/e4d6bbbd87f9e790048db898b6c11052.jpg', 'Thương hiệu': 'Deli', 'Xuất xứ': 'Trung Quốc', 'Xuất xứ thương hiệu': 'Trung Quốc', 'Tác giả': '', 'Thể loại': 'Chăm sóc sức khỏe', 'Giá bìa': 65000, 'Nội dung tóm tắt': '@   - Ử À ĐỘ Ề Ả Ẩ   Ấ Ạ Ệ TÍNH NĂNG SẢN PHẨM:️Sổ tay được thiết kế theo hình ảnh phi hành gia️Bìa được bọc cẩn thận, bảo vệ giấy bên trong và chống thấm nước️Giấy kẻ ngang, màu giấy đạt chuẩn. Giúp ...'}\n",
      "Number of products in my pocket 33\n",
      "totto-chan-ben-cua-so-tai-ban-2019-p23427275.html?spid=117029595\n",
      "{'path': 'totto-chan-ben-cua-so-tai-ban-2019-p23427275.html?spid=117029595', 'Tên Sách': 'Totto-Chan Bên Cửa Sổ (Tái Bản 2019)', 'Ảnh bìa': 'https://salt.tikicdn.com/cache/280x280/ts/product/30/c4/4b/809819640b1c4508bd23e69f10a5b40f.jpg', 'Công ty phát hành': 'Nhã Nam', 'Tác giả': 'Kuroyanagi Tetsuko', 'Thể loại': 'Chăm sóc sức khỏe', 'Giá bìa': 88200, 'Nội dung tóm tắt': 'Vừa vào lớp một được vài ngày, Totto-chan đã bị đuổi học!!! Không còn cách nào khác, mẹ đành đưa Totto-chan đến một ngôi trường mới, trường Tomoe. Đấy là một ngôi trường kỳ lạ, lớp học thì ở trong toa...'}\n",
      "Number of products in my pocket 34\n",
      "combo-2-cuon-co-gai-mu-chu-pha-bom-nguyen-tu-ong-tram-tuoi-treo-qua-cua-so-va-bien-mat-tang-kem-bookmark-happy-life-bo-sach-an-khach-nhat-cua-jonas-jonasson-p37157182.html?spid=72010816\n",
      "{'path': 'combo-2-cuon-co-gai-mu-chu-pha-bom-nguyen-tu-ong-tram-tuoi-treo-qua-cua-so-va-bien-mat-tang-kem-bookmark-happy-life-bo-sach-an-khach-nhat-cua-jonas-jonasson-p37157182.html?spid=72010816', 'Tên Sách': 'Combo 2 Cuốn : Cô Gái Mù Chữ Phá Bom Nguyên Tử + Ông Trăm Tuổi Trèo Qua Cửa Sổ Và Biến Mất (Tặng kèm Bookmark Happy Life / Bộ Sách Ăn Khách Nhất Của Jonas Jonasson )', 'Ảnh bìa': 'https://salt.tikicdn.com/cache/280x280/ts/product/4a/b1/fb/95d3945fd2354a51bd32724d7df0b439.jpg', 'Công ty phát hành': '-', 'Loại bìa': 'Bìa mềm', 'Tác giả': 'Jonas Jonasson', 'Thể loại': 'Chăm sóc sức khỏe', 'Giá bìa': 318000, 'Nội dung tóm tắt': 'Combo 2 Cuốn : Cô Gái Mù Chữ Phá Bom Nguyên Tử + Ông Trăm Tuổi Trèo Qua Cửa Sổ Và Biến Mất (Tặng kèm Bookmark Happy Life )2 Cuốn Sách Là Những Cuộc Phiêu Lưu Đặc Biệt Của Những Con Người Đặc Biệt : C...'}\n",
      "Number of products in my pocket 35\n",
      "cua-so-hinh-tia-chop-p7644463.html?spid=20452249\n",
      "{'path': 'cua-so-hinh-tia-chop-p7644463.html?spid=20452249', 'Tên Sách': 'Cửa Sổ Hình Tia Chớp', 'Ảnh bìa': 'https://salt.tikicdn.com/cache/280x280/ts/product/e8/aa/06/6826033997df252c3150d41e0265802b.jpg', 'Công ty phát hành': 'Nhã Nam', 'Ngày xuất bản': '2018-11-22 15:44:16', 'Kích thước': '14 x 20,5cm', 'Loại bìa': 'Bìa mềm', 'Số trang': '184', 'Tác giả': 'Võ Diệu Thanh', 'Thể loại': 'Chăm sóc sức khỏe', 'Giá bìa': 54900, 'Nội dung tóm tắt': 'Trở lại với tập truyện ngắn Cửa sổ hình tia chớp, Võ Diệu Thanh cho thấy mình vẫn là một trong những nhà văn nữ có sức viết mạnh mẽ nhất hiện nay. Những con người dung dị ở miền Tây hiện rõ nét trên t...'}\n",
      "Number of products in my pocket 36\n",
      "so-tay-ghi-chep-b5-gay-lo-xo-60-trang-deli-xanh-duong-hong-vang-xanh-la-qhb560-p89178267.html?spid=89178273\n",
      "{'path': 'so-tay-ghi-chep-b5-gay-lo-xo-60-trang-deli-xanh-duong-hong-vang-xanh-la-qhb560-p89178267.html?spid=89178273', 'Tên Sách': 'Sổ Tay Ghi Chép B5 Gáy Lò Xo 60 Trang Deli - Xanh Dương/Hồng/Vàng/Xanh Lá - QHB560', 'Ảnh bìa': 'https://salt.tikicdn.com/cache/280x280/ts/product/01/56/8b/21b523f8ba1b3415d2a0eb57e45d46f2.jpg', 'Thương hiệu': 'Deli', 'Xuất xứ': 'Trung Quốc', 'Xuất xứ thương hiệu': 'Trung Quốc', 'Tác giả': '', 'Thể loại': 'Chăm sóc sức khỏe', 'Giá bìa': 99000, 'Nội dung tóm tắt': 'TÍNH NĂNG SẢN PHẨM:️Sổ tay được thiết kế các màu tông nhẹ nhàng, trong suốt. ️Sổ gáy xoắn có thể xoay được các trang, đặc biệt là có thể tháo rời để lấy giấy bên trong.️Sổ được chia mục rõ ràng, thuận...'}\n",
      "Number of products in my pocket 37\n"
     ]
    },
    {
     "name": "stdout",
     "output_type": "stream",
     "text": [
      "combo-agatha-christie-nhung-chiec-dong-ho-ky-la-va-ngoi-nha-quai-di-tang-kem-so-tay-xuong-rong-p25117901.html?spid=25117902\n",
      "{'path': 'combo-agatha-christie-nhung-chiec-dong-ho-ky-la-va-ngoi-nha-quai-di-tang-kem-so-tay-xuong-rong-p25117901.html?spid=25117902', 'Tên Sách': 'Combo Agatha Christie : Những Chiếc Đồng Hồ Kỳ Lạ và Ngôi Nhà Quái Dị ( Tặng Kèm Sổ Tay Xương Rồng)', 'Ảnh bìa': 'https://salt.tikicdn.com/cache/280x280/ts/product/6e/05/aa/02cfc0c2005cf59414e272301b1acda2.jpg', 'Công ty phát hành': 'NXB Trẻ', 'Kích thước': '13 x 20 cm\\n13 x 20 cm', 'Loại bìa': 'Bìa mềm', 'Số trang': '640', 'Tác giả': 'Agatha Christie,Agatha Christie, Agatha Christie,Agatha Christie', 'Thể loại': 'Chăm sóc sức khỏe', 'Giá bìa': 189550, 'Nội dung tóm tắt': 'Combo Agatha Christie : Những Chiếc Đồng Hồ Kỳ Lạ và Ngôi Nhà Quái Dị ( Tặng Kèm Sổ Tay Xương Rồng)Bản đặc biệt tặng kèm sổ tay xương rồng, mẫu ngẫu nhiên ( 1 trong 4 mẫu như hình ) và số lượng có hạ...'}\n",
      "Number of products in my pocket 38\n",
      "ong-tram-tuoi-treo-qua-cua-so-va-bien-mat-p376124.html?spid=88246588\n",
      "{'path': 'ong-tram-tuoi-treo-qua-cua-so-va-bien-mat-p376124.html?spid=88246588', 'Tên Sách': 'Ông Trăm Tuổi Trèo Qua Cửa Sổ Và Biến Mất', 'Ảnh bìa': 'https://salt.tikicdn.com/cache/280x280/media/catalog/product/i/m/img448.u3059.d20170616.t101858.371205.jpg', 'Công ty phát hành': 'NXB Trẻ', 'Ngày xuất bản': '2013-09-10 00:00:00', 'Kích thước': '13 x 20 cm', 'Loại bìa': 'Bìa mềm', 'Số trang': '516', 'Nhà xuất bản': 'NXB Trẻ', 'Tác giả': 'Jonas Jonasson', 'Thể loại': 'Chăm sóc sức khỏe', 'Giá bìa': 148000, 'Nội dung tóm tắt': 'Ông Trăm Tuổi Trèo Qua Cửa Sổ Và Biến Mất Vào ngày sinh nhật lần thứ 100 của mình, cụ ông Allan Karlsson đột nhiên trèo qua của sổ ngôi nhà dưỡng lão - Nhà Già - và biến mất. Ở cái tuổi 100 hiếm ai đ...'}\n",
      "Number of products in my pocket 39\n",
      "combo-nguoi-dan-ba-sau-cua-so-nguoi-dan-ba-tren-cau-thang-p10681246.html?spid=12030864\n",
      "{'path': 'combo-nguoi-dan-ba-sau-cua-so-nguoi-dan-ba-tren-cau-thang-p10681246.html?spid=12030864', 'Tên Sách': 'Combo Người Đàn Bà Sau Cửa Sổ + Người Đàn Bà Trên Cầu Thang', 'Ảnh bìa': 'https://salt.tikicdn.com/cache/280x280/ts/product/78/dd/28/4b270f81d775ad3d9a0741b0298d9987.png', 'Công ty phát hành': 'Nhã Nam', 'Ngày xuất bản': '2019-01-07 14:17:24', 'Kích thước': '15.5 x 24 cm', 'Loại bìa': 'Bìa mềm', 'Tác giả': 'Bernhard Schlinks,A. J. Finn', 'Thể loại': 'Chăm sóc sức khỏe', 'Giá bìa': 245500, 'Nội dung tóm tắt': 'Combo Người Đàn Bà Sau Cửa Sổ + Người Đàn Bà Trên Cầu ThangNgười Đàn Bà Sau Cửa SổMắc chứng sợ khoảng rộng và không thể ra khỏi nhà, Anna Fox cựu bác sĩ tâm lý trẻ em tự tạo niềm vui cho mình bằ...'}\n",
      "Number of products in my pocket 40\n",
      "so-hoc-sinh-hoa-tiet-de-thuong-deli-164x118mm-xanh-duong-tim-xanh-la-vang-96-trang-sz034-p105614734.html?spid=105614736\n",
      "{'path': 'so-hoc-sinh-hoa-tiet-de-thuong-deli-164x118mm-xanh-duong-tim-xanh-la-vang-96-trang-sz034-p105614734.html?spid=105614736', 'Tên Sách': 'Sổ học sinh họa tiết dễ thương Deli - 164x118mm Xanh dương/ Tím/ Xanh Lá/ Vàng - 96 trang - SZ034', 'Ảnh bìa': 'https://salt.tikicdn.com/cache/280x280/ts/product/fc/63/53/e21db6f8b45bc6df70df353952447372.jpg', 'Thương hiệu': 'Deli', 'Xuất xứ': 'Trung Quốc', 'Xuất xứ thương hiệu': 'Trung Quốc', 'Tác giả': '', 'Thể loại': 'Chăm sóc sức khỏe', 'Giá bìa': 79000, 'Nội dung tóm tắt': 'TÍNH NĂNG SẢN PHẨM:️Sổ tay được thiết kế theo nhân vật hoạt hình nổi tiếng dễ thương️Bìa được bọc cẩn thận, bảo vệ giấy bên trong và chống thấm nước️Sổ kèm nút cài tiện lợi️Giấy kẻ ngang, màu giấy đạt...'}\n",
      "Number of products in my pocket 41\n",
      "tra-cho-anh-tu-do-tra-cho-em-binh-yen-tang-kem-so-tay-postcard-p41863931.html?spid=86999349\n",
      "{'path': 'tra-cho-anh-tu-do-tra-cho-em-binh-yen-tang-kem-so-tay-postcard-p41863931.html?spid=86999349', 'Tên Sách': 'Trả Cho Anh Tự Do, Trả Cho Em Bình Yên  (Tặng Kèm Sổ Tay + Postcard)', 'Ảnh bìa': 'https://salt.tikicdn.com/cache/280x280/ts/product/fb/92/5e/9f600fae5d4a0fa935903678e3990e0c.jpg', 'Công ty phát hành': 'AZ Việt Nam', 'Loại bìa': 'Bìa mềm', 'Số trang': '204', 'Tác giả': '', 'Thể loại': 'Chăm sóc sức khỏe', 'Giá bìa': 82800, 'Nội dung tóm tắt': 'Trả Cho Anh Tự Do, Trả Cho Em Bình Yên“Trả cho anh tự doTrả cho em bình yênTrả nhau thôi muộn phiềnNhư lần yêu đầu tiên”.Đây là quyển sách đánh dấu sự trở lại của Trí. Quyển sách hứa hẹn sẽ mang đến...'}\n",
      "Number of products in my pocket 42\n",
      "tu-khung-cua-so-lop-7d-tap-2-p5468625.html?spid=5507511\n",
      "{'path': 'tu-khung-cua-so-lop-7d-tap-2-p5468625.html?spid=5507511', 'Tên Sách': 'Từ Khung Cửa Sổ Lớp 7D (Tập 2)', 'Ảnh bìa': 'https://salt.tikicdn.com/cache/280x280/ts/product/4e/70/52/772f7b49b002eb17e62abea667b82928.jpg', 'Công ty phát hành': 'Wings Books', 'Ngày xuất bản': '2018-10-01 13:55:19', 'Kích thước': '14.5 x 20.5 cm', 'Loại bìa': 'Bìa mềm', 'Số trang': '144', 'Tác giả': 'Atsuko Asano', 'Thể loại': 'Chăm sóc sức khỏe', 'Giá bìa': 29800, 'Nội dung tóm tắt': 'Từ Khung Cửa Sổ Lớp 7D (Tập 2)Vốn là học sinh của một trường chuyên cấp hai tại thành phố lớn, Anri đột ngột phải chuyển về học ở một ngôi trường vùng quê vào mùa hè. Những tưởng sẽ mất nhiều thời gi...'}\n",
      "Number of products in my pocket 43\n",
      "totto-chan-ben-cua-so-tai-ban-2020-tang-kem-bookmark-p115802283.html?spid=115802284\n",
      "{'path': 'totto-chan-ben-cua-so-tai-ban-2020-tang-kem-bookmark-p115802283.html?spid=115802284', 'Tên Sách': 'Totto-Chan Bên Cửa Sổ (Tái Bản 2020) tặng kèm bookmark', 'Ảnh bìa': 'https://salt.tikicdn.com/cache/280x280/ts/product/00/e3/5b/02c9c8b302553f9f6e5da1c63f885f6e.jpg', 'Công ty phát hành': 'Nhã Nam', 'Ngày xuất bản': '2020-02-14 17:24:21', 'Phiên bản': 'bìa mềm có obi', 'Loại bìa': 'Bìa gập', 'Số trang': '355', 'Nhà xuất bản': 'Nhà Xuất Bản Hội Nhà Văn', 'Tác giả': 'Kuroyanagi Tetsuko', 'Thể loại': 'Chăm sóc sức khỏe', 'Giá bìa': 90000, 'Nội dung tóm tắt': 'Totto-Chan Bên Cửa Sổ Không còn cách nào khác, mẹ đành đưa Totto-chan đến một ngôi trường mới, trường Tomoe. Đấy là một ngôi trường kỳ lạ, lớp học thì ở trong toa xe điện cũ, học sinh thì được thoả t...'}\n",
      "Number of products in my pocket 44\n",
      "jim-rohn-nhat-ky-thanh-cong-success-journal-p14815062.html?spid=14815063\n",
      "{'path': 'jim-rohn-nhat-ky-thanh-cong-success-journal-p14815062.html?spid=14815063', 'Tên Sách': 'Jim Rohn - Nhật ký thành công - Success journal', 'Ảnh bìa': 'https://salt.tikicdn.com/cache/280x280/ts/product/cc/68/73/5e3d1f0f218012eaaf71964bddbd0be6.png', 'Thương hiệu': 'OEM', 'Kích thước': 'Sổ tay Jim Rohn - Nhật ký thành công - Success Journal\\nKích thước: B5 (176x250) rộng vừa đủ để mang theo mọi lúc.\\n160 trang, mỗi trang có đánh số thứ tự và có một câu nói khác nhau của Jim Rohn song ngữ Anh - Việt.', 'Số trang': '160', 'Kiểu dáng': '5B', 'Tác giả': '', 'Thể loại': 'Chăm sóc sức khỏe', 'Giá bìa': 299000, 'Nội dung tóm tắt': 'Sổ tay Jim Rohn - Nhật ký thành công - Success Journal.Mô tả sản phẩm:Sổ tay Jim Rohn - Nhật ký thành công - Success JournalKích cỡ B5 khổ rộng vừa, bao gồm 160 trang, rất thích hợp để mang theo b...'}\n",
      "Number of products in my pocket 45\n",
      "combo-nghe-em-noi-2-cuon-tang-kem-so-tay-huong-noi-p3619329.html?spid=3901373\n",
      "{'path': 'combo-nghe-em-noi-2-cuon-tang-kem-so-tay-huong-noi-p3619329.html?spid=3901373', 'Tên Sách': 'Combo Nghe Em Nói (2 Cuốn) - Tặng Kèm Sổ Tay Hướng Nội', 'Ảnh bìa': 'https://salt.tikicdn.com/cache/280x280/ts/product/9a/4b/d0/5eb239453fbc42f66e929458afa8eb35.jpg', 'Công ty phát hành': 'Skybooks', 'Ngày xuất bản': '2018-08-08 00:00:00', 'Kích thước': '14.5 x 20 cm', 'Loại bìa': 'Bìa mềm', 'Tác giả': '', 'Thể loại': 'Chăm sóc sức khỏe', 'Giá bìa': 150400, 'Nội dung tóm tắt': 'Combo Nghe Em Nói (2 Cuốn) - Tặng Kèm Sổ Tay Hướng NộiTại Sao Em Ít Nói Thế? - Cuốn sách tâm lý đầu tiên của SKYBOOKSĐể chúng ta cùng đọc sách... lặng im... mà thấu hiểu lẫn nhau.Một người ít nói k...'}\n",
      "Number of products in my pocket 46\n"
     ]
    },
    {
     "name": "stdout",
     "output_type": "stream",
     "text": [
      "mac-ke-thien-ha-song-nhu-nguoi-nhat-tang-kem-so-tay-p39312946.html?spid=121168618\n",
      "{'path': 'mac-ke-thien-ha-song-nhu-nguoi-nhat-tang-kem-so-tay-p39312946.html?spid=121168618', 'Tên Sách': 'Mặc Kệ Thiên Hạ - Sống Như Người Nhật ( Tặng Kèm Sổ Tay )', 'Ảnh bìa': 'https://salt.tikicdn.com/cache/280x280/ts/product/5b/6b/94/a089201dc82d150004dc3d5564199049.jpg', 'Công ty phát hành': 'Nhiều công ty phát hành', 'Kích thước': '13 x 20 cm', 'Dịch Giả': 'Nguyễn Hoàng Văn', 'Loại bìa': 'Bìa mềm', 'Số trang': '192', 'Tác giả': 'Mari Tamagawa', 'Thể loại': 'Chăm sóc sức khỏe', 'Giá bìa': 79000, 'Nội dung tóm tắt': 'Mặc Kệ Thiên Hạ - Sống Như Người NhậtCuốn sách gối đầu giường cho những người hay lo lắng, sợ hãi và luôn thấy mình kém may mắnDành cho những ai muốn được sống là chính mình, cuộc đời của mình, tuổi...'}\n",
      "Number of products in my pocket 47\n",
      "lon-di-thoi-cho-kip-cuoc-doi-tang-kem-so-tay-p32307096.html?spid=121201261\n",
      "{'path': 'lon-di-thoi-cho-kip-cuoc-doi-tang-kem-so-tay-p32307096.html?spid=121201261', 'Tên Sách': 'Lớn Đi Thôi Cho Kịp Cuộc Đời - Tặng Kèm Sổ Tay', 'Ảnh bìa': 'https://salt.tikicdn.com/cache/280x280/ts/product/3d/74/99/d2c6c8637dba77854eb77633f998c6b5.jpg', 'Công ty phát hành': 'Skybooks', 'Kích thước': '12.5 x 20 cm', 'Loại bìa': 'Bìa mềm', 'Số trang': '208', 'Nhà xuất bản': 'Nhà Xuất Bản Phụ Nữ', 'Tác giả': 'Nhã Tú', 'Thể loại': 'Chăm sóc sức khỏe', 'Giá bìa': 81000, 'Nội dung tóm tắt': 'Lớn Đi Thôi Cho Kịp Cuộc Đời“Bạn không thể lúc nào cũng là người mạnh mẽ, nhưng bạn có thể luôn luôn là người can đảm”Cuộc đời thì chưa bao giờ dễ dàng với bất kỳ một ai.Thế nên đừng bao giờ nghĩa ...'}\n",
      "Number of products in my pocket 48\n",
      "so-tay-ghi-chep-deli-bia-cung-co-nut-cai-168-124mm-96-trang-xanh-la-xanh-duong-hong-tim-sz032-p114571968.html?spid=114571987\n",
      "{'path': 'so-tay-ghi-chep-deli-bia-cung-co-nut-cai-168-124mm-96-trang-xanh-la-xanh-duong-hong-tim-sz032-p114571968.html?spid=114571987', 'Tên Sách': 'Sổ tay ghi chép Deli bìa cứng có nút cài 168*124mm 96 trang - Xanh lá/ Xanh dương/ Hồng/ Tím - SZ032', 'Ảnh bìa': 'https://salt.tikicdn.com/cache/280x280/ts/product/20/6b/5c/dea5c907f28bc8fea538ba7c9d25e56d.jpg', 'Thương hiệu': 'Deli', 'Xuất xứ': 'Trung Quốc', 'Số trang': '96', 'Xuất xứ thương hiệu': 'Trung Quốc', 'Tác giả': '', 'Thể loại': 'Chăm sóc sức khỏe', 'Giá bìa': 85000, 'Nội dung tóm tắt': ' TÍNH NĂNG SẢN PHẨM:️Sổ tay được bọc bằng da chất lượng tốt, có khả năng chống nước và dễ dàng vệ sinh bên ngoài sổ.️Sổ có màu sắc dễ thương, phù hợp cho cả nam và nữ.️Sổ được sử dụng với nhiều mụ...'}\n",
      "Number of products in my pocket 49\n",
      "combo-2-cuon-sach-van-hoc-hay-totochan-co-be-ben-cua-so-tai-ban-2018-anne-toc-do-duoi-chai-nha-xanh-bo-nhung-cuon-sach-van-hoc-tieu-thuyet-lang-man-hay-nhat-tang-kem-bookmark-happy-life-p36705686.html?spid=54763720\n",
      "{'path': 'combo-2-cuon-sach-van-hoc-hay-totochan-co-be-ben-cua-so-tai-ban-2018-anne-toc-do-duoi-chai-nha-xanh-bo-nhung-cuon-sach-van-hoc-tieu-thuyet-lang-man-hay-nhat-tang-kem-bookmark-happy-life-p36705686.html?spid=54763720', 'Tên Sách': 'Combo 2 Cuốn Sách Văn Học Hay: TotoChan Cô Bé Bên Cửa Sổ (Tái bản 2018) + Anne Tóc Đỏ Dưới Chái Nhà Xanh / Bộ Những Cuốn Sách Văn Học - Tiểu Thuyết Lãng Mạn Hay Nhất - Tặng Kèm Bookmark Happy Life', 'Ảnh bìa': 'https://salt.tikicdn.com/cache/280x280/ts/product/6b/82/fc/20863cf5a446d4b92c6bc24ca9437c6d.jpg', 'Công ty phát hành': 'Nhã Nam', 'Loại bìa': 'Bìa mềm', 'Tác giả': 'Nhiều Tác Giả', 'Thể loại': 'Chăm sóc sức khỏe', 'Giá bìa': 162000, 'Nội dung tóm tắt': 'Combo 2 Cuốn Sách Văn Học Hay: TotoChan Cô Bé Bên Cửa Sổ (Tái bản 2018) + Anne Tóc Đỏ Dưới Chái Nhà Xanh / Bộ Những Cuốn Sách Văn Học - Tiểu Thuyết Lãng Mạn Hay Nhất - Tặng Kèm Bookmark Happy Life1. ...'}\n",
      "Number of products in my pocket 50\n",
      "combo-bi-mat-cua-nicholas-flamel-ao-thuat-gia-va-ke-chieu-hon-tang-kem-so-tay-xuong-rong-p25118280.html?spid=89424197\n",
      "{'path': 'combo-bi-mat-cua-nicholas-flamel-ao-thuat-gia-va-ke-chieu-hon-tang-kem-so-tay-xuong-rong-p25118280.html?spid=89424197', 'Tên Sách': 'Combo Bí Mật Của Nicholas Flamel :  Ảo Thuật Gia và Kẻ Chiêu Hồn ( Tặng Kèm Sổ Tay Xương Rồng)', 'Ảnh bìa': 'https://salt.tikicdn.com/cache/280x280/ts/product/41/f7/7a/49dd472d7157cafbb309963340fdb956.jpg', 'Công ty phát hành': 'NXB Trẻ', 'Ngày xuất bản': '2019-01-01 20:44:47', 'Kích thước': '13.2 x 21\\n13.2 x 21', 'Loại bìa': 'Bìa mềm', 'Số trang': '892', 'Nhà xuất bản': 'NXB Trẻ', 'Tác giả': '\\xa0Michael Scott.,Michael Scott,Michael Scott', 'Thể loại': 'Chăm sóc sức khỏe', 'Giá bìa': 245410, 'Nội dung tóm tắt': 'Combo Bí Mật Của Nicholas Flamel :  Ảo Thuật Gia và Kẻ Chiêu Hồn ( Tặng Kèm Sổ Tay Xương Rồng)Bản đặc biệt tặng kèm sổ tay xương rồng, mẫu ngẫu nhiên ( 1 trong 4 mẫu như hình ) và số lượng có hạn K...'}\n",
      "Number of products in my pocket 51\n",
      "cua-so-vang-cho-tri-tue-cua-tre-p44627534.html?spid=100400463\n",
      "{'path': 'cua-so-vang-cho-tri-tue-cua-tre-p44627534.html?spid=100400463', 'Tên Sách': 'Cửa Sổ Vàng Cho Trí Tuệ Của Trẻ', 'Ảnh bìa': 'https://salt.tikicdn.com/cache/280x280/ts/product/34/69/ad/7a3f2d74d4a5d5b75ccf4f4fc45b218d.jpg', 'Công ty phát hành': 'Thái Hà', 'Ngày xuất bản': '2019-12-01 00:00:00', 'Kích thước': '14.5x20.5', 'Loại bìa': 'Bìa mềm', 'Số trang': '270', 'Nhà xuất bản': 'Nhà Xuất Bản Lao Động', 'Tác giả': 'Glenn Doman,Janet Doman', 'Thể loại': 'Chăm sóc sức khỏe', 'Giá bìa': 80100, 'Nội dung tóm tắt': 'Cuốn “Cửa sổ vàng cho trí tuệ của trẻ” được tái bản từ cuốn \"Tăng cường trí thông minh của trẻ\".Glenn Doman đã dành hơn nửa thế kỷ để chứng minh rằng trẻ nhỏ có khả năng học hỏi tốt hơn chúng ta tưở...'}\n",
      "Number of products in my pocket 52\n",
      "giay-ruot-refill-so-cong-6-lo-a5-lap-ke-hoach-60-to-dinh-luong-100gsm-cua-self-planner-p71883197.html?spid=120424019\n",
      "{'path': 'giay-ruot-refill-so-cong-6-lo-a5-lap-ke-hoach-60-to-dinh-luong-100gsm-cua-self-planner-p71883197.html?spid=120424019', 'Tên Sách': 'Giấy / Ruột refill sổ còng 6 lỗ A5 lập kế hoạch 60 tờ, định lượng 100gsm của Self Planner', 'Ảnh bìa': 'https://salt.tikicdn.com/cache/280x280/ts/product/fc/f3/73/62eb73333eebd311cb0c5b5b08fd422b.jpg', 'Thương hiệu': 'Self Planner', 'Xuất xứ': 'Việt Nam', 'Xuất xứ thương hiệu': 'Việt Nam', 'Tác giả': '', 'Thể loại': 'Chăm sóc sức khỏe', 'Giá bìa': 65000, 'Nội dung tóm tắt': 'Self Planner tiếp tục tiên phong trongh dòng sổ tay lập kế hoạch được in sẵn layout với tất cả chủ đề trong cuộc sống từ lập kế hoạch cá nhân, nhật ký, quản lý thu chi, học tậRuột sổ refill được sử d...'}\n",
      "Number of products in my pocket 53\n",
      "combo-trinh-cong-son-thu-tinh-gui-mot-nguoi-va-toi-la-ai-la-ai-tang-kem-so-tay-xuong-rong-p40346444.html?spid=40346445\n",
      "{'path': 'combo-trinh-cong-son-thu-tinh-gui-mot-nguoi-va-toi-la-ai-la-ai-tang-kem-so-tay-xuong-rong-p40346444.html?spid=40346445', 'Tên Sách': 'Combo Trịnh Công Sơn : Thư Tình Gửi Một Người và Tôi Là Ai, Là Ai( Tặng Kèm Sổ Tay Xương Rồng)', 'Ảnh bìa': 'https://salt.tikicdn.com/cache/280x280/ts/product/29/a2/f0/fe62d2839015fe6c6357f926ebc53877.jpg', 'Công ty phát hành': '-', 'Ngày xuất bản': '2019-11-01 17:04:46', 'Kích thước': '16 x 24 cm', 'Loại bìa': 'Bìa mềm', 'Tác giả': 'Trịnh Công Sơn', 'Thể loại': 'Chăm sóc sức khỏe', 'Giá bìa': 310250, 'Nội dung tóm tắt': 'Combo Trịnh Công Sơn : Thư Tình Gửi Một Người và Tôi Là Ai, Là Ai( Tặng Kèm Sổ Tay Xương Rồng)Bản đặc biệt tặng kèm sổ tay xương rồng, mẫu ngẫu nhiên ( 1 trong 4 mẫu như hình ) và số lượng có hạn.Tr...'}\n",
      "Number of products in my pocket 54\n",
      "combo-truyen-dai-hap-dan-totto-chan-ben-cua-so-chuyen-con-meo-day-hai-au-bay-bo-truyen-thu-gian-tinh-than-danh-cho-moi-lua-tuoi-tang-kem-bookmark-happy-life-p38086680.html?spid=53807960\n",
      "{'path': 'combo-truyen-dai-hap-dan-totto-chan-ben-cua-so-chuyen-con-meo-day-hai-au-bay-bo-truyen-thu-gian-tinh-than-danh-cho-moi-lua-tuoi-tang-kem-bookmark-happy-life-p38086680.html?spid=53807960', 'Tên Sách': 'Combo Truyện Dài Hấp Dẫn: Totto - Chan Bên Cửa Sổ + Chuyện Con Mèo Dạy Hải Âu Bay (Bộ Truyện Thư Gĩan Tinh Thần Dành Cho Mọi Lứa Tuổi / Tặng Kèm Bookmark Happy Life)', 'Ảnh bìa': 'https://salt.tikicdn.com/cache/280x280/ts/product/17/61/72/546b1d51e89f7bf44aa29eea2a6dc60d.jpg', 'Công ty phát hành': 'Nhã Nam', 'Loại bìa': 'Bìa mềm', 'Tác giả': 'Kuroyanagi Tetsuko,Luis Sepulveda', 'Thể loại': 'Chăm sóc sức khỏe', 'Giá bìa': 137000, 'Nội dung tóm tắt': 'Combo Truyện Dài Hấp Dẫn: Totto - Chan Bên Cửa Sổ + Chuyện Con Mèo Dạy Hải Âu Bay (Bộ Truyện Thư Gĩan Tinh Thần Dành Cho Mọi Lứa Tuổi / Tặng Kèm Bookmark Happy Life) 1, Totto - Chan Bên Cửa SổKhôn...'}\n",
      "Number of products in my pocket 55\n",
      "sach-nguoi-dan-ba-sau-cua-so-tang-kem-bookmark-thiet-ke-p77221138.html?spid=77221142\n",
      "{'path': 'sach-nguoi-dan-ba-sau-cua-so-tang-kem-bookmark-thiet-ke-p77221138.html?spid=77221142', 'Tên Sách': 'Sách - Người Đàn Bà Sau Cửa Sổ (tặng kèm bookmark thiết kế)', 'Ảnh bìa': 'https://salt.tikicdn.com/cache/280x280/ts/product/72/8f/33/402a62da77259fe1811f3ffc7bb820b0.jpg', 'Công ty phát hành': 'Nhã Nam', 'Nhà xuất bản': 'Nhà Xuất Bản Hội Nhà Văn', 'Tác giả': 'A. J. Finn', 'Thể loại': 'Chăm sóc sức khỏe', 'Giá bìa': 147420, 'Nội dung tóm tắt': '       Tác giả A. J. Finn   Ngày xuất bản 01-2019   Kích thước 15,5 x 24 cm   Nhà xuất bản Nhà Xuất Bản Hội Nhà Văn   Dịch Giả Lan Young   Loại bìa Bìa mềm   Số trang 485   GIỚI THIỆU SÁCH...'}\n",
      "Number of products in my pocket 56\n"
     ]
    },
    {
     "name": "stdout",
     "output_type": "stream",
     "text": [
      "so-tay-ghi-chep-khau-gay-40-trang-ke-ngang-phi-hanh-gia-a5-b5-deli-70gsm-phu-hop-lam-so-ke-hoach-planner-viet-nhat-ki-su-dung-nhu-tap-vo-hoc-sinh-1-quyen-fa540-n04-fb540-n08-p121367563.html?spid=121367569\n",
      "{'path': 'so-tay-ghi-chep-khau-gay-40-trang-ke-ngang-phi-hanh-gia-a5-b5-deli-70gsm-phu-hop-lam-so-ke-hoach-planner-viet-nhat-ki-su-dung-nhu-tap-vo-hoc-sinh-1-quyen-fa540-n04-fb540-n08-p121367563.html?spid=121367569', 'Tên Sách': 'Sổ tay ghi chép khâu gáy 40 trang kẻ ngang phi hành gia A5 B5 Deli - 70gsm - Phù hợp làm sổ kế hoach planner, viết nhật kí, sử dụng như tập vở học sinh - 1 quyển - FA540-N04 / FB540-N08', 'Ảnh bìa': 'https://salt.tikicdn.com/cache/280x280/ts/product/9a/14/5c/9457b42068b5c886c7271dec120681de.png', 'Thương hiệu': 'Deli', 'Xuất xứ': 'Trung Quốc', 'Số trang': '40', 'Xuất xứ thương hiệu': 'Trung Quốc', 'Tác giả': '', 'Thể loại': 'Chăm sóc sức khỏe', 'Giá bìa': 11000, 'Nội dung tóm tắt': 'ổ   é â á   4 TÍNH NĂNG SẢN PHẨM:️Sổ tay ghi chép khâu gáy được sử dụng với mục đích ghi chép, vẽ phác thảo cho học sinh, người đi làm.️Sổ thiết kế bìa mỏng, nhẹ nhàng.️Chất lượng giấy đạt tiêu chuẩn...'}\n",
      "Number of products in my pocket 57\n",
      "co-hai-con-meo-ngoi-ben-cua-so-p105840461.html?spid=105840462\n",
      "{'path': 'co-hai-con-meo-ngoi-ben-cua-so-p105840461.html?spid=105840462', 'Tên Sách': 'Có Hai Con Mèo Ngồi Bên Cửa Sổ', 'Ảnh bìa': 'https://salt.tikicdn.com/cache/280x280/ts/product/0c/10/67/d9c752a519f962e2defd71cb39a34592.jpg', 'Công ty phát hành': 'NXB Trẻ', 'Loại bìa': 'Bìa mềm', 'Số trang': '208', 'Nhà xuất bản': 'NXB Trẻ', 'Tác giả': 'Nguyễn Nhật Ánh', 'Thể loại': 'Chăm sóc sức khỏe', 'Giá bìa': 68000, 'Nội dung tóm tắt': 'CÓ HAI CON MÈO NGỒI BÊN CỬA SỔ là tác phẩm đầu tiên của nhà văn Nguyễn Nhật Ánh viết theo thể loại đồng thoại. Đặc biệt hơn nữa là viết về tình bạn của hai loài vốn là thù địch của nhau mèo và chuột. ...'}\n",
      "Number of products in my pocket 58\n",
      "combo-nguyen-nhat-anh-cam-on-nguoi-lon-va-lam-ban-voi-bau-troi-tang-kem-so-tay-xuong-rong-p32788332.html?spid=89424097\n",
      "{'path': 'combo-nguyen-nhat-anh-cam-on-nguoi-lon-va-lam-ban-voi-bau-troi-tang-kem-so-tay-xuong-rong-p32788332.html?spid=89424097', 'Tên Sách': 'Combo Nguyễn Nhật Ánh: Cảm Ơn Người Lớn và Làm Bạn Với Bầu Trời ( Tặng Kèm Sổ Tay Xương Rồng)', 'Ảnh bìa': 'https://salt.tikicdn.com/cache/280x280/ts/product/54/e9/fe/604be88eacc4dce10228bc84141a2874.jpg', 'Công ty phát hành': 'NXB Trẻ', 'Ngày xuất bản': '2019-09-15 09:54:36', 'Kích thước': '13 x 20 cm\\n13 x 20 cm', 'Loại bìa': 'Bìa mềm', 'Số trang': '484', 'Nhà xuất bản': 'NXB Trẻ', 'Tác giả': 'Nguyễn Nhật Ánh', 'Thể loại': 'Chăm sóc sức khỏe', 'Giá bìa': 209000, 'Nội dung tóm tắt': 'Combo Nguyễn Nhật Ánh: Cảm Ơn Người Lớn và Làm Bạn Với Bầu Trời ( Tặng Kèm Sổ Tay Xương Rồng)Bản đặc biệt tặng kèm sổ tay xương rồng, mẫu ngẫu nhiên ( 1 trong 4 mẫu như hình ) và số lượng có hạn. C...'}\n",
      "Number of products in my pocket 59\n",
      "nguoi-tinh-phuong-dong-p12709443.html?spid=12709444\n",
      "{'path': 'nguoi-tinh-phuong-dong-p12709443.html?spid=12709444', 'Tên Sách': 'Người tình phương đông', 'Ảnh bìa': 'https://salt.tikicdn.com/cache/280x280/ts/product/14/a5/b4/8afb1b7663d06f05726641aea10415c1.jpg', 'Công ty phát hành': 'Nhà Sách 30 Hàn Thuyên', 'Kích thước': '13x19 cm', 'Dịch Giả': 'Vũ Đình Phòng', 'Loại bìa': 'Bìa cứng', 'Số trang': '208', 'Tác giả': 'Delli', 'Thể loại': 'Chăm sóc sức khỏe', 'Giá bìa': 22000, 'Nội dung tóm tắt': 'Nằm giữa một hoa viên rất lớn, Hoàng cung các vua chúa triều đại Pavalcitrên đảo Bozneo bao gồm hàng chục cung điện, lâu đài tráng lệ, nối với nhau bằng những hành lang dài xây bằng đá cẩm thạch. Mỗi ...'}\n",
      "Number of products in my pocket 60\n",
      "combo-2-so-lo-xo-co-huong-thom-200-trang-a6-hong-ha-scent-4158-p79471677.html?spid=79471679\n",
      "{'path': 'combo-2-so-lo-xo-co-huong-thom-200-trang-a6-hong-ha-scent-4158-p79471677.html?spid=79471679', 'Tên Sách': 'Combo 2 Sổ Lò Xo Có Hương Thơm 200 Trang A6 Hồng Hà Scent 4158', 'Ảnh bìa': 'https://salt.tikicdn.com/cache/280x280/ts/product/f5/5b/58/9ee9a197b245d43ecef64f468618299f.jpg', 'Thương hiệu': 'Hồng Hà', 'Xuất xứ': 'Việt Nam', 'Số trang': '200', 'Xuất xứ thương hiệu': 'Việt Nam', 'Tác giả': '', 'Thể loại': 'Chăm sóc sức khỏe', 'Giá bìa': 42000, 'Nội dung tóm tắt': 'Sổ lò xo 200 trang A6 Scent được thiết kế đặc biệt với bìa sổ có mùi thơm tinh dầu, giúp giảm căng thẳng và thư giãn cho người sử dụng. Bìa sổ được thiết kế độc đáo, bắt mắt với hình ảnh trái cây tươn...'}\n",
      "Number of products in my pocket 61\n",
      "cua-so-lich-su-van-hoa-viet-nam-p22553208.html?spid=22553209\n",
      "{'path': 'cua-so-lich-su-van-hoa-viet-nam-p22553208.html?spid=22553209', 'Tên Sách': 'Cửa Sổ Lịch Sử Văn Hóa Việt Nam', 'Ảnh bìa': 'https://salt.tikicdn.com/cache/280x280/ts/product/53/a2/c2/b424d9e5e8c73ad35b870dc5fc2f9dd2.jpg', 'Công ty phát hành': 'Vinabook JSC', 'Ngày xuất bản': '2019-07-12 10:55:26', 'Kích thước': '14 x 22', 'Loại bìa': 'Bìa mềm', 'Số trang': '408', 'Tác giả': 'GS. Hà Văn Tấn', 'Thể loại': 'Chăm sóc sức khỏe', 'Giá bìa': 109850, 'Nội dung tóm tắt': 'Trong tâm trí của nhiều người đương thời, tên tuổi Hà Văn Tấn được ghi nhận như một nhà khoa học đầu đàn trong lĩnh vực khảo cổ học, một trong những ngành khoa học đòi hỏi trình độ chính xác cao; và ở...'}\n",
      "Number of products in my pocket 62\n",
      "combo-sach-van-hoc-thu-hut-nhieu-doc-gia-ong-tram-tuoi-treo-qua-cua-so-va-bien-mat-tai-ban-totto-chan-ben-cua-so-tai-ban-top-nhung-cuon-sach-best-seller-trong-thang-p54925142.html?spid=54925143\n",
      "{'path': 'combo-sach-van-hoc-thu-hut-nhieu-doc-gia-ong-tram-tuoi-treo-qua-cua-so-va-bien-mat-tai-ban-totto-chan-ben-cua-so-tai-ban-top-nhung-cuon-sach-best-seller-trong-thang-p54925142.html?spid=54925143', 'Tên Sách': 'Combo Sách Văn Học Thu Hút Nhiều Đọc Giả: Ông Trăm Tuổi Trèo Qua Cửa Sổ Và Biến Mất (Tái Bản) + Totto - Chan Bên Cửa Sổ (Tái Bản) / Top Những Cuốn Sách Best-seller Trong Tháng', 'Ảnh bìa': 'https://salt.tikicdn.com/cache/280x280/ts/product/d3/2c/7a/c2f176bc7becc6c6ad2020fe6d8f8e94.jpg', 'Công ty phát hành': 'NXB Trẻ', 'Loại bìa': 'Bìa mềm', 'Nhà xuất bản': 'NXB Trẻ', 'Tác giả': ' Nhiều Tác Giả', 'Thể loại': 'Chăm sóc sức khỏe', 'Giá bìa': 239900, 'Nội dung tóm tắt': 'Combo Sách Văn Học Thu Hút Nhiều Đọc Giả: Ông Trăm Tuổi Trèo Qua Cửa Sổ Và Biến Mất (Tái Bản) + Totto - Chan Bên Cửa Sổ (Tái Bản) / Top Những Cuốn Sách Best-seller Trong ThángÔng Trăm Tuổi Trèo Qua C...'}\n",
      "Number of products in my pocket 63\n",
      "combo-tieu-thuyet-an-khach-nhat-toan-cau-co-gai-mu-chu-pha-bom-nguyen-tu-ong-tram-tuoi-treo-qua-cua-so-va-bien-mat-tang-kem-bookmark-green-life-p37158793.html?spid=72010815\n",
      "{'path': 'combo-tieu-thuyet-an-khach-nhat-toan-cau-co-gai-mu-chu-pha-bom-nguyen-tu-ong-tram-tuoi-treo-qua-cua-so-va-bien-mat-tang-kem-bookmark-green-life-p37158793.html?spid=72010815', 'Tên Sách': 'Combo Tiểu Thuyết Ăn Khách Nhất Toàn Cầu: Cô Gái Mù Chữ Phá Bom Nguyên Tử + Ông Trăm Tuổi Trèo Qua Cửa Sổ Và Biến Mất (Tặng Kèm Bookmark Green Life)', 'Ảnh bìa': 'https://salt.tikicdn.com/cache/280x280/ts/product/4a/b1/fb/c84dac0c9d6e6e23cdd1bd3081160f73.jpg', 'Công ty phát hành': '-', 'Loại bìa': 'Bìa mềm', 'Tác giả': 'Jonas Jonasson', 'Thể loại': 'Chăm sóc sức khỏe', 'Giá bìa': 318000, 'Nội dung tóm tắt': 'Combo Tiểu Thuyết Ăn Khách Nhất Toàn Cầu: Cô Gái Mù Chữ Phá Bom Nguyên Tử + Ông Trăm Tuổi Trèo Qua Cửa Sổ Và Biến Mất (Tặng Kèm Bookmark Green Life) Một combo đặc sắc, \"khủng\" nhất của Jonas Jonasso...'}\n",
      "Number of products in my pocket 64\n",
      "so-tay-ghi-chep-a5-bia-da-pu-deli-112-trang-mau-cam-vang-1-quyen-3183-p88974369.html?spid=88974371\n",
      "{'path': 'so-tay-ghi-chep-a5-bia-da-pu-deli-112-trang-mau-cam-vang-1-quyen-3183-p88974369.html?spid=88974371', 'Tên Sách': 'Sổ tay ghi chép A5 bìa da PU Deli 112 trang - Màu Cam/Vàng - 1 quyển - 3183', 'Ảnh bìa': 'https://salt.tikicdn.com/cache/280x280/ts/product/33/a1/6e/447f33c2b7d04ae97bc39c10676f297f.png', 'Thương hiệu': 'Deli', 'Xuất xứ': 'Trung Quốc', 'Xuất xứ thương hiệu': 'Trung Quốc', 'Tác giả': '', 'Thể loại': 'Chăm sóc sức khỏe', 'Giá bìa': 125000, 'Nội dung tóm tắt': '@   - Ử À ĐỘ Ề Ả Ẩ   Ấ Ạ Ệ ổ ì  ổ   TÍNH NĂNG SẢN PHẨM: ️Sổ tay được thiết kế với màu sắc nổi bật, trẻ trung. Phù hợp với mọi mục đích sử dụng trong việc ghi chép, vẽ phác thảo. ️Bìa mặt da sổ PU cao...'}\n",
      "Number of products in my pocket 65\n"
     ]
    },
    {
     "name": "stdout",
     "output_type": "stream",
     "text": [
      "combo-totto-chan-ben-cua-so-va-dieu-ky-dieu-cua-tiem-tap-hoa-tang-kem-so-tay-p10384347.html?spid=10384348\n",
      "{'path': 'combo-totto-chan-ben-cua-so-va-dieu-ky-dieu-cua-tiem-tap-hoa-tang-kem-so-tay-p10384347.html?spid=10384348', 'Tên Sách': 'Combo Totto-Chan Bên Cửa Sổ và Điều Kỳ Diệu Của Tiệm Tạp Hóa ( Tặng Kèm Sổ Tay )', 'Ảnh bìa': 'https://salt.tikicdn.com/cache/280x280/ts/product/69/94/0e/9bcae59895d771d0b0dcdfae67ef74c0.jpg', 'Công ty phát hành': 'Nhã Nam', 'Ngày xuất bản': '2018-07-18 10:04:21', 'Kích thước': '14 x 19 cm\\n14 x 20.5 cm', 'Loại bìa': 'Bìa mềm', 'Số trang': '713', 'Tác giả': 'Kuroyanagi Tetsuko,Higachino Keigo', 'Thể loại': 'Chăm sóc sức khỏe', 'Giá bìa': 172550, 'Nội dung tóm tắt': 'Combo Totto-Chan Bên Cửa Sổ và Điều Kỳ Diệu Của Tiệm Tạp Hóa ( Tặng Kèm Sổ Tay )Bản đặc biệt tặng kèm sổ tay , mẫu  ngẫu nhiên và số lượng có hạn.Totto-Chan Bên Cửa SổVừa vào lớp một được vài ngày,...'}\n",
      "Number of products in my pocket 66\n",
      "muu-sat-tu-kim-tran-tai-ban-tang-kem-so-tay-p42460486.html?spid=73207397\n",
      "{'path': 'muu-sat-tu-kim-tran-tai-ban-tang-kem-so-tay-p42460486.html?spid=73207397', 'Tên Sách': 'Mưu Sát - Tử Kim Trần ( Tái Bản ) - Tặng Kèm Sổ Tay', 'Ảnh bìa': 'https://salt.tikicdn.com/cache/280x280/ts/product/13/31/2b/9f047d0899f19b61cb21645d557f0a3e.jpg', 'Công ty phát hành': 'Cổ Nguyệt Books', 'Dịch Giả': 'Hương Ly', 'Loại bìa': 'Bìa mềm', 'Số trang': '419', 'Nhà xuất bản': 'Nhà Xuất Bản Văn Học', 'Tác giả': 'Tử Kim Trần', 'Thể loại': 'Chăm sóc sức khỏe', 'Giá bìa': 115000, 'Nội dung tóm tắt': 'Mưu Sát (Tái Bản 2019)Từ Sách tốt nghiệp tiến sĩ ngành Tâm lý học ở trường Đại học California của Mỹ. Người mẹ đơn thân của anh bị chết trong vụ phá dỡ nhà của Ban Cải tạo khu vực cũ. Anh ta từ Mỹ tr...'}\n",
      "Number of products in my pocket 67\n",
      "combo-con-cho-nho-mang-gio-hoa-hong-va-toi-la-beto-tang-kem-so-tay-xuong-rong-p23028216.html?spid=23028217\n",
      "{'path': 'combo-con-cho-nho-mang-gio-hoa-hong-va-toi-la-beto-tang-kem-so-tay-xuong-rong-p23028216.html?spid=23028217', 'Tên Sách': 'Combo Con Chó Nhỏ Mang Giỏ Hoa Hồng và Tôi Là Bêtô (Tặng Kèm Sổ Tay Xương Rồng)', 'Ảnh bìa': 'https://salt.tikicdn.com/cache/280x280/ts/product/ff/56/45/924f281d49f57815d58b1d8dbca9a224.jpg', 'Công ty phát hành': 'NXB Trẻ', 'Ngày xuất bản': '2019-07-01 13:20:40', 'Kích thước': '13 x 20 cm\\n13 x 20 cm', 'Loại bìa': 'Bìa mềm', 'Tác giả': 'Nguyễn Nhật Ánh', 'Thể loại': 'Chăm sóc sức khỏe', 'Giá bìa': 166000, 'Nội dung tóm tắt': 'Combo Con Chó Nhỏ Mang Giỏ Hoa Hồng và Tôi Là Bêtô ( Tặng Kèm Sổ Tay Xương Rồng )Bản đặc biệt tặng kèm sổ tay xương rồng, mẫu ngẫu nhiên ( 1 trong 4 mẫu như hình ) và số lượng có hạn Con Chó Nhỏ Ma...'}\n",
      "Number of products in my pocket 68\n",
      "so-tay-ghi-chep-b5-gay-lo-xo-60-trang-deli-xanh-duong-hong-vang-xanh-la-qhb560-p89178267.html?spid=89178273\n",
      "{'path': 'so-tay-ghi-chep-b5-gay-lo-xo-60-trang-deli-xanh-duong-hong-vang-xanh-la-qhb560-p89178267.html?spid=89178273', 'Tên Sách': 'Sổ Tay Ghi Chép B5 Gáy Lò Xo 60 Trang Deli - Xanh Dương/Hồng/Vàng/Xanh Lá - QHB560', 'Ảnh bìa': 'https://salt.tikicdn.com/cache/280x280/ts/product/01/56/8b/21b523f8ba1b3415d2a0eb57e45d46f2.jpg', 'Thương hiệu': 'Deli', 'Xuất xứ': 'Trung Quốc', 'Xuất xứ thương hiệu': 'Trung Quốc', 'Tác giả': '', 'Thể loại': 'Chăm sóc sức khỏe', 'Giá bìa': 99000, 'Nội dung tóm tắt': 'TÍNH NĂNG SẢN PHẨM:️Sổ tay được thiết kế các màu tông nhẹ nhàng, trong suốt. ️Sổ gáy xoắn có thể xoay được các trang, đặc biệt là có thể tháo rời để lấy giấy bên trong.️Sổ được chia mục rõ ràng, thuận...'}\n",
      "Number of products in my pocket 69\n",
      "bo-tro-choi-vuong-quyen-phan-5-3-cuon-5a-5b-5c-tang-kem-so-tay-p25749292.html?spid=25749293\n",
      "{'path': 'bo-tro-choi-vuong-quyen-phan-5-3-cuon-5a-5b-5c-tang-kem-so-tay-p25749292.html?spid=25749293', 'Tên Sách': 'Bộ Trò Chơi Vương Quyền - Phần 5 (3 Cuốn 5A & 5B & 5C) - Tặng kèm sổ tay', 'Ảnh bìa': 'https://salt.tikicdn.com/cache/280x280/ts/product/f1/5e/3e/1c2e78f8b27f469e4d52445483caa348.jpg', 'Công ty phát hành': 'Alphabooks', 'Ngày xuất bản': '2019-05-16 15:41:27', 'Kích thước': '14 x 20,5 cm', 'Loại bìa': 'Bìa mềm', 'Tác giả': 'George R.R. Martin', 'Thể loại': 'Chăm sóc sức khỏe', 'Giá bìa': 477000, 'Nội dung tóm tắt': 'Bộ sách đồ sộ và đình đám Trò chơi vương quyền là một series tiểu thuyết sử thi viễn tưởng của tiểu thuyết gia nổi tiếng người Mỹ George R. R. Martin. Lấy cảm hứng từ tiểu thuyết \"Cuộc chiến hoa hồng\"...'}\n",
      "Number of products in my pocket 70\n",
      "cung-chi-la-hat-bui-tai-ban-tang-kem-so-tay-p37400892.html?spid=84874940\n",
      "{'path': 'cung-chi-la-hat-bui-tai-ban-tang-kem-so-tay-p37400892.html?spid=84874940', 'Tên Sách': 'Cũng Chỉ Là Hạt Bụi (Tái Bản) - Tặng Kèm Sổ Tay', 'Ảnh bìa': 'https://salt.tikicdn.com/cache/280x280/ts/product/0f/eb/0f/db9b3e67785de0b7cbca550a86842c03.jpg', 'Công ty phát hành': 'VanVietBooks', 'Kích thước': '14.5 x 20.5 cm', 'Dịch Giả': 'Vương Thanh Tâm', 'Loại bìa': 'Bìa mềm', 'Số trang': '448', 'Tác giả': 'Mộc Phù Sinh', 'Thể loại': 'Chăm sóc sức khỏe', 'Giá bìa': 98280, 'Nội dung tóm tắt': '“Thực ra còn một câu nữa.” Anh vẫn chưa buông cô ra, cứ để cô kẹp giữa khe tủ và người mình. “Hửm?” Tăng Lý vừa chạm nhẹ vào miếng gạc, vừa lên tiếng. “Lần trước nói chuyện điện thoại, tôi có hỏ...'}\n",
      "Number of products in my pocket 71\n",
      "combo-oxford-thuong-yeu-va-venise-va-nhung-cuoc-tinh-gondola-tang-kem-so-tay-xuong-rong-p25121597.html?spid=89424040\n",
      "{'path': 'combo-oxford-thuong-yeu-va-venise-va-nhung-cuoc-tinh-gondola-tang-kem-so-tay-xuong-rong-p25121597.html?spid=89424040', 'Tên Sách': 'Combo Oxford Thương Yêu và Venise Và Những Cuộc Tình Gondola ( Tặng Kèm Sổ Tay Xương Rồng)', 'Ảnh bìa': 'https://salt.tikicdn.com/cache/280x280/ts/product/84/d5/3e/a46ac2e96cdca9d8b51b6e676e5d60ec.jpg', 'Công ty phát hành': 'NXB Trẻ', 'Ngày xuất bản': '2019-01-01 21:45:29', 'Kích thước': '13 x 20 cm\\n13 x 20 cm', 'Loại bìa': 'Bìa mềm', 'Số trang': '624', 'Nhà xuất bản': 'NXB Trẻ', 'Tác giả': 'Dương Thụy,Dương Thụy', 'Thể loại': 'Chăm sóc sức khỏe', 'Giá bìa': 188100, 'Nội dung tóm tắt': 'Combo Oxford Thương Yêu và Venise Và Những Cuộc Tình Gondola ( Tặng Kèm Sổ Tay Xương Rồng)Bản đặc biệt tặng kèm sổ tay xương rồng, mẫu ngẫu nhiên ( 1 trong 4 mẫu như hình ) và số lượng có hạnOxford...'}\n",
      "Number of products in my pocket 72\n",
      "so-tay-ghi-chep-khau-gay-40-trang-ke-ngang-phi-hanh-gia-a5-b5-deli-70gsm-phu-hop-lam-so-ke-hoach-planner-viet-nhat-ki-su-dung-nhu-tap-vo-hoc-sinh-1-quyen-fa540-n04-fb540-n08-p121367563.html?spid=121367569\n",
      "{'path': 'so-tay-ghi-chep-khau-gay-40-trang-ke-ngang-phi-hanh-gia-a5-b5-deli-70gsm-phu-hop-lam-so-ke-hoach-planner-viet-nhat-ki-su-dung-nhu-tap-vo-hoc-sinh-1-quyen-fa540-n04-fb540-n08-p121367563.html?spid=121367569', 'Tên Sách': 'Sổ tay ghi chép khâu gáy 40 trang kẻ ngang phi hành gia A5 B5 Deli - 70gsm - Phù hợp làm sổ kế hoach planner, viết nhật kí, sử dụng như tập vở học sinh - 1 quyển - FA540-N04 / FB540-N08', 'Ảnh bìa': 'https://salt.tikicdn.com/cache/280x280/ts/product/9a/14/5c/9457b42068b5c886c7271dec120681de.png', 'Thương hiệu': 'Deli', 'Xuất xứ': 'Trung Quốc', 'Số trang': '40', 'Xuất xứ thương hiệu': 'Trung Quốc', 'Tác giả': '', 'Thể loại': 'Chăm sóc sức khỏe', 'Giá bìa': 11000, 'Nội dung tóm tắt': 'ổ   é â á   4 TÍNH NĂNG SẢN PHẨM:️Sổ tay ghi chép khâu gáy được sử dụng với mục đích ghi chép, vẽ phác thảo cho học sinh, người đi làm.️Sổ thiết kế bìa mỏng, nhẹ nhàng.️Chất lượng giấy đạt tiêu chuẩn...'}\n",
      "Number of products in my pocket 73\n",
      "combo-khuyen-hoc-va-plato-va-con-thu-mo-vit-buoc-vao-quan-bar-tang-kem-so-tay-p10381425.html?spid=76755973\n",
      "{'path': 'combo-khuyen-hoc-va-plato-va-con-thu-mo-vit-buoc-vao-quan-bar-tang-kem-so-tay-p10381425.html?spid=76755973', 'Tên Sách': 'Combo Khuyến Học và Plato Và Con Thú Mỏ Vịt Bước Vào Quán Bar (Tặng Kèm Sổ Tay)', 'Ảnh bìa': 'https://salt.tikicdn.com/cache/280x280/ts/product/47/53/a9/ca060ab2de30ee44c2948f416a8d9d50.jpg', 'Công ty phát hành': 'Nhã Nam', 'Ngày xuất bản': '2018-06-21 21:42:09', 'Kích thước': '13 x 20.5 cm\\n13.5 x 20.5 cm', 'Loại bìa': 'Bìa mềm', 'Số trang': '516', 'Nhà xuất bản': 'Nhà Xuất Bản Thế Giới', 'Tác giả': 'Fukuzawa Yukichi,Thomas Cathcart & Daniel Klein', 'Thể loại': 'Chăm sóc sức khỏe', 'Giá bìa': 128900, 'Nội dung tóm tắt': 'Combo Khuyến Học và Plato Và Con Thú Mỏ Vịt Bước Vào Quán Bar ( Tặng Kèm Sổ Tay )Bản đặc biệt tặng kèm sổ tay , mẫu ngẫu nhiên và số lượng có hạn.Khuyến họcKhuyến học không phải là tác phẩm đồ sộ ...'}\n",
      "Number of products in my pocket 74\n",
      "combo-3-cuon-van-hoc-tieu-thuyet-hay-hoang-tu-be-thung-lung-cau-vong-totto-chan-ben-cua-so-poster-an-toan-p100299337.html?spid=101626796\n",
      "{'path': 'combo-3-cuon-van-hoc-tieu-thuyet-hay-hoang-tu-be-thung-lung-cau-vong-totto-chan-ben-cua-so-poster-an-toan-p100299337.html?spid=101626796', 'Tên Sách': 'Combo 3 cuốn văn học tiểu thuyết hay: Hoàng Tử Bé  + Thung Lũng Cầu Vồng + Totto - Chan Bên Cửa Sổ + Poster an toàn  ', 'Ảnh bìa': 'https://salt.tikicdn.com/cache/280x280/ts/product/b5/23/0b/ef2b67b46d19f6f7e65c395e4fef8f77.jpg', 'Công ty phát hành': 'Nhã Nam ', 'Nhà xuất bản': 'Nhà Xuất Bản Hội Nhà Văn', 'Tác giả': '', 'Thể loại': 'Chăm sóc sức khỏe', 'Giá bìa': 275500, 'Nội dung tóm tắt': '1.Hoàng Tử Bé Hoàng tử bé được viết ở New York trong những ngày tác giả sống lưu vong và được xuất bản lần đầu tiên tại New York vào năm 1943, rồi đến năm 1946 mới được xuất bản tại Pháp. Không nghi ...'}\n",
      "Number of products in my pocket 75\n"
     ]
    },
    {
     "name": "stdout",
     "output_type": "stream",
     "text": [
      "combo-3-cuon-truyen-hay-chien-binh-cau-vong-tai-ban-2020-hoang-tu-be-tai-ban-2019-totto-chan-ben-cua-so-tai-ban-p74527077.html?spid=76099353\n",
      "{'path': 'combo-3-cuon-truyen-hay-chien-binh-cau-vong-tai-ban-2020-hoang-tu-be-tai-ban-2019-totto-chan-ben-cua-so-tai-ban-p74527077.html?spid=76099353', 'Tên Sách': 'Combo 3 cuốn truyện hay:Chiến Binh Cầu Vồng (Tái Bản 2020) + Hoàng Tử Bé (Tái Bản 2019) +Totto - Chan Bên Cửa Sổ (Tái Bản)', 'Ảnh bìa': 'https://salt.tikicdn.com/cache/280x280/ts/product/02/e0/32/6d95773cdb51445a2d971479bf66fb7c.jpg', 'Công ty phát hành': 'Nhã Nam', 'Nhà xuất bản': 'Nhà Xuất Bản Văn Học', 'Tác giả': '', 'Thể loại': 'Chăm sóc sức khỏe', 'Giá bìa': 253700, 'Nội dung tóm tắt': '   1.Totto - Chan Bên Cửa Sổ (Tái Bản).Không còn cách nào khác, mẹ đành đưa Totto-chan đến một ngôi trường mới, trường Tomoe. Đấy là một ngôi trường kỳ lạ, lớp học thì ở trong toa xe điện cũ, học sin...'}\n",
      "Number of products in my pocket 76\n",
      "giay-ruot-refill-so-cong-6-lo-a5-lap-ke-hoach-60-to-dinh-luong-100gsm-cua-self-planner-p71883197.html?spid=120424019\n",
      "{'path': 'giay-ruot-refill-so-cong-6-lo-a5-lap-ke-hoach-60-to-dinh-luong-100gsm-cua-self-planner-p71883197.html?spid=120424019', 'Tên Sách': 'Giấy / Ruột refill sổ còng 6 lỗ A5 lập kế hoạch 60 tờ, định lượng 100gsm của Self Planner', 'Ảnh bìa': 'https://salt.tikicdn.com/cache/280x280/ts/product/fc/f3/73/62eb73333eebd311cb0c5b5b08fd422b.jpg', 'Thương hiệu': 'Self Planner', 'Xuất xứ': 'Việt Nam', 'Xuất xứ thương hiệu': 'Việt Nam', 'Tác giả': '', 'Thể loại': 'Chăm sóc sức khỏe', 'Giá bìa': 65000, 'Nội dung tóm tắt': 'Self Planner tiếp tục tiên phong trongh dòng sổ tay lập kế hoạch được in sẵn layout với tất cả chủ đề trong cuộc sống từ lập kế hoạch cá nhân, nhật ký, quản lý thu chi, học tậRuột sổ refill được sử d...'}\n",
      "Number of products in my pocket 77\n",
      "combo-ong-tram-tuoi-treo-qua-cua-so-va-bien-mat-co-gai-mu-chu-pha-bom-nguyen-tu-va-ander-sat-thu-cung-be-lu-3-cuon-p10226616.html?spid=89414618\n",
      "{'path': 'combo-ong-tram-tuoi-treo-qua-cua-so-va-bien-mat-co-gai-mu-chu-pha-bom-nguyen-tu-va-ander-sat-thu-cung-be-lu-3-cuon-p10226616.html?spid=89414618', 'Tên Sách': 'Combo Ông Trăm Tuổi Trèo Qua Cửa Sổ Và Biến Mất, Cô Gái Mù Chữ Phá Bom Nguyên Tử Và Ander Sát Thủ Cùng Bè Lũ (3 Cuốn)', 'Ảnh bìa': 'https://salt.tikicdn.com/cache/280x280/ts/product/26/59/69/69a9aff9810d5f9254c6d97f24397633.jpg', 'Công ty phát hành': 'NXB Trẻ', 'Ngày xuất bản': '2019-01-01 00:00:00', 'Kích thước': '13 x 20 cm', 'Loại bìa': 'Bìa mềm', 'Nhà xuất bản': 'NXB Trẻ', 'Tác giả': 'Jonas Jonasson', 'Thể loại': 'Chăm sóc sức khỏe', 'Giá bìa': 430000, 'Nội dung tóm tắt': 'Nhưng một người đã sống qua một thế kỷ thì không dễ gì tóm cụ ta được. Cuốn tiểu thuyết hồi tưởng lại cuộc đời phiêu lưu của Allan Karlsson, người đã đi khắp thế giới từ những năm trước Đại chiến thế ...'}\n",
      "Number of products in my pocket 78\n",
      "sach-cang-doc-lap-cang-cao-quy-kem-so-tay-p77231053.html?spid=77231054\n",
      "{'path': 'sach-cang-doc-lap-cang-cao-quy-kem-so-tay-p77231053.html?spid=77231054', 'Tên Sách': ' Sách - Càng Độc Lập Càng Cao Quý ( Kèm Sổ Tay )', 'Ảnh bìa': 'https://salt.tikicdn.com/cache/280x280/ts/product/37/55/8c/14fe5cbc27b7bb5fc51c971732069bd9.jpg', 'Công ty phát hành': '1980 Books', 'Nhà xuất bản': 'Nhà Xuất Bản Phụ Nữ', 'Tác giả': 'Vãn Tình', 'Thể loại': 'Chăm sóc sức khỏe', 'Giá bìa': 72000, 'Nội dung tóm tắt': '       Tác giả: Vãn Tình   Nhà xuất bản: NXB Phụ Nữ .   Năm xuất bản: 2019   Số trang: 368   Giới thiệu sách:   Này cô gái, bất luận cuộc đời mang đến cho ta bao nhiêu chông gai thử thách, xi...'}\n",
      "Number of products in my pocket 79\n",
      "giot-nuoc-mat-em-roi-dang-sau-o-cua-so-p2842409.html?spid=2848789\n",
      "{'path': 'giot-nuoc-mat-em-roi-dang-sau-o-cua-so-p2842409.html?spid=2848789', 'Tên Sách': 'Giọt Nước Mắt Em Rơi Đằng Sau Ô Cửa Sổ', 'Ảnh bìa': 'https://salt.tikicdn.com/cache/280x280/ts/product/7b/02/34/ceb3eac1c30518fdacdcd53ddbff2164.jpg', 'Công ty phát hành': 'Limbooks', 'Loại bìa': 'Bìa mềm', 'Số trang': '208', 'Tác giả': 'Ngân Kim', 'Thể loại': 'Chăm sóc sức khỏe', 'Giá bìa': 42000, 'Nội dung tóm tắt': 'Giọt Nước Mắt Em Rơi Đằng Sau Ô Cửa SổTập truyện ngắn viết về những bi kịch trong gia đình, đặc biệt là cảm nhận của những người đàn bà khi cuộc hôn nhân tan vỡ. Tựa đề tập truyện lấy ý tưởng từ sự ...'}\n",
      "Number of products in my pocket 80\n",
      "so-tay-ghi-chep-32k-96-trang-deli-tich-hop-khoa-keo-vi-dung-tien-loi-xanh-duong-hong-22220-p88969236.html?spid=88969238\n",
      "{'path': 'so-tay-ghi-chep-32k-96-trang-deli-tich-hop-khoa-keo-vi-dung-tien-loi-xanh-duong-hong-22220-p88969236.html?spid=88969238', 'Tên Sách': 'Sổ Tay Ghi Chép 32K 96 Trang Deli - Tích Hợp Khóa Kéo Ví Đựng Tiện Lợi - Xanh Dương/Hồng - 22220', 'Ảnh bìa': 'https://salt.tikicdn.com/cache/280x280/ts/product/ed/81/5b/673c21cf3f4e3752b65e722b27b17149.png', 'Thương hiệu': 'Deli', 'Xuất xứ': 'Trung Quốc', 'Xuất xứ thương hiệu': 'Trung Quốc', 'Tác giả': '', 'Thể loại': 'Chăm sóc sức khỏe', 'Giá bìa': 215000, 'Nội dung tóm tắt': 'TÍNH NĂNG SẢN PHẨM:️Sổ tay được bọc bằng da chất lượng tốt, có khả năng chống nước và dễ dàng vệ sinh bên ngoài sổ.️Sổ tay được tích hợp với khóa kéo và khe giữ bút, phù hợp cho các nàng đa-zi-năng hi...'}\n",
      "Number of products in my pocket 81\n",
      "combo-neu-em-khong-phai-mot-giac-mo-va-mot-y-niem-khac-ve-hanh-phuc-tang-kem-so-tay-xuong-rong-p24989992.html?spid=80915071\n",
      "{'path': 'combo-neu-em-khong-phai-mot-giac-mo-va-mot-y-niem-khac-ve-hanh-phuc-tang-kem-so-tay-xuong-rong-p24989992.html?spid=80915071', 'Tên Sách': 'Combo Nếu Em Không Phải Một Giấc Mơ  và Một Ý Niệm Khác Về Hạnh Phúc ( Tặng kèm Sổ Tay Xương Rồng)', 'Ảnh bìa': 'https://salt.tikicdn.com/cache/280x280/ts/product/a5/84/93/3adc5e5b7399cbc2723021312a8fcd9a.jpg', 'Công ty phát hành': 'Nhã Nam', 'Ngày xuất bản': '2019-07-01 18:52:54', 'Kích thước': '13 x 20.5 cm\\n13 x 20.5 cm', 'Loại bìa': 'Bìa mềm', 'Số trang': '623', 'Nhà xuất bản': 'Nhà Xuất Bản Hội Nhà Văn', 'Tác giả': 'Marc Levy', 'Thể loại': 'Chăm sóc sức khỏe', 'Giá bìa': 134940, 'Nội dung tóm tắt': 'Combo Nếu Em Không Phải Một Giấc Mơ  và Một Ý Niệm Khác Về Hạnh Phúc ( Tặng kèm Sổ Tay Xương Rồng)Bản đặc biệt tặng kèm sổ tay xương rồng, mẫu ngẫu nhiên ( 1 trong 4 mẫu như hình ) và số lượng có hạn...'}\n",
      "Number of products in my pocket 82\n",
      "combo-nguyen-nhat-anh-suong-khoi-que-nha-thuong-nho-tra-long-va-nguoi-quang-di-an-mi-quang-tang-kem-so-tay-xuong-rong-p23224563.html?spid=23224564\n",
      "{'path': 'combo-nguyen-nhat-anh-suong-khoi-que-nha-thuong-nho-tra-long-va-nguoi-quang-di-an-mi-quang-tang-kem-so-tay-xuong-rong-p23224563.html?spid=23224564', 'Tên Sách': 'Combo Nguyễn Nhật Ánh: Sương Khói Quê Nhà- Thương Nhớ Trà Long và Người Quảng Đi Ăn Mì Quảng ( Tặng Kèm Sổ Tay Xương Rồng)', 'Ảnh bìa': 'https://salt.tikicdn.com/cache/280x280/ts/product/32/32/72/82033ae86bf868f0338b7daa8ea130b9.jpg', 'Công ty phát hành': 'NXB Trẻ', 'Ngày xuất bản': '2019-07-01 21:39:58', 'Kích thước': '13 x 20 cm\\n13 x 20 cm\\n13 x 20 cm', 'Loại bìa': 'Bìa mềm', 'Tác giả': 'Nguyễn Nhật Ánh', 'Thể loại': 'Chăm sóc sức khỏe', 'Giá bìa': 195000, 'Nội dung tóm tắt': 'Combo Nguyễn Nhật Ánh: Sương Khói Quê Nhà- Thương Nhớ Trà Long và Người Quảng Đi Ăn Mì Quảng ( Tặng Kèm Sổ Tay Xương Rồng)Bản đặc biệt tặng kèm sổ tay xương rồng, mẫu ngẫu nhiên ( 1 trong 4 mẫu như h...'}\n",
      "Number of products in my pocket 83\n",
      "combo-nguyen-nhat-anh-nu-sinh-bo-cau-khong-dua-thu-va-buoi-chieu-windows-tang-kem-so-tay-xuong-rong-p23193323.html?spid=23193324\n",
      "{'path': 'combo-nguyen-nhat-anh-nu-sinh-bo-cau-khong-dua-thu-va-buoi-chieu-windows-tang-kem-so-tay-xuong-rong-p23193323.html?spid=23193324', 'Tên Sách': 'Combo Nguyễn Nhật Ánh: Nữ Sinh- Bồ Câu Không Đưa Thư và Buổi Chiều Windows ( Tặng kèm Sổ Tay Xương Rồng)', 'Ảnh bìa': 'https://salt.tikicdn.com/cache/280x280/ts/product/bb/87/39/542c44b4d57bce47442347031547a722.jpg', 'Công ty phát hành': 'NXB Trẻ', 'Ngày xuất bản': '2019-07-01 16:15:12', 'Kích thước': '12 x 20 cm\\n12 x 20 cm\\n12 x 20 cm', 'Loại bìa': 'Bìa mềm', 'Số trang': '560', 'Tác giả': 'Nguyễn Nhật Ánh', 'Thể loại': 'Chăm sóc sức khỏe', 'Giá bìa': 155550, 'Nội dung tóm tắt': 'Combo Nguyễn Nhật Ánh: Nữ Sinh- Bồ Câu Không Đưa Thư và Buổi Chiều Windows ( Tặng kèm Sổ Tay Xương Rồng)Bản đặc biệt tặng kèm sổ tay xương rồng, mẫu ngẫu nhiên ( 1 trong 4 mẫu như hình ) và số lượng ...'}\n",
      "Number of products in my pocket 84\n"
     ]
    },
    {
     "name": "stdout",
     "output_type": "stream",
     "text": [
      "so-tay-vo-ghi-b5-40-trang-hoa-anh-dao-nhat-ban-deli-ke-ngang-wb540-01-p110583116.html?spid=110583165\n",
      "{'path': 'so-tay-vo-ghi-b5-40-trang-hoa-anh-dao-nhat-ban-deli-ke-ngang-wb540-01-p110583116.html?spid=110583165', 'Tên Sách': 'Sổ tay vở ghi B5 40 trang hoa anh đào Nhật Bản Deli - Kẻ ngang - WB540-01', 'Ảnh bìa': 'https://salt.tikicdn.com/cache/280x280/ts/product/75/ad/37/8b36d5a59dfd305984abe8c68b879d24.jpg', 'Thương hiệu': 'Deli', 'Xuất xứ': 'Trung Quốc', 'Xuất xứ thương hiệu': 'Trung Quốc', 'Tác giả': '', 'Thể loại': 'Chăm sóc sức khỏe', 'Giá bìa': 18000, 'Nội dung tóm tắt': 'TÍNH NĂNG SẢN PHẨM:️Sổ tay ghi chép khâu gáy được sử dụng với mục đích ghi chép, vẽ phác thảo cho học sinh, người đi làm.️Sổ thiết kế bìa mỏng, nhẹ nhàng. Họa tiết đơn giản kết hợp với thước kẻ ngay t...'}\n",
      "Number of products in my pocket 85\n",
      "hay-yeu-mot-nguoi-xung-dang-la-dan-ong-tang-kem-so-tay-p38086166.html?spid=106276531\n",
      "{'path': 'hay-yeu-mot-nguoi-xung-dang-la-dan-ong-tang-kem-so-tay-p38086166.html?spid=106276531', 'Tên Sách': 'Hãy Yêu Một Người Xứng Đáng Là Đàn Ông - Tặng Kèm Sổ Tay', 'Ảnh bìa': 'https://salt.tikicdn.com/cache/280x280/ts/product/39/f8/4d/9f9fa939882881b8d973475f134ea584.jpg', 'Công ty phát hành': 'VanVietBooks', 'Kích thước': '13 x 19 cm', 'Dịch Giả': 'Tố Hinh', 'Loại bìa': 'Bìa mềm', 'Số trang': '295', 'Tác giả': '', 'Thể loại': 'Chăm sóc sức khỏe', 'Giá bìa': 84550, 'Nội dung tóm tắt': 'Hãy Yêu Một Người Xứng Đáng Là Đàn ÔngCó người nói rằng: “Không có mệnh công chúa, vậy phải có một trái tim nữ hoàng, dùng thái độ tích cực sống một cuộc đời hoàn mỹ.” Khi tuổi trẻ và nhan sắc dần rờ...'}\n",
      "Number of products in my pocket 86\n",
      "phuong-phap-dau-tu-warren-buffett-tang-kem-so-tay-p35129711.html?spid=73765993\n",
      "{'path': 'phuong-phap-dau-tu-warren-buffett-tang-kem-so-tay-p35129711.html?spid=73765993', 'Tên Sách': 'Phương Pháp Đầu Tư Warren Buffett - Tặng kèm sổ tay', 'Ảnh bìa': 'https://salt.tikicdn.com/cache/280x280/ts/product/4f/a7/67/ccf136823ebf5fc346c46ef7676385dd.jpg', 'Công ty phát hành': 'Alphabooks', 'Kích thước': '13 x 20.5 cm', 'Loại bìa': 'Bìa mềm', 'Số trang': '360', 'Nhà xuất bản': 'Nhà Xuất Bản Lao Động Xã Hội', 'Tác giả': 'Robert G. Hagstrom', 'Thể loại': 'Chăm sóc sức khỏe', 'Giá bìa': 158000, 'Nội dung tóm tắt': 'Phương Pháp Đầu Tư Warren Buffett (Tái Bản 2018)Cuốn sách này sẽ :Trình bày ngắn gọn tiểu sử của Bufett,một trong những tỷ phú giàu nhất thế giới hiện nay.Tiết lộ những yếu tố và sự kiện hình thành...'}\n",
      "Number of products in my pocket 87\n",
      "sua-va-mat-tang-kem-so-tay-p38483296.html?spid=53477172\n",
      "{'path': 'sua-va-mat-tang-kem-so-tay-p38483296.html?spid=53477172', 'Tên Sách': 'Sữa Và Mật - Tặng Kèm Sổ Tay', 'Ảnh bìa': 'https://salt.tikicdn.com/cache/280x280/ts/product/dd/a8/b2/ce23da497d0d490926cd4f759707579c.jpg', 'Công ty phát hành': 'Nhã Nam', 'Kích thước': '15 x 21 cm', 'Dịch Giả': 'Anh Thư', 'Loại bìa': 'Bìa mềm', 'Số trang': '355', 'Tác giả': 'Rupi Kaur', 'Thể loại': 'Chăm sóc sức khỏe', 'Giá bìa': 91000, 'Nội dung tóm tắt': '“Tình yêu khiến hiểm nguynơi anh trông tựa bình yên”“em muốn đôi tay anhgiữ lấykhông phải đôi tay emđôi môi anhhôn lấykhông phải đôi môi emmà là những nơi khác”“em mất anh từng chút một như em mất nhữ...'}\n",
      "Number of products in my pocket 88\n",
      "7-thoi-quen-cua-ban-tre-thanh-dat-kho-lon-tai-ban-2020-p57791279.html?spid=57791280\n",
      "{'path': '7-thoi-quen-cua-ban-tre-thanh-dat-kho-lon-tai-ban-2020-p57791279.html?spid=57791280', 'Tên Sách': '7 Thói Quen Của Bạn Trẻ Thành Đạt (Khổ Lớn) (Tái Bản 2020)', 'Ảnh bìa': 'https://salt.tikicdn.com/cache/280x280/ts/product/18/47/96/dfb7a6e190d681407b799a8510bc4802.jpg', 'Công ty phát hành': 'First News - Trí Việt', 'Kích thước': '14.5 x 20.5 cm', 'Dịch Giả': 'Nguyễn Thanh Nhân', 'Loại bìa': 'Bìa gập', 'Số trang': '336', 'Nhà xuất bản': 'Nhà Xuất Bản Tổng hợp TP.HCM', 'Tác giả': 'Sean Covey', 'Thể loại': 'Chăm sóc sức khỏe', 'Giá bìa': 97900, 'Nội dung tóm tắt': '7 Thói Quen Của Bạn Trẻ Thành Đạt được biên dịch từ tác phẩm nổi tiếng The 7 Habits of Highly Effective Teens của tác giả Sean Covey theo hợp đồng chuyển giao bản quyền với Tập đoàn Xuất bản Franklin ...'}\n",
      "Number of products in my pocket 89\n",
      "combo-sach-hay-cua-nguyen-nhat-anh-co-hai-con-meo-ngoi-ben-cua-so-con-cho-nho-mang-gio-hoa-hong-tang-kem-postcard-greenlife-p20822929.html?spid=96729882\n",
      "{'path': 'combo-sach-hay-cua-nguyen-nhat-anh-co-hai-con-meo-ngoi-ben-cua-so-con-cho-nho-mang-gio-hoa-hong-tang-kem-postcard-greenlife-p20822929.html?spid=96729882', 'Tên Sách': 'Combo Sách Hay Của Nguyễn Nhật Ánh: Có Hai Con Mèo Ngồi Bên Cửa Sổ + Con Chó Nhỏ Mang Giỏ Hoa Hồng - (Tặng Kèm Postcard Greenlife)', 'Ảnh bìa': 'https://salt.tikicdn.com/cache/280x280/ts/product/67/dc/dc/d42324816fa7f11628aa3622d15c4430.jpg', 'Công ty phát hành': 'NXB Trẻ', 'Kích thước': '13 x 20 cm', 'Loại bìa': 'Bìa mềm', 'Nhà xuất bản': 'NXB Trẻ', 'Tác giả': 'Nguyễn Nhật Ánh', 'Thể loại': 'Chăm sóc sức khỏe', 'Giá bìa': 158400, 'Nội dung tóm tắt': 'Combo Sách Hay Của Nguyễn Nhật Ánh: Có Hai Con Mèo Ngồi Bên Cửa Sổ + Con Chó Nhỏ Mang Giỏ Hoa Hồng - (Tặng Kèm Postcard Greenlife)Cách đưa hình ảnh của động vật vào trong câu chuyện của mình tạo thêm...'}\n",
      "Number of products in my pocket 90\n",
      "combo-cay-chuoi-non-di-giay-xanh-va-chuyen-co-tich-danh-cho-nguoi-lon-tang-kem-so-tay-xuong-rong-p23027146.html?spid=23027147\n",
      "{'path': 'combo-cay-chuoi-non-di-giay-xanh-va-chuyen-co-tich-danh-cho-nguoi-lon-tang-kem-so-tay-xuong-rong-p23027146.html?spid=23027147', 'Tên Sách': 'Combo Cây Chuối Non Đi Giày Xanh và Chuyện Cổ Tích Dành Cho Người Lớn ( Tặng Kèm Sổ Tay Xương Rồng )', 'Ảnh bìa': 'https://salt.tikicdn.com/cache/280x280/ts/product/3b/9d/e6/d55322a07ba1ca262e1be97dede41568.jpg', 'Công ty phát hành': 'NXB Trẻ', 'Ngày xuất bản': '2019-07-01 13:11:57', 'Kích thước': '12 x 20 cm\\n12 x 20 cm', 'Loại bìa': 'Bìa mềm', 'Số trang': '456', 'Tác giả': 'Nguyễn Nhật Ánh', 'Thể loại': 'Chăm sóc sức khỏe', 'Giá bìa': 137700, 'Nội dung tóm tắt': 'Combo Cây Chuối Non Đi Giày Xanh và Chuyện Cổ Tích Dành Cho Người Lớn ( Tặng Kèm Sổ Tay Xương Rồng )Bản đặc biệt tặng kèm sổ tay xương rồng, mẫu ngẫu nhiên ( 1 trong 4 mẫu như hình ) và số lượng có h...'}\n",
      "Number of products in my pocket 91\n",
      "dung-chet-o-a-rap-xe-ut-tang-kem-so-tay-p34816996.html?spid=78871912\n",
      "{'path': 'dung-chet-o-a-rap-xe-ut-tang-kem-so-tay-p34816996.html?spid=78871912', 'Tên Sách': 'Đừng Chết Ở Ả Rập Xê Út - Tặng kèm sổ tay', 'Ảnh bìa': 'https://salt.tikicdn.com/cache/280x280/ts/product/f3/30/de/606d20a49257b003c7e5e319537009a2.jpg', 'Công ty phát hành': 'Alphabooks', 'Ngày xuất bản': '2019-01-16 23:02:28', 'Kích thước': '13 x 20.5 cm', 'Loại bìa': 'Bìa mềm', 'Số trang': '196', 'Nhà xuất bản': 'Nhà Xuất Bản Thế Giới', 'Tác giả': 'Nghiêm Hương', 'Thể loại': 'Chăm sóc sức khỏe', 'Giá bìa': 94050, 'Nội dung tóm tắt': 'Cuốn sách là tự truyện của một người phụ nữ đi xuất khẩu lao động tại Ả Rập Xê Út với mong muốn đổi đời với lời hứa hẹn từ trung tâm. Chỉ đến khi đặt chân đến đất nước Ả Rập cô mới nhận ra mình bị lừa...'}\n",
      "Number of products in my pocket 92\n",
      "combo-2-so-lo-xo-co-huong-thom-200-trang-a6-hong-ha-scent-4158-p79471677.html?spid=79471679\n",
      "{'path': 'combo-2-so-lo-xo-co-huong-thom-200-trang-a6-hong-ha-scent-4158-p79471677.html?spid=79471679', 'Tên Sách': 'Combo 2 Sổ Lò Xo Có Hương Thơm 200 Trang A6 Hồng Hà Scent 4158', 'Ảnh bìa': 'https://salt.tikicdn.com/cache/280x280/ts/product/f5/5b/58/9ee9a197b245d43ecef64f468618299f.jpg', 'Thương hiệu': 'Hồng Hà', 'Xuất xứ': 'Việt Nam', 'Số trang': '200', 'Xuất xứ thương hiệu': 'Việt Nam', 'Tác giả': '', 'Thể loại': 'Chăm sóc sức khỏe', 'Giá bìa': 42000, 'Nội dung tóm tắt': 'Sổ lò xo 200 trang A6 Scent được thiết kế đặc biệt với bìa sổ có mùi thơm tinh dầu, giúp giảm căng thẳng và thư giãn cho người sử dụng. Bìa sổ được thiết kế độc đáo, bắt mắt với hình ảnh trái cây tươn...'}\n",
      "Number of products in my pocket 93\n"
     ]
    },
    {
     "name": "stdout",
     "output_type": "stream",
     "text": [
      "combo-totto-chan-ben-cua-so-hoang-tu-be-p125760043.html?spid=125760044\n",
      "{'path': 'combo-totto-chan-ben-cua-so-hoang-tu-be-p125760043.html?spid=125760044', 'Tên Sách': 'COMBO TOTTO-CHAN BÊN CỬA SỔ + HOÀNG TỬ BÉ', 'Ảnh bìa': 'https://salt.tikicdn.com/cache/280x280/ts/product/90/a3/19/19956fddd1b4fdb42b1a89f57c8c79c1.jpg', 'Công ty phát hành': 'Nhã Nam', 'Ngày xuất bản': '2021-05-29 09:25:37', 'Dịch Giả': 'Trương Thuỳ Lan, Trác Phong', 'Loại bìa': 'Bìa mềm', 'Nhà xuất bản': 'Nhà Xuất Bản Hội Nhà Văn', 'Tác giả': 'Kuroyanagi Tetsuko,Antoine De Saint Exupery', 'Thể loại': 'Chăm sóc sức khỏe', 'Giá bìa': 156000, 'Nội dung tóm tắt': 'Tôi có hỏi anh chị Nhã Nam về các đầu sách “huyền thoại” của họ - tức là tái bản đi tái bản lại, và...bán mãi. Đó là hai tựa sách thiếu nhi này. Điểm chung là sách văn học thiếu nhi kinh điển, có hình ...'}\n",
      "Number of products in my pocket 94\n",
      "ngoai-bo-dong-la-mat-troi-p571170.html?spid=37151764\n",
      "{'path': 'ngoai-bo-dong-la-mat-troi-p571170.html?spid=37151764', 'Tên Sách': 'Ngoài Bờ Đông Là Mặt Trời', 'Ảnh bìa': 'https://salt.tikicdn.com/cache/280x280/media/catalog/product/n/g/ngoai-bo-dong-la-mat-troi.u547.d20170111.t085541.685341.jpg', 'Công ty phát hành': 'NXB Trẻ', 'Ngày xuất bản': '2017-01-11 00:00:00', 'Kích thước': '13 x 20 cm ', 'Loại bìa': 'Bìa mềm', 'Số trang': '412', 'Tác giả': 'Trường An', 'Thể loại': 'Chăm sóc sức khỏe', 'Giá bìa': 98000, 'Nội dung tóm tắt': 'Ngoài Bờ Đông Là Mặt Trời Câu chuyện về kinh thành bên cạnh dòng sông. Một cô cung nữ, những cô công chúa, hoàng tử và những vị vua, người con lai mang hai dòng máu...Khi chiến tranh đã đi qua, một k...'}\n",
      "Number of products in my pocket 95\n",
      "combo-cho-em-den-san-francisco-va-nham-mat-thay-paris-tang-kem-so-tay-xuong-rong-p25121123.html?spid=89423945\n",
      "{'path': 'combo-cho-em-den-san-francisco-va-nham-mat-thay-paris-tang-kem-so-tay-xuong-rong-p25121123.html?spid=89423945', 'Tên Sách': 'Combo Chờ Em Đến San Francisco và Nhắm Mắt Thấy Paris ( Tặng Kèm Sổ Tay Xương Rồng)', 'Ảnh bìa': 'https://salt.tikicdn.com/cache/280x280/ts/product/82/ae/82/8dc41bfe99d71d8a099095648d4620e3.jpg', 'Công ty phát hành': 'NXB Trẻ', 'Ngày xuất bản': '2019-01-01 21:38:07', 'Kích thước': '13 x 20 cm\\n13 x 20 cm', 'Loại bìa': 'Bìa mềm', 'Số trang': '520', 'Nhà xuất bản': 'NXB Trẻ', 'Tác giả': 'Dương Thụy,Dương Thụy', 'Thể loại': 'Chăm sóc sức khỏe', 'Giá bìa': 165000, 'Nội dung tóm tắt': 'Combo Chờ Em Đến San Francisco và Nhắm Mắt Thấy Paris ( Tặng Kèm Sổ Tay Xương Rồng)Bản đặc biệt tặng kèm sổ tay xương rồng, mẫu ngẫu nhiên ( 1 trong 4 mẫu như hình ) và số lượng có hạn.Chờ Em Đến Sa...'}\n",
      "Number of products in my pocket 96\n",
      "so-tay-ghi-chep-deli-dan-gay-a5-hinh-anh-phi-hanh-gia-40-trang-nhieu-mau-wa540-p114572021.html?spid=114572028\n",
      "{'path': 'so-tay-ghi-chep-deli-dan-gay-a5-hinh-anh-phi-hanh-gia-40-trang-nhieu-mau-wa540-p114572021.html?spid=114572028', 'Tên Sách': 'Sổ tay ghi chép Deli dán gáy A5 hình ảnh phi hành gia 40 trang - Nhiều mẫu - WA540', 'Ảnh bìa': 'https://salt.tikicdn.com/cache/280x280/ts/product/41/ae/ed/a678a0dbb92181f351649dbc972d756e.jpg', 'Thương hiệu': 'Deli', 'Xuất xứ': 'Trung Quốc', 'Xuất xứ thương hiệu': 'Việt Nam', 'Tác giả': '', 'Thể loại': 'Chăm sóc sức khỏe', 'Giá bìa': 13000, 'Nội dung tóm tắt': '@   - Ử À ĐỘ Ề Ả Ẩ   Ấ Ạ Ệ TÍNH NĂNG SẢN PHẨM:️Sổ tay được thiết kế theo hình ảnh phi hành gia️Bìa được bọc cẩn thận, bảo vệ giấy bên trong và chống thấm nước️Giấy kẻ ngang, màu giấy đạt chuẩn. Gi...'}\n",
      "Number of products in my pocket 97\n",
      "combo-song-mon-va-chi-pheo-nam-cao-danh-tac-van-hoc-viet-nam-bia-cung-tang-so-tay-p109035976.html?spid=110285619\n",
      "{'path': 'combo-song-mon-va-chi-pheo-nam-cao-danh-tac-van-hoc-viet-nam-bia-cung-tang-so-tay-p109035976.html?spid=110285619', 'Tên Sách': 'Combo Sống Mòn và Chí Phèo - Nam Cao Danh tác văn học Việt Nam (Bìa cứng) tặng sổ tay', 'Ảnh bìa': 'https://salt.tikicdn.com/cache/280x280/ts/product/e6/1b/94/29a8d52f250f8a41122e3bfebcee73c8.jpg', 'Công ty phát hành': 'Nhà sách Minh Thắng', 'Nhà xuất bản': 'Nhà Xuất Bản Văn Học', 'Tác giả': 'Nam Cao', 'Thể loại': 'Chăm sóc sức khỏe', 'Giá bìa': 156000, 'Nội dung tóm tắt': 'Nam Cao có bút danh là Thúy Rư, Xuân Du, Nguyệt, Nhiêu Khê Tên khai sinh: Trần Hữu Tri, sinh ngày 29 tháng 10 năm 1917. Quê quán: làng Đại Hoàng, phủ Lý Nhân, tỉnh Hà Nam (nay là xã Hòa Hậu, huyện Lý ...'}\n",
      "Number of products in my pocket 98\n",
      "combo-bi-mat-cua-nicholas-flamel-nha-gia-kim-va-nu-phu-thuy-tang-kem-so-tay-xuong-rong-p25118374.html?spid=25118375\n",
      "{'path': 'combo-bi-mat-cua-nicholas-flamel-nha-gia-kim-va-nu-phu-thuy-tang-kem-so-tay-xuong-rong-p25118374.html?spid=25118375', 'Tên Sách': 'Combo Bí Mật Của Nicholas Flamel : Nhà Giả Kim và Nữ Phù Thủy ( Tặng Kèm Sổ Tay Xương Rồng)', 'Ảnh bìa': 'https://salt.tikicdn.com/cache/280x280/ts/product/6c/a2/9e/de9a1a293b4f907437417934bac22fd5.jpg', 'Công ty phát hành': 'NXB Trẻ', 'Ngày xuất bản': '2019-01-01 20:51:25', 'Kích thước': '13.2 x 21 cm\\n13.2 x 21 cm', 'Loại bìa': 'Bìa mềm', 'Số trang': '1086', 'Tác giả': '\\xa0Michael Scott.,Michael Scott,Michael Scott', 'Thể loại': 'Chăm sóc sức khỏe', 'Giá bìa': 233750, 'Nội dung tóm tắt': 'Combo Bí Mật Của Nicholas Flamel : Nhà Giả Kim và Nữ Phù Thủy ( Tặng Kèm Sổ Tay Xương Rồng)Bản đặc biệt tặng kèm sổ tay xương rồng, mẫu ngẫu nhiên ( 1 trong 4 mẫu như hình ) và số lượng có hạn. Nh...'}\n",
      "Number of products in my pocket 99\n",
      "combo-long-tot-cua-ban-can-them-doi-phan-sac-sao-va-diem-den-cua-cuoc-doi-tang-kem-so-tay-p11277292.html?spid=11277293\n",
      "{'path': 'combo-long-tot-cua-ban-can-them-doi-phan-sac-sao-va-diem-den-cua-cuoc-doi-tang-kem-so-tay-p11277292.html?spid=11277293', 'Tên Sách': 'Combo Lòng Tốt Của Bạn Cần Thêm Đôi Phần Sắc Sảo và Điểm Đến Của Cuộc Đời ( Tặng Kèm Sổ Tay )', 'Ảnh bìa': 'https://salt.tikicdn.com/cache/280x280/ts/product/1c/7a/97/c7a30feb6461fd971a24eb46a795b031.jpg', 'Công ty phát hành': 'Nhã Nam', 'Ngày xuất bản': '2018-11-06 22:24:38', 'Kích thước': '14 x 20,5cm\\n14 x 20.5 cm', 'Loại bìa': 'Bìa mềm', 'Số trang': '500', 'Tác giả': 'Đặng Hoàng Giang,Mộ Nhan Ca', 'Thể loại': 'Chăm sóc sức khỏe', 'Giá bìa': 155550, 'Nội dung tóm tắt': 'Combo Lòng Tốt Của Bạn Cần Thêm Đôi Phần Sắc Sảo và Điểm Đến Của Cuộc Đời ( Tặng Kèm Sổ Tay )Bản đặc biệt tặng sổ tay, mẫu ngẫu nhiên , số lượng có hạn.Lòng Tốt Của Bạn Cần Thêm Đôi Phần Sắc Sảo“M...'}\n",
      "Number of products in my pocket 100\n",
      "so-tay-ghi-chep-cute-khau-gay-40-trang-ke-ngang-hinh-dong-ho-xanh-duong-a5-b5-deli-70gsm-phu-hop-lam-so-ke-hoach-planner-viet-nhat-ki-su-dung-nhu-tap-vo-hoc-sinh-1-quyen-fa540-n08-fb540-n07-p121317573.html?spid=121317575\n",
      "{'path': 'so-tay-ghi-chep-cute-khau-gay-40-trang-ke-ngang-hinh-dong-ho-xanh-duong-a5-b5-deli-70gsm-phu-hop-lam-so-ke-hoach-planner-viet-nhat-ki-su-dung-nhu-tap-vo-hoc-sinh-1-quyen-fa540-n08-fb540-n07-p121317573.html?spid=121317575', 'Tên Sách': 'Sổ tay ghi chép cute khâu gáy 40 trang kẻ ngang hình đồng hồ xanh dương A5 B5 Deli - 70gsm - Phù hợp làm sổ kế hoach planner, viết nhật kí, sử dụng như tập vở học sinh - 1 quyển - FA540-N08 / FB540-N07', 'Ảnh bìa': 'https://salt.tikicdn.com/cache/280x280/ts/product/af/48/99/1b79f3e2eec03e535adf30bf14305067.png', 'Thương hiệu': 'Deli', 'Xuất xứ': 'Trung Quốc', 'Số trang': '40', 'Xuất xứ thương hiệu': 'Trung Quốc', 'Tác giả': '', 'Thể loại': 'Chăm sóc sức khỏe', 'Giá bìa': 11000, 'Nội dung tóm tắt': 'ổ   é â á  B5  4 TÍNH NĂNG SẢN PHẨM:️Sổ tay ghi chép khâu gáy được sử dụng với mục đích ghi chép, vẽ phác thảo cho học sinh, người đi làm.️Sổ thiết kế bìa mỏng, nhẹ nhàng.️Chất lượng giấy đạt tiêu ch...'}\n",
      "Number of products in my pocket 101\n",
      "combo-quan-go-di-len-va-nhung-co-em-gai-tang-kem-so-tay-xuong-rong-p23223789.html?spid=89423885\n",
      "{'path': 'combo-quan-go-di-len-va-nhung-co-em-gai-tang-kem-so-tay-xuong-rong-p23223789.html?spid=89423885', 'Tên Sách': 'Combo Quán Gò Đi Lên và Những Cô Em Gái  ( Tặng Kèm Sổ Tay Xương Rồng)', 'Ảnh bìa': 'https://salt.tikicdn.com/cache/280x280/ts/product/db/ec/46/369d7f6a134893db6fb9c062bd7e995b.jpg', 'Công ty phát hành': 'NXB Trẻ', 'Ngày xuất bản': '2019-07-01 21:25:40', 'Kích thước': '12 x 20 cm\\n12 x 20 cm', 'Loại bìa': 'Bìa mềm', 'Số trang': '452', 'Nhà xuất bản': 'NXB Trẻ', 'Tác giả': 'Nguyễn Nhật Ánh', 'Thể loại': 'Chăm sóc sức khỏe', 'Giá bìa': 131100, 'Nội dung tóm tắt': 'Combo Quán Gò Đi Lên và Những Cô Em Gái  ( Tặng Kèm Sổ Tay Xương Rồng)Bản đặc biệt tặng kèm sổ tay xương rồng, mẫu ngẫu nhiên ( 1 trong 4 mẫu như hình ) và số lượng có hạn Quán Gò Đi LênChuyện diễ...'}\n",
      "Number of products in my pocket 102\n"
     ]
    },
    {
     "name": "stdout",
     "output_type": "stream",
     "text": [
      "combo-cho-toi-xin-mot-ve-di-tuoi-tho-va-co-hai-con-meo-ngoi-ben-cua-so-tang-kem-so-tay-p13311714.html?spid=13311715\n",
      "{'path': 'combo-cho-toi-xin-mot-ve-di-tuoi-tho-va-co-hai-con-meo-ngoi-ben-cua-so-tang-kem-so-tay-p13311714.html?spid=13311715', 'Tên Sách': 'Combo Cho Tôi Xin Một Vé Đi Tuổi Thơ và Có Hai Con Mèo Ngồi Bên Cửa Sổ ( Tặng Kèm Sổ Tay)', 'Ảnh bìa': 'https://salt.tikicdn.com/cache/280x280/ts/product/9a/06/01/fda3701ca89587b8b35b63d52d7e0f77.jpg', 'Công ty phát hành': 'NXB Trẻ', 'Ngày xuất bản': '2019-01-01 01:25:29', 'Kích thước': '13 x 20 cm\\n13 x 20 cm', 'Loại bìa': 'Bìa mềm', 'Số trang': '523', 'Tác giả': 'Nguyễn Nhật Ánh', 'Thể loại': 'Chăm sóc sức khỏe', 'Giá bìa': 140250, 'Nội dung tóm tắt': 'Combo Cho Tôi Xin Một Vé Đi Tuổi Thơ và Có Hai Con Mèo Ngồi Bên Cửa Sổ ( Tặng Kèm Sổ Tay)Bản đặc biệt tặng kèm sổ tay, mẫu ngẫu nhiên và số lượng có hạn.Cho Tôi Xin Một Vé Đi Tuổi ThơTruyện Cho tôi...'}\n",
      "Number of products in my pocket 103\n",
      "combo-ut-quyen-va-toi-va-truoc-vong-chung-ket-tang-kem-so-tay-xuong-rong-p23226660.html?spid=23226661\n",
      "{'path': 'combo-ut-quyen-va-toi-va-truoc-vong-chung-ket-tang-kem-so-tay-xuong-rong-p23226660.html?spid=23226661', 'Tên Sách': 'Combo Út Quyên Và Tôi và Trước Vòng Chung Kết ( Tặng Kèm Sổ Tay Xương Rồng)', 'Ảnh bìa': 'https://salt.tikicdn.com/cache/280x280/ts/product/90/a0/de/31c24abeac5d46a5523c1cd1e9218a13.jpg', 'Công ty phát hành': 'NXB Trẻ', 'Ngày xuất bản': '2019-07-01 21:54:59', 'Kích thước': '12 x 20 cm\\n12 x 20 cm', 'Loại bìa': 'Bìa mềm', 'Số trang': '378', 'Tác giả': 'Nguyễn Nhật Ánh', 'Thể loại': 'Chăm sóc sức khỏe', 'Giá bìa': 102000, 'Nội dung tóm tắt': 'Combo Út Quyên Và Tôi và Trước Vòng Chung Kết ( Tặng Kèm Sổ Tay Xương Rồng)Bản đặc biệt tặng kèm sổ tay xương rồng, mẫu ngẫu nhiên ( 1 trong 4 mẫu như hình ) và số lượng có hạn Út Quyên Và TôiTập ...'}\n",
      "Number of products in my pocket 104\n",
      "so-khau-gay-dang-yeu-kho-b5-40-trang-ke-ngang-70gsm-deli-1-quyen-nhieu-mau-sac-phu-hop-lam-so-ke-hoach-planner-nhat-ki-fb540-n02-p115413805.html?spid=115413807\n",
      "{'path': 'so-khau-gay-dang-yeu-kho-b5-40-trang-ke-ngang-70gsm-deli-1-quyen-nhieu-mau-sac-phu-hop-lam-so-ke-hoach-planner-nhat-ki-fb540-n02-p115413805.html?spid=115413807', 'Tên Sách': 'Sổ khâu gáy đáng yêu khổ B5 40 trang kẻ ngang 70gsm Deli - 1 quyển - Nhiều màu sắc - Phù hợp làm sổ kể hoạch planner nhật kí - FB540-N02', 'Ảnh bìa': 'https://salt.tikicdn.com/cache/280x280/ts/product/7d/3f/3e/e1a6e81bc4ea968669c2249f3bdeafa5.jpg', 'Thương hiệu': 'Deli', 'Xuất xứ': 'Trung Quốc', 'Số trang': '40', 'Xuất xứ thương hiệu': 'Trung Quốc', 'Tác giả': '', 'Thể loại': 'Chăm sóc sức khỏe', 'Giá bìa': 18000, 'Nội dung tóm tắt': 'TÍNH NĂNG SẢN PHẨM:️Sổ tay ghi chép khâu gáy được sử dụng với mục đích ghi chép, vẽ phác thảo cho học sinh, người đi làm.️Sổ thiết kế bìa mỏng, nhẹ nhàng.️Chất lượng giấy đạt tiêu chuẩn chống lóa, bảo...'}\n",
      "Number of products in my pocket 105\n",
      "combo-tron-bo-4-tap-tay-du-hi-tang-bookmark-phuong-dong-p17001141.html?spid=121210417\n",
      "{'path': 'combo-tron-bo-4-tap-tay-du-hi-tang-bookmark-phuong-dong-p17001141.html?spid=121210417', 'Tên Sách': 'Combo Trọn Bộ 4 Tập: Tây Du Hí - Tặng Bookmark Phương Đông', 'Ảnh bìa': 'https://salt.tikicdn.com/cache/280x280/ts/product/d1/af/4a/fdf851df00c79a6b46da3a4459b06258.jpg', 'Công ty phát hành': 'Skybooks', 'Loại bìa': 'Bìa mềm', 'Nhà xuất bản': 'Nhà Xuất Bản Dân Trí', 'Tác giả': 'Mèo Mốc', 'Thể loại': 'Chăm sóc sức khỏe', 'Giá bìa': 220000, 'Nội dung tóm tắt': 'Combo Trọn Bộ 4 Tập: Tây Du Hí - Tặng Bookmark Phương Đông1. Tây Du Hí Tập 1Hòa trộn giữa Tây Du Kí của Ngô Thừa Ân với sự hài hước “thời thượng” từ Nhật kí Mèo Mốc, Tây Du Hí tạo ra một phong cách ...'}\n",
      "Number of products in my pocket 106\n",
      "combo-agatha-christie-hen-voi-than-chet-va-ky-an-dong-chu-tat-tang-kem-so-tay-xuong-rong-p24934161.html?spid=24934162\n",
      "{'path': 'combo-agatha-christie-hen-voi-than-chet-va-ky-an-dong-chu-tat-tang-kem-so-tay-xuong-rong-p24934161.html?spid=24934162', 'Tên Sách': 'Combo Agatha Christie: Hẹn Với Thần Chết và Kỳ Án Dòng Chữ Tắt ( Tặng Kèm Sổ Tay Xương Rồng )', 'Ảnh bìa': 'https://salt.tikicdn.com/cache/280x280/ts/product/f6/ad/6f/292950c72f2b7e0513c1f0ef557efa31.jpg', 'Công ty phát hành': 'NXB Trẻ', 'Ngày xuất bản': '2019-01-01 14:11:47', 'Kích thước': '13x20\\n13x20\\n\\xa0', 'Loại bìa': 'Bìa mềm', 'Số trang': '744', 'Tác giả': ' Agatha Christie,Agatha Christie,Agatha Christie,Agatha Christie', 'Thể loại': 'Chăm sóc sức khỏe', 'Giá bìa': 197200, 'Nội dung tóm tắt': 'Combo Agatha Christie: Hẹn Với Thần Chết và Kỳ Án Dòng Chữ Tắt ( Tặng Kèm Sổ Tay Xương Rồng )Bản đặc biệt tặng kèm sổ tay xương rồng, mẫu ngẫu nhiên ( 1 trong 4 mẫu như hình ) và số lượng có hạn.Hẹ...'}\n",
      "Number of products in my pocket 107\n",
      "nhung-chuyen-ky-bi-trong-ngo-hep-tang-kem-so-tay-p41864471.html?spid=84885285\n",
      "{'path': 'nhung-chuyen-ky-bi-trong-ngo-hep-tang-kem-so-tay-p41864471.html?spid=84885285', 'Tên Sách': 'Những Chuyện Kỳ Bí Trong Ngõ Hẹp - Tặng Kèm Sổ Tay', 'Ảnh bìa': 'https://salt.tikicdn.com/cache/280x280/ts/product/84/bf/10/c986ea3f31b379cd65ced894bfb79b1f.jpg', 'Công ty phát hành': 'Tsuki Books', 'Ngày xuất bản': '2019-11-16 18:09:15', 'Dịch Giả': 'Lucia Nanami', 'Loại bìa': 'Bìa mềm', 'Số trang': '368', 'Tác giả': 'Đàm Tín Giới', 'Thể loại': 'Chăm sóc sức khỏe', 'Giá bìa': 74880, 'Nội dung tóm tắt': 'Có những câu chuyện chỉ dám thì thầm to nhỏ trong ngõ. Nếu không ai nhắc nhở chắc chắn cả đời bạn sẽ chẳng để tâm.Ví dụ như thùng đựng gạo nhà bạn mỗi ngày đều tự dưng lại ít đi một bát gạo.Con mèo nh...'}\n",
      "Number of products in my pocket 108\n",
      "nghi-giau-va-lam-giau-p73222800.html?spid=73222801\n",
      "{'path': 'nghi-giau-va-lam-giau-p73222800.html?spid=73222801', 'Tên Sách': 'Nghĩ Giàu Và Làm Giàu (Khổ Nhỏ)', 'Ảnh bìa': 'https://salt.tikicdn.com/cache/280x280/ts/product/29/9f/a0/0e867c16e3826d230e2aa4795d6a14c0.jpg', 'Công ty phát hành': 'First News - Trí Việt', 'Ngày xuất bản': '2020-11-15 00:00:00', 'Kích thước': '14.5 x 20.5 cm', 'Dịch Giả': 'Việt Khương', 'Loại bìa': 'Bìa mềm', 'Số trang': '416', 'Nhà xuất bản': 'Nhà Xuất Bản Tổng hợp TP.HCM', 'Tác giả': 'Napoleon Hill', 'Thể loại': 'Chăm sóc sức khỏe', 'Giá bìa': 85400, 'Nội dung tóm tắt': 'NGHĨ GIÀU VÀ LÀM GIÀUThink and Grow Rich - Nghĩ giàu và Làm giàu là một trong những cuốn sách bán chạy nhất mọi thời đại. Đã hơn 60 triệu bản được phát hành với gần trăm ngôn ngữ trên toàn thế giới và...'}\n",
      "Number of products in my pocket 109\n",
      "combo-bong-bong-len-troi-va-thien-than-nho-cua-toi-tang-kem-so-tay-xuong-rong-p23026910.html?spid=23026911\n",
      "{'path': 'combo-bong-bong-len-troi-va-thien-than-nho-cua-toi-tang-kem-so-tay-xuong-rong-p23026910.html?spid=23026911', 'Tên Sách': 'Combo Bong Bóng Lên Trời và Thiên Thần Nhỏ Của Tôi ( Tặng Kèm Sổ Tay Xương Rồng )', 'Ảnh bìa': 'https://salt.tikicdn.com/cache/280x280/ts/product/ec/6f/42/7f8c818cedf48c30bae1848cbc52dfa0.jpg', 'Công ty phát hành': 'NXB Trẻ', 'Ngày xuất bản': '2019-07-01 13:02:30', 'Kích thước': '12 x 20 cm\\n12 x 20 cm', 'Loại bìa': 'Bìa mềm', 'Số trang': '306', 'Tác giả': 'Nguyễn Nhật Ánh', 'Thể loại': 'Chăm sóc sức khỏe', 'Giá bìa': 90100, 'Nội dung tóm tắt': 'Combo Bong Bóng Lên Trời và Thiên Thần Nhỏ Của Tôi ( Tặng Kèm Sổ Tay Xương Rồng )Bản đặc biệt tặng kèm sổ tay xương rồng, mẫu ngẫu nhiên ( 1 trong 4 mẫu như hình ) và số lượng có hạn Bong Bóng Lên ...'}\n",
      "Number of products in my pocket 110\n",
      "vua-nham-mat-vua-mo-cua-so-p585192.html?spid=585305\n",
      "{'path': 'vua-nham-mat-vua-mo-cua-so-p585192.html?spid=585305', 'Tên Sách': 'Vừa Nhắm Mắt Vừa Mở Cửa Sổ', 'Ảnh bìa': 'https://salt.tikicdn.com/cache/280x280/ts/product/84/a3/e7/99d1ea4d1c73926d0aca47ff0de77f47.jpg', 'Công ty phát hành': 'NXB Trẻ', 'Ngày xuất bản': '2017-03-15 00:00:00', 'Kích thước': '13 x 20cm', 'Số trang': '192', 'Tác giả': 'Nguyễn Ngọc Thuần', 'Thể loại': 'Chăm sóc sức khỏe', 'Giá bìa': 46000, 'Nội dung tóm tắt': '  Vừa Nhắm Mắt Vừa Mở Cửa Sổ (2017) Tập sách hay, dễ thương, và còn nhiều mỹ từ khác nữa xứng đáng được dành cho nó. Hãy tìm đọc nội dung thay vì đọc trước     phần giới thiệu sách này viết gì.... Như ...'}\n",
      "Number of products in my pocket 111\n"
     ]
    },
    {
     "name": "stdout",
     "output_type": "stream",
     "text": [
      "ong-tram-tuoi-treo-qua-cua-so-va-bien-mat-tai-ban-p8835165.html?spid=8835166\n",
      "{'path': 'ong-tram-tuoi-treo-qua-cua-so-va-bien-mat-tai-ban-p8835165.html?spid=8835166', 'Tên Sách': 'Ông Trăm Tuổi Trèo Qua Cửa Sổ Và Biến Mất (Tái Bản)', 'Ảnh bìa': 'https://salt.tikicdn.com/cache/280x280/ts/product/5f/62/71/26b6f3e1029bad38317073706098398c.jpg', 'Công ty phát hành': 'NXB Trẻ', 'Ngày xuất bản': '2018-12-01 00:00:00', 'Kích thước': '13 x 20 cm', 'Loại bìa': 'Bìa mềm', 'Số trang': '516', 'Tác giả': 'Jonas Jonasson', 'Thể loại': 'Chăm sóc sức khỏe', 'Giá bìa': 132400, 'Nội dung tóm tắt': 'Vào ngày sinh nhật lần thứ 100 của mình, cụ ông Allan Karlsson đột nhiên trèo qua của sổ ngôi nhà dưỡng lão – Nhà Già – và biến mất. Ở cái tuổi 100 hiếm ai đạt tới thì cụ có thể đi đâu được? Một cuộc ...'}\n",
      "Number of products in my pocket 112\n",
      "so-tay-ghi-chep-deli-x-kakao-friends-112-trang-giay-80g-kho-180x130mm-sz030-p89204162.html?spid=89204164\n",
      "{'path': 'so-tay-ghi-chep-deli-x-kakao-friends-112-trang-giay-80g-kho-180x130mm-sz030-p89204162.html?spid=89204164', 'Tên Sách': 'Sổ Tay Ghi Chép Deli X Kakao Friends -112 Trang -Giấy 80G -Khổ 180X130Mm-SZ030', 'Ảnh bìa': 'https://salt.tikicdn.com/cache/280x280/ts/product/70/6a/6a/734b7a6d3d2e94e79152c858d9021134.jpg', 'Thương hiệu': 'Deli', 'Xuất xứ': 'Trung Quốc', 'Xuất xứ thương hiệu': 'Trung Quốc', 'Tác giả': '', 'Thể loại': 'Chăm sóc sức khỏe', 'Giá bìa': 69000, 'Nội dung tóm tắt': '@   - Ử À ĐỘ Ề Ả Ẩ   Ấ Ạ Ệ ổ   é    TÍNH NĂNG SẢN PHẨM:️Sổ tay được thiết kế theo nhân vật hoạt hình nổi tiếng Kakao Friends dễ thươngChất liệu bìa sổ cứng, bảo vệ giấy bên trong️Sổ có dây đánh dấu ...'}\n",
      "Number of products in my pocket 113\n",
      "combo-chuc-mot-ngay-tot-lanh-va-cam-on-nguoi-lon-tang-kem-so-tay-xuong-rong-p23051827.html?spid=23051828\n",
      "{'path': 'combo-chuc-mot-ngay-tot-lanh-va-cam-on-nguoi-lon-tang-kem-so-tay-xuong-rong-p23051827.html?spid=23051828', 'Tên Sách': 'Combo Chúc Một Ngày Tốt Lành  và Cảm Ơn Người Lớn ( Tặng Kèm Sổ Tay Xương Rồng )', 'Ảnh bìa': 'https://salt.tikicdn.com/cache/280x280/ts/product/8f/f7/82/9e2f7b8812c81e6cb7b4e0bc12e09e44.jpg', 'Công ty phát hành': 'NXB Trẻ', 'Ngày xuất bản': '2019-07-01 15:15:03', 'Kích thước': '13 x 20 cm\\n13 x 20 cm', 'Loại bìa': 'Bìa mềm', 'Số trang': '546', 'Tác giả': 'Nguyễn Nhật Ánh', 'Thể loại': 'Chăm sóc sức khỏe', 'Giá bìa': 180000, 'Nội dung tóm tắt': 'Combo Chúc Một Ngày Tốt Lành  và Cảm Ơn Người Lớn ( Tặng Kèm Sổ Tay Xương Rồng ) Bản đặc biệt tặng kèm sổ tay xương rồng, mẫu ngẫu nhiên ( 1 trong 4 mẫu như hình ) và số lượng có hạn Chúc Một Ngày...'}\n",
      "Number of products in my pocket 114\n",
      "combo-totto-chan-ben-cua-so-bo-xau-bo-tot-truyen-dai-hap-dan-p58453324.html?spid=58453325\n",
      "{'path': 'combo-totto-chan-ben-cua-so-bo-xau-bo-tot-truyen-dai-hap-dan-p58453324.html?spid=58453325', 'Tên Sách': 'Combo: Totto - Chan Bên Cửa Sổ + Bố Xấu, Bố Tốt (Truyện dài hấp dẫn)', 'Ảnh bìa': 'https://salt.tikicdn.com/cache/280x280/ts/product/30/c0/a6/09b592a90088613ccdd717b2b0d6c527.jpg', 'Công ty phát hành': 'Nhã Nam', 'Loại bìa': 'Bìa mềm', 'Nhà xuất bản': 'Nhà Xuất Bản Văn Học', 'Tác giả': '', 'Thể loại': 'Chăm sóc sức khỏe', 'Giá bìa': 198500, 'Nội dung tóm tắt': 'Combo: Totto - Chan Bên Cửa Sổ + Bố Xấu, Bố Tốt (Truyện dài hấp dẫn) 1, Totto - Chan Bên Cửa Sổ Không còn cách nào khác, mẹ đành đưa Totto-chan đến một ngôi trường mới, trường Tomoe. Đấy là một ngô...'}\n",
      "Number of products in my pocket 115\n",
      "combo-anne-toc-do-va-ngoi-nha-mo-uoc-va-anne-toc-do-duoi-chai-nha-xanh-tang-kem-so-tay-xuong-rong-p25062349.html?spid=75979481\n",
      "{'path': 'combo-anne-toc-do-va-ngoi-nha-mo-uoc-va-anne-toc-do-duoi-chai-nha-xanh-tang-kem-so-tay-xuong-rong-p25062349.html?spid=75979481', 'Tên Sách': 'Combo Anne Tóc Đỏ Và Ngôi Nhà Mơ Ước và Anne Tóc Đỏ Dưới Chái Nhà Xanh ( Tặng Kèm Sổ Tay Xương Rồng)', 'Ảnh bìa': 'https://salt.tikicdn.com/cache/280x280/ts/product/1b/09/91/fafa03cf6cd2170540fdfe6185964b6d.jpg', 'Công ty phát hành': 'Nhã Nam', 'Ngày xuất bản': '2019-07-29 14:24:54', 'Kích thước': '14 x 20.5 cm\\n14 x 20.5 cm', 'Loại bìa': 'Bìa mềm', 'Số trang': '786', 'Nhà xuất bản': 'Nhà Xuất Bản Hội Nhà Văn', 'Tác giả': 'Lucy Maud Montgomery', 'Thể loại': 'Chăm sóc sức khỏe', 'Giá bìa': 163950, 'Nội dung tóm tắt': 'Combo Anne Tóc Đỏ Và Ngôi Nhà Mơ Ước và Anne Tóc Đỏ Dưới Chái Nhà Xanh ( Tặng Kèm Sổ Tay Xương Rồng) Bản đặc biệt tặng kèm sổ tay xương rồng, mẫu ngẫu nhiên ( 1 trong 4 mẫu như hình ) và số lượng có...'}\n",
      "Number of products in my pocket 116\n",
      "sach-cua-so-hinh-tia-chop-tang-kem-bookmark-thiet-ke-p77222482.html?spid=77222483\n",
      "{'path': 'sach-cua-so-hinh-tia-chop-tang-kem-bookmark-thiet-ke-p77222482.html?spid=77222483', 'Tên Sách': 'Sách - Cửa sổ hình tia chớp (tặng kèm bookmark thiết kế)', 'Ảnh bìa': 'https://salt.tikicdn.com/cache/280x280/ts/product/49/ad/8b/58641a556a5812149d9d7eefc44b3aa9.jpg', 'Công ty phát hành': 'Nhã Nam', 'Nhà xuất bản': 'Nhà Xuất Bản Hội Nhà Văn', 'Tác giả': 'Võ Diệu Thanh', 'Thể loại': 'Chăm sóc sức khỏe', 'Giá bìa': 54600, 'Nội dung tóm tắt': '       Tác giả: Võ Diệu Thanh   Nhà xuất bản: Hội nhà văn   Số trang: 184   Kích thước: 14x20.5 cm   Ngày phát hành: 12-2018   “Câu văn ngắn, sắc ngọn như những nhát dao. Trần trụi, bạo liệt ...'}\n",
      "Number of products in my pocket 117\n",
      "combo-bay-buoc-toi-mua-he-va-la-nam-trong-la-tang-kem-so-tay-xuong-rong-p23226819.html?spid=23226820\n",
      "{'path': 'combo-bay-buoc-toi-mua-he-va-la-nam-trong-la-tang-kem-so-tay-xuong-rong-p23226819.html?spid=23226820', 'Tên Sách': 'Combo Bảy Bước Tới Mùa Hè và Lá Nằm Trong Lá ( Tặng Kèm Sổ Tay Xương Rồng)', 'Ảnh bìa': 'https://salt.tikicdn.com/cache/280x280/ts/product/34/ca/c7/c1645e49e6bcaa9b47013238e5d9ec63.jpg', 'Công ty phát hành': 'NXB Trẻ', 'Ngày xuất bản': '2019-07-01 22:01:54', 'Kích thước': '13 x 20 cm\\n13 x 20 cm', 'Loại bìa': 'Bìa mềm', 'Số trang': '540', 'Tác giả': 'Nguyễn Nhật Ánh', 'Thể loại': 'Chăm sóc sức khỏe', 'Giá bìa': 156000, 'Nội dung tóm tắt': 'Combo Bảy Bước Tới Mùa Hè và Lá Nằm Trong Lá ( Tặng Kèm Sổ Tay Xương Rồng)Bản đặc biệt tặng kèm sổ tay xương rồng, mẫu ngẫu nhiên ( 1 trong 4 mẫu như hình ) và số lượng có hạn Bảy Bước Tới Mùa HèC...'}\n",
      "Number of products in my pocket 118\n",
      "combo-an-mang-dem-giang-sinh-va-an-mang-o-nha-muc-vu-tang-kem-so-tay-xuong-rong-p24765754.html?spid=24765755\n",
      "{'path': 'combo-an-mang-dem-giang-sinh-va-an-mang-o-nha-muc-vu-tang-kem-so-tay-xuong-rong-p24765754.html?spid=24765755', 'Tên Sách': 'Combo Án Mạng Đêm Giáng Sinh và Án Mạng Ở Nhà Mục Vụ ( Tặng Kèm Sổ Tay Xương Rồng)', 'Ảnh bìa': 'https://salt.tikicdn.com/cache/280x280/ts/product/6d/85/3d/b933d7965e9224d0b6b336a4fba18456.jpg', 'Công ty phát hành': 'NXB Trẻ', 'Ngày xuất bản': '2019-03-06 21:28:56', 'Kích thước': '13 x 20 cm\\n13 x 20 cm', 'Loại bìa': 'Bìa mềm', 'Số trang': '654', 'Tác giả': 'Agatha Christie,Agatha Christie, Agatha Christie,Agatha Christie', 'Thể loại': 'Chăm sóc sức khỏe', 'Giá bìa': 178000, 'Nội dung tóm tắt': 'Combo Án Mạng Đêm Giáng Sinh và Án Mạng Ở Nhà Mục Vụ ( Tặng Kèm Sổ Tay Xương Rồng)Bản đặc biệt tặng kèm sổ tay xương rồng, mẫu ngẫu nhiên ( 1 trong 4 mẫu như hình ) và số lượng có hạn. Án Mạng Đêm G...'}\n",
      "Number of products in my pocket 119\n",
      "bts-nhung-thuoc-phim-quay-cham-tang-kem-so-tay-bts-bookmark-happy-life-p24199314.html?spid=86326295\n",
      "{'path': 'bts-nhung-thuoc-phim-quay-cham-tang-kem-so-tay-bts-bookmark-happy-life-p24199314.html?spid=86326295', 'Tên Sách': 'BTS - Những Thước Phim Quay Chậm (Tặng Kèm Sổ Tay BTS, Bookmark Happy Life)', 'Ảnh bìa': 'https://salt.tikicdn.com/cache/280x280/ts/product/7e/45/ac/7ebafb061319b5eea22dc9ac413b4b38.jpg', 'Công ty phát hành': 'AZ Việt Nam', 'Dịch Giả': 'Trà Mi', 'Loại bìa': 'Bìa cứng', 'Số trang': '176', 'Nhà xuất bản': 'Nhà Xuất Bản Hà Nội', 'Tác giả': 'Honggija', 'Thể loại': 'Chăm sóc sức khỏe', 'Giá bìa': 141550, 'Nội dung tóm tắt': 'BTS - Những Thước Phim Quay Chậm === Mua ngay rinh quà liền tay: Ngoài việc trở thành chủ nhân của cuốn sách vô cùng \"hot\" này bạn sẽ được sở hữu thêm Sổ Tay BTS tuyệt đẹp và Bookmark Happy Life bắt...'}\n",
      "Number of products in my pocket 120\n"
     ]
    },
    {
     "name": "stdout",
     "output_type": "stream",
     "text": [
      "combo-ban-co-nam-cho-ngoi-va-phong-tro-ba-nguoi-tang-kem-so-tay-xuong-rong-p23086460.html?spid=23086461\n",
      "{'path': 'combo-ban-co-nam-cho-ngoi-va-phong-tro-ba-nguoi-tang-kem-so-tay-xuong-rong-p23086460.html?spid=23086461', 'Tên Sách': 'Combo Bàn Có Năm Chỗ Ngồi và Phòng Trọ Ba Người ( Tặng Kèm Sổ Tay Xương Rồng )', 'Ảnh bìa': 'https://salt.tikicdn.com/cache/280x280/ts/product/a0/8c/75/d62d9ced89647258d94f5b59d0869f8b.jpg', 'Công ty phát hành': 'NXB Trẻ', 'Ngày xuất bản': '2019-07-01 18:31:35', 'Kích thước': '12 x 20\\n12 x 20', 'Loại bìa': 'Bìa mềm', 'Số trang': '420', 'Tác giả': 'Nguyễn Nhật Ánh', 'Thể loại': 'Chăm sóc sức khỏe', 'Giá bìa': 107950, 'Nội dung tóm tắt': 'Combo Bàn Có Năm Chỗ Ngồi và Phòng Trọ Ba Người ( Tặng Kèm Sổ Tay Xương Rồng )Bản đặc biệt tặng kèm sổ tay xương rồng, mẫu ngẫu nhiên ( 1 trong 4 mẫu như hình ) và số lượng có hạn Bàn Có Năm Chỗ Ng...'}\n",
      "Number of products in my pocket 121\n",
      "ehon-nhat-ban-mon-qua-tu-cua-so-p442782.html?spid=148906\n",
      "{'path': 'ehon-nhat-ban-mon-qua-tu-cua-so-p442782.html?spid=148906', 'Tên Sách': 'Ehon Nhật Bản - Món Quà Từ Cửa Sổ', 'Ảnh bìa': 'https://salt.tikicdn.com/cache/280x280/media/catalog/product/m/o/mon-qua.jpg', 'Công ty phát hành': 'Quảng Văn', 'Ngày xuất bản': '2015-07-28 00:00:00', 'Loại bìa': 'Bìa mềm', 'Số trang': '24', 'Tác giả': 'Nagako Suzuki', 'Thể loại': 'Chăm sóc sức khỏe', 'Giá bìa': 23900, 'Nội dung tóm tắt': 'Ehon Nhật Bản - Món Quà Từ Cửa Sổ Thỉnh thoảng, các bé thường bị sốt. Mỗi lúc bé bị sốt, mẹ sẽ không cho bé ra ngoài chơi phải không nào? Bạn nhỏ Nana cũng vậy, bạn rất muốn ra ngoài công viên chơi c...'}\n",
      "Number of products in my pocket 122\n",
      "rem-dan-cua-so-cua-chinh-khong-can-thanh-treo-pp888-p81012493.html?spid=81012537\n",
      "{'path': 'rem-dan-cua-so-cua-chinh-khong-can-thanh-treo-pp888-p81012493.html?spid=81012537', 'Tên Sách': 'Rèm Dán Cửa Sổ - Cửa Chính - Không Cần Thanh Treo PP888', 'Ảnh bìa': 'https://salt.tikicdn.com/cache/280x280/ts/product/22/9c/c4/0bd180df3ff7ea3c249f846fb4e4d589.jpg', 'Thương hiệu': 'OEM', 'Xuất xứ thương hiệu': 'Đài Loan', 'Hướng dẫn sử dụng': '<p style=\"text-align: right;\">HƯỚNG DẪN DÁN RÈM: - Lau sạch bụi vị trí cần dán,Dán lớp dính ngang đầu tiên cố định lên phần cửa bạn muốn che. Sau đó dán rèm lên lớp ngang vừa cố định. - Có 2 cách dán: dán thẳng không tạo nhún hoặc từ đùn xếp để tạo ly nhún. - Khách có thể dán 2 tấm cạnh nhau để tạo thành kiểu rèm 2 tấm 1 cửa và vén qua hai bên. - Nên chọn rèm có bề rộng rộng hơn số đo cửa để tạo độ nhún xếp li đẹp hơn, Ví dụ cửa ngang 1m mua rèm 2m ngang để tạo nhún... - Lưu ý keo bám dính tốt trên bề mặt dán phẳng mịn không bong tróc ẩm ướt. Đối với mặt tường bong tróc ẩm ướt, thô nhám gồ ghề có thể sẽ không dán dính).</p>', 'Xuất xứ': 'Đài Loan', 'Quy cách đóng gói': '5*10CM', 'Tác giả': '', 'Thể loại': 'Chăm sóc sức khỏe', 'Giá bìa': 105000, 'Nội dung tóm tắt': '* HƯỚNG DẪN ĐO CỬA VÀ CHỌN RÈM CỬA - Chiều ngang rèm cửa = Chiều ngang lọt lòng cửa + 20 cm. Cộng thêm 20cm, mỗi bên 10 cm để tránh ánh nắng lọt vào nhà. - Chiều cao rèm: + Đối với cửa sổ: Chiều cao r...'}\n",
      "Number of products in my pocket 123\n",
      "sach-combo-3-cuon-muon-kiep-nhan-sinh-phan-1-2-va-hanh-trinh-ve-phuong-dong-nguyen-phong-p114895517.html?spid=115741626\n",
      "{'path': 'sach-combo-3-cuon-muon-kiep-nhan-sinh-phan-1-2-va-hanh-trinh-ve-phuong-dong-nguyen-phong-p114895517.html?spid=115741626', 'Tên Sách': 'Sách - Combo 3 Cuốn: Muôn Kiếp Nhân Sinh Phần 1 + 2 và Hành Trình Về Phương Đông ( Nguyên Phong ) ', 'Ảnh bìa': 'https://salt.tikicdn.com/cache/280x280/ts/product/3d/e1/0e/4a0951245fe1a73f87d6ee6e49775a7a.jpg', 'Công ty phát hành': 'First News - Trí Việt', 'Nhà xuất bản': 'Nhà Xuất Bản Tổng hợp TP.HCM', 'Tác giả': '', 'Thể loại': 'Chăm sóc sức khỏe', 'Giá bìa': 515000, 'Nội dung tóm tắt': '       1. Muôn Kiếp Nhân Sinh Phần 1   Tác giả: Nguyên Phong   Ngày xuất bản 04-2020   Kích thước 14 x 20.5 cm   Loại bìa Bìa gập   Số trang 408   Nhà xuất bản Nhà Xuất Bản Tổng hợp    2. M...'}\n",
      "Number of products in my pocket 124\n",
      "combo-4-cuon-sach-hay-nhat-cua-nguyen-nhat-anh-mat-biec-toi-thay-hoa-vang-tren-co-xanh-cho-toi-xin-mot-ve-di-tuoi-tho-ngoi-khoc-tren-cay-tang-so-tay-vdt-p34465505.html?spid=89414590\n",
      "{'path': 'combo-4-cuon-sach-hay-nhat-cua-nguyen-nhat-anh-mat-biec-toi-thay-hoa-vang-tren-co-xanh-cho-toi-xin-mot-ve-di-tuoi-tho-ngoi-khoc-tren-cay-tang-so-tay-vdt-p34465505.html?spid=89414590', 'Tên Sách': 'Combo 4 Cuốn Sách Hay Nhất Của Nguyễn Nhật Ánh: Mắt Biếc + Tôi Thấy Hoa Vàng Trên Cỏ Xanh + Cho Tôi Xin Một Vé Đi Tuổi Thơ + Ngồi Khóc Trên Cây Tặng Sổ tay VDT', 'Ảnh bìa': 'https://salt.tikicdn.com/cache/280x280/ts/product/06/42/ec/a09dd5fd8aa0af2ba176b94aaa4b9a2d.jpg', 'Công ty phát hành': 'NXB Trẻ', 'Số trang': '340', 'Nhà xuất bản': 'NXB Trẻ', 'Tác giả': '', 'Thể loại': 'Chăm sóc sức khỏe', 'Giá bìa': 403750, 'Nội dung tóm tắt': '1. Mắt Biếc Mắt biếc là một tác phẩm được nhiều người bình chọn là hay nhất của nhà văn Nguyễn Nhật Ánh. Tác phẩm này cũng đã được dịch giả Kato Sakae dịch sang tiếng Nhật để giới thiệu với độc giả N...'}\n",
      "Number of products in my pocket 125\n",
      "so-tay-ghi-chep-lap-ke-hoach-deli-bia-cung-co-nut-cai-164-118mm-112-trang-giay-nhieu-hoa-tiet-mau-pastel-ngau-nhien-sz035-p114572097.html?spid=114572116\n",
      "{'path': 'so-tay-ghi-chep-lap-ke-hoach-deli-bia-cung-co-nut-cai-164-118mm-112-trang-giay-nhieu-hoa-tiet-mau-pastel-ngau-nhien-sz035-p114572097.html?spid=114572116', 'Tên Sách': 'Sổ tay ghi chép lập kế hoạch Deli - Bìa cứng có nút cài 164*118mm 112 trang - Giấy nhiều họa tiết - Màu pastel ngẫu nhiên - SZ035', 'Ảnh bìa': 'https://salt.tikicdn.com/cache/280x280/ts/product/49/46/45/ef49322c7c603a9410ef7734a82f5bd3.jpg', 'Thương hiệu': 'Deli', 'Xuất xứ': 'Trung Quốc', 'Xuất xứ thương hiệu': 'Trung Quốc', 'Tác giả': '', 'Thể loại': 'Chăm sóc sức khỏe', 'Giá bìa': 85000, 'Nội dung tóm tắt': '@   - Ử À ĐỘ Ề Ả Ẩ   Ấ Ạ Ệ ổ   ấ  – SZ035TÍNH NĂNG SẢN PHẨM:️Sổ tay được bọc bằng nhựa PVA trong suốt chất lượng tốt, có khả năng chống nước và dễ dàng vệ sinh bên ngoài sổ.️Sổ có màu sắc dễ thương, ...'}\n",
      "Number of products in my pocket 126\n",
      "combo-nam-chu-heo-con-va-an-mang-tren-chuyen-tau-toc-hanh-phuong-dong-p79465383.html?spid=79465384\n",
      "{'path': 'combo-nam-chu-heo-con-va-an-mang-tren-chuyen-tau-toc-hanh-phuong-dong-p79465383.html?spid=79465384', 'Tên Sách': 'Combo Năm Chú Heo Con và Án Mạng Trên Chuyến Tàu Tốc Hành Phương Đông', 'Ảnh bìa': 'https://salt.tikicdn.com/cache/280x280/ts/product/be/fe/4f/5c03f08e9a749dcddfd2e9558c3daedc.gif', 'Công ty phát hành': 'NXB Trẻ', 'Loại bìa': 'Bìa mềm', 'Nhà xuất bản': 'NXB Trẻ', 'Tác giả': 'Agatha Christie', 'Thể loại': 'Chăm sóc sức khỏe', 'Giá bìa': 191000, 'Nội dung tóm tắt': 'Combo Năm Chú Heo Con và Án Mạng Trên Chuyến Tàu Tốc Hành Phương ĐôngNăm Chú Heo ConGiới thiệu tóm tắt tác phẩm:Câu chuyện lấy ý tưởng từ một bài đồng dao của trẻ em Anh, với năm nhân vật là nghi p...'}\n",
      "Number of products in my pocket 127\n",
      "tao-thao-thanh-nhan-de-tien-tap-3-tang-kem-so-tay-p35593691.html?spid=55852696\n",
      "{'path': 'tao-thao-thanh-nhan-de-tien-tap-3-tang-kem-so-tay-p35593691.html?spid=55852696', 'Tên Sách': 'Tào Tháo, Thánh Nhân Đê Tiện – Tập 3 (Tặng kèm sổ tay)', 'Ảnh bìa': 'https://salt.tikicdn.com/cache/280x280/ts/product/64/0a/d1/100926cada70620c949f79439c767258.jpg', 'Công ty phát hành': 'Alphabooks', 'Ngày xuất bản': '2018-08-16 14:56:54', 'Kích thước': '13,5 x 20,5 cm', 'Loại bìa': 'Bìa mềm', 'Số trang': '704', 'Nhà xuất bản': 'Nhà Xuất Bản Văn Học', 'Tác giả': 'Vương Hiểu Lỗi', 'Thể loại': 'Chăm sóc sức khỏe', 'Giá bìa': 143280, 'Nội dung tóm tắt': 'Tào Tháo, Thánh Nhân Đê Tiện – Tập 3 (Tái Bản 2018)Tào Tháo là nhân vật có tính cách phức tạp và nhiều hình tượng nhất trong lịch sử Trung Quốc. Vừa giảo hoạt gian trá, lại thẳng thắn chân thành; vừa...'}\n",
      "Number of products in my pocket 128\n",
      "combo-dung-khach-sao-anh-yeu-em-2-tap-tieu-thuyet-lang-man-tang-bookmark-phuong-dong-books-p17050493.html?spid=87827172\n",
      "{'path': 'combo-dung-khach-sao-anh-yeu-em-2-tap-tieu-thuyet-lang-man-tang-bookmark-phuong-dong-books-p17050493.html?spid=87827172', 'Tên Sách': 'Combo Đừng Khách Sáo Anh Yêu Em ( 2 Tập ) - Tiểu Thuyết Lãng Mạn (Tặng Bookmark Phương Đông Books)', 'Ảnh bìa': 'https://salt.tikicdn.com/cache/280x280/ts/product/db/12/d9/f5969ed7a9c9a90eed7219e6d12ddd7a.jpg', 'Công ty phát hành': 'Shinebooks', 'Loại bìa': 'Bìa mềm', 'Nhà xuất bản': 'Nhà Xuất Bản Thanh Niên', 'Tác giả': 'Minh Nguyệt Thính Phong', 'Thể loại': 'Chăm sóc sức khỏe', 'Giá bìa': 236550, 'Nội dung tóm tắt': 'Combo Đừng Khách Sáo Anh Yêu Em ( 2 Tập ) - Tiểu Thuyết Lãng Mạn (Tặng Bookmark Phương Đông Books)Anh cứ nghĩ cô là một người thích đóng kịch, cuối cùng nhận ra mình còn lắm kịch hơn.Hiểu lầm người ...'}\n",
      "Number of products in my pocket 129\n"
     ]
    },
    {
     "name": "stdout",
     "output_type": "stream",
     "text": [
      "chung-ta-tan-di-o-ban-dac-biet-tang-kem-04-postcard-so-tay-bo-2-tap-p33401245.html?spid=33401246\n",
      "{'path': 'chung-ta-tan-di-o-ban-dac-biet-tang-kem-04-postcard-so-tay-bo-2-tap-p33401245.html?spid=33401246', 'Tên Sách': 'Chúng Ta - Tân Di Ổ - Bản Đặc Biệt Tặng Kèm 04 Postcard + Sổ Tay ( Bộ 2 Tập )', 'Ảnh bìa': 'https://salt.tikicdn.com/cache/280x280/ts/product/56/b8/88/ef39bbbd458d125dedb426057b4b2605.jpg', 'Công ty phát hành': 'Người Trẻ Việt', 'Kích thước': '14.5 x 20.5 cm', 'Dịch Giả': 'Hàn Vũ', 'Loại bìa': 'Bìa mềm', 'Số trang': '730', 'Tác giả': 'Tân Di Ổ', 'Thể loại': 'Chăm sóc sức khỏe', 'Giá bìa': 160000, 'Nội dung tóm tắt': 'Theo bạn, thời gian dành cho một cuộc tình là bao lâu?1 năm – là thời gian tình yêu đẹp nhất, là những vị ngọt nếm rõ trên đàu môi mỗi chúng ta.5 năm – là thời gian tình yêu thử thách nhất, là những ...'}\n",
      "Number of products in my pocket 130\n",
      "combo-2-cuon-sach-cua-so-hinh-tia-chop-vua-tho-han-p84866504.html?spid=84866505\n",
      "{'path': 'combo-2-cuon-sach-cua-so-hinh-tia-chop-vua-tho-han-p84866504.html?spid=84866505', 'Tên Sách': 'Combo 2 cuốn sách: Cửa sổ hình tia chớp + Vua thợ Hàn', 'Ảnh bìa': 'https://salt.tikicdn.com/cache/280x280/ts/product/ef/76/dd/3134678bfc5e0b2309b9023c9bf2e90d.jpg', 'Công ty phát hành': 'Nhã Nam', 'Nhà xuất bản': 'Nhà Xuất Bản Thế Giới', 'Tác giả': '', 'Thể loại': 'Chăm sóc sức khỏe', 'Giá bìa': 113100, 'Nội dung tóm tắt': '1. Cửa sổ hình tia chớpTrở lại với tập truyện ngắn Cửa sổ hình tia chớp, Võ Diệu Thanh cho thấy mình vẫn là một trong những nhà văn nữ có sức viết mạnh mẽ nhất hiện nay. Những con người dung dị ở miề...'}\n",
      "Number of products in my pocket 131\n",
      "combo-bat-tre-dong-xanh-va-chien-binh-cau-vong-tang-kem-so-tay-p11285179.html?spid=49494236\n",
      "{'path': 'combo-bat-tre-dong-xanh-va-chien-binh-cau-vong-tang-kem-so-tay-p11285179.html?spid=49494236', 'Tên Sách': 'Combo Bắt Trẻ Đồng Xanh và Chiến Binh Cầu Vồng ( Tặng Kèm Sổ Tay )', 'Ảnh bìa': 'https://salt.tikicdn.com/cache/280x280/ts/product/eb/42/39/522fbb3dc53fc8ddf02d0d0b3cf64d8d.jpg', 'Công ty phát hành': 'Nhã Nam', 'Ngày xuất bản': '2018-09-06 07:31:02', 'Kích thước': '13 x 20.5 cm\\n14 x 20.5 cm', 'Loại bìa': 'Bìa mềm', 'Số trang': '776', 'Nhà xuất bản': 'Nhà Xuất Bản Văn Học', 'Tác giả': 'J. D. Salinger,Andrea Hirata', 'Thể loại': 'Chăm sóc sức khỏe', 'Giá bìa': 172000, 'Nội dung tóm tắt': 'Combo Bắt Trẻ Đồng Xanh và Chiến Binh Cầu Vồng ( Tặng Kèm Sổ Tay )Bản đặc biệt tặng sổ tay, mẫu ngẫu nhiên , số lượng có hạnBắt Trẻ Đồng Xanhlà một cuốn sách nhỏ, mỏng và chẳng giống ai. Điều đó c...'}\n",
      "Number of products in my pocket 132\n",
      "combo-nhung-chang-trai-xau-tinh-va-ngoi-truong-moi-khi-tang-kem-so-tay-xuong-rong-p23046217.html?spid=23046218\n",
      "{'path': 'combo-nhung-chang-trai-xau-tinh-va-ngoi-truong-moi-khi-tang-kem-so-tay-xuong-rong-p23046217.html?spid=23046218', 'Tên Sách': 'Combo Những Chàng Trai Xấu Tính và Ngôi Trường Mọi Khi ( Tặng Kèm Sổ Tay Xương Rồng )', 'Ảnh bìa': 'https://salt.tikicdn.com/cache/280x280/ts/product/40/b9/ae/8158fb01a34612ba54b6143ac248182d.jpg', 'Công ty phát hành': 'NXB Trẻ', 'Ngày xuất bản': '2019-07-01 14:51:26', 'Kích thước': '12 x 20 cm\\n12 x 20 cm', 'Loại bìa': 'Bìa mềm', 'Số trang': '434', 'Tác giả': 'Nguyễn Nhật Ánh', 'Thể loại': 'Chăm sóc sức khỏe', 'Giá bìa': 103700, 'Nội dung tóm tắt': 'Combo Những Chàng Trai Xấu Tính và Ngôi Trường Mọi Khi ( Tặng Kèm Sổ Tay Xương Rồng )Bản đặc biệt tặng kèm sổ tay xương rồng, mẫu ngẫu nhiên ( 1 trong 4 mẫu như hình ) và số lượng có hạn Những Chàn...'}\n",
      "Number of products in my pocket 133\n",
      "tu-truyen-benjamin-franklin-tai-ban-tang-notebook-tu-thiet-ke-p36701077.html?spid=75993491\n",
      "{'path': 'tu-truyen-benjamin-franklin-tai-ban-tang-notebook-tu-thiet-ke-p36701077.html?spid=75993491', 'Tên Sách': 'Tự Truyện Benjamin Franklin (Tái Bản) (Tặng Notebook tự thiết kế)', 'Ảnh bìa': 'https://salt.tikicdn.com/cache/280x280/ts/product/43/27/d0/c88c360d7d72863d04a541e29bd47036.jpg', 'Công ty phát hành': 'Alphabooks', 'Loại bìa': 'Bìa mềm', 'Số trang': '238', 'Tác giả': '', 'Thể loại': 'Chăm sóc sức khỏe', 'Giá bìa': 102000, 'Nội dung tóm tắt': 'Tự Truyện Benjamin Franklin (Tái Bản)\"Mười bảy tuổi, tôi khăn gói thu xếp hành lý cùng lên tàu với anh. Sau ba ngày lênh đênh trên biển, từ Boston, chúng tôi đã đến New York. Nhưng đáng tiếc, tại đây...'}\n",
      "Number of products in my pocket 134\n",
      "combo-2-cuon-sach-van-hoc-hay-nhat-ong-tram-tuoi-treo-qua-cua-so-va-bien-mat-tai-ban-nha-gia-kim-tang-kem-bookmark-happy-life-p36377759.html?spid=52258603\n",
      "{'path': 'combo-2-cuon-sach-van-hoc-hay-nhat-ong-tram-tuoi-treo-qua-cua-so-va-bien-mat-tai-ban-nha-gia-kim-tang-kem-bookmark-happy-life-p36377759.html?spid=52258603', 'Tên Sách': 'Combo 2 Cuốn Sách Văn Học Hay Nhất: Ông Trăm Tuổi Trèo Qua Cửa Sổ Và Biến Mất (Tái Bản) + Nhà Giả Kim / Tặng Kèm Bookmark Happy Life', 'Ảnh bìa': 'https://salt.tikicdn.com/cache/280x280/ts/product/97/e5/fc/da05988cbbe45e27c84763929f19ea00.jpg', 'Công ty phát hành': 'Nhã Nam', 'Loại bìa': 'Bìa mềm', 'Nhà xuất bản': 'Nhà Xuất Bản Văn Học', 'Tác giả': ' Nhiều Tác Giả', 'Thể loại': 'Chăm sóc sức khỏe', 'Giá bìa': 202000, 'Nội dung tóm tắt': 'Combo 2 Cuốn Sách Văn Học Hay Nhất: Ông Trăm Tuổi Trèo Qua Cửa Sổ Và Biến Mất (Tái Bản) + Nhà Giả Kim / Tặng Kèm Bookmark Happy Life là những cuốn sách được nhiều đọc giả yêu thích, top những cuốn sác...'}\n",
      "Number of products in my pocket 135\n",
      "boc-me-nhung-cai-co-cua-dan-ong-tang-kem-so-tay-p38301337.html?spid=84567844\n",
      "{'path': 'boc-me-nhung-cai-co-cua-dan-ong-tang-kem-so-tay-p38301337.html?spid=84567844', 'Tên Sách': 'Bóc Mẽ Những Cái Cớ Của Đàn Ông - Tặng Kèm Sổ Tay', 'Ảnh bìa': 'https://salt.tikicdn.com/cache/280x280/ts/product/64/0a/1b/2656f86a4753159d2fd25a0288deddf2.jpg', 'Công ty phát hành': 'Skybooks', 'Kích thước': '13 x 19 cm', 'Dịch Giả': 'Minh Nguyệt', 'Loại bìa': 'Bìa mềm', 'Số trang': '272', 'Tác giả': 'Greg Behrendt, Liz Tuccillo', 'Thể loại': 'Chăm sóc sức khỏe', 'Giá bìa': 69420, 'Nội dung tóm tắt': '“BÓC MẼ NHỮNG CÁI CỚ CỦA ĐÀN ÔNG” – Đập tan những ảo tưởng về đàn ông“Đàn ông thà chịu đựng việc bị một con voi dẫm lên người, còn hơn là phải nói thẳng với bạn rằng anh ta không thích bạn.”Anh ta thờ...'}\n",
      "Number of products in my pocket 136\n",
      "combo-agatha-christie-cay-bach-buon-co-gai-thu-ba-va-con-meo-giua-dam-bo-cau-tang-kem-so-tay-xuong-rong-p24932826.html?spid=24932827\n",
      "{'path': 'combo-agatha-christie-cay-bach-buon-co-gai-thu-ba-va-con-meo-giua-dam-bo-cau-tang-kem-so-tay-xuong-rong-p24932826.html?spid=24932827', 'Tên Sách': 'Combo Agatha Christie : Cây Bách Buồn, Cô Gái Thứ Ba và Con Mèo Giữa Đám Bồ Câu ( Tặng Kèm Sổ Tay Xương Rồng )', 'Ảnh bìa': 'https://salt.tikicdn.com/cache/280x280/ts/product/bf/50/87/f0cd90fabae26b8a07306df46040a9c7.jpg', 'Công ty phát hành': 'NXB Trẻ', 'Ngày xuất bản': '2019-01-01 14:01:08', 'Kích thước': '13 x 20 cm\\n13 x 20 cm\\n13 x 20 cm', 'Loại bìa': 'Bìa mềm', 'Số trang': '941', 'Tác giả': 'Agatha Christie,Agatha Christie, Agatha Christie,Agatha Christie', 'Thể loại': 'Chăm sóc sức khỏe', 'Giá bìa': 280500, 'Nội dung tóm tắt': 'Combo Agatha Christie : Cây Bách Buồn, Cô Gái Thứ Ba và Con Mèo Giữa Đám Bồ Câu ( Tặng Kèm Sổ Tay Xương Rồng )Bản đặc biệt tặng kèm sổ tay xương rồng, mẫu ngẫu nhiên ( 1 trong 4 mẫu như hình ) và số ...'}\n",
      "Number of products in my pocket 137\n",
      "combo-2-cuon-sach-van-hoc-hay-nhat-moi-thoi-dai-ong-tram-tuoi-treo-qua-cua-so-va-bien-mat-tai-ban-lam-ban-voi-bau-troi-bia-mem-top-nhung-cuon-truyen-dai-ban-chay-nhat-p53901799.html?spid=89413206\n",
      "{'path': 'combo-2-cuon-sach-van-hoc-hay-nhat-moi-thoi-dai-ong-tram-tuoi-treo-qua-cua-so-va-bien-mat-tai-ban-lam-ban-voi-bau-troi-bia-mem-top-nhung-cuon-truyen-dai-ban-chay-nhat-p53901799.html?spid=89413206', 'Tên Sách': 'Combo 2 Cuốn Sách Văn Học Hay Nhất Mọi Thời Đại: Ông Trăm Tuổi Trèo Qua Cửa Sổ Và Biến Mất (Tái Bản) + Làm Bạn Với Bầu Trời (Bìa Mềm) / Top Những Cuốn Truyện Dài Bán Chạy Nhất', 'Ảnh bìa': 'https://salt.tikicdn.com/cache/280x280/ts/product/9d/1a/2d/3565c0fe1fea69e6a7103243d43dd424.jpg', 'Công ty phát hành': 'NXB Trẻ', 'Loại bìa': 'Bìa mềm', 'Nhà xuất bản': 'NXB Trẻ', 'Tác giả': ' Nhiều Tác Giả', 'Thể loại': 'Chăm sóc sức khỏe', 'Giá bìa': 280000, 'Nội dung tóm tắt': 'Combo 2 Cuốn Sách Văn Học Hay Nhất Mọi Thời Đại: Ông Trăm Tuổi Trèo Qua Cửa Sổ Và Biến Mất (Tái Bản) + Làm Bạn Với Bầu Trời (Bìa Mềm) / Top Những Cuốn Truyện Dài Bán Chạy NhấtÔng Trăm Tuổi Trèo Qua C...'}\n",
      "Number of products in my pocket 138\n"
     ]
    },
    {
     "name": "stdout",
     "output_type": "stream",
     "text": [
      "cuoc-song-rat-giong-cuoc-doi-tang-kem-so-tay-p37119357.html?spid=54683651\n",
      "{'path': 'cuoc-song-rat-giong-cuoc-doi-tang-kem-so-tay-p37119357.html?spid=54683651', 'Tên Sách': 'Cuộc Sống Rất Giống Cuộc Đời - Tặng Kèm Sổ Tay', 'Ảnh bìa': 'https://salt.tikicdn.com/cache/280x280/ts/product/17/8e/04/32e48a83c13a94c02592a91938f9cb6f.jpg', 'Công ty phát hành': 'AZ Việt Nam', 'Loại bìa': 'Bìa mềm', 'Số trang': '256', 'Tác giả': 'Hoàng Hải Nguyễn', 'Thể loại': 'Chăm sóc sức khỏe', 'Giá bìa': 57000, 'Nội dung tóm tắt': 'Cuộc Sống Rất Giống Cuộc ĐờiNếu bạn đang cảm thấy bế tắc trong cuộc sống, cần một ai đó xốc lại tinh thần để tiếp tục chiến đấu với cuộc đời thì chắc chắn không nên bỏ lỡ cuốn sách này. Cuộc sống rất...'}\n",
      "Number of products in my pocket 139\n",
      "cua-so-mot-canh-p49651325.html?spid=49651327\n",
      "{'path': 'cua-so-mot-canh-p49651325.html?spid=49651327', 'Tên Sách': 'Cửa sổ một cánh', 'Ảnh bìa': 'https://salt.tikicdn.com/cache/280x280/ts/product/8d/a2/91/386331a54dea795419749632bf6b5afe.jpg', 'Thương hiệu': 'OEM', 'Xuất xứ thương hiệu': 'Việt Nam', 'Chất liệu': 'Nhôm, kính, silicone...', 'Hướng dẫn sử dụng': '\\xa0Đối với loại cửa nhôm xingfa này thì tải trọng từ 22 – 45kg nên trong quá trình sử dụng bạn nên chú ý để có thể đảm bảo cửa không bị chảy xệ, ảnh hưởng đến chất lượng và tuổi thọ của sản phẩm.- Đây cũng là một loại cửa sử dụng bản lề chữ A vì thế chúng có thể cho phép người dùng dễ dàng vệ sinh hơn. Việc lau kính có thể được tiến hành từ bên trong lẫn bên ngoài, còn riêng phần phụ kiện chỉ cần sử dụng chổi lông để loại bỏ vết bẩn, bụi bẩn.- Cửa nhôm xingfa trong khi sử dụng, trường hợp cửa cần giới hạn góc mở hoặc kích thước cánh lớn tương đương với trọng tải lớn thì cần thiết phải sử dụng thêm một hoặc hai thanh hãm cữ hợp lý để có thể đảm bảo an toàn nhất cho sản phẩm.', 'Model': 'W01', 'Kích thước': '600mmx600mm', 'Xuất xứ': 'Việt Nam', 'Quy cách đóng gói': 'Cửa liên kết thành bộ hoàn chỉnh được đóng gói và chuyển nguyên bộ\\nCó hướng dẫn lắp đặt đi kèm.', 'Tải trọng tối đa': '10kg', 'Tác giả': '', 'Thể loại': 'Chăm sóc sức khỏe', 'Giá bìa': 1050000, 'Nội dung tóm tắt': 'Khung ngoại được làm từ thanh nhôm Xingfa 55 Việt Nam có độ dày 1.2mmKhung cánh được làm từ thanh nhôm Xingfa 55 Việt Nam có độ dày 1.2-1.4mmToàn bộ khung ngoại và khung cánh được cắt góc 45 độ ghép...'}\n",
      "Number of products in my pocket 140\n",
      "totto-chan-ben-cua-so-p114855546.html?spid=125400347\n",
      "{'path': 'totto-chan-ben-cua-so-p114855546.html?spid=125400347', 'Tên Sách': 'Totto - Chan Bên Cửa Sổ', 'Ảnh bìa': 'https://salt.tikicdn.com/cache/280x280/ts/product/bf/da/5c/38301eac27b78784e77246ad5ba3cd98.jpg', 'Công ty phát hành': 'Nhã Nam', 'Ngày xuất bản': '2020-08-13 17:34:03', 'Phiên bản': 'sách truyện', 'Loại bìa': 'Bìa mềm', 'Số trang': '355', 'Nhà xuất bản': 'Nhà Xuất Bản Hội Nhà Văn', 'Tác giả': '', 'Thể loại': 'Chăm sóc sức khỏe', 'Giá bìa': 98000, 'Nội dung tóm tắt': 'Không còn cách nào khác, mẹ đành đưa Totto-chan đến một ngôi trường mới, trường Tomoe. Đấy là một ngôi trường kỳ lạ, lớp học thì ở trong toa xe điện cũ, học sinh thì được thoả thích thay đổi chỗ ngồi ...'}\n",
      "Number of products in my pocket 141\n",
      "combo-80-ngay-vong-quanh-the-gioi-va-hai-van-dam-duoi-bien-tang-so-tay-p109138936.html?spid=109138937\n",
      "{'path': 'combo-80-ngay-vong-quanh-the-gioi-va-hai-van-dam-duoi-bien-tang-so-tay-p109138936.html?spid=109138937', 'Tên Sách': 'Combo 80 ngày vòng quanh thế giới và Hai vạn dặm dưới Biển tặng sổ tay', 'Ảnh bìa': 'https://salt.tikicdn.com/cache/280x280/ts/product/d3/44/4f/8c217b9a2b6954cf9ee70979d057a99a.jpg', 'Công ty phát hành': 'Minh Long', 'Nhà xuất bản': 'Nhà Xuất Bản Văn Học', 'Tác giả': '', 'Thể loại': 'Chăm sóc sức khỏe', 'Giá bìa': 142000, 'Nội dung tóm tắt': 'Combo Tiểu Thuyết Đặc Sắc: Hai Vạn Dặm Dưới Đáy Biển + 80 Ngày Vòng Quanh Thế Giới Jules Gabriel Verne (1828 - 1905), là nhà văn Pháp nổi tiếng, được coi là một trong những người “Cha đẻ” của thể loạ...'}\n",
      "Number of products in my pocket 142\n",
      "combo-4-cuon-sach-hay-cua-nha-van-nguyen-nhat-anh-con-cho-nho-mang-gio-hoa-hong-toi-la-beto-co-gai-den-tu-hom-qua-co-hai-con-meo-ngoi-ben-cua-so-tang-kem-bookmark-happy-life-p33491771.html?spid=89424313\n",
      "{'path': 'combo-4-cuon-sach-hay-cua-nha-van-nguyen-nhat-anh-con-cho-nho-mang-gio-hoa-hong-toi-la-beto-co-gai-den-tu-hom-qua-co-hai-con-meo-ngoi-ben-cua-so-tang-kem-bookmark-happy-life-p33491771.html?spid=89424313', 'Tên Sách': 'Combo 4 Cuốn Sách Hay Của Nhà Văn Nguyễn Nhật Ánh: Con Chó Nhỏ Mang Giỏ Hoa Hồng + Tôi Là Bêtô + Cô Gái Đến Từ Hôm Qua + Có Hai Con Mèo Ngồi Bên Cửa Sổ ( Tặng kèm Bookmark Happy Life)', 'Ảnh bìa': 'https://salt.tikicdn.com/cache/280x280/ts/product/37/f5/52/64cba864c67e7e64a2ab5a5786e6cda8.jpg', 'Công ty phát hành': 'NXB Trẻ', 'Loại bìa': 'Bìa mềm', 'Tác giả': 'Nguyễn Nhật Ánh', 'Thể loại': 'Chăm sóc sức khỏe', 'Giá bìa': 323000, 'Nội dung tóm tắt': 'Nhắc về  - người ta dành tặng chú không biết bao nhiêu mĩ từ: hoàng tử của tuổi thơ, nhà văn cho thiếu nhi , nhà văn viết về tuổi thơ hay nhất hay thậm chí còn là nhà văn bạc tỉ. Tôi cứ thấy những mĩ ...'}\n",
      "Number of products in my pocket 143\n",
      "tay-nam-cua-so-quay-p115966547.html?spid=115966548\n",
      "{'path': 'tay-nam-cua-so-quay-p115966547.html?spid=115966548', 'Tên Sách': 'Tay nắm cửa sổ quay', 'Ảnh bìa': 'https://salt.tikicdn.com/cache/280x280/ts/product/40/60/44/fe23b065590c2487b46cc50dab536fd6.png', 'Thương hiệu': 'OEM', 'Xuất xứ thương hiệu': 'Đức', 'Chất liệu': 'Được làm từ gang thép tổng hợp\\n\\xa0', 'Xuất xứ': 'Trung Quốc', 'Trọng lượng': '200', 'Quy cách đóng gói': 'Hộp Carton', 'Tác giả': '', 'Thể loại': 'Chăm sóc sức khỏe', 'Giá bìa': 59000, 'Nội dung tóm tắt': 'Tay nắm cửa sổ quay : Là loại dùng cho cửa sổ hệ nhôm kính, cửa nhựa lõi thép.Tay nắm dùng cho hệ cửa mở quay, cửa mở hất, cửa cánh lậù là cửa loại nào đi chăng nữa thì tay nắm là phụ kiện không thể t...'}\n",
      "Number of products in my pocket 144\n",
      "combo-anne-toc-do-va-ngoi-nha-mo-uoc-tai-ban-anne-toc-do-lang-avonlea-tai-ban-anne-toc-do-o-dao-hoang-tu-edward-tai-ban-2018-tang-kem-so-tay-p28672447.html?spid=75979487\n",
      "{'path': 'combo-anne-toc-do-va-ngoi-nha-mo-uoc-tai-ban-anne-toc-do-lang-avonlea-tai-ban-anne-toc-do-o-dao-hoang-tu-edward-tai-ban-2018-tang-kem-so-tay-p28672447.html?spid=75979487', 'Tên Sách': 'Combo Anne Tóc Đỏ và Ngôi Nhà Mơ Ước ( Tái Bản ) + Anne Tóc Đỏ Làng Avonlea (Tái Bản) + Anne Tóc Đỏ Ở Đảo Hoàng Tử Edward (Tái Bản 2018) - Tặng kèm sổ tay ', 'Ảnh bìa': 'https://salt.tikicdn.com/cache/280x280/ts/product/1b/fa/ab/4c936d4dc3eac0839566b3e8c243f05d.jpg', 'Công ty phát hành': 'Nhã Nam', 'Kích thước': '14*21', 'Tác giả': 'L.M. Montgomery', 'Thể loại': 'Chăm sóc sức khỏe', 'Giá bìa': 226980, 'Nội dung tóm tắt': 'Anne Tóc Đỏ Và Ngôi Nhà Mơ ƯớcGilbert Blythe - tình yêu đích thực của đời Anne - cuối cùng cũng trở thành bác sĩ, và trong ánh nắng tỏa ngời khu vườn quả, giữa những bạn bè thân thiết nhất, họ nói lờ...'}\n",
      "Number of products in my pocket 145\n",
      "combo-dem-vo-tan-va-toi-ac-duoi-anh-mat-troi-tang-kem-so-tay-xuong-rong-p34320326.html?spid=34320327\n",
      "{'path': 'combo-dem-vo-tan-va-toi-ac-duoi-anh-mat-troi-tang-kem-so-tay-xuong-rong-p34320326.html?spid=34320327', 'Tên Sách': 'Combo Đêm Vô Tận và Tội Ác Dưới Ánh Mặt Trời ( Tặng Kèm Sổ Tay Xương Rồng) ', 'Ảnh bìa': 'https://salt.tikicdn.com/cache/280x280/ts/product/4c/09/e4/90d8f072311199acb15bd9034d16228c.jpg', 'Công ty phát hành': 'NXB Trẻ', 'Ngày xuất bản': '2019-09-01 15:15:53', 'Kích thước': '13 x 20 cm\\n13 x 20 cm', 'Loại bìa': 'Bìa mềm', 'Số trang': '650', 'Tác giả': '  Agatha Christie', 'Thể loại': 'Chăm sóc sức khỏe', 'Giá bìa': 195000, 'Nội dung tóm tắt': 'Combo Đêm Vô Tận và Tội Ác Dưới Ánh Mặt Trời ( Tặng Kèm Sổ Tay Xương Rồng)Bản đặc biệt tặng kèm sổ tay xương rồng, mẫu ngẫu nhiên ( 1 trong 4 mẫu như hình ) và số lượng có hạn. Đêm Vô TậnĐất Digan...'}\n",
      "Number of products in my pocket 146\n"
     ]
    },
    {
     "name": "stdout",
     "output_type": "stream",
     "text": [
      "tiem-do-co-mieu-quy-duong-cuon-so-ki-bi-cua-co-chu-tiem-meo-con-ban-dac-biet-tang-kem-bookmark-be-hinh-giay-viet-thu-phong-bi-thu-p108130867.html?spid=108130868\n",
      "{'path': 'tiem-do-co-mieu-quy-duong-cuon-so-ki-bi-cua-co-chu-tiem-meo-con-ban-dac-biet-tang-kem-bookmark-be-hinh-giay-viet-thu-phong-bi-thu-p108130867.html?spid=108130868', 'Tên Sách': 'Tiệm Đồ Cổ Miêu Quy Đường: Cuốn Sổ Kì Bí Của Cô Chủ Tiệm Mèo Con - Bản Đặc Biệt - Tặng Kèm Bookmark Bế Hình + Giấy Viết Thư + Phong Bì Thư', 'Ảnh bìa': 'https://salt.tikicdn.com/cache/280x280/ts/product/dd/01/0f/ac59c7cfba07e2364e0403ce0087d094.jpg', 'Công ty phát hành': 'AZ Việt Nam', 'Nhà xuất bản': 'Nhà Xuất Bản Thế Giới', 'Tác giả': 'Yu Asami', 'Thể loại': 'Chăm sóc sức khỏe', 'Giá bìa': 139000, 'Nội dung tóm tắt': 'Tiệm Đồ Cổ Miêu Quy Đường: Cuốn Sổ Kì Bí Của Cô Chủ Tiệm Mèo Con   Quà Tặng:   - 01 Giấy Viết Thư (15.5 x 24 cm)   - 01 Phong Bì Thư (16 x 9 cm)   - 01 Bookmark Bế Hình   -----------------   Bằn...'}\n",
      "Number of products in my pocket 147\n",
      "combo-di-qua-hoa-cuc-va-ha-do-tang-kem-so-tay-xuong-rong-p23053509.html?spid=23053510\n",
      "{'path': 'combo-di-qua-hoa-cuc-va-ha-do-tang-kem-so-tay-xuong-rong-p23053509.html?spid=23053510', 'Tên Sách': 'Combo Đi Qua Hoa Cúc và Hạ Đỏ ( Tặng Kèm Sổ Tay Xương Rồng )', 'Ảnh bìa': 'https://salt.tikicdn.com/cache/280x280/ts/product/d9/85/c6/31f17504140b37dc727233a17e42095d.jpg', 'Công ty phát hành': 'NXB Trẻ', 'Ngày xuất bản': '2019-07-01 15:22:31', 'Kích thước': '12 x 20 cm\\n12 x 20 cm', 'Loại bìa': 'Bìa mềm', 'Số trang': '410', 'Tác giả': 'Nguyễn Nhật Ánh', 'Thể loại': 'Chăm sóc sức khỏe', 'Giá bìa': 110500, 'Nội dung tóm tắt': 'Combo Đi Qua Hoa Cúc và Hạ Đỏ ( Tặng Kèm Sổ Tay Xương Rồng )Bản đặc biệt tặng kèm sổ tay xương rồng, mẫu ngẫu nhiên ( 1 trong 4 mẫu như hình ) và số lượng có hạn Đi Qua Hoa CúcCuốn Đi Qua Hoa Cúc ...'}\n",
      "Number of products in my pocket 148\n",
      "bi-mat-cua-naoko-tang-kem-so-tay-p36487773.html?spid=76045318\n",
      "{'path': 'bi-mat-cua-naoko-tang-kem-so-tay-p36487773.html?spid=76045318', 'Tên Sách': 'Bí Mật Của Naoko - Tặng Kèm Sổ Tay', 'Ảnh bìa': 'https://salt.tikicdn.com/cache/280x280/ts/product/fb/50/26/fef01159157f01a17d02519f39e61c83.jpg', 'Công ty phát hành': 'Nhã Nam', 'Kích thước': '14 x 20.5 cm', 'Loại bìa': 'Bìa mềm', 'Số trang': '468', 'Nhà xuất bản': 'Nhà Xuất Bản Hội Nhà Văn', 'Tác giả': 'Higashino Keigo', 'Thể loại': 'Chăm sóc sức khỏe', 'Giá bìa': 86400, 'Nội dung tóm tắt': 'Bí Mật Của NaokoCuộc sống của Hirasule trôi qua hết sức bình lặng, cho đến một ngày tai nạn giao thông khủng khiếp xảy ra và gã mất đi người vợ yêu quý nhất của mình, còn đứa con gái bé bỏng vẫn tron...'}\n",
      "Number of products in my pocket 149\n",
      "decal-dan-tuong-cua-so-xanh-ay823-p15510860.html?spid=42597033\n",
      "{'path': 'decal-dan-tuong-cua-so-xanh-ay823-p15510860.html?spid=42597033', 'Tên Sách': 'Decal dán tường cửa sổ xanh ay823', 'Ảnh bìa': 'https://salt.tikicdn.com/cache/280x280/ts/product/82/2f/d1/7a2e69ad906972bd3332aa5f4652b672.jpg', 'Thương hiệu': 'OEM', 'Kích thước': 'kích thước 60x90cm\\nkích thước sau dán 60x110cm', 'Tác giả': '', 'Thể loại': 'Chăm sóc sức khỏe', 'Giá bìa': 68000, 'Nội dung tóm tắt': 'Decal dán tường mang lại cho không gian nhà bạn cảm giác ấm áp, nhẹ nhàng, sang trọng và tinh tếCòn gì tuyệt vời hơn khi nhâm nhi ly cà phê , đọc một cuốn sách , nghe nhạc , làm việc, vui chơi cùng g...'}\n",
      "Number of products in my pocket 150\n",
      "combo-agatha-christie-tan-cung-la-cai-chet-va-thoi-khac-dinh-menh-tang-kem-so-tay-xuong-rong-p25118135.html?spid=25118136\n",
      "{'path': 'combo-agatha-christie-tan-cung-la-cai-chet-va-thoi-khac-dinh-menh-tang-kem-so-tay-xuong-rong-p25118135.html?spid=25118136', 'Tên Sách': 'Combo Agatha Christie : Tận Cùng Là Cái Chết và Thời Khắc Định Mệnh ( Tặng Kèm Sổ Tay Xương Rồng)', 'Ảnh bìa': 'https://salt.tikicdn.com/cache/280x280/ts/product/07/15/57/6812ad83abc9158ca00b99ae872ad42c.jpg', 'Công ty phát hành': 'NXB Trẻ', 'Ngày xuất bản': '2019-01-01 20:29:35', 'Tác giả': ' Agatha Christie,Agatha Christie,Agatha Christie,Agatha Christie', 'Thể loại': 'Chăm sóc sức khỏe', 'Giá bìa': 185000, 'Nội dung tóm tắt': 'Combo Agatha Christie : Tận Cùng Là Cái Chết và Thời Khắc Định Mệnh ( Tặng Kèm Sổ Tay Xương Rồng)Bản đặc biệt tặng kèm sổ tay xương rồng, mẫu ngẫu nhiên ( 1 trong 4 mẫu như hình ) và số lượng có hạn...'}\n",
      "Number of products in my pocket 151\n",
      "sach-so-tay-viet-van-p105739775.html?spid=105739776\n",
      "{'path': 'sach-so-tay-viet-van-p105739775.html?spid=105739776', 'Tên Sách': 'Sách Sổ Tay Viết Văn', 'Ảnh bìa': 'https://salt.tikicdn.com/cache/280x280/ts/product/2f/6f/a2/b227222b501c0dbb0958cd4781ead710.jpg', 'Công ty phát hành': 'Phương Nam Book', 'Ngày xuất bản': '2016-07-07 00:00:00', 'Loại bìa': 'Bìa mềm', 'Số trang': '211', 'Nhà xuất bản': 'Nhà Xuất Bản Văn Học', 'Tác giả': 'Tô Hoài', 'Thể loại': 'Chăm sóc sức khỏe', 'Giá bìa': 89100, 'Nội dung tóm tắt': '    Sổ Tay Viết Văn      Nhà xuất bản : Nhà Xuất Bản Văn Học.  Công ty phát hành : Phương Nam Book.  Tác giả : Tô Hoài.  Kích thước : 13 x 20.5 cm.  Số trang : 211.  Ngày xuất bản : 07-2016...'}\n",
      "Number of products in my pocket 152\n",
      "tro-choi-vuong-quyen-3c-tu-hon-tai-ban-2019-tang-kem-so-tay-p32429495.html?spid=32429496\n",
      "{'path': 'tro-choi-vuong-quyen-3c-tu-hon-tai-ban-2019-tang-kem-so-tay-p32429495.html?spid=32429496', 'Tên Sách': 'Trò Chơi Vương Quyền 3C - Tử Hôn (Tái Bản 2019) - Tặng kèm sổ tay', 'Ảnh bìa': 'https://salt.tikicdn.com/cache/280x280/ts/product/10/cd/aa/d41c4793520e524089d554cd7753d97f.jpg', 'Công ty phát hành': 'Alphabooks', 'Ngày xuất bản': '2019-07-16 09:24:11', 'Kích thước': '14 x 20.5 cm', 'Loại bìa': 'Bìa mềm', 'Số trang': '719', 'Tác giả': 'George R.R. Martin', 'Thể loại': 'Chăm sóc sức khỏe', 'Giá bìa': 159000, 'Nội dung tóm tắt': 'Bộ sách đồ sộ và đình đám Trò chơi vương quyền là một series tiểu thuyết sử thi viễn tưởng của tiểu thuyết gia nổi tiếng người Mỹ George R. R. Martin. Lấy cảm hứng từ tiểu thuyết \"Cuộc chiến hoa hồng\"...'}\n",
      "Number of products in my pocket 153\n",
      "quyen-so-tay-jack-phuong-tuan-j97-set-2-quyen-p55130056.html?spid=55130057\n",
      "{'path': 'quyen-so-tay-jack-phuong-tuan-j97-set-2-quyen-p55130056.html?spid=55130057', 'Tên Sách': 'QUYỂN SỔ TAY JACK PHƯƠNG TUẤN J97 SET 2 QUYỂN', 'Ảnh bìa': 'https://salt.tikicdn.com/cache/280x280/ts/product/3c/c9/a5/d8e795e203bc1cdae1e2762b0e10e06c.jpg', 'Thương hiệu': 'OEM', 'Xuất xứ': 'Việt Nam', 'Xuất xứ thương hiệu': 'Việt Nam', 'Tác giả': '', 'Thể loại': 'Chăm sóc sức khỏe', 'Giá bìa': 55000, 'Nội dung tóm tắt': 'QUYỂN SỔ TAY JACK PHƯƠNG TUẤN J97 SET 2 QUYỂNGỒM 1 QUYỂN SỔ GÁY XOẮN LÒ XO ẢNH IN 2 MẶT 1 QUYỂN SỔ TAY KÈM BÚT NHỎ ẢNH IN 2 MẶT HÌNH ẢNH TRÊN SỔ THAY ĐỔI LIÊN TỤC GIAO MẪU NGẪU NHIÊN...'}\n",
      "Number of products in my pocket 154\n",
      "combo-co-gai-nam-ay-chung-ta-cung-theo-duoi-va-chuyen-ve-co-gai-ay-tang-kem-so-tay-xuong-rong-p41243211.html?spid=41243212\n",
      "{'path': 'combo-co-gai-nam-ay-chung-ta-cung-theo-duoi-va-chuyen-ve-co-gai-ay-tang-kem-so-tay-xuong-rong-p41243211.html?spid=41243212', 'Tên Sách': 'Combo Cô Gái Năm Ấy Chúng Ta Cùng Theo Đuổi và Chuyện Về Cô Gái Ấy( Tặng Kèm Sổ Tay Xương Rồng)', 'Ảnh bìa': 'https://salt.tikicdn.com/cache/280x280/ts/product/bb/76/44/26d69a6a58ccde567fe4889d3b33ff37.jpg', 'Công ty phát hành': 'Nhã Nam', 'Ngày xuất bản': '2019-11-01 15:29:54', 'Loại bìa': 'Bìa mềm', 'Số trang': '626', 'Tác giả': 'Ichikawa Takuji,Cửu Bả Đao', 'Thể loại': 'Chăm sóc sức khỏe', 'Giá bìa': 173400, 'Nội dung tóm tắt': 'Combo Cô Gái Năm Ấy Chúng Ta Cùng Theo Đuổi và Chuyện Về Cô Gái Ấy( Tặng Kèm Sổ Tay Xương Rồng)Bản đặc biệt tặng kèm sổ tay xương rồng, mẫu ngẫu nhiên ( 1 trong 4 mẫu như hình ) và số lượng có hạn.C...'}\n",
      "Number of products in my pocket 155\n",
      "combo-ring-vong-tron-ac-nghiet-va-thu-toi-tang-kem-so-tay-p14344803.html?spid=14344804\n",
      "{'path': 'combo-ring-vong-tron-ac-nghiet-va-thu-toi-tang-kem-so-tay-p14344803.html?spid=14344804', 'Tên Sách': 'Combo Ring - Vòng Tròn Ác Nghiệt và Thú Tội ( Tặng Kèm Sổ Tay )', 'Ảnh bìa': 'https://salt.tikicdn.com/cache/280x280/ts/product/b7/31/90/0fc54c227a34f3ac4fd958aea7931055.jpg', 'Công ty phát hành': 'Nhã Nam', 'Ngày xuất bản': '2019-01-01 08:18:13', 'Kích thước': '13 x 20.5 cm\\n13 x 20.5 cm', 'Loại bìa': 'Bìa mềm', 'Số trang': '603', 'Tác giả': 'Suzuki Koji,Minato Kanae', 'Thể loại': 'Chăm sóc sức khỏe', 'Giá bìa': 141100, 'Nội dung tóm tắt': 'Combo Ring - Vòng Tròn Ác Nghiệt và Thú Tội ( Tặng Kèm Sổ Tay )Bản đặc biệt tặng kèm sổ tay, mẫu ngẫu nhiên và số lượng có hạn.Ring - Vòng Tròn Ác NghiệtCái chết đến từ một cuộn băng. Hai đôi nam n...'}\n",
      "Number of products in my pocket 156\n"
     ]
    },
    {
     "name": "stdout",
     "output_type": "stream",
     "text": [
      "adolf-hitler-chan-dung-mot-trum-phat-xit-tai-ban-tang-notebook-tu-thiet-ke-p36701169.html?spid=82979578\n",
      "{'path': 'adolf-hitler-chan-dung-mot-trum-phat-xit-tai-ban-tang-notebook-tu-thiet-ke-p36701169.html?spid=82979578', 'Tên Sách': 'Adolf Hitler – Chân Dung Một Trùm Phát Xít (Tái Bản) (Tặng Notebook tự thiết kế)', 'Ảnh bìa': 'https://salt.tikicdn.com/cache/280x280/ts/product/0e/56/2a/fe758aaaf8dbd423fa73dd8a2ea3fb69.jpg', 'Công ty phát hành': 'Alphabooks', 'Kích thước': '16x24cm', 'Loại bìa': 'Bìa cứng', 'Số trang': '1200', 'Tác giả': 'John Toland', 'Thể loại': 'Chăm sóc sức khỏe', 'Giá bìa': 464000, 'Nội dung tóm tắt': 'Adolf Hitler – chân dung một trùm phát xít là tác phẩm đồ sộ và chi tiết bậc nhất từng có về Adolf Hitler. Với những phân tích sâu sắc và sáng rõ dựa trên một lượng lớn các nguồn tài liệu chưa công bố...'}\n",
      "Number of products in my pocket 157\n",
      "bo-2-cuon-tieu-thuyet-ly-ki-hap-dan-sau-canh-cua-dong-nguoi-dan-ba-sau-cua-so-p36159335.html?spid=36159336\n",
      "{'path': 'bo-2-cuon-tieu-thuyet-ly-ki-hap-dan-sau-canh-cua-dong-nguoi-dan-ba-sau-cua-so-p36159335.html?spid=36159336', 'Tên Sách': 'Bộ 2 cuốn tiểu thuyết ly kì hấp dẫn: Sau Cánh Cửa Đóng - Người Đàn Bà Sau Cửa Sổ', 'Ảnh bìa': 'https://salt.tikicdn.com/cache/280x280/ts/product/34/c6/39/c0f5f261166c2a283d4b90416d123df0.png', 'Công ty phát hành': 'Nhã Nam', 'Ngày xuất bản': '2019-07-18 10:44:07', 'Kích thước': '14 x 20,5 cm', 'Loại bìa': 'Bìa mềm', 'Tác giả': 'A J Finn,B A Paris', 'Thể loại': 'Chăm sóc sức khỏe', 'Giá bìa': 218500, 'Nội dung tóm tắt': 'Bộ 2 cuốn tiểu thuyết ly kì hấp dẫn: Sau Cánh Cửa Đóng - Người Đàn Bà Sau Cửa SổSau Cánh Cửa ĐóngJack tài năng và lịch lãm, còn Grace xinh đẹp và thành công. Trong mắt mọi người, họ là một cặp đ...'}\n",
      "Number of products in my pocket 158\n",
      "vua-nham-mat-vua-mo-cua-so-phien-ban-dac-biet-p85350805.html?spid=85350806\n",
      "{'path': 'vua-nham-mat-vua-mo-cua-so-phien-ban-dac-biet-p85350805.html?spid=85350806', 'Tên Sách': 'Vừa Nhắm Mắt Vừa Mở Cửa Sổ (Phiên Bản Đặc Biệt)', 'Ảnh bìa': 'https://salt.tikicdn.com/cache/280x280/ts/product/b1/be/7b/b31bb181888d87f13d455bf51bb461b0.jpg', 'Công ty phát hành': 'NXB Trẻ', 'Ngày xuất bản': '2021-03-15 00:00:00', 'Kích thước': '19 x 24 cm', 'Loại bìa': 'Bìa mềm', 'Số trang': '160', 'Nhà xuất bản': 'NXB Trẻ', 'Tác giả': 'Nguyễn Ngọc Thuần', 'Thể loại': 'Chăm sóc sức khỏe', 'Giá bìa': 233500, 'Nội dung tóm tắt': 'Tác phẩm gồm những câu chuyện ngắn xoay quanh cuộc sống thường ngày của một đứa trẻ mười tuổi, từ những thứ nhỏ nhặt như cái răng khểnh, ngón tay cho đến chuyện mất mát của đời người. Có vui, có buồn,...'}\n",
      "Number of products in my pocket 159\n",
      "phai-long-voi-co-don-tang-kem-so-tay-p26465933.html?spid=86327081\n",
      "{'path': 'phai-long-voi-co-don-tang-kem-so-tay-p26465933.html?spid=86327081', 'Tên Sách': 'Phải Lòng Với Cô Đơn - Tặng kèm sổ tay', 'Ảnh bìa': 'https://salt.tikicdn.com/cache/280x280/ts/product/5b/84/b4/07a8b7dd9f7ce3b9fc42fd1a374a4b2c.jpg', 'Công ty phát hành': 'Skybooks', 'Ngày xuất bản': '2019-07-10 14:16:53', 'Kích thước': '11 x 17 cm', 'Loại bìa': 'Bìa mềm', 'Số trang': '256', 'Nhà xuất bản': 'Nhà Xuất Bản Phụ Nữ', 'Tác giả': 'Kulzsc', 'Thể loại': 'Chăm sóc sức khỏe', 'Giá bìa': 86000, 'Nội dung tóm tắt': 'Cô đơn ơi, lại đây chơi !Từ cổ chí kim, con người ta sinh ra vốn đã một mình, có người bầu bạn thì tốt mà không có cũng chẳng sao.Ai cũng có thể tự kiếm tiền, tự lo cho bản thân, tự đứng dậy sau nhữ...'}\n",
      "Number of products in my pocket 160\n",
      "sach-cuoc-doi-ngoai-cua-sach-doat-giai-tieu-thuyet-viet-nam-hoi-nha-van-p105739563.html?spid=105739564\n",
      "{'path': 'sach-cuoc-doi-ngoai-cua-sach-doat-giai-tieu-thuyet-viet-nam-hoi-nha-van-p105739563.html?spid=105739564', 'Tên Sách': 'Sách Cuộc Đời Ngoài Cửa (Sách đoạt giải Tiểu thuyết Việt Nam Hội Nhà Văn)', 'Ảnh bìa': 'https://salt.tikicdn.com/cache/280x280/ts/product/9c/0f/fb/cee89bbb51fe8b05e6bf3b6ccf775449.jpg', 'Công ty phát hành': 'Phương Nam Book', 'Ngày xuất bản': '2014-11-03 00:00:00', 'Loại bìa': 'Bìa mềm', 'Số trang': '262', 'Nhà xuất bản': 'Nhà Xuất Bản Hội Nhà Văn', 'Tác giả': 'Nguyễn Danh Lam', 'Thể loại': 'Chăm sóc sức khỏe', 'Giá bìa': 61200, 'Nội dung tóm tắt': '    Cuộc Đời Ngoài Cửa (Sách đoạt giải Tiểu thuyết Việt Nam Hội Nhà Văn)      Nhà xuất bản : Nhà Xuất Bản Hội Nhà Văn.  Công ty phát hành : Phương Nam Book.  Tác giả : Nguyễn Danh Lam.  Kích ...'}\n",
      "Number of products in my pocket 161\n",
      "mieng-dan-kinh-cua-so-3d-pvc-p22822895.html?spid=57274456\n",
      "{'path': 'mieng-dan-kinh-cua-so-3d-pvc-p22822895.html?spid=57274456', 'Tên Sách': 'Miếng Dán Kính Cửa Sổ 3D PVC', 'Ảnh bìa': 'https://salt.tikicdn.com/cache/280x280/ts/product/52/f5/52/442f98632a86d367875c9158822d23e5.jpg', 'Thương hiệu': 'OEM', 'Xuất xứ thương hiệu': 'China', 'Trọng lượng': '0.153kg', 'Tác giả': '', 'Thể loại': 'Chăm sóc sức khỏe', 'Giá bìa': 105000, 'Nội dung tóm tắt': '       Color: As shown in the pictureMaterial: PVCProduct Size: 60 x 100cmNote:Please allow 1-3.0Mm differs due to manual measurement.Due to the different display and different light, the picture may ...'}\n",
      "Number of products in my pocket 162\n",
      "tranh-dan-tuong-cua-so-3d-tranh-trang-tri-cua-so-3d-tranh-dep-cua-so-3d-tranh-3d-cua-so-dac-sac-t3dmn-t6-3d-095-p19873544.html?spid=19873546\n",
      "{'path': 'tranh-dan-tuong-cua-so-3d-tranh-trang-tri-cua-so-3d-tranh-dep-cua-so-3d-tranh-3d-cua-so-dac-sac-t3dmn-t6-3d-095-p19873544.html?spid=19873546', 'Tên Sách': 'Tranh dán tường cửa sổ 3D | Tranh trang trí cửa sổ 3D | Tranh đẹp cửa sổ 3D | Tranh 3D cửa sổ đặc sắc | T3DMN T6 3D-095', 'Ảnh bìa': 'https://salt.tikicdn.com/cache/280x280/ts/product/4d/58/9e/60f0bdc2e9116b41a858a6033b69d019.jpg', 'Thương hiệu': 'OEM', 'Xuất xứ': 'Việt Nam', 'Tác giả': '', 'Thể loại': 'Chăm sóc sức khỏe', 'Giá bìa': 159000, 'Nội dung tóm tắt': '1. Tranh dán tường cửa sổ 3D là gì?Tranh dán tường cửa sổ 3D là một bức tranh trang trí tường đầy nghệ thuật, có hình ảnh giống như một khung cửa sổ được dán lên tường, giúp bạn trải nghiệm cảm xúc c...'}\n",
      "Number of products in my pocket 163\n",
      "combo-bi-mat-cua-nicholas-flamel-phap-su-va-yeu-nu-tang-kem-so-tay-xuong-rong-p25118468.html?spid=25118469\n",
      "{'path': 'combo-bi-mat-cua-nicholas-flamel-phap-su-va-yeu-nu-tang-kem-so-tay-xuong-rong-p25118468.html?spid=25118469', 'Tên Sách': 'Combo Bí Mật Của Nicholas Flamel : Pháp Sư và Yêu Nữ ( Tặng Kèm Sổ Tay Xương Rồng)', 'Ảnh bìa': 'https://salt.tikicdn.com/cache/280x280/ts/product/23/42/d2/9a7e20b27dc1f09e8f30e1178bb13e6f.jpg', 'Công ty phát hành': 'NXB Trẻ', 'Ngày xuất bản': '2019-01-01 20:58:15', 'Kích thước': '13.2 x 21\\n13.2 x 21', 'Loại bìa': 'Bìa mềm', 'Số trang': '1130', 'Tác giả': '\\xa0Michael Scott.,Michael Scott,Michael Scott', 'Thể loại': 'Chăm sóc sức khỏe', 'Giá bìa': 252450, 'Nội dung tóm tắt': 'Combo Bí Mật Của Nicholas Flamel : Pháp Sư và Yêu Nữ ( Tặng Kèm Sổ Tay Xương Rồng)Bản đặc biệt tặng kèm sổ tay xương rồng, mẫu ngẫu nhiên ( 1 trong 4 mẫu như hình ) và số lượng có hạn.Cuộc chiến đấu...'}\n",
      "Number of products in my pocket 164\n",
      "combo-trai-hoa-vang-va-hoa-hong-xu-khac-tang-kem-so-tay-xuong-rong-p23225993.html?spid=23225994\n",
      "{'path': 'combo-trai-hoa-vang-va-hoa-hong-xu-khac-tang-kem-so-tay-xuong-rong-p23225993.html?spid=23225994', 'Tên Sách': 'Combo Trại Hoa Vàng và Hoa Hồng Xứ Khác ( Tặng Kèm Sổ Tay Xương Rồng)', 'Ảnh bìa': 'https://salt.tikicdn.com/cache/280x280/ts/product/4a/55/8c/2219935dfa0d405049c6f2ba54e8dd15.jpg', 'Công ty phát hành': 'NXB Trẻ', 'Ngày xuất bản': '2019-07-01 21:47:35', 'Kích thước': '12 x 20 cm\\n12 x 20 cm', 'Loại bìa': 'Bìa mềm', 'Số trang': '560', 'Tác giả': 'Nguyễn Nhật Ánh', 'Thể loại': 'Chăm sóc sức khỏe', 'Giá bìa': 137700, 'Nội dung tóm tắt': 'Combo Trại Hoa Vàng và Hoa Hồng Xứ Khác ( Tặng Kèm Sổ Tay Xương Rồng)Bản đặc biệt tặng kèm sổ tay xương rồng, mẫu ngẫu nhiên ( 1 trong 4 mẫu như hình ) và số lượng có hạn  Trại Hoa VàngTruyện đã đ...'}\n",
      "Number of products in my pocket 165\n"
     ]
    },
    {
     "name": "stdout",
     "output_type": "stream",
     "text": [
      "tron-bo-3-tap-sherlock-holmes-toan-tap-tang-kem-so-tay-p13328027.html?spid=76602028\n",
      "{'path': 'tron-bo-3-tap-sherlock-holmes-toan-tap-tang-kem-so-tay-p13328027.html?spid=76602028', 'Tên Sách': 'Trọn Bộ 3 Tập Sherlock Holmes Toàn Tập (Tặng kèm sổ tay)', 'Ảnh bìa': 'https://salt.tikicdn.com/cache/280x280/ts/product/dc/b5/df/fccf07ce69ca733dd1d50dd94c48d073.jpg', 'Công ty phát hành': 'Minh Long', 'Ngày xuất bản': '2018-07-11 14:00:26', 'Kích thước': '14.5 x 20.5 cm', 'Loại bìa': 'Bìa mềm', 'Số trang': '1560', 'Nhà xuất bản': 'Nhà Xuất Bản Văn Học', 'Tác giả': 'Sir Arthur Conan Doyle', 'Thể loại': 'Chăm sóc sức khỏe', 'Giá bìa': 285000, 'Nội dung tóm tắt': 'Trọn Bộ 3 Tập Sherlock Holmes Toàn Tập (Tái Bản)Sherlock Holmes có ngoại hình khó bắt mắt với dáng vẻ cao lòng khòng, gương mặt hơi lạnh lùng, không sinh động, có không ít tật xấu: Luộm thuộm, bừa bã...'}\n",
      "Number of products in my pocket 166\n",
      "combo-ong-tram-tuoi-treo-qua-cua-so-va-bien-mat-va-co-gai-mu-chu-pha-bom-nguyen-tu-tang-kem-so-tay-p11274891.html?spid=11274892\n",
      "{'path': 'combo-ong-tram-tuoi-treo-qua-cua-so-va-bien-mat-va-co-gai-mu-chu-pha-bom-nguyen-tu-tang-kem-so-tay-p11274891.html?spid=11274892', 'Tên Sách': 'Combo Ông Trăm Tuổi Trèo Qua Cửa Sổ Và Biến Mất và Cô Gái Mù Chữ Phá Bom Nguyên Tử (Tặng Kèm Sổ Tay)', 'Ảnh bìa': 'https://salt.tikicdn.com/cache/280x280/ts/product/5a/bf/73/b95a84713f2473e268d52de799c1697b.jpg', 'Công ty phát hành': 'NXB Trẻ', 'Ngày xuất bản': '2018-11-01 21:08:16', 'Kích thước': '13 x 20 cm\\n13 x 20 cm', 'Loại bìa': 'Bìa mềm', 'Số trang': '1040', 'Tác giả': 'Jonas Jonasson', 'Thể loại': 'Chăm sóc sức khỏe', 'Giá bìa': 290700, 'Nội dung tóm tắt': 'Combo Ông Trăm Tuổi Trèo Qua Cửa Sổ Và Biến Mất và Cô Gái Mù Chữ Phá Bom Nguyên Tử ( Tặng Kèm Sổ Tay )Ông Trăm Tuổi Trèo Qua Cửa Sổ Và Biến MấtVào ngày sinh nhật lần thứ 100 của mình, cụ ông Allan ...'}\n",
      "Number of products in my pocket 167\n",
      "co-hai-con-meo-ngoi-ben-cua-so-p347334.html?spid=39001\n",
      "{'path': 'co-hai-con-meo-ngoi-ben-cua-so-p347334.html?spid=39001', 'Tên Sách': 'Có Hai Con Mèo Ngồi Bên Cửa Sổ', 'Ảnh bìa': 'https://salt.tikicdn.com/cache/280x280/media/catalog/product/h/a/hai_con_meo_1_2.jpg', 'Công ty phát hành': 'NXB Trẻ', 'Ngày xuất bản': '2012-06-01 00:00:00', 'Loại bìa': 'Bìa mềm', 'Số trang': '210', 'Tác giả': 'Nguyễn Nhật Ánh', 'Thể loại': 'Chăm sóc sức khỏe', 'Giá bìa': 62700, 'Nội dung tóm tắt': 'Có Hai Con Mèo Ngồi Bên Cửa Sổ Nhân vật chính thứ nhất tên là Gấu. Nhân vật thứ hai là Tí Hon. Nhân vật thứ ba, tên là...; còn nữa, nhân vật thứ tư, tên là... Để biết tại sao Gấu lại chơi thân với Tí ...'}\n",
      "Number of products in my pocket 168\n",
      "combo-co-be-tham-tu-2-cuon-tang-kem-so-xe-hinh-kinh-lup-p3633767.html?spid=3716855\n",
      "{'path': 'combo-co-be-tham-tu-2-cuon-tang-kem-so-xe-hinh-kinh-lup-p3633767.html?spid=3716855', 'Tên Sách': 'Combo Cô Bé Thám Tử (2 Cuốn) - Tặng Kèm Sổ Xé Hình Kính Lúp', 'Ảnh bìa': 'https://salt.tikicdn.com/cache/280x280/ts/product/b8/f1/56/75dc088e740ae33a2c1186f6740c3e13.jpg', 'Công ty phát hành': 'R.E.A.D Books', 'Ngày xuất bản': '2018-08-08 00:00:00', 'Kích thước': '13 x 19.5', 'Loại bìa': 'Bìa mềm', 'Tác giả': '', 'Thể loại': 'Chăm sóc sức khỏe', 'Giá bìa': 156000, 'Nội dung tóm tắt': 'Combo Cô Bé Thám Tử (2 Cuốn) - Tặng Kèm Sổ Xé Hình Kính LúpThám Tử Alice Jones: Manh Mối Không TưởngThần đồng toán học Alice đã từng giải được một vài bí ẩn. Lần này, bị thuyết phục bởi cậu bạn thân...'}\n",
      "Number of products in my pocket 169\n",
      "tao-thao-thanh-nhan-de-tien-full-tron-bo-10-tap-tang-kem-so-tay-book-mark-p31128783.html?spid=53837496\n",
      "{'path': 'tao-thao-thanh-nhan-de-tien-full-tron-bo-10-tap-tang-kem-so-tay-book-mark-p31128783.html?spid=53837496', 'Tên Sách': 'Tào Tháo Thánh nhân đê tiện (Full trọn bộ 10 tập) tặng kèm sổ tay & Book mark)', 'Ảnh bìa': 'https://salt.tikicdn.com/cache/280x280/ts/product/80/fb/03/2e9ea88a0c6cad3fbfff78b9db3b9c5d.jpg', 'Công ty phát hành': 'Alphabooks', 'Kích thước': 'Tào Tháo là nhân vật có tính cách phức tạp và nhiều hình tượng nhất trong lịch sử Trung Quốc. Vừa giảo hoạt gian trá, lại thẳng thắn chân thành; vừa khoan dung độ lượng, lại đa nghi khôn cùng; vừa hào sảng, lại hẹp hòi; khí phách anh hùng, tình cảm dạt dào; hành động tàn nhẫn, tâm địa Bồ Tát. Tào Tháo là một nghệ nhân Biến Diện tài tình, lúc thì mang gương mặt này, thoắt cái lật sang gương mặt khác. Có thể hợp nhất những tính cách phức tạp như vậy trong một con người, là điều vô cùng khó, vậy mà tất cả những thứ ấy đều hội tụ nơi ông. Dường như con người Tào Tháo là tổng hòa của mọi mâu thuẫn trên thế gian.', 'Loại bìa': 'Bìa mềm', 'Tác giả': 'Vương Hiểu Lỗi', 'Thể loại': 'Chăm sóc sức khỏe', 'Giá bìa': 1657500, 'Nội dung tóm tắt': 'Tào Tháo là nhân vật có tính cách phức tạp và nhiều hình tượng nhất trong lịch sử Trung Quốc. Vừa giảo hoạt gian trá, lại thẳng thắn chân thành; vừa khoan dung độ lượng, lại đa nghi khôn cùng; vừa hào...'}\n",
      "Number of products in my pocket 170\n",
      "cu-cuoi-thoi-mac-ke-doi-tang-kem-so-tay-p31709895.html?spid=76407259\n",
      "{'path': 'cu-cuoi-thoi-mac-ke-doi-tang-kem-so-tay-p31709895.html?spid=76407259', 'Tên Sách': 'Cứ Cười Thôi Mặc Kệ Đời! (Tặng kèm sổ tay)', 'Ảnh bìa': 'https://salt.tikicdn.com/cache/280x280/ts/product/d5/94/db/51f8ec40b952a03afee6aacdb81bfc6d.jpg', 'Công ty phát hành': 'Alphabooks', 'Ngày xuất bản': '2018-11-16 14:56:14', 'Kích thước': '13 x 20.5 cm', 'Loại bìa': 'Bìa mềm', 'Số trang': '238', 'Nhà xuất bản': 'Nhà Xuất Bản Văn Học', 'Tác giả': 'Gari', 'Thể loại': 'Chăm sóc sức khỏe', 'Giá bìa': 80370, 'Nội dung tóm tắt': 'Cứ Cười Thôi Mặc Kệ Đời! (Tái Bản)Có thể bạn không là ai cả, nhưng không có nghĩa bạn chẳng là gì cả.Tình yêu giống như một liều thuốc ngọt ngào nó có thể giúp chúng ta sống trong màu hồng đầy gia v...'}\n",
      "Number of products in my pocket 171\n",
      "nua-vong-trai-dat-uong-mot-ly-tra-tang-kem-so-tay-p36565086.html?spid=73591652\n",
      "{'path': 'nua-vong-trai-dat-uong-mot-ly-tra-tang-kem-so-tay-p36565086.html?spid=73591652', 'Tên Sách': 'Nửa Vòng Trái Đất Uống Một Ly Trà - Tặng Kèm Sổ Tay', 'Ảnh bìa': 'https://salt.tikicdn.com/cache/280x280/ts/product/ed/f3/37/5a6e10744bfeca141d28a9d3f03b0cd7.jpg', 'Công ty phát hành': 'Thái Hà', 'Kích thước': '15.5 x 23 cm', 'Loại bìa': 'Bìa mềm', 'Số trang': '326', 'Tác giả': ' Di Li', 'Thể loại': 'Chăm sóc sức khỏe', 'Giá bìa': 110000, 'Nội dung tóm tắt': 'Nửa Vòng Trái Đất Uống Một Ly Trà“Chỉ cần qua dặm trang sách, Di Li đưa người ta từ Việt sang Nhật, từ Osaka tới Kobe, từ ngoài mưa vào trong bếp, cho người ta biết lịch sử ăn thịt của người Nhật, và ...'}\n",
      "Number of products in my pocket 172\n",
      "combo-kieu-hanh-va-dinh-kien-va-ly-tri-va-tinh-cam-tang-kem-so-tay-xuong-rong-p41227465.html?spid=76755989\n",
      "{'path': 'combo-kieu-hanh-va-dinh-kien-va-ly-tri-va-tinh-cam-tang-kem-so-tay-xuong-rong-p41227465.html?spid=76755989', 'Tên Sách': 'Combo  Kiêu Hãnh Và Định Kiến và Lý Trí Và Tình Cảm( Tặng Kèm Sổ Tay Xương Rồng)', 'Ảnh bìa': 'https://salt.tikicdn.com/cache/280x280/ts/product/6c/4a/cb/cf62e71c14ef79a6eae12e5183064719.jpg', 'Công ty phát hành': 'Nhã Nam', 'Ngày xuất bản': '2019-11-01 13:28:03', 'Loại bìa': 'Bìa mềm', 'Số trang': '776', 'Tác giả': 'Jane Austen', 'Thể loại': 'Chăm sóc sức khỏe', 'Giá bìa': 179200, 'Nội dung tóm tắt': 'Combo Kiêu Hãnh Và Định Kiến và Lý Trí Và Tình Cảm( Tặng Kèm Sổ Tay Xương Rồng)Bản đặc biệt tặng kèm sổ tay xương rồng, mẫu ngẫu nhiên ( 1 trong 4 mẫu như hình ) và số lượng có hạn.Kiêu Hãnh Và Định...'}\n",
      "Number of products in my pocket 173\n",
      "tranh-dan-tuong-cua-so-3d-tranh-trang-tri-cua-so-3d-tranh-dep-cua-so-3d-tranh-3d-cua-so-dac-sac-t3dmn-t6-human_61187-p19873821.html?spid=19873823\n",
      "{'path': 'tranh-dan-tuong-cua-so-3d-tranh-trang-tri-cua-so-3d-tranh-dep-cua-so-3d-tranh-3d-cua-so-dac-sac-t3dmn-t6-human_61187-p19873821.html?spid=19873823', 'Tên Sách': 'Tranh dán tường cửa sổ 3D | Tranh trang trí cửa sổ 3D | Tranh đẹp cửa sổ 3D | Tranh 3D cửa sổ đặc sắc | T3DMN T6 Human_61187', 'Ảnh bìa': 'https://salt.tikicdn.com/cache/280x280/ts/product/da/1b/62/dd12ab196d379af786e7bcbdcddac7b4.jpg', 'Thương hiệu': 'OEM', 'Xuất xứ': 'Việt Nam', 'Tác giả': '', 'Thể loại': 'Chăm sóc sức khỏe', 'Giá bìa': 159000, 'Nội dung tóm tắt': '1. Tranh dán tường cửa sổ 3D là gì?Tranh dán tường cửa sổ 3D là một bức tranh trang trí tường đầy nghệ thuật, có hình ảnh giống như một khung cửa sổ được dán lên tường, giúp bạn trải nghiệm cảm xúc c...'}\n",
      "Number of products in my pocket 174\n"
     ]
    },
    {
     "name": "stdout",
     "output_type": "stream",
     "text": [
      "combo-hoi-kin-xu-an-nam-va-tam-ly-dan-toc-an-nam-tang-kem-so-tay-xuong-rong-p31300104.html?spid=55911336\n",
      "{'path': 'combo-hoi-kin-xu-an-nam-va-tam-ly-dan-toc-an-nam-tang-kem-so-tay-xuong-rong-p31300104.html?spid=55911336', 'Tên Sách': 'Combo Hội Kín Xứ An Nam và Tâm Lý Dân Tộc An Nam ( Tặng Kèm Sổ Tay Xương Rồng)', 'Ảnh bìa': 'https://salt.tikicdn.com/cache/280x280/ts/product/89/06/f3/d53572cfbc9d9315696e426f8a62997a.jpg', 'Công ty phát hành': 'Omega Plus', 'Ngày xuất bản': '2019-09-01 11:48:05', 'Kích thước': '16 x 24 cm\\n16 x 24 cm', 'Loại bìa': 'Bìa mềm', 'Số trang': '680', 'Nhà xuất bản': 'Nhà Xuất Bản Hội Nhà Văn', 'Tác giả': 'Phan Tín Dụng,Nguyễn Thanh Xuân,Paul Giran', 'Thể loại': 'Chăm sóc sức khỏe', 'Giá bìa': 214560, 'Nội dung tóm tắt': 'Combo Hội Kín Xứ An Nam và Tâm Lý Dân Tộc An Nam ( Tặng Kèm Sổ Tay Xương Rồng)Bản đặc biệt tặng kèm sổ tay xương rồng, mẫu ngẫu nhiên ( 1 trong 4 mẫu như hình ) và số lượng có hạn. Hội Kín Xứ An Na...'}\n",
      "Number of products in my pocket 175\n",
      "combo-thuong-thuong-2-cuon-tang-kem-so-tay-tu-thuong-lay-minh-p3633769.html?spid=3716857\n",
      "{'path': 'combo-thuong-thuong-2-cuon-tang-kem-so-tay-tu-thuong-lay-minh-p3633769.html?spid=3716857', 'Tên Sách': 'Combo Thương Thương (2 Cuốn) - Tặng Kèm Sổ Tay Tự Thương Lấy Mình', 'Ảnh bìa': 'https://salt.tikicdn.com/cache/280x280/ts/product/89/fa/9b/7cc2f563f398ee79d1d35fc8e3d54636.jpg', 'Công ty phát hành': 'Skybooks', 'Ngày xuất bản': '2018-08-08 00:00:00', 'Kích thước': '13 x 19.5', 'Loại bìa': 'Bìa mềm', 'Tác giả': '', 'Thể loại': 'Chăm sóc sức khỏe', 'Giá bìa': 132100, 'Nội dung tóm tắt': 'Tự Thương Lấy MìnhCuốn sách dành tặng những trái tim bỏng rát vì yêuTiếng nói tâm tình của những cảm xúc bấy lâu nay bị giấu kín trong lòngMón quà nhỏ giúp bạn mạnh mẽ bước qua nỗi đauCó những ngà...'}\n",
      "Number of products in my pocket 176\n",
      "combo-anne-toc-do-duoi-mai-nha-bach-duong-tai-ban-2019-anne-toc-do-duoi-chai-nha-xanh-tai-ban-2017-anne-duoi-mai-nha-ben-anh-lua-tai-ban-anne-toc-do-va-ngoi-nha-mo-uoc-tai-ban-anne-toc-do-lang-avonlea-tai-ban-anne-toc-do-o-dao-hoang-tu-edward-tai-ban-2018-tang-kem-so-tay-va-1-bookmark-ml-1-moc-khoa-ml-p28673491.html?spid=86554093\n",
      "{'path': 'combo-anne-toc-do-duoi-mai-nha-bach-duong-tai-ban-2019-anne-toc-do-duoi-chai-nha-xanh-tai-ban-2017-anne-duoi-mai-nha-ben-anh-lua-tai-ban-anne-toc-do-va-ngoi-nha-mo-uoc-tai-ban-anne-toc-do-lang-avonlea-tai-ban-anne-toc-do-o-dao-hoang-tu-edward-tai-ban-2018-tang-kem-so-tay-va-1-bookmark-ml-1-moc-khoa-ml-p28673491.html?spid=86554093', 'Tên Sách': 'Combo Anne Tóc Đỏ Dưới Mái Nhà Bạch Dương (Tái Bản 2019) + Anne Tóc Đỏ Dưới Chái Nhà Xanh (Tái Bản 2017) + Anne Dưới Mái Nhà Bên Ánh Lửa (Tái Bản) +  Anne Tóc Đỏ và Ngôi Nhà Mơ Ước ( Tái Bản ) + Anne Tóc Đỏ Làng Avonlea (Tái Bản) + Anne Tóc Đỏ Ở Đảo Hoàng Tử Edward (Tái Bản 2018) - Tặng kèm sổ tay và 1 bookmark ML,1 móc khóa ML', 'Ảnh bìa': 'https://salt.tikicdn.com/cache/280x280/ts/product/c9/c1/4b/5b10a04d94121a243e8f90f982400a42.jpg', 'Công ty phát hành': 'Nhã Nam', 'Kích thước': '14*21', 'Tác giả': 'L.M.Montgomery', 'Thể loại': 'Chăm sóc sức khỏe', 'Giá bìa': 582000, 'Nội dung tóm tắt': 'Anne Tóc Đỏ Dưới Mái Nhà Bạch Dương (Tái Bản 2019)Bạch Dương Lộng Gió, dẫu chỉ là chốn tạm dừng chân của cô cử nhân Anne trong nhiệm kỳ làm hiệu trưởng trường trung học Summerside, nhưng vẫn níu kéo ...'}\n",
      "Number of products in my pocket 177\n",
      "zoang-long-dan-che-khe-ho-cua-so-cua-truot-chong-gio-lua-chong-on-bui-ban-ngan-con-trung-cua-di-cua-so-cuon-5m-p46810493.html?spid=46810495\n",
      "{'path': 'zoang-long-dan-che-khe-ho-cua-so-cua-truot-chong-gio-lua-chong-on-bui-ban-ngan-con-trung-cua-di-cua-so-cuon-5m-p46810493.html?spid=46810495', 'Tên Sách': 'Zoăng Lông Dán Che Khe Hở Cửa Sổ, Cửa Trượt Chống Gió Lùa, Chống Ồn, Bụi Bẩn, Ngăn Côn Trùng Cửa Đi , Cửa Sổ - Cuộn 5m', 'Ảnh bìa': 'https://salt.tikicdn.com/cache/280x280/ts/product/62/ae/f3/1c092f8ca2fef18bb3b979f401b59fff.jpg', 'Thương hiệu': 'OEM', 'Xuất xứ thương hiệu': 'Trung Quốc', 'Kích thước': '5 m x 9 mm x 5/9/15/23 mm', 'Xuất xứ': 'Trung Quốc', 'Tác giả': '', 'Thể loại': 'Chăm sóc sức khỏe', 'Giá bìa': 79000, 'Nội dung tóm tắt': 'oăng Lông Dán Che Khe Hở Cửa Sổ, Cửa Trượt Chống Gió Lùa, Chống Ồn, Bụi Bẩn, Ngăn Côn Trùng Chính Hãng 3M : Là sản phẩm hữu ích trong việc xử lý khe hở trên cửa nhà bạn đặc biệt là cửa trượt .Chức n...'}\n",
      "Number of products in my pocket 178\n",
      "japonisme-nhung-dieu-rat-nhat-ban-tang-kem-so-tay-p33402238.html?spid=87029732\n",
      "{'path': 'japonisme-nhung-dieu-rat-nhat-ban-tang-kem-so-tay-p33402238.html?spid=87029732', 'Tên Sách': 'Japonisme – Những Điều Rất Nhật Bản - Tặng Kèm Sổ Tay', 'Ảnh bìa': 'https://salt.tikicdn.com/cache/280x280/ts/product/af/a0/96/8f908472f0af5f51708e519674da7c98.jpg', 'Công ty phát hành': 'Bloom Books', 'Kích thước': '16 x 24 cm', 'Loại bìa': 'Bìa mềm', 'Số trang': '277', 'Nhà xuất bản': 'Nhà Xuất Bản Thế Giới', 'Tác giả': 'Erin Niimi Longhurst', 'Thể loại': 'Chăm sóc sức khỏe', 'Giá bìa': 137080, 'Nội dung tóm tắt': 'Japonisme – những điều Rất Nhật Bản là một cuốn sách mang đầy hơi thở của xứ sở hoa anh đào, là nguồn cảm hứng vô tận để bạn khám phá nghệ thuật kiếm tìm hạnh phúc, sự đủ đầy cho Kokoro (trái tim và t...'}\n",
      "Number of products in my pocket 179\n",
      "gioang-cua-so-o-to-gioang-cao-su-chan-kinh-lai-cua-so-troi-cua-so-tam-giac-gioang-cao-su-chu-t-bo-vien-kinh-lai-xe-p96910873.html?spid=96910876\n",
      "{'path': 'gioang-cua-so-o-to-gioang-cao-su-chan-kinh-lai-cua-so-troi-cua-so-tam-giac-gioang-cao-su-chu-t-bo-vien-kinh-lai-xe-p96910873.html?spid=96910876', 'Tên Sách': 'Gioăng cửa Sổ Ô Tô Gioăng Cao Su chân kính lái, Cửa Sổ Trời, cửa sổ Tam Giác Gioăng Cao Su Chữ T Bo Viền kính lái Xe', 'Ảnh bìa': 'https://salt.tikicdn.com/cache/280x280/ts/product/0e/94/fc/3b48c3fdb58d76f32af4ee12df025562.jpg', 'Thương hiệu': 'OEM', 'Xuất xứ thương hiệu': 'Việt Nam', 'Xuất xứ': 'Việt Nam', 'Dung tích': '500ml', 'Tác giả': '', 'Thể loại': 'Chăm sóc sức khỏe', 'Giá bìa': 15800, 'Nội dung tóm tắt': '       Phụ kiện xe hơi cá tính xin gửi đến Quý khách thông tin về sản phẩm như sau    TÁC DỤNG CỦA SẢN PHẨM   - Xe ô tô của bạn thường xuyên bị phơi nắng, sử dựng lâu năm, các gioăng cao su kính...'}\n",
      "Number of products in my pocket 180\n",
      "co-ban-gai-nhut-nhat-cua-toi-tai-ban-tang-kem-so-tay-p34790767.html?spid=37935740\n",
      "{'path': 'co-ban-gai-nhut-nhat-cua-toi-tai-ban-tang-kem-so-tay-p34790767.html?spid=37935740', 'Tên Sách': 'Cô Bạn Gái Nhút Nhát Của Tôi (Tái Bản) - Tặng Kèm Sổ Tay', 'Ảnh bìa': 'https://salt.tikicdn.com/cache/280x280/ts/product/12/9f/0c/cb05dc9083c76eaade613421a4bccd24.jpg', 'Công ty phát hành': 'Bách Việt', 'Kích thước': '14.5 x 20.5 cm', 'Dịch Giả': 'Vũ Thu Hà', 'Loại bìa': 'Bìa mềm', 'Số trang': '460', 'Tác giả': 'Priest', 'Thể loại': 'Chăm sóc sức khỏe', 'Giá bìa': 129000, 'Nội dung tóm tắt': 'Diệp Tử Lộ là một cô gái 24 tuổi, không hoài bão, không một thành tựu trong tay, là một kẻ ăn bám bố mẹ điển hình. Cô có một công việc nhàm chán với những đồng nghiệp hoặc thích bắt bẻ hoặc giả tạo, đ...'}\n",
      "Number of products in my pocket 181\n",
      "hieu-ve-trump-tang-so-tay-gia-tri-kho-a6-day-200-trang-p36570274.html?spid=55782474\n",
      "{'path': 'hieu-ve-trump-tang-so-tay-gia-tri-kho-a6-day-200-trang-p36570274.html?spid=55782474', 'Tên Sách': 'Hiểu Về Trump - Tặng Sổ Tay Giá Trị (Khổ A6 Dày 200 Trang)', 'Ảnh bìa': 'https://salt.tikicdn.com/cache/280x280/ts/product/a7/82/53/c1ff0ddf15f6418ddd6654b11a35c8af.jpg', 'Công ty phát hành': 'Alphabooks', 'Kích thước': '19x26,5', 'Loại bìa': 'Bìa mềm', 'Tác giả': '', 'Thể loại': 'Chăm sóc sức khỏe', 'Giá bìa': 176000, 'Nội dung tóm tắt': 'Hiểu Về TrumpTổng thống Donald Trump đánh dấu một sự thay đổi sâu sắc trong quỹ đạo của chính phủ, chính trị và văn hóa Mỹ. Giống như chính quyền của ông, phong trào đưa ông vào văn phòng đại diện c...'}\n",
      "Number of products in my pocket 182\n"
     ]
    },
    {
     "name": "stdout",
     "output_type": "stream",
     "text": [
      "cu-xu-nhu-dan-ba-suy-nghi-nhu-dan-ong-tai-ban-tang-kem-so-tay-p36505735.html?spid=83056213\n",
      "{'path': 'cu-xu-nhu-dan-ba-suy-nghi-nhu-dan-ong-tai-ban-tang-kem-so-tay-p36505735.html?spid=83056213', 'Tên Sách': 'Cư Xử Như Đàn Bà Suy Nghĩ Như Đàn Ông (Tái Bản) - Tặng Kèm Sổ Tay', 'Ảnh bìa': 'https://salt.tikicdn.com/cache/280x280/ts/product/df/85/2e/1122e862ca38c51e8e91eb441742e19c.jpg', 'Công ty phát hành': 'Nhã Nam', 'Kích thước': '13 x 21 cm', 'Dịch Giả': 'Trần Hoa', 'Loại bìa': 'Bìa mềm', 'Số trang': '324', 'Tác giả': ' Steve Harvey', 'Thể loại': 'Chăm sóc sức khỏe', 'Giá bìa': 96000, 'Nội dung tóm tắt': 'Là chủ chương trình Buổi sáng của Steve Harvey nổi tiếng khắp nước Mỹ, Steve Harvey đã được tiếp xúc với vô số phụ nữ trong suốt nhiều năm, thông qua chuyên mục Lá thư Dâu tây mà ông phụ trách hoặc qu...'}\n",
      "Number of products in my pocket 183\n",
      "combo-anne-toc-do-lang-avonlea-va-anne-toc-do-duoi-mai-nha-bach-duong-tang-kem-so-tay-xuong-rong-p25063750.html?spid=75979483\n",
      "{'path': 'combo-anne-toc-do-lang-avonlea-va-anne-toc-do-duoi-mai-nha-bach-duong-tang-kem-so-tay-xuong-rong-p25063750.html?spid=75979483', 'Tên Sách': 'Combo Anne Tóc Đỏ Làng Avonlea và Anne Tóc Đỏ Dưới Mái Nhà Bạch Dương ( Tặng Kèm Sổ Tay Xương Rồng)', 'Ảnh bìa': 'https://salt.tikicdn.com/cache/280x280/ts/product/3f/bd/d2/2a7d29b53e56941945f5773c33fbaf47.jpg', 'Công ty phát hành': 'Nhã Nam', 'Ngày xuất bản': '2019-07-29 14:41:00', 'Kích thước': '14 x 20.5 cm\\n14 x 20.5 cm', 'Loại bìa': 'Bìa mềm', 'Số trang': '800', 'Nhà xuất bản': 'Nhà Xuất Bản Hội Nhà Văn', 'Tác giả': 'Lucy Maud Montgomery', 'Thể loại': 'Chăm sóc sức khỏe', 'Giá bìa': 150100, 'Nội dung tóm tắt': 'Combo Anne Tóc Đỏ Làng Avonlea và Anne Tóc Đỏ Dưới Mái Nhà Bạch Dương ( Tặng Kèm Sổ Tay Xương Rồng)Bản đặc biệt tặng kèm sổ tay xương rồng, mẫu ngẫu nhiên ( 1 trong 4 mẫu như hình ) và số lượng có hạ...'}\n",
      "Number of products in my pocket 184\n",
      "combo-ring-vong-tron-ac-nghiet-va-goth-nhung-ke-hac-am-tang-kem-so-tay-p10393525.html?spid=10393526\n",
      "{'path': 'combo-ring-vong-tron-ac-nghiet-va-goth-nhung-ke-hac-am-tang-kem-so-tay-p10393525.html?spid=10393526', 'Tên Sách': 'Combo Ring - Vòng Tròn Ác Nghiệt và Goth - Những Kẻ Hắc Ám (Tặng Kèm Sổ Tay)', 'Ảnh bìa': 'https://salt.tikicdn.com/cache/280x280/ts/product/09/56/ba/0449b3f8124f8d1b7b088549a3d620ae.jpg', 'Công ty phát hành': 'Nhã Nam', 'Ngày xuất bản': '2018-07-18 13:11:26', 'Kích thước': '13 x 20.5 cm\\n14 x 20.5 cm', 'Loại bìa': 'Bìa mềm', 'Số trang': '705', 'Tác giả': 'Suzuki Koji,Otsuichi', 'Thể loại': 'Chăm sóc sức khỏe', 'Giá bìa': 168300, 'Nội dung tóm tắt': 'Combo Ring - Vòng Tròn Ác Nghiệt và Goth - Những Kẻ Hắc Ám ( Tặng Kèm Sổ Tay )Bản đặc biệt tặng kèm sổ tay , mẫu ngẫu nhiên và số lượng có hạn. Ring - Vòng Tròn Ác NghiệtCái chết đến từ một cuộn b...'}\n",
      "Number of products in my pocket 185\n",
      "tranh-dan-tuong-cua-so-3d-tranh-trang-tri-cua-so-3d-tranh-dep-cua-so-3d-tranh-3d-cua-so-dac-sac-t3dmn-t6-fresco_1050-p19876503.html?spid=19876505\n",
      "{'path': 'tranh-dan-tuong-cua-so-3d-tranh-trang-tri-cua-so-3d-tranh-dep-cua-so-3d-tranh-3d-cua-so-dac-sac-t3dmn-t6-fresco_1050-p19876503.html?spid=19876505', 'Tên Sách': 'Tranh dán tường cửa sổ 3D | Tranh trang trí cửa sổ 3D | Tranh đẹp cửa sổ 3D | Tranh 3D cửa sổ đặc sắc | T3DMN T6 Fresco_1050', 'Ảnh bìa': 'https://salt.tikicdn.com/cache/280x280/ts/product/ae/a3/5d/de0d7ff2b689a06a04a9015418604b8e.jpg', 'Thương hiệu': 'OEM', 'Xuất xứ': 'Việt Nam', 'Tác giả': '', 'Thể loại': 'Chăm sóc sức khỏe', 'Giá bìa': 159000, 'Nội dung tóm tắt': '1. Tranh dán tường cửa sổ 3D là gì?Tranh dán tường cửa sổ 3D là một bức tranh trang trí tường đầy nghệ thuật, có hình ảnh giống như một khung cửa sổ được dán lên tường, giúp bạn trải nghiệm cảm xúc c...'}\n",
      "Number of products in my pocket 186\n",
      "mot-ngay-khac-tang-kem-so-tay-p39331579.html?spid=114602364\n",
      "{'path': 'mot-ngay-khac-tang-kem-so-tay-p39331579.html?spid=114602364', 'Tên Sách': 'Một Ngày Khác - Tặng Kèm Sổ Tay', 'Ảnh bìa': 'https://salt.tikicdn.com/cache/280x280/ts/product/c4/fc/90/4071523172274e952ee994b2a1464522.jpg', 'Công ty phát hành': 'Nhiều công ty phát hành', 'Kích thước': '14.5 x 20.5 cm', 'Dịch Giả': 'Minh Hưng', 'Loại bìa': 'Bìa mềm', 'Số trang': '468', 'Tác giả': 'David Levithan', 'Thể loại': 'Chăm sóc sức khỏe', 'Giá bìa': 95000, 'Nội dung tóm tắt': 'Ấn phẩm mới nhất đến từ tác giả ăn khách của tờ New York Times David LevithanĐược xem như phần tiếp theo của cuốn tiểu thuyết ăn khách Mỗi ngày nhìn lại – giúp tác giả khẳng định tên tuổi và vị thế t...'}\n",
      "Number of products in my pocket 187\n",
      "sach-so-tay-nha-thoi-mien-kem-postcard-p95249762.html?spid=95249770\n",
      "{'path': 'sach-so-tay-nha-thoi-mien-kem-postcard-p95249762.html?spid=95249770', 'Tên Sách': 'Sách - Sổ Tay Nhà Thôi Miên (Kèm Postcard)', 'Ảnh bìa': 'https://salt.tikicdn.com/cache/280x280/ts/product/c7/43/bb/7eaed440718ad421791724144c0e2baf.jpg', 'Công ty phát hành': 'AZ Việt Nam', 'Số trang': '350', 'Nhà xuất bản': 'Nhà Xuất Bản Thế Giới', 'Tác giả': '', 'Thể loại': 'Chăm sóc sức khỏe', 'Giá bìa': 113100, 'Nội dung tóm tắt': '       Sổ Tay Nhà Thôi Miên (Kèm Postcard)   \"THẾ GIỚI NÀY CHỈ TOÀN GIẢ TẠO, CÒN CHÚNG TA LẠI SỐNG TRONG GIẢ TẠO\"   \"KHÔNG CÓ BẤT CỨ SÁNG TẠO NÀO, CŨNG CHẲNG CÓ BẤT CỨ ĐỘT PHÁ NÀO CHÚNG TA GIỐNG...'}\n",
      "Number of products in my pocket 188\n",
      "decal-dan-tuong-cua-so-bien-5-dcs048-p7319241.html?spid=7319243\n",
      "{'path': 'decal-dan-tuong-cua-so-bien-5-dcs048-p7319241.html?spid=7319243', 'Tên Sách': 'Decal Dán Tường Cửa Sổ Biển 5 DCS048', 'Ảnh bìa': 'https://salt.tikicdn.com/cache/280x280/ts/product/21/93/1e/881a300ecc86f7b938ca86acd26c70e3.jpg', 'Thương hiệu': 'OEM', 'Tác giả': '', 'Thể loại': 'Chăm sóc sức khỏe', 'Giá bìa': 59000, 'Nội dung tóm tắt': 'Decal Dán Tường Cửa Sổ Biển 5 DCS048 có màu sắc tươi sáng, hình ảnh 3D.Decal với những khung cửa sổ, khung ảnh giả lập, tạo thêm điểm nhấn sáng tạo trong ngôi nhà của bạn.Decal làm bằng nhựa PVC vi...'}\n",
      "Number of products in my pocket 189\n",
      "giay-dan-mo-cua-so-1-cuon-p13175437.html?spid=13175439\n",
      "{'path': 'giay-dan-mo-cua-so-1-cuon-p13175437.html?spid=13175439', 'Tên Sách': 'Giấy Dán Mờ Cửa Sổ (1 cuộn)', 'Ảnh bìa': 'https://salt.tikicdn.com/cache/280x280/ts/product/29/54/98/c4dd78a8cc4be54cf7c55bd56ca50bcf.jpg', 'Thương hiệu': 'OEM', 'Xuất xứ thương hiệu': 'China', 'Trọng lượng': '0.086kg', 'Tác giả': '', 'Thể loại': 'Chăm sóc sức khỏe', 'Giá bìa': 104000, 'Nội dung tóm tắt': 'Specifications:Material: Environmental PVCUV protection: 90% Anti-UVAdhesive: Comes with adhesive on the backWaterproof function: WaterproofUse: glass surfaces (such as windows, sliding doors, shopwin...'}\n",
      "Number of products in my pocket 190\n",
      "combo-3-cuon-cay-chuoi-non-di-giay-xanh-cho-toi-xin-mot-ve-di-tuoi-tho-co-hai-con-meo-ngoi-ben-cua-so-p48631767.html?spid=89413194\n",
      "{'path': 'combo-3-cuon-cay-chuoi-non-di-giay-xanh-cho-toi-xin-mot-ve-di-tuoi-tho-co-hai-con-meo-ngoi-ben-cua-so-p48631767.html?spid=89413194', 'Tên Sách': 'Combo 3 cuốn Cây chuối non đi giày xanh + Cho tôi xin một vé đi tuổi thơ +Có hai con mèo ngồi bên cửa sổ', 'Ảnh bìa': 'https://salt.tikicdn.com/cache/280x280/ts/product/d8/de/b1/8b69769c9fb59955105ef5ec2499fe30.jpg', 'Công ty phát hành': 'NXB Trẻ', 'Loại bìa': 'Bìa mềm', 'Nhà xuất bản': 'NXB Trẻ', 'Tác giả': 'Nguyễn Nhật Ánh', 'Thể loại': 'Chăm sóc sức khỏe', 'Giá bìa': 261250, 'Nội dung tóm tắt': 'Cây chuối non đi giày xanhKỷ niệm bao giờ cũng đẹp và đặc biệt là không biết phản bội. Câu chuyện này kể về kỷ niệm. Có nỗi sợ trẻ con ai cũng từng qua, có rung động mơ hồ đủ khiến hồi hộp đỏ mặt. Mố...'}\n",
      "Number of products in my pocket 191\n",
      "combo-2-cuon-tieu-thuyet-dinh-dam-nhat-cua-jonas-jonasson-anders-sat-thu-cung-be-lu-ong-tram-tuoi-treo-qua-cua-so-va-bien-mat-bo-sach-an-khach-nhat-tai-thuy-dien-tang-kem-bookmark-happy-life-p37455752.html?spid=37455753\n",
      "{'path': 'combo-2-cuon-tieu-thuyet-dinh-dam-nhat-cua-jonas-jonasson-anders-sat-thu-cung-be-lu-ong-tram-tuoi-treo-qua-cua-so-va-bien-mat-bo-sach-an-khach-nhat-tai-thuy-dien-tang-kem-bookmark-happy-life-p37455752.html?spid=37455753', 'Tên Sách': 'Combo 2 Cuốn Tiểu Thuyết Đình Đám Nhất Của Jonas Jonasson: Anders Sát Thủ Cùng Bè Lũ + Ông Trăm Tuổi Trèo Qua Cửa Sổ Và Biến Mất (Bộ Sách Ăn Khách Nhất Tại Thụy Điển / Tặng Kèm Bookmark Happy Life)', 'Ảnh bìa': 'https://salt.tikicdn.com/cache/280x280/ts/product/02/6f/e1/2ceb1c93f88e26f1fd52580cc98be5d0.jpg', 'Công ty phát hành': '-', 'Loại bìa': 'Bìa mềm', 'Tác giả': 'Jonas Jonasson', 'Thể loại': 'Chăm sóc sức khỏe', 'Giá bìa': 251500, 'Nội dung tóm tắt': 'Combo 2 Cuốn Tiểu Thuyết Đình Đám Nhất Của Jonas Jonasson: Anders Sát Thủ Cùng Bè Lũ + Ông Trăm Tuổi Trèo Qua Cửa Sổ Và Biến Mất (Bộ Sách Ăn Khách Nhất Tại Thụy Điển / Tặng Kèm Bookmark Happy Life) ...'}\n",
      "Number of products in my pocket 192\n"
     ]
    },
    {
     "name": "stdout",
     "output_type": "stream",
     "text": [
      "combo-doi-ngan-dung-ngu-dai-va-dam-hanh-phuc-tang-kem-so-tay-p11476916.html?spid=11476917\n",
      "{'path': 'combo-doi-ngan-dung-ngu-dai-va-dam-hanh-phuc-tang-kem-so-tay-p11476916.html?spid=11476917', 'Tên Sách': 'Combo Đời Ngắn Đừng Ngủ Dài và Dám Hạnh Phúc ( Tặng Kèm Sổ Tay )', 'Ảnh bìa': 'https://salt.tikicdn.com/cache/280x280/ts/product/d1/87/50/439a796656ae6187a7e2379741cbad0e.jpg', 'Công ty phát hành': 'NXB Trẻ', 'Ngày xuất bản': '2018-11-13 00:09:08', 'Kích thước': '14x 20.5 cm\\n13 x 20.5 cm', 'Loại bìa': 'Bìa mềm', 'Số trang': '527', 'Tác giả': 'Robin Sharma,Koga Fumitake,Kishimi Ichiro', 'Thể loại': 'Chăm sóc sức khỏe', 'Giá bìa': 157250, 'Nội dung tóm tắt': 'Combo Đời Ngắn Đừng Ngủ Dài và Dám Hạnh Phúc ( Tặng Kèm Sổ Tay )Bản đặc biệt tặng kèm sổ tay, mẫu ngẫu nhiên và số lượng có hạn.Đời Ngắn Đừng Ngủ Dài“Mọi lựa chọn đều giá trị. Mọi bước đi đều quan ...'}\n",
      "Number of products in my pocket 193\n",
      "combo-chieu-dieu-tap-1-2-tang-kem-1-cuon-so-tay-bookmak-postcard-kem-chu-ky-tac-gia-p43476932.html?spid=68124223\n",
      "{'path': 'combo-chieu-dieu-tap-1-2-tang-kem-1-cuon-so-tay-bookmak-postcard-kem-chu-ky-tac-gia-p43476932.html?spid=68124223', 'Tên Sách': 'Combo Chiêu Diêu (Tập 1 + 2) (Tặng Kèm 1 Cuốn Sổ Tay + Bookmak + Postcard Kèm Chữ Ký Tác Giả )', 'Ảnh bìa': 'https://salt.tikicdn.com/cache/280x280/ts/product/e5/c2/3e/6fc4dbff96e67a0d6826fa4d031558c7.jpg', 'Công ty phát hành': 'Quảng Văn', 'Ngày xuất bản': '2019-11-01 00:00:00', 'Kích thước': '14.5 x 20.5 cm', 'Loại bìa': 'Bìa mềm', 'Nhà xuất bản': 'Nhà Xuất Bản Phụ Nữ', 'Tác giả': 'Cửu Lộ Phi Hương', 'Thể loại': 'Chăm sóc sức khỏe', 'Giá bìa': 231750, 'Nội dung tóm tắt': '“Chiêu Diêu” kể về nữ ma đầu mạnh nhất trong giới ma tu Lộ Chiêu Diêu ngông cuồng, bá đạo, trong lần đến mộ kiếm bất ngờ bị môn đồ dưới trướng là Mặc Thanh giết chết. Nàng trở thành một quỷ hồn suốt n...'}\n",
      "Number of products in my pocket 194\n",
      "chung-ta-la-nhung-dua-tre-co-don-tang-kem-moc-khoa-so-tay-p36876885.html?spid=84874905\n",
      "{'path': 'chung-ta-la-nhung-dua-tre-co-don-tang-kem-moc-khoa-so-tay-p36876885.html?spid=84874905', 'Tên Sách': 'Chúng Ta Là Những Đứa Trẻ Cô Đơn - Tặng Kèm Móc Khoá + Sổ Tay', 'Ảnh bìa': 'https://salt.tikicdn.com/cache/280x280/ts/product/ea/84/d3/de56aaf965169f9aa9c67fdce85d8b1e.jpg', 'Công ty phát hành': 'AZ Việt Nam', 'Kích thước': '13 x 20.5 cm', 'Loại bìa': 'Bìa mềm', 'Số trang': '216', 'Tác giả': 'Dưa Hấu Hạt Tím', 'Thể loại': 'Chăm sóc sức khỏe', 'Giá bìa': 68640, 'Nội dung tóm tắt': 'Chúng Ta Là Những Đứa Trẻ Cô ĐơnBạn đã bao giờ trở về nhà sau một ngày làm việc dài, mệt mỏi, áp lực, nằm dài trên ghế với bộ đồ công sở, bật thật lớn một bản nhạc deep house, át hết tất cả những âm t...'}\n",
      "Number of products in my pocket 195\n",
      "dieu-ky-dieu-cua-tiem-tap-hoa-namiya-tai-ban-tang-kem-so-tay-p36300600.html?spid=54706338\n",
      "{'path': 'dieu-ky-dieu-cua-tiem-tap-hoa-namiya-tai-ban-tang-kem-so-tay-p36300600.html?spid=54706338', 'Tên Sách': 'Điều Kỳ Diệu Của Tiệm Tạp Hóa Namiya  (Tái Bản) - Tặng Kèm Sổ Tay', 'Ảnh bìa': 'https://salt.tikicdn.com/cache/280x280/ts/product/bb/cb/a3/dde6bbe2f63624152b9efad557823112.jpg', 'Công ty phát hành': 'Nhã Nam', 'Kích thước': '14 x 20.5 cm', 'Loại bìa': 'Bìa mềm', 'Số trang': '358', 'Nhà xuất bản': 'Nhà Xuất Bản Hội Nhà Văn', 'Tác giả': 'Higachino Keigo', 'Thể loại': 'Chăm sóc sức khỏe', 'Giá bìa': 105000, 'Nội dung tóm tắt': 'Điều Kỳ Diệu Của Tiệm Tạp HóaMột đêm vội vã lẩn trốn sau phi vụ khoắng đồ nhà người, Atsuya, Shota và Kouhei đã rẽ vào lánh tạm trong một căn nhà hoang bên con dốc vắng người qua lại. Căn nhà có vẻ k...'}\n",
      "Number of products in my pocket 196\n",
      "hop-dong-chu-liet-quoc-tron-bo-6-tap-tang-kem-so-tay-p35293506.html?spid=111679573\n",
      "{'path': 'hop-dong-chu-liet-quoc-tron-bo-6-tap-tang-kem-so-tay-p35293506.html?spid=111679573', 'Tên Sách': 'Hộp Đông Chu Liệt Quốc (Trọn Bộ 6 Tập) - Tặng Kèm Sổ Tay', 'Ảnh bìa': 'https://salt.tikicdn.com/cache/280x280/ts/product/9a/52/06/da9e8a3cee0c46dd792887766c7da11e.jpg', 'Công ty phát hành': 'Công Ty Cổ Phần Văn Hóa Đông A', 'Kích thước': '16 x 24 cm', 'Nhà xuất bản': 'Nhà Xuất Bản Văn Học', 'Tác giả': '', 'Thể loại': 'Chăm sóc sức khỏe', 'Giá bìa': 472650, 'Nội dung tóm tắt': 'Hộp Đông Chu Liệt Quốc (Trọn Bộ 6 Tập) là bộ tiểu thuyết đồ sộ gồm 108 hồi, phản ánh giai đoạn 550 năm bão táp của lịch sử Trung Hoa từ thời Xuân Thu đến Chiến Quốc. Năm thế kỉ tranh hùng đồ bá ấy với...'}\n",
      "Number of products in my pocket 197\n",
      "moc-treo-do-sau-canh-cua-tu-cua-so-inox-5-moc-p69619505.html?spid=108336872\n",
      "{'path': 'moc-treo-do-sau-canh-cua-tu-cua-so-inox-5-moc-p69619505.html?spid=108336872', 'Tên Sách': 'Móc Treo Đồ Sau Cánh Cửa Tủ Cửa Sổ Inox 5 Móc', 'Ảnh bìa': 'https://salt.tikicdn.com/cache/280x280/ts/product/2a/84/c7/d2d63def2d87ca7946f882be0ba8bb1b.jpg', 'Thương hiệu': 'OEM', 'Xuất xứ thương hiệu': 'Việt Nam', 'Kích thước': '5', 'Xuất xứ': 'Việt Nam', 'Tác giả': '', 'Thể loại': 'Chăm sóc sức khỏe', 'Giá bìa': 25000, 'Nội dung tóm tắt': 'Móc treo đồ sau cánh cửa tủ cửa sổ inox 5 móc siêu chắc cao cấp không cần khoan đục phơi để đồ nhà bếp quần áoMóc treo đồ sau cửa được tích hợp với 5 móc treo, giúp không làm hỏng hay rách quần áo củ...'}\n",
      "Number of products in my pocket 198\n",
      "co-gai-may-man-nhat-con-song-tang-kem-so-tay-p38233066.html?spid=114898817\n",
      "{'path': 'co-gai-may-man-nhat-con-song-tang-kem-so-tay-p38233066.html?spid=114898817', 'Tên Sách': 'Cô Gái May Mắn Nhất Còn Sống - Tặng Kèm Sổ Tay', 'Ảnh bìa': 'https://salt.tikicdn.com/cache/280x280/ts/product/20/52/58/d74dc1be1cc8a5e0480beb4ceaf3d955.jpg', 'Công ty phát hành': 'AZ Việt Nam', 'Ngày xuất bản': '2019-10-28 17:29:27', 'Kích thước': '14.5 x 20.5 cm', 'Dịch Giả': 'Vante', 'Loại bìa': 'Bìa mềm', 'Số trang': '528', 'Tác giả': 'Jessica Knoll', 'Thể loại': 'Chăm sóc sức khỏe', 'Giá bìa': 103000, 'Nội dung tóm tắt': 'Cô gái may mắn nhất còn sống:“Hai chiều không gian.Hai cái tên.Vẫn chỉ là một người.Vậ là Tif hay là Ani?Đan xen giữa quá khứ và hiện tại. Quá khứ của Tif, âm mưu của Ani. Hãy kiên nhẫn chờ đợi s...'}\n",
      "Number of products in my pocket 199\n",
      "yeu-ha-noi-thich-sai-gon-tai-ban-2019-tang-kem-so-tay-p29339974.html?spid=55744314\n",
      "{'path': 'yeu-ha-noi-thich-sai-gon-tai-ban-2019-tang-kem-so-tay-p29339974.html?spid=55744314', 'Tên Sách': 'Yêu Hà Nội Thích Sài Gòn (Tái Bản 2019) - Tặng kèm sổ tay', 'Ảnh bìa': 'https://salt.tikicdn.com/cache/280x280/ts/product/53/15/9d/b17cc1b91a1cccfaee441977e38bf2b0.jpg', 'Công ty phát hành': 'Alphabooks', 'Ngày xuất bản': '2019-04-17 22:54:32', 'Kích thước': '13 x 20.5 cm', 'Loại bìa': 'Bìa mềm', 'Số trang': '304', 'Nhà xuất bản': 'Nhà Xuất Bản Lao Động Xã Hội', 'Tác giả': 'Hồng Phúc', 'Thể loại': 'Chăm sóc sức khỏe', 'Giá bìa': 76300, 'Nội dung tóm tắt': 'Yêu Hà Nội thích Sài Gòn là một tựa đề cảm xúc, và toàn bộ cuốn sách là những cảm nhận tinh tế của một nữ nhà báo có cái nhìn sâu sắc, nhân văn và nhiều trăn trở về cuộc sống, giá trị, văn hóa, xã hội...'}\n",
      "Number of products in my pocket 200\n",
      "sach-combo-so-tay-nha-thoi-mien-tron-bo-2-tap-thien-tai-p101933609.html?spid=113756197\n",
      "{'path': 'sach-combo-so-tay-nha-thoi-mien-tron-bo-2-tap-thien-tai-p101933609.html?spid=113756197', 'Tên Sách': 'Sách - Combo Sổ tay nhà thôi miên (trọn bộ 2 tập) - Thiên tài', 'Ảnh bìa': 'https://salt.tikicdn.com/cache/280x280/ts/product/93/de/ef/1f319dcca9060a206c40f1f23e335295.jpg', 'Công ty phát hành': 'AZ Việt Nam', 'Số trang': '424', 'Nhà xuất bản': 'Nhà Xuất Bản Thế Giới', 'Tác giả': 'Cao Minh', 'Thể loại': 'Chăm sóc sức khỏe', 'Giá bìa': 399500, 'Nội dung tóm tắt': '       Combo sách Tâm lí   - Sổ tay nhà thôi miên (bộ 2 tập) (145.000đ)   - Thiên tài (145.000đ)   --------------------------------------------   Sổ Tay Nhà Thôi Miên   Nhà xuất bản: NXB Thế ...'}\n",
      "Number of products in my pocket 201\n",
      "tro-choi-vuong-quyen-bo-2-tap-4a-4b-tiec-qua-den-loi-tien-tri-tang-kem-so-tay-p33404888.html?spid=33404889\n",
      "{'path': 'tro-choi-vuong-quyen-bo-2-tap-4a-4b-tiec-qua-den-loi-tien-tri-tang-kem-so-tay-p33404888.html?spid=33404889', 'Tên Sách': 'Trò Chơi Vương Quyền ( Bộ 2 Tâp 4A + 4B ) - Tiệc Quạ Đen + Lời Tiên Tri - Tặng Kèm Sổ Tay ', 'Ảnh bìa': 'https://salt.tikicdn.com/cache/280x280/ts/product/e5/d6/38/98e61b07f240ca16816c753219d3037a.JPG', 'Công ty phát hành': 'Alphabooks', 'Kích thước': '14.5 x 20.5 cm', 'Dịch Giả': 'Cẩm Chi , Vũ Hương', 'Loại bìa': 'Bìa mềm', 'Số trang': '13000', 'Tác giả': 'George R.R. Martin', 'Thể loại': 'Chăm sóc sức khỏe', 'Giá bìa': 318000, 'Nội dung tóm tắt': 'Trò Chơi Vương Quyền 4A - Tiệc Quạ Đen Mặt trời đã lặn, lặn vĩnh viễn rồi. Mùi tử khí ngày càng nặng nề hơn, bất chấp những cây nến thơm đang cháy. Mùi này gợi Jaime nhớ về con đường độc đạo chạy qua...'}\n",
      "Number of products in my pocket 202\n"
     ]
    },
    {
     "name": "stdout",
     "output_type": "stream",
     "text": [
      "han-so-dien-nghia-lien-hoan-hoa-tang-kem-so-tay-p35301791.html?spid=111679336\n",
      "{'path': 'han-so-dien-nghia-lien-hoan-hoa-tang-kem-so-tay-p35301791.html?spid=111679336', 'Tên Sách': 'Hán Sở Diễn Nghĩa Liên Hoàn Họa - Tặng Kèm Sổ Tay', 'Ảnh bìa': 'https://salt.tikicdn.com/cache/280x280/ts/product/b5/b3/de/8991cf0fe64226bfc7b898c98c9b4075.jpg', 'Công ty phát hành': 'Công Ty Cổ Phần Văn Hóa Đông A', 'Loại bìa': 'Bìa mềm', 'Nhà xuất bản': 'Nhà Xuất Bản Văn Học', 'Tác giả': 'Chung Sơn Cư Sỹ Chân Vĩ', 'Thể loại': 'Chăm sóc sức khỏe', 'Giá bìa': 169500, 'Nội dung tóm tắt': 'Tác phẩm Hán Sở diễn nghĩa của Chân Vĩ hẳn đã rất quen thuộc với nhiều thế hệ bạn đọc Việt Nam qua cái tên Hán Sở tranh hùng. Nay nhằm mang lại phong vị mới cho tác phẩm kinh điển này, Đông A ấn hành ...'}\n",
      "Number of products in my pocket 203\n",
      "tram-nam-co-don-tang-bookmark-phuong-dong-p20270745.html?spid=53449102\n",
      "{'path': 'tram-nam-co-don-tang-bookmark-phuong-dong-p20270745.html?spid=53449102', 'Tên Sách': 'Trăm Năm Cô Đơn - Tặng Bookmark Phương Đông', 'Ảnh bìa': 'https://salt.tikicdn.com/cache/280x280/ts/product/ec/57/8a/70df601b0e89db231b554679a6734f16.jpg', 'Công ty phát hành': 'Nhã Nam', 'Loại bìa': 'Bìa mềm', 'Nhà xuất bản': 'Nhà Xuất Bản Văn Học', 'Tác giả': 'Gabriel Garcia Marquez', 'Thể loại': 'Chăm sóc sức khỏe', 'Giá bìa': 148500, 'Nội dung tóm tắt': 'Trăm Năm Cô Đơn - Tặng Bookmark Phương Đông là một tác phẩm kinh điển tuyệt vời được nhiều người yêu thích và săn đón“Chỉ với một bước nhảy, Gabriel García Márquez đã vụt lên ngang hàng với Günter Gr...'}\n",
      "Number of products in my pocket 204\n",
      "vong-sai-gon-trac-thuy-mieu-tang-kem-so-tay-p38486460.html?spid=49333621\n",
      "{'path': 'vong-sai-gon-trac-thuy-mieu-tang-kem-so-tay-p38486460.html?spid=49333621', 'Tên Sách': 'Vọng Sài Gòn - Trác Thúy Miêu ( Tặng Kèm Sổ Tay )', 'Ảnh bìa': 'https://salt.tikicdn.com/cache/280x280/ts/product/fa/12/9e/372dd8da79a54d12010487528ebbe6bf.jpg', 'Công ty phát hành': 'Nhã Nam', 'Kích thước': '14 x 20.5 cm', 'Loại bìa': 'Bìa mềm', 'Số trang': '300', 'Tác giả': 'Trác Thúy Miêu', 'Thể loại': 'Chăm sóc sức khỏe', 'Giá bìa': 105000, 'Nội dung tóm tắt': '“Đọc sách để thư giãn, nhưng không phải với cuốn này. Miêu viết là để bạn đọc đấu vật với tiềm thức của chính mình, cào xới đến xây xát cả tàng thức để tìm cho ra những hạt đậu tốt/xấu mà mảnh đất này...'}\n",
      "Number of products in my pocket 205\n",
      "totochan-co-be-ben-cua-so-p4060971.html?spid=54763718\n",
      "{'path': 'totochan-co-be-ben-cua-so-p4060971.html?spid=54763718', 'Tên Sách': 'TotoChan Cô bé bên cửa sổ', 'Ảnh bìa': 'https://salt.tikicdn.com/cache/280x280/ts/product/66/ab/dd/a7a95fdfa1f29e5f1ecb72c6f601373a.jpg', 'Công ty phát hành': 'Nhã Nam', 'Tác giả': '', 'Thể loại': 'Chăm sóc sức khỏe', 'Giá bìa': 98000, 'Nội dung tóm tắt': 'Vừa vào lớp một được vài ngày, Totto-chan đã bị đuổi học!!!Không còn cách nào khác, mẹ đành đưa Totto-chan đến một ngôi trường mới, trường Tomoe. Đấy là một ngôi trường kỳ lạ, lớp học thì ở trong to...'}\n",
      "Number of products in my pocket 206\n",
      "sau-canh-cua-dong-tang-kem-so-tay-p38483575.html?spid=53450376\n",
      "{'path': 'sau-canh-cua-dong-tang-kem-so-tay-p38483575.html?spid=53450376', 'Tên Sách': 'Sau Cánh Cửa Đóng - Tặng Kèm Sổ Tay', 'Ảnh bìa': 'https://salt.tikicdn.com/cache/280x280/ts/product/e7/e3/2b/c88589d9b79bf010ecdaf250db191ed6.jpg', 'Công ty phát hành': 'Nhã Nam', 'Kích thước': '14 x 20.5 cm', 'Dịch Giả': 'Lan Young', 'Loại bìa': 'Bìa mềm', 'Số trang': '390', 'Tác giả': 'B. A. Paris', 'Thể loại': 'Chăm sóc sức khỏe', 'Giá bìa': 106000, 'Nội dung tóm tắt': 'Jack tài năng và lịch lãm, còn Grace xinh đẹp và thành công. Trong mắt mọi người, họ là một cặp đôi hoàn hảo. Thậm chí, thử thách duy nhất cho mối quan hệ tưởng chừng không gì có thể hủy hoại của họ -...'}\n",
      "Number of products in my pocket 207\n",
      "cha-con-giao-hoang-mario-puzo-tang-kem-so-tay-p35281379.html?spid=111285066\n",
      "{'path': 'cha-con-giao-hoang-mario-puzo-tang-kem-so-tay-p35281379.html?spid=111285066', 'Tên Sách': 'Cha Con Giáo Hoàng - Mario Puzo ( Tặng Kèm Sổ Tay )', 'Ảnh bìa': 'https://salt.tikicdn.com/cache/280x280/ts/product/99/ff/ff/27d100d9e23b97eb4063273e8d5966c3.jpg', 'Công ty phát hành': 'Công Ty Cổ Phần Văn Hóa Đông A', 'Kích thước': '14.5 x 20.5 cm', 'Loại bìa': 'Bìa mềm', 'Số trang': '560', 'Nhà xuất bản': 'Nhà Xuất Bản Văn Học', 'Tác giả': 'Mario Puzo', 'Thể loại': 'Chăm sóc sức khỏe', 'Giá bìa': 135000, 'Nội dung tóm tắt': 'Cha Con Giáo HoàngCha con Giáo hoàng là một thiên sử thi xuất sắc, pha trộn màu sắc lãng mạn với chất cuồng điên của lòng tham quyền lực, những mưu ma chước quỷ, tội lỗi và trừng phạt... vượt xa khỏi t...'}\n",
      "Number of products in my pocket 208\n",
      "tam-nguyen-cuoi-cung-loi-me-tang-kem-so-tay-p42659127.html?spid=42659128\n",
      "{'path': 'tam-nguyen-cuoi-cung-loi-me-tang-kem-so-tay-p42659127.html?spid=42659128', 'Tên Sách': 'Tâm Nguyện Cuối Cùng - Lôi Mễ ( Tặng Kèm Sổ Tay )', 'Ảnh bìa': 'https://salt.tikicdn.com/cache/280x280/ts/product/a9/f7/21/d232d1b0260ecf61180f2a294ef7f31b.jpg', 'Công ty phát hành': 'Cổ Nguyệt Books', 'Dịch Giả': 'Vũ Thị Hà', 'Loại bìa': 'Bìa mềm', 'Số trang': '707', 'Tác giả': 'Lôi Mễ', 'Thể loại': 'Chăm sóc sức khỏe', 'Giá bìa': 140000, 'Nội dung tóm tắt': 'Tâm Nguyện Cuối CùngHai mươi ba năm trước, tại thành phố C liên tiếp xảy ra những vụ án cưỡng bức, giết người.  Xác của các nạn nhân bị phân tách, vứt rải rác khắp nơi gây chấn động toàn thành phố.Đ...'}\n",
      "Number of products in my pocket 209\n",
      "combo-agatha-christie-an-mang-tren-san-golf-va-vu-am-sat-ong-roger-ackroyd-tang-kem-so-tay-xuong-rong-p24766025.html?spid=127767609\n",
      "{'path': 'combo-agatha-christie-an-mang-tren-san-golf-va-vu-am-sat-ong-roger-ackroyd-tang-kem-so-tay-xuong-rong-p24766025.html?spid=127767609', 'Tên Sách': 'Combo Agatha Christie : Án Mạng Trên Sân Golf và Vụ Ám Sát Ông Roger Ackroyd ( Tặng Kèm Sổ Tay Xương Rồng)', 'Ảnh bìa': 'https://salt.tikicdn.com/cache/280x280/ts/product/bd/03/70/ccdb184eeb8b5b4bfe42dbf206671392.jpeg', 'Công ty phát hành': 'NXB Trẻ', 'Ngày xuất bản': '2019-01-01 21:43:53', 'Kích thước': '13 x 20 cm\\n13 x 20 cm', 'Loại bìa': 'Bìa mềm', 'Số trang': '646', 'Nhà xuất bản': 'NXB Trẻ', 'Tác giả': 'Agatha Christie,Agatha Christie, Agatha Christie,Agatha Christie', 'Thể loại': 'Chăm sóc sức khỏe', 'Giá bìa': 189000, 'Nội dung tóm tắt': 'Combo Agatha Christie : Án Mạng Trên Sân Golf và Vụ Ám Sát Ông Roger Ackroyd ( Tặng Kèm Sổ Tay Xương Rồng)Bản đặc biệt tặng kèm sổ tay xương rồng, mẫu ngẫu nhiên ( 1 trong 4 mẫu như hình ) và số lượn...'}\n",
      "Number of products in my pocket 210\n",
      "kim-lien-mot-thuo-ky-uc-ha-noi-tu-nhung-khu-nha-cu-tang-kem-so-tay-p29118479.html?spid=55831684\n",
      "{'path': 'kim-lien-mot-thuo-ky-uc-ha-noi-tu-nhung-khu-nha-cu-tang-kem-so-tay-p29118479.html?spid=55831684', 'Tên Sách': 'Kim Liên Một Thuở - Ký Ức Hà Nội Từ Những Khu Nhà Cũ (Tặng kèm sổ tay)', 'Ảnh bìa': 'https://salt.tikicdn.com/cache/280x280/ts/product/93/79/c6/894c680673311aca079cc7a37a5ad0fb.jpg', 'Công ty phát hành': 'Alphabooks', 'Ngày xuất bản': '2019-02-13 22:30:55', 'Kích thước': '15 x 23 cm', 'Loại bìa': 'Bìa mềm', 'Số trang': '280', 'Nhà xuất bản': 'Nhà Xuất Bản Thế Giới', 'Tác giả': 'Vũ Công Chiến', 'Thể loại': 'Chăm sóc sức khỏe', 'Giá bìa': 80000, 'Nội dung tóm tắt': 'Kim Liên Một Thuở - Ký Ức Hà Nội Từ Những Khu Nhà CũLà một trong những khu tập thể đầu tiên ở Hà Nội, được xây dựng từ năm 1959, khu tập thể Kim Liên như một nhân chứng lịch sử đánh dấu những thay đổ...'}\n",
      "Number of products in my pocket 211\n",
      "tranh-dan-tuong-3d-cua-so-cua-so-ca-koi-vai-lua-kim-tuyen-p114222745.html?spid=114222756\n",
      "{'path': 'tranh-dan-tuong-3d-cua-so-cua-so-ca-koi-vai-lua-kim-tuyen-p114222745.html?spid=114222756', 'Tên Sách': 'Tranh dán tường 3D cửa sổ - cửa sổ cá koi- vải lụa kim tuyến', 'Ảnh bìa': 'https://salt.tikicdn.com/cache/280x280/ts/product/09/a9/5f/a2f41616f7036f70e262156318d06dbf.jpg', 'Thương hiệu': 'OEM', 'Xuất xứ thương hiệu': 'Việt Nam', 'Dung tích': '500ml', 'Xuất xứ': 'Việt Nam', 'Tác giả': '', 'Thể loại': 'Chăm sóc sức khỏe', 'Giá bìa': 139000, 'Nội dung tóm tắt': 'TRANH DÁN TƯỜNGTranh  3D điểm nhấn ngôi nhà Việt1. Tranh in trên lụa kim sa, lụa bóng:2. Tranh in trên Decal PP:-------------------------------------------KHÔNG GIAN HIỆN ĐẠI CÙNG TRANH DÁN TƯỜNG...'}\n",
      "Number of products in my pocket 212\n"
     ]
    },
    {
     "name": "stdout",
     "output_type": "stream",
     "text": [
      "thanh-khoa-cua-so-mo-quay-cua-nhua-loi-thep-upvc-p91242664.html?spid=91242682\n",
      "{'path': 'thanh-khoa-cua-so-mo-quay-cua-nhua-loi-thep-upvc-p91242664.html?spid=91242682', 'Tên Sách': 'Thanh khóa cửa sổ mở quay cửa nhựa lõi thép UPVC', 'Ảnh bìa': 'https://salt.tikicdn.com/cache/280x280/ts/product/3a/f5/b9/e868fdf8141d2d79237c5c375511e270.jpg', 'Thương hiệu': 'OEM', 'Xuất xứ thương hiệu': 'Việt Nam', 'Dung tích': '500ml', 'Xuất xứ': 'Việt Nam', 'Tác giả': '', 'Thể loại': 'Chăm sóc sức khỏe', 'Giá bìa': 117000, 'Nội dung tóm tắt': '       Được sử dụng cho cửa sổ mở nhựa lõi thép UPVC   Sản phẩm chính hãng ASSA ABLOY   Kích thước : 400 _ 600_ 1000_1200   ...'}\n",
      "Number of products in my pocket 213\n",
      "rem-cua-so-handmade-re-m-cu-a-so-macrame-sa-n-pha-m-decor-p96669798.html?spid=96669811\n",
      "{'path': 'rem-cua-so-handmade-re-m-cu-a-so-macrame-sa-n-pha-m-decor-p96669798.html?spid=96669811', 'Tên Sách': '   Rèm cửa sổ  handmade - Rèm cửa sổ macrame - sản phẩm decor  ', 'Ảnh bìa': 'https://salt.tikicdn.com/cache/280x280/ts/product/25/0d/5a/2db7c52f52f244c91f5eeac1fcea822c.jpg', 'Thương hiệu': 'OEM', 'Xuất xứ thương hiệu': 'Việt Nam', 'Dung tích': '500ml', 'Xuất xứ': 'Việt Nam', 'Tác giả': '', 'Thể loại': 'Chăm sóc sức khỏe', 'Giá bìa': 1350000, 'Nội dung tóm tắt': 'Kiều handmade giới thiệu khách hàng sản phẩm Rèm cửa sổ macrameNgoài ra bạn dùng làm background ngày cưới,trang trí tiệm shop đều phù hợpSản phẩm sử dụng dây cotton loại mịn và đẹp, thích ...'}\n",
      "Number of products in my pocket 214\n",
      "phuong-thuc-amazon-10-nguyen-ly-internet-van-vat-tang-kem-so-tay-p31117323.html?spid=76161738\n",
      "{'path': 'phuong-thuc-amazon-10-nguyen-ly-internet-van-vat-tang-kem-so-tay-p31117323.html?spid=76161738', 'Tên Sách': 'Phương Thức Amazon – 10 Nguyên Lý Internet Vạn Vật (Tặng kèm sổ tay)', 'Ảnh bìa': 'https://salt.tikicdn.com/cache/280x280/ts/product/20/2e/22/8574119aaf2ffa38f067efe988768e0e.jpg', 'Công ty phát hành': 'Alphabooks', 'Ngày xuất bản': '2019-04-17 01:05:35', 'Kích thước': '16 x 24 cm', 'Loại bìa': 'Bìa mềm', 'Số trang': '228', 'Nhà xuất bản': 'Nhà Xuất Bản Thế Giới', 'Tác giả': 'John Rossman', 'Thể loại': 'Chăm sóc sức khỏe', 'Giá bìa': 117000, 'Nội dung tóm tắt': 'Phương Thức Amazon – 10 Nguyên Lý Internet Vạn VậtMichael Porter, Giáo sư Trường kinh doanh Harvard đã mô tả IoT như xương sống của làn sóng thứ ba về đổi mới công nghệ và đột phá kỹ thuật số. Theo đ...'}\n",
      "Number of products in my pocket 215\n",
      "tranh-dan-tuong-cua-so-3d-tranh-trang-tri-cua-so-3d-tranh-dep-cua-so-3d-tranh-3d-cua-so-dac-sac-t3dmn-t6-human_60420-p19869758.html?spid=19869760\n",
      "{'path': 'tranh-dan-tuong-cua-so-3d-tranh-trang-tri-cua-so-3d-tranh-dep-cua-so-3d-tranh-3d-cua-so-dac-sac-t3dmn-t6-human_60420-p19869758.html?spid=19869760', 'Tên Sách': 'Tranh dán tường cửa sổ 3D | Tranh trang trí cửa sổ 3D | Tranh đẹp cửa sổ 3D | Tranh 3D cửa sổ đặc sắc | T3DMN T6 Human_60420', 'Ảnh bìa': 'https://salt.tikicdn.com/cache/280x280/ts/product/41/89/15/4d5c7eb227472ff2c06bac46ada252b8.jpg', 'Thương hiệu': 'OEM', 'Xuất xứ': 'Việt Nam', 'Tác giả': '', 'Thể loại': 'Chăm sóc sức khỏe', 'Giá bìa': 159000, 'Nội dung tóm tắt': '1. Tranh dán tường cửa sổ 3D là gì?Tranh dán tường cửa sổ 3D là một bức tranh trang trí tường đầy nghệ thuật, có hình ảnh giống như một khung cửa sổ được dán lên tường, giúp bạn trải nghiệm cảm xúc c...'}\n",
      "Number of products in my pocket 216\n",
      "rem-treo-cua-so-phong-cach-chau-au-p37441621.html?spid=57274394\n",
      "{'path': 'rem-treo-cua-so-phong-cach-chau-au-p37441621.html?spid=57274394', 'Tên Sách': 'Rèm Treo Cửa Sổ Phong Cách Châu Âu ', 'Ảnh bìa': 'https://salt.tikicdn.com/cache/280x280/ts/product/35/67/65/620b1771220dea51235d34f3fab1a682.jpg', 'Xuất xứ thương hiệu': 'Trung Quốc', 'Xuất xứ': 'Trung Quốc', 'Trọng lượng': '0.483', 'Tác giả': '', 'Thể loại': 'Chăm sóc sức khỏe', 'Giá bìa': 213000, 'Nội dung tóm tắt': '     Description :Color: coffeeMaterial: polyesterSpecification: 1 x 2 m high punching a pieceSize: 100 * 200 cm...'}\n",
      "Number of products in my pocket 217\n",
      "combo-nguyen-nhat-anh-chuyen-xu-lang-biang-tron-bo-4-cuon-tang-kem-so-tay-xuong-rong-p40418434.html?spid=40418435\n",
      "{'path': 'combo-nguyen-nhat-anh-chuyen-xu-lang-biang-tron-bo-4-cuon-tang-kem-so-tay-xuong-rong-p40418434.html?spid=40418435', 'Tên Sách': 'Combo Nguyễn Nhật Ánh - Chuyện Xứ Lang Biang( Trọn Bộ 4 Cuốn) ( Tặng kèm Sổ Tay Xương Rồng)', 'Ảnh bìa': 'https://salt.tikicdn.com/cache/280x280/ts/product/00/e6/26/a3346c5c98764b68a7bb98954350406c.jpg', 'Công ty phát hành': '-', 'Ngày xuất bản': '2019-11-01 10:02:38', 'Kích thước': '14 x 20 cm', 'Loại bìa': 'Bìa mềm', 'Tác giả': 'Nguyễn Nhật Ánh', 'Thể loại': 'Chăm sóc sức khỏe', 'Giá bìa': 620500, 'Nội dung tóm tắt': 'Combo Nguyễn Nhật Ánh - Chuyện Xứ Lang Biang( Trọn Bộ 4 Cuốn) ( Tặng kèm Sổ Tay Xương Rồng)Bản đặc biệt tặng kèm sổ tay xương rồng, mẫu ngẫu nhiên ( 1 trong 4 mẫu như hình ) và số lượng có hạn.Bộ sá...'}\n",
      "Number of products in my pocket 218\n",
      "sach-combo-so-tay-nha-thoi-mien-tron-bo-2-tap-thien-tai-p101683213.html?spid=113756177\n",
      "{'path': 'sach-combo-so-tay-nha-thoi-mien-tron-bo-2-tap-thien-tai-p101683213.html?spid=113756177', 'Tên Sách': 'Sách - Combo Sổ tay nhà thôi miên (trọn bộ 2 tập) - Thiên tài', 'Ảnh bìa': 'https://salt.tikicdn.com/cache/280x280/ts/product/93/de/ef/c3dcf7585d57b24e5f8079e2aaa2941d.jpg', 'Công ty phát hành': 'AZ Việt Nam', 'Số trang': '424', 'Nhà xuất bản': 'Nhà Xuất Bản Thế Giới', 'Tác giả': 'Cao Minh', 'Thể loại': 'Chăm sóc sức khỏe', 'Giá bìa': 435000, 'Nội dung tóm tắt': '       Combo sách Tâm lí   - Sổ tay nhà thôi miên (bộ 2 tập) (145.000đ)   - Thiên tài (145.000đ)   --------------------------------------------   Sổ Tay Nhà Thôi Miên   Nhà xuất bản: NXB Thế ...'}\n",
      "Number of products in my pocket 219\n",
      "combo-mat-biec-va-co-gai-den-tu-hom-qua-tang-kem-so-tay-p13311704.html?spid=13311705\n",
      "{'path': 'combo-mat-biec-va-co-gai-den-tu-hom-qua-tang-kem-so-tay-p13311704.html?spid=13311705', 'Tên Sách': 'Combo Mắt Biếc và Cô Gái Đến Từ Hôm Qua ( Tặng Kèm Sổ Tay)', 'Ảnh bìa': 'https://salt.tikicdn.com/cache/280x280/ts/product/8d/26/3b/2684b0638de6909dcb5eff0833668c59.jpg', 'Công ty phát hành': 'NXB Trẻ', 'Ngày xuất bản': '2019-01-01 01:00:59', 'Kích thước': '12 x 20 cm\\n12 x 20 cm', 'Loại bìa': 'Bìa mềm', 'Số trang': '409', 'Tác giả': 'Nguyễn Nhật Ánh', 'Thể loại': 'Chăm sóc sức khỏe', 'Giá bìa': 161500, 'Nội dung tóm tắt': 'Combo Mắt Biếc và Cô Gái Đến Từ Hôm Qua ( Tặng Kèm Sổ Tay)Bản đặc biệt tặng kèm sổ tay, mẫu ngẫu nhiên và số lượng có hạn.Mắt BiếcMột tác phẩm được nhiều người bình chọn là hay nhất của nhà văn này...'}\n",
      "Number of products in my pocket 220\n",
      "tam-biet-em-on-goodbye-i-m-fine-tai-ban-tang-kem-so-tay-p38705583.html?spid=121170669\n",
      "{'path': 'tam-biet-em-on-goodbye-i-m-fine-tai-ban-tang-kem-so-tay-p38705583.html?spid=121170669', 'Tên Sách': 'Tạm Biệt Em Ổn!- Goodbye I’m Fine! (Tái Bản) - Tặng Kèm Sổ Tay', 'Ảnh bìa': 'https://salt.tikicdn.com/cache/280x280/ts/product/a5/98/b6/75d87f7ec405977766931c77e1325efd.jpg', 'Công ty phát hành': 'Skybooks', 'Kích thước': '13 x 20.5 cm', 'Loại bìa': 'Bìa mềm', 'Số trang': '232', 'Tác giả': 'Tờ Pi - Trang Hà Trang', 'Thể loại': 'Chăm sóc sức khỏe', 'Giá bìa': 87000, 'Nội dung tóm tắt': 'Tôi đi qua tuổi trẻ với những vết thương lòng sâu đến mức tôi tưởng nó ko thể lành được. Ở cuốn tản văn này - tôi nhìn thấy mình của tuổi 20 - nhìn thấy mình từ quá khứ Tôi muốn tặng nó cho tôi của bâ...'}\n",
      "Number of products in my pocket 221\n",
      "doi-nhu-mot-tro-dua-tang-kem-so-tay-p38455323.html?spid=53449203\n",
      "{'path': 'doi-nhu-mot-tro-dua-tang-kem-so-tay-p38455323.html?spid=53449203', 'Tên Sách': 'Đời Như Một Trò Đùa - Tặng Kèm Sổ Tay', 'Ảnh bìa': 'https://salt.tikicdn.com/cache/280x280/ts/product/3b/7f/2b/671000ef2b59a1754fa8ea7e52d051d5.jpg', 'Công ty phát hành': 'Nhã Nam', 'Kích thước': '14 x 20.5 cm', 'Dịch Giả': 'Đặng Ly', 'Loại bìa': 'Bìa mềm', 'Số trang': '344', 'Nhà xuất bản': 'Nhà Xuất Bản Thế Giới', 'Tác giả': 'Anh Em Nhà Javna', 'Thể loại': 'Chăm sóc sức khỏe', 'Giá bìa': 99500, 'Nội dung tóm tắt': 'Bạn đã bao giờ nghe câu chuyện về người đàn ông một mực tin rằng mình đã chết?Hay về một con ếch không thể thuyết phục gã kỹ sư bắt được mình tặng cho một nụ hôn để trở lại thành công chúa?Hay một con...'}\n",
      "Number of products in my pocket 222\n"
     ]
    },
    {
     "name": "stdout",
     "output_type": "stream",
     "text": [
      "thien-than-mu-suong-tang-kem-so-tay-p35920775.html?spid=37892540\n",
      "{'path': 'thien-than-mu-suong-tang-kem-so-tay-p35920775.html?spid=37892540', 'Tên Sách': 'Thiên Thần Mù Sương - Tặng Kèm Sổ Tay', 'Ảnh bìa': 'https://salt.tikicdn.com/cache/280x280/ts/product/80/23/d4/d3a0c6a5a24af87bbb02b2db6e398ab2.jpg', 'Công ty phát hành': 'Bách Việt', 'Kích thước': '14.5 x 20.5 cm', 'Loại bìa': 'Bìa mềm', 'Số trang': '484', 'Tác giả': '', 'Thể loại': 'Chăm sóc sức khỏe', 'Giá bìa': 91000, 'Nội dung tóm tắt': 'Thiên thần mù sương là hành trình tìm kiếm sự thật về điều đã diễn ra trên chuyến xe buýt quái dị ra vùng ngoại ô của cô gái trẻ Minh Hà. Chiếc xe lạc vào sương mù, một cuộc gặp gỡ kinh hoàng giữa quá...'}\n",
      "Number of products in my pocket 223\n",
      "dieu-anh-can-duy-nhat-chi-la-em-tang-kem-so-tay-p42090387.html?spid=114958286\n",
      "{'path': 'dieu-anh-can-duy-nhat-chi-la-em-tang-kem-so-tay-p42090387.html?spid=114958286', 'Tên Sách': 'Điều Anh Cần Duy Nhất Chỉ Là Em - Tặng Kèm Sổ Tay', 'Ảnh bìa': 'https://salt.tikicdn.com/cache/280x280/ts/product/6a/d3/b4/24a385f3025fedbef853156a1ab6e82e.jpg', 'Công ty phát hành': 'AZ Việt Nam', 'Loại bìa': 'Bìa mềm', 'Tác giả': '', 'Thể loại': 'Chăm sóc sức khỏe', 'Giá bìa': 63000, 'Nội dung tóm tắt': 'Điều Anh Cần Duy Nhất Chỉ Là Em“Mỗi cô gái trên thế giới đều cần một người Người ấy mỗi ngày dù bận đến đâu đều chủ động liên lạc với bạn, nhắc bạn ăn uống đầy đủ, nói nhớ bạn ít nhất một lầnNgười ...'}\n",
      "Number of products in my pocket 224\n",
      "combo-nhung-nguoi-dep-say-ngu-va-ho-tang-kem-so-tay-xuong-rong-p28725922.html?spid=90148713\n",
      "{'path': 'combo-nhung-nguoi-dep-say-ngu-va-ho-tang-kem-so-tay-xuong-rong-p28725922.html?spid=90148713', 'Tên Sách': 'Combo Những Người Đẹp Say Ngủ và Hồ ( Tặng Kèm Sổ Tay Xương Rồng)', 'Ảnh bìa': 'https://salt.tikicdn.com/cache/280x280/ts/product/7f/8d/58/d756ae58b8dee1f685c438b66d1dd403.jpg', 'Công ty phát hành': 'Nhã Nam', 'Ngày xuất bản': '2019-08-01 16:00:49', 'Kích thước': '14 x 20.5 cm\\n14 x 20.5 cm', 'Loại bìa': 'Bìa mềm', 'Số trang': '314', 'Nhà xuất bản': 'Nhà Xuất Bản Hội Nhà Văn', 'Tác giả': 'Kawabata Yasunari', 'Thể loại': 'Chăm sóc sức khỏe', 'Giá bìa': 124000, 'Nội dung tóm tắt': 'Combo Những Người Đẹp Say Ngủ và Hồ ( Tặng Kèm Sổ Tay Xương Rồng)Bản đặc biệt tặng kèm sổ tay xương rồng, mẫu ngẫu nhiên ( 1 trong 4 mẫu như hình ) và số lượng có hạn. Những Người Đẹp Say Ngủ“Cô g...'}\n",
      "Number of products in my pocket 225\n",
      "combo-cuoi-khong-ngot-tho-bay-mau-va-nhung-nguoi-nghi-no-la-ban-mot-cuon-sach-buon-cuoi-vui-ve-khong-quau-nha-tu-dien-tieng-em-so-tay-p102121309.html?spid=102121310\n",
      "{'path': 'combo-cuoi-khong-ngot-tho-bay-mau-va-nhung-nguoi-nghi-no-la-ban-mot-cuon-sach-buon-cuoi-vui-ve-khong-quau-nha-tu-dien-tieng-em-so-tay-p102121309.html?spid=102121310', 'Tên Sách': 'Combo cười không ngớt:  Thỏ Bảy Màu Và Những Người Nghĩ Nó Là Bạn +Một Cuốn Sách Buồn… Cười + Vui Vẻ Không Quạu Nha + Từ Điển Tiếng “Em”-Sổ tay', 'Ảnh bìa': 'https://salt.tikicdn.com/cache/280x280/ts/product/e2/5c/d2/1a73cfc857d5d31156c5c0c15e38ff4f.jpg', 'Công ty phát hành': 'Timebooks', 'Loại bìa': 'Bìa mềm', 'Nhà xuất bản': 'Nhà Xuất Bản Hà Nội', 'Tác giả': 'Huỳnh Thái Ngọc,Ở Đây Zui Nè', 'Thể loại': 'Chăm sóc sức khỏe', 'Giá bìa': 268600, 'Nội dung tóm tắt': 'Combo cười không ngớt: Thỏ Bảy Màu Và Những Người Nghĩ Nó Là Bạn +Một Cuốn Sách Buồn... Cười + Vui Vẻ Không Quạu Nha + Từ Điển Tiếng “Em”-Sổ tay1.Thỏ Bảy Màu Và Những Người Nghĩ Nó Là Bạn Thỏ Bảy Màu ...'}\n",
      "Number of products in my pocket 226\n",
      "rem-cua-so-polyester-5-mau-p22976135.html?spid=57274796\n",
      "{'path': 'rem-cua-so-polyester-5-mau-p22976135.html?spid=57274796', 'Tên Sách': 'Rèm Cửa Sổ Polyester (5 Màu)', 'Ảnh bìa': 'https://salt.tikicdn.com/cache/280x280/ts/product/01/a7/c3/e54b0d15febf33655daa8ce6d9032b37.jpg', 'Thương hiệu': 'OEM', 'Xuất xứ thương hiệu': 'China', 'Tác giả': '', 'Thể loại': 'Chăm sóc sức khỏe', 'Giá bìa': 161000, 'Nội dung tóm tắt': '         Specifications:Color:Black,White,Grey,Red,CoffeeSize: 100x200cmMaterial:PolyesterStyle:Tube Curtain Please note,that this is not perforated curtainsNotice:1.Please allow 1-3.0Mm error due to ...'}\n",
      "Number of products in my pocket 227\n",
      "man-treo-cua-so-chong-muoi-p118998021.html?spid=118998023\n",
      "{'path': 'man-treo-cua-so-chong-muoi-p118998021.html?spid=118998023', 'Tên Sách': 'Màn Treo Cửa Sổ Chống Muỗi', 'Ảnh bìa': 'https://salt.tikicdn.com/cache/280x280/ts/product/e2/b8/0b/8e368fbbb15cf9da60e9e0c03c188447.jpg', 'Thương hiệu': 'OEM', 'Xuất xứ thương hiệu': 'Việt Nam', 'Dung tích': '500ml', 'Xuất xứ': 'Việt Nam', 'Tác giả': '', 'Thể loại': 'Chăm sóc sức khỏe', 'Giá bìa': 38000, 'Nội dung tóm tắt': '       - Màn treo cửa sổ chống muỗi có chức năng chống muỗi và các loại côn trùng gây hại cho sức khỏe, là sản phẩm tiện ích cho mọi gia đình.   - Chất liệu vải lưới mềm mại với nhiều lỗ nhỏ thôn...'}\n",
      "Number of products in my pocket 228\n",
      "chet-chiu-tang-kem-bookmark-phuong-dong-books-p19573862.html?spid=50240317\n",
      "{'path': 'chet-chiu-tang-kem-bookmark-phuong-dong-books-p19573862.html?spid=50240317', 'Tên Sách': 'CHẾT CHỊU (Tặng kèm bookmark Phương Đông Books)', 'Ảnh bìa': 'https://salt.tikicdn.com/cache/280x280/ts/product/97/d7/ef/0eb59c39c6bde70f7f00fff44c66fc6f.jpg', 'Công ty phát hành': 'Nhã Nam', 'Loại bìa': 'Bìa mềm', 'Nhà xuất bản': 'Nhà Xuất Bản Hội Nhà Văn', 'Tác giả': 'Louis-Ferdinand Celine', 'Thể loại': 'Chăm sóc sức khỏe', 'Giá bìa': 177000, 'Nội dung tóm tắt': 'CHẾT CHỊU (Tặng kèm bookmark Phương Đông Books) Thật không dễ bắt đầu với Chết chịu khi thực và mơ đan xen lẫn lộn, khi vô số dấu ba chấm xuất hiện liên tiếp giữa các câu ngắn, gây cảm giác cực kỳ k...'}\n",
      "Number of products in my pocket 229\n",
      "combo-forrest-gump-va-vua-nham-mat-vua-mo-cua-so-tang-kem-so-tay-xuong-rong-p40621416.html?spid=40621417\n",
      "{'path': 'combo-forrest-gump-va-vua-nham-mat-vua-mo-cua-so-tang-kem-so-tay-xuong-rong-p40621416.html?spid=40621417', 'Tên Sách': 'Combo  Forrest Gump và Vừa Nhắm Mắt Vừa Mở Cửa Sổ( Tặng kèm Sổ Tay Xương Rồng)', 'Ảnh bìa': 'https://salt.tikicdn.com/cache/280x280/ts/product/5b/18/84/e4758f7097eb40956ea12cd44d6202ae.jpg', 'Công ty phát hành': '-', 'Ngày xuất bản': '2019-11-01 15:42:14', 'Kích thước': '13 x 20 cm', 'Loại bìa': 'Bìa mềm', 'Số trang': '536', 'Tác giả': 'Nguyễn Ngọc Thuần,Winston Groom', 'Thể loại': 'Chăm sóc sức khỏe', 'Giá bìa': 144500, 'Nội dung tóm tắt': 'Combo Forrest Gump và Vừa Nhắm Mắt Vừa Mở Cửa Sổ( Tặng kèm Sổ Tay Xương Rồng)Bản đặc biệt tặng kèm sổ tay xương rồng, mẫu ngẫu nhiên ( 1 trong 4 mẫu như hình ) và số lượng có hạn.Forrest Gump (Tái b...'}\n",
      "Number of products in my pocket 230\n",
      "toi-van-nghe-tieng-em-tham-goi-tai-ban-tang-kem-so-tay-p36301715.html?spid=49494243\n",
      "{'path': 'toi-van-nghe-tieng-em-tham-goi-tai-ban-tang-kem-so-tay-p36301715.html?spid=49494243', 'Tên Sách': 'Tôi Vẫn Nghe Tiếng Em Thầm Gọi ( Tái Bản ) - Tặng Kèm Sổ Tay', 'Ảnh bìa': 'https://salt.tikicdn.com/cache/280x280/ts/product/8e/d0/db/1588c117908e3db932e064e149e5df96.jpg', 'Công ty phát hành': 'Nhã Nam', 'Kích thước': '14 x 20.5 cm', 'Loại bìa': 'Bìa mềm', 'Số trang': '188', 'Nhà xuất bản': 'Nhà Xuất Bản Văn Học', 'Tác giả': 'Ichikawa Takuji', 'Thể loại': 'Chăm sóc sức khỏe', 'Giá bìa': 51000, 'Nội dung tóm tắt': 'Mười bảy tuổi, bị bủa vây trong bóng đen cái chết của người thân, Yuko và Satoru đã tình cờ tìm thấy nhau, như “tay phải tìm ra tay trái”. Những tưởng từ đây họ có thể khép lại những tháng ngày lạc lõ...'}\n",
      "Number of products in my pocket 231\n",
      "tranh-dan-tuong-3d-cua-so-kho-doc-tranh-cua-so-dung-p114226489.html?spid=114226491\n",
      "{'path': 'tranh-dan-tuong-3d-cua-so-kho-doc-tranh-cua-so-dung-p114226489.html?spid=114226491', 'Tên Sách': 'Tranh dán tường 3D cửa sổ khổ dọc - tranh cửa sổ đứng', 'Ảnh bìa': 'https://salt.tikicdn.com/cache/280x280/ts/product/8d/73/c9/bb3f1e8f4bf418581193a4c23b5f9197.jpg', 'Thương hiệu': 'OEM', 'Xuất xứ thương hiệu': 'Việt Nam', 'Dung tích': '500ml', 'Xuất xứ': 'Việt Nam', 'Tác giả': '', 'Thể loại': 'Chăm sóc sức khỏe', 'Giá bìa': 139000, 'Nội dung tóm tắt': 'TRANH DÁN TƯỜNG HẢI NAM(XƯỞNG SẢN XUẤT TRỰC TIẾP)Tranh HẢI NAM 3D điểm nhấn ngôi nhà Việt1. Tranh in trên lụa kim sa, lụa bóng:2. Tranh in trên Decal PP:------------------------------------------...'}\n",
      "Number of products in my pocket 232\n"
     ]
    },
    {
     "name": "stdout",
     "output_type": "stream",
     "text": [
      "combo-2-cuon-truyen-hay-nhat-cua-tac-gia-nguyen-nhat-anh-chuc-mot-ngay-tot-lanh-toi-thay-hoa-vang-tren-co-xanh-tang-so-tay-vdt-p34472670.html?spid=89424177\n",
      "{'path': 'combo-2-cuon-truyen-hay-nhat-cua-tac-gia-nguyen-nhat-anh-chuc-mot-ngay-tot-lanh-toi-thay-hoa-vang-tren-co-xanh-tang-so-tay-vdt-p34472670.html?spid=89424177', 'Tên Sách': 'Combo 2 cuốn truyện hay nhất của tác giả Nguyễn Nhật Ánh: Chúc Một Ngày Tốt Lành + Tôi Thấy Hoa Vàng Trên Cỏ Xanh Tặng sổ tay VDT', 'Ảnh bìa': 'https://salt.tikicdn.com/cache/280x280/ts/product/ea/13/de/2178ee472e7f6abec1d7687443f2218b.jpg', 'Công ty phát hành': 'NXB Trẻ', 'Số trang': '300', 'Nhà xuất bản': 'NXB Trẻ', 'Tác giả': '', 'Thể loại': 'Chăm sóc sức khỏe', 'Giá bìa': 232800, 'Nội dung tóm tắt': 'Chúc Một Ngày Tốt LànhĐọc tựa cuốn sách mới nhất của nhà văn Nguyễn Nhật Ánh là muốn mở ngay trang sách. Bạn sẽ thấy một thứ ngôn ngữ lạ của Hàn Quốc hay của nước nào tùy bạn đoán, Gô un un là Chào b...'}\n",
      "Number of products in my pocket 233\n",
      "combo-anne-toc-do-lang-avonlea-anne-duoi-mai-nha-ben-anh-lua-anne-toc-do-va-ngoi-nha-mo-uoc-tang-kem-so-tay-p28670927.html?spid=75979469\n",
      "{'path': 'combo-anne-toc-do-lang-avonlea-anne-duoi-mai-nha-ben-anh-lua-anne-toc-do-va-ngoi-nha-mo-uoc-tang-kem-so-tay-p28670927.html?spid=75979469', 'Tên Sách': 'Combo Anne Tóc Đỏ Làng Avonlea + Anne Dưới Mái Nhà Bên Ánh Lửa + Anne Tóc Đỏ Và Ngôi Nhà Mơ Ước - Tặng kèm sổ tay', 'Ảnh bìa': 'https://salt.tikicdn.com/cache/280x280/ts/product/65/cd/d6/6767485779db0796daf63d64620e566d.png', 'Công ty phát hành': 'Nhã Nam', 'Kích thước': '14*21', 'Tác giả': 'L.M. Montgomery', 'Thể loại': 'Chăm sóc sức khỏe', 'Giá bìa': 234000, 'Nội dung tóm tắt': 'Combo Anne Tóc Đỏ Làng Avonlea + Anne Dưới Mái Nhà Bên Ánh Lửa + Anne Tóc Đỏ Và Ngôi Nhà Mơ ƯớcAnne Tóc Đỏ Làng AvonleaMới ngày nào cô bé Anne mặt tàn nhang và dễ kích động vừa mới đặt chân lên ...'}\n",
      "Number of products in my pocket 234\n",
      "combo-khi-hikaru-con-tren-the-gian-nay-tap-7-8-tang-kem-so-tay-p37967293.html?spid=56889913\n",
      "{'path': 'combo-khi-hikaru-con-tren-the-gian-nay-tap-7-8-tang-kem-so-tay-p37967293.html?spid=56889913', 'Tên Sách': 'Combo Khi Hikaru Còn Trên Thế Gian Này (Tập 7 + 8) - Tặng Kèm Sổ Tay', 'Ảnh bìa': 'https://salt.tikicdn.com/cache/280x280/ts/product/7e/f7/42/80ac6d4e3a6245d27e7ba1325a097a16.jpg', 'Công ty phát hành': 'Thái Hà', 'Ngày xuất bản': '2019-10-01 00:00:00', 'Kích thước': '13 x 19 cm', 'Loại bìa': 'Bìa mềm', 'Nhà xuất bản': 'Nhà Xuất Bản Hà Nội', 'Tác giả': 'Nomura Mizuki', 'Thể loại': 'Chăm sóc sức khỏe', 'Giá bìa': 215000, 'Nội dung tóm tắt': 'Khi Hikaru còn trên thế gian này...... là series light novel tiếp theo của bộ đôi tác giả Nomura Mizuki và họa sĩ Takeoka Miho, bộ đôi nổi tiếng đã cùng tạo nên một Cô gái văn chương sâu sắc, li kì và nhậ...'}\n",
      "Number of products in my pocket 235\n",
      "boxset-chieu-dieu-bo-2-tap-tang-kem-1-bookmark-1-so-tay-2-postcard-co-chu-ky-in-tac-gia-p44858630.html?spid=44858631\n",
      "{'path': 'boxset-chieu-dieu-bo-2-tap-tang-kem-1-bookmark-1-so-tay-2-postcard-co-chu-ky-in-tac-gia-p44858630.html?spid=44858631', 'Tên Sách': 'Boxset Chiêu Diêu (Bộ 2 Tập) - Tặng Kèm 1 Bookmark + 1 Sổ Tay + 2 Postcard Có Chữ Ký In Tác Giả', 'Ảnh bìa': 'https://salt.tikicdn.com/cache/280x280/ts/product/14/c8/11/4b1f021b0a39173cdb8f31b9efcc36f6.jpg', 'Công ty phát hành': 'Quảng Văn', 'Tác giả': 'Cửu Lộ Phi Hương', 'Thể loại': 'Chăm sóc sức khỏe', 'Giá bìa': 263649, 'Nội dung tóm tắt': 'Boxset Chiêu Diêu (Bộ 2 Tập) - Tặng Kèm 1 Bookmark + 1 Sổ Tay + 2 Postcard Có Chữ Ký In Tác Giả   “Chiêu Diêu” kể về nữ ma đầu mạnh nhất trong giới ma tu Lộ Chiêu Diêu ngông cuồng, bá đạo, trong...'}\n",
      "Number of products in my pocket 236\n",
      "combo-truyen-dai-dac-sac-cua-tac-gia-nguyen-nhat-anh-co-hai-con-meo-ngoi-ben-cua-so-ngoi-khoc-tren-cay-cay-chuoi-non-di-giay-xanh-bia-mem-p54924992.html?spid=89413242\n",
      "{'path': 'combo-truyen-dai-dac-sac-cua-tac-gia-nguyen-nhat-anh-co-hai-con-meo-ngoi-ben-cua-so-ngoi-khoc-tren-cay-cay-chuoi-non-di-giay-xanh-bia-mem-p54924992.html?spid=89413242', 'Tên Sách': 'Combo Truyện Dài Đặc Sắc Của Tác Giả Nguyễn Nhật Ánh: Có Hai Con Mèo Ngồi Bên Cửa Sổ + Ngồi Khóc Trên Cây + Cây Chuối Non Đi Giày Xanh - Bìa Mềm', 'Ảnh bìa': 'https://salt.tikicdn.com/cache/280x280/ts/product/eb/de/a5/4927aebd78ce60a58b1f9cb0cdc52478.jpg', 'Công ty phát hành': 'NXB Trẻ', 'Loại bìa': 'Bìa mềm', 'Nhà xuất bản': 'NXB Trẻ', 'Tác giả': 'Nguyễn Nhật Ánh', 'Thể loại': 'Chăm sóc sức khỏe', 'Giá bìa': 289750, 'Nội dung tóm tắt': 'Combo Truyện Dài Đặc Sắc Của Tác Giả Nguyễn Nhật Ánh: Có Hai Con Mèo Ngồi Bên Cửa Sổ + Ngồi Khóc Trên Cây + Cây Chuối Non Đi Giày Xanh - Bìa MềmCó Hai Con Mèo Ngồi Bên Cửa SổNhân vật chính thứ nhất ...'}\n",
      "Number of products in my pocket 237\n",
      "combo-sach-totto-chan-ben-cua-so-va-gio-ra-choi-cua-nhoc-nicolas-p8175851.html?spid=121488464\n",
      "{'path': 'combo-sach-totto-chan-ben-cua-so-va-gio-ra-choi-cua-nhoc-nicolas-p8175851.html?spid=121488464', 'Tên Sách': 'Combo Sách Totto-Chan Bên Cửa Sổ và Giờ Ra Chơi Của Nhóc Nicolas', 'Ảnh bìa': 'https://salt.tikicdn.com/cache/280x280/ts/product/f2/55/15/1d0b29c529de93d9e8ccfcec0a39c9aa.jpg', 'Công ty phát hành': 'Nhã Nam', 'Kích thước': '14x20cm', 'Loại bìa': 'Bìa mềm', 'Nhà xuất bản': 'Nhà Xuất Bản Văn Học', 'Tác giả': 'Rene Goscinny,Kuroyanagi Tetsuko', 'Thể loại': 'Chăm sóc sức khỏe', 'Giá bìa': 130000, 'Nội dung tóm tắt': 'Combo Sách Totto-Chan Bên Cửa Sổ và Giờ Ra Chơi Của Nhóc NicolasBộ sách gồm 2 cuốn sách với nội dung chi tiết như sau:1. Totto-Chan Bên Cửa SổVừa vào lớp một được vài ngày, Totto-chan đã bị đuổi họ...'}\n",
      "Number of products in my pocket 238\n",
      "meo-moc-nao-ta-cung-an-tang-kem-so-tay-p38482837.html?spid=45169440\n",
      "{'path': 'meo-moc-nao-ta-cung-an-tang-kem-so-tay-p38482837.html?spid=45169440', 'Tên Sách': 'Mèo Mốc - Nào Ta Cùng Ăn ( Tặng Kèm Sổ Tay )', 'Ảnh bìa': 'https://salt.tikicdn.com/cache/280x280/ts/product/11/b5/ea/1fb8995bcc7f114f2340480a3a17901d.jpg', 'Công ty phát hành': 'Skybooks', 'Kích thước': '14 x 20.5 cm', 'Loại bìa': 'Bìa mềm', 'Số trang': '200', 'Tác giả': 'Mèo Mốc', 'Thể loại': 'Chăm sóc sức khỏe', 'Giá bìa': 109000, 'Nội dung tóm tắt': 'Có bao giờ bạn thắc mắc món ăn trên bàn của bạn từ đâu tới? Bạn sẽ không ngờ được rằng xung quanh những món ăn nổi tiếng trên thế giới và những món ăn được yêu thích ở Việt Nam lại có nhiều câu chuyện...'}\n",
      "Number of products in my pocket 239\n",
      "combo-van-hoc-20-chon-ron-xu-nguoi-duoi-trang-e-den-xa-voi-rung-rung-long-ngoi-nha-khong-cua-so-song-6-cuon-p66575720.html?spid=66575721\n",
      "{'path': 'combo-van-hoc-20-chon-ron-xu-nguoi-duoi-trang-e-den-xa-voi-rung-rung-long-ngoi-nha-khong-cua-so-song-6-cuon-p66575720.html?spid=66575721', 'Tên Sách': 'Combo Văn Học 20: Chộn Rộn Xứ Người + Đuôi Trắng + Ê Đen Xa Vời + Rưng Rưng Lòng + Ngôi Nhà Không Cửa Sổ + Sống (6 Cuốn)', 'Ảnh bìa': 'https://salt.tikicdn.com/cache/280x280/ts/product/a8/e8/f6/248d3e9142f7085238f74fa6215ba77e.jpg', 'Công ty phát hành': 'NXB Trẻ', 'Ngày xuất bản': '2014-09-05 18:29:44', 'Kích thước': '13 x 20 cm', 'Loại bìa': 'Bìa mềm', 'Nhà xuất bản': 'NXB Trẻ', 'Tác giả': 'Nhiều Tác Giả', 'Thể loại': 'Chăm sóc sức khỏe', 'Giá bìa': 234000, 'Nội dung tóm tắt': 'Bộ sách gồm 6 cuốn:1. Chộn rộn xứ người2. Đuôi Trắng3. Ê Đen Xa Vời4. Rưng Rưng Lòng5. Ngôi Nhà Không Cửa Sổ6. SốngSách thuộc kho sách cũ, sách tồn kho, không đổi trả. Khách hàng vui lòng cân n...'}\n",
      "Number of products in my pocket 240\n",
      "combo-alain-noi-ve-hanh-phuc-va-chet-o-venice-tang-kem-so-tay-xuong-rong-p25120056.html?spid=89424061\n",
      "{'path': 'combo-alain-noi-ve-hanh-phuc-va-chet-o-venice-tang-kem-so-tay-xuong-rong-p25120056.html?spid=89424061', 'Tên Sách': 'Combo Alain Nói Về Hạnh Phúc và Chết Ở Venice ( Tặng Kèm Sổ Tay Xương Rồng)', 'Ảnh bìa': 'https://salt.tikicdn.com/cache/280x280/ts/product/2e/dc/f7/f172b37c268c7d3a28a420c591954b2d.jpg', 'Công ty phát hành': 'NXB Trẻ', 'Ngày xuất bản': '2019-01-01 21:16:45', 'Kích thước': '13 x 20 cm\\n13 x 20 cm', 'Loại bìa': 'Bìa mềm', 'Số trang': '486', 'Nhà xuất bản': 'NXB Trẻ', 'Tác giả': 'Thomas Mann,Émile Chartlier,Thomas Mann', 'Thể loại': 'Chăm sóc sức khỏe', 'Giá bìa': 191900, 'Nội dung tóm tắt': 'Combo Alain Nói Về Hạnh Phúc và Chết Ở Venice ( Tặng Kèm Sổ Tay Xương Rồng)Bản đặc biệt tặng kèm sổ tay xương rồng, mẫu ngẫu nhiên ( 1 trong 4 mẫu như hình ) và số lượng có hạnAlain Nói Về Hạnh Phúc...'}\n",
      "Number of products in my pocket 241\n"
     ]
    },
    {
     "name": "stdout",
     "output_type": "stream",
     "text": [
      "khoa-cua-so-inox-khoa-cua-truot-p52758729.html?spid=52758731\n",
      "{'path': 'khoa-cua-so-inox-khoa-cua-truot-p52758729.html?spid=52758731', 'Tên Sách': 'Khóa Cửa Sổ Inox Khóa Cửa Trượt', 'Ảnh bìa': 'https://salt.tikicdn.com/cache/280x280/ts/product/77/0c/cd/f5871d3298d629b1de34b5e0857d9505.jpg', 'Thương hiệu': 'OEM', 'Xuất xứ thương hiệu': 'Trung Quốc', 'Kích thước': '60/65mm', 'Xuất xứ': 'Trung Quốc', 'Tác giả': '', 'Thể loại': 'Chăm sóc sức khỏe', 'Giá bìa': 60000, 'Nội dung tóm tắt': 'Khóa Cửa Sổ Inox Khóa Cửa Trượt- Chất liệu: inox 304- Tay cầm bọc nhựa êm ái chống trượt, chống trầy xước tay- Hướng móc: móc bên phải- Sản phẩm được làm từ chất liệu INOX 304 cao cấp , cho chất lượng...'}\n",
      "Number of products in my pocket 242\n",
      "combo-to-muon-an-tuy-cua-cau-va-duoi-mot-mai-nha-o-paris-tang-kem-so-tay-xuong-rong-p41251190.html?spid=76224561\n",
      "{'path': 'combo-to-muon-an-tuy-cua-cau-va-duoi-mot-mai-nha-o-paris-tang-kem-so-tay-xuong-rong-p41251190.html?spid=76224561', 'Tên Sách': 'Combo Tớ Muốn Ăn Tụy Của Cậu và Dưới Một Mái Nhà Ở Paris( Tặng Kèm Sổ Tay Xương Rồng)', 'Ảnh bìa': 'https://salt.tikicdn.com/cache/280x280/ts/product/f0/2d/20/a29025768a62f74c3e70d3fd6fb777ff.jpg', 'Công ty phát hành': 'Nhã Nam', 'Ngày xuất bản': '2019-11-01 16:18:05', 'Loại bìa': 'Bìa mềm', 'Số trang': '824', 'Tác giả': 'Guillaume Musso,Sumino Yoru', 'Thể loại': 'Chăm sóc sức khỏe', 'Giá bìa': 185000, 'Nội dung tóm tắt': 'Combo Tớ Muốn Ăn Tụy Của Cậu và Dưới Một Mái Nhà Ở Paris( Tặng Kèm Sổ Tay Xương Rồng)Bản đặc biệt tặng kèm sổ tay xương rồng, mẫu ngẫu nhiên ( 1 trong 4 mẫu như hình ) và số lượng có hạn.Tớ Muốn Ăn ...'}\n",
      "Number of products in my pocket 243\n",
      "sach-totto-chan-ben-cua-so-tb-2019-p77221969.html?spid=77221970\n"
     ]
    },
    {
     "ename": "IndexError",
     "evalue": "list index out of range",
     "output_type": "error",
     "traceback": [
      "\u001b[1;31m---------------------------------------------------------------------------\u001b[0m",
      "\u001b[1;31mIndexError\u001b[0m                                Traceback (most recent call last)",
      "\u001b[1;32mC:\\Users\\WATCHD~1\\AppData\\Local\\Temp/ipykernel_14812/2410078714.py\u001b[0m in \u001b[0;36m<module>\u001b[1;34m\u001b[0m\n\u001b[0;32m      1\u001b[0m \u001b[1;32mfor\u001b[0m \u001b[0m_tup\u001b[0m \u001b[1;32min\u001b[0m \u001b[0m_bookshelf\u001b[0m\u001b[1;33m:\u001b[0m\u001b[1;33m\u001b[0m\u001b[1;33m\u001b[0m\u001b[0m\n\u001b[0;32m      2\u001b[0m     \u001b[0mt\u001b[0m \u001b[1;33m=\u001b[0m \u001b[0mCrawler\u001b[0m\u001b[1;33m(\u001b[0m\u001b[0m_split\u001b[0m\u001b[1;33m[\u001b[0m\u001b[1;33m-\u001b[0m\u001b[1;36m1\u001b[0m\u001b[1;33m]\u001b[0m\u001b[1;33m[\u001b[0m\u001b[1;36m1\u001b[0m\u001b[1;33m:\u001b[0m\u001b[1;33m]\u001b[0m\u001b[1;33m,\u001b[0m\u001b[0m_split\u001b[0m\u001b[1;33m[\u001b[0m\u001b[1;33m-\u001b[0m\u001b[1;36m2\u001b[0m\u001b[1;33m]\u001b[0m\u001b[1;33m,\u001b[0m\u001b[1;34m'Chăm sóc sức khỏe'\u001b[0m\u001b[1;33m)\u001b[0m\u001b[1;33m\u001b[0m\u001b[1;33m\u001b[0m\u001b[0m\n\u001b[1;32m----> 3\u001b[1;33m     \u001b[0mt\u001b[0m\u001b[1;33m.\u001b[0m\u001b[0m_books\u001b[0m\u001b[1;33m(\u001b[0m\u001b[0m_tup\u001b[0m\u001b[1;33m)\u001b[0m\u001b[1;33m\u001b[0m\u001b[1;33m\u001b[0m\u001b[0m\n\u001b[0m",
      "\u001b[1;32mC:\\Users\\WATCHD~1\\AppData\\Local\\Temp/ipykernel_14812/1807438968.py\u001b[0m in \u001b[0;36m_books\u001b[1;34m(self, book_tuple)\u001b[0m\n\u001b[0;32m     26\u001b[0m         \u001b[0mbook\u001b[0m\u001b[1;33m[\u001b[0m\u001b[1;34m'Tên Sách'\u001b[0m\u001b[1;33m]\u001b[0m \u001b[1;33m=\u001b[0m \u001b[0m__res\u001b[0m\u001b[1;33m[\u001b[0m\u001b[1;34m'name'\u001b[0m\u001b[1;33m]\u001b[0m\u001b[1;33m\u001b[0m\u001b[1;33m\u001b[0m\u001b[0m\n\u001b[0;32m     27\u001b[0m         \u001b[0mbook\u001b[0m\u001b[1;33m[\u001b[0m\u001b[1;34m'Ảnh bìa'\u001b[0m\u001b[1;33m]\u001b[0m \u001b[1;33m=\u001b[0m \u001b[0m__res\u001b[0m\u001b[1;33m[\u001b[0m\u001b[1;34m'thumbnail_url'\u001b[0m\u001b[1;33m]\u001b[0m\u001b[1;33m\u001b[0m\u001b[1;33m\u001b[0m\u001b[0m\n\u001b[1;32m---> 28\u001b[1;33m         \u001b[1;32mfor\u001b[0m \u001b[0m_spec\u001b[0m \u001b[1;32min\u001b[0m \u001b[0m__res\u001b[0m\u001b[1;33m[\u001b[0m\u001b[1;34m'specifications'\u001b[0m\u001b[1;33m]\u001b[0m\u001b[1;33m[\u001b[0m\u001b[1;36m0\u001b[0m\u001b[1;33m]\u001b[0m\u001b[1;33m[\u001b[0m\u001b[1;34m'attributes'\u001b[0m\u001b[1;33m]\u001b[0m\u001b[1;33m:\u001b[0m\u001b[1;33m\u001b[0m\u001b[1;33m\u001b[0m\u001b[0m\n\u001b[0m\u001b[0;32m     29\u001b[0m             \u001b[0m_value\u001b[0m \u001b[1;33m=\u001b[0m \u001b[0m_spec\u001b[0m\u001b[1;33m[\u001b[0m\u001b[1;34m'value'\u001b[0m\u001b[1;33m]\u001b[0m\u001b[1;33m\u001b[0m\u001b[1;33m\u001b[0m\u001b[0m\n\u001b[0;32m     30\u001b[0m             \u001b[1;32mif\u001b[0m \u001b[1;34m'<p>'\u001b[0m \u001b[1;32min\u001b[0m \u001b[0m_spec\u001b[0m\u001b[1;33m[\u001b[0m\u001b[1;34m'value'\u001b[0m\u001b[1;33m]\u001b[0m\u001b[1;33m:\u001b[0m\u001b[1;33m\u001b[0m\u001b[1;33m\u001b[0m\u001b[0m\n",
      "\u001b[1;31mIndexError\u001b[0m: list index out of range"
     ]
    }
   ],
   "source": [
    "for _tup in _bookshelf:\n",
    "    t = Crawler(_split[-1][1:],_split[-2],'Chăm sóc sức khỏe')\n",
    "    t._books(_tup)"
   ]
  },
  {
   "cell_type": "code",
   "execution_count": null,
   "id": "26a9db80",
   "metadata": {},
   "outputs": [],
   "source": [
    "booksQueue.qsize()"
   ]
  },
  {
   "cell_type": "code",
   "execution_count": 73,
   "id": "c328b596",
   "metadata": {
    "scrolled": true
   },
   "outputs": [
    {
     "name": "stdout",
     "output_type": "stream",
     "text": [
      "CHĂM SÓC GIA ĐÌNH : 4692\n"
     ]
    }
   ],
   "source": [
    "_total = 0\n",
    "\n",
    "for _name in n_dict.keys():\n",
    "    total = 0 \n",
    "    booksQueue = queue.Queue()\n",
    "    for k,v in n_dict[_name].items():\n",
    "        _split = v[0].split(\"/\")\n",
    "        t = Crawler(_split[-1][1:],_split[-2], k)\n",
    "        total += t.crawl()\n",
    "    \n",
    "    print(f'{_name } : {total}')\n",
    "\n",
    "    _total += total\n",
    "    df = pd.DataFrame(columns=['Tên Sách', 'Ảnh bìa','Thể loại','Tác giả','Nội dung tóm tắt','Giá bìa','Công ty phát hành','Nhà xuất bản','Ngày xuất bản','Kích thước',\n",
    "                               'Loại bìa','Số trang','Dịch Giả',],index=[0])\n",
    "    while not booksQueue.empty():\n",
    "        df = df.append(booksQueue.get(),ignore_index=True)\n",
    "\n",
    "    df.to_csv('tiki_'+ _name+'.csv')\n",
    "    \n",
    "    break"
   ]
  },
  {
   "cell_type": "code",
   "execution_count": null,
   "id": "3101d4bf",
   "metadata": {},
   "outputs": [],
   "source": [
    "_total"
   ]
  },
  {
   "cell_type": "code",
   "execution_count": null,
   "id": "2fcecf1d",
   "metadata": {},
   "outputs": [],
   "source": [
    "4896 + 2865 + 282 + 7211 + 888 + 353 + 823 + 1212 + 924 + 6536 + 10952 + 1836 + 8659 + 496 + 1011 + 236 + 16410"
   ]
  },
  {
   "cell_type": "code",
   "execution_count": null,
   "id": "cb69c92f",
   "metadata": {},
   "outputs": [],
   "source": [
    "3814 + 125  + 2616 + 208 + 6301 + 704 + 277 +704 + 1090 +363 +4554 +9148+ 1522+234+6906+835+208+ 13464"
   ]
  },
  {
   "cell_type": "code",
   "execution_count": null,
   "id": "60c218ce",
   "metadata": {},
   "outputs": [],
   "source": [
    "for k,v in n_dict['VĂN HỌC'].items():\n",
    "    print(v)\n",
    "    _split = v[0].split(\"/\")\n",
    "    print(_split)\n",
    "    t = Crawler(_split[-1][1:],_split[-2], k)\n",
    "    t.crawl()"
   ]
  },
  {
   "cell_type": "code",
   "execution_count": 69,
   "id": "5331ea42",
   "metadata": {},
   "outputs": [],
   "source": [
    "df = pd.DataFrame(columns=['Tên Sách', 'Ảnh bìa','Thể loại','Tác giả','Nội dung tóm tắt','Giá bìa']+ list(_big_dict.keys()),index=[0])\n",
    "while not booksQueue.empty():\n",
    "    df = df.append(booksQueue.get(),ignore_index=True)\n",
    "                           \n",
    "# df.to_csv('tiki_'+ 'Chăm sóc sức khỏe'+'.csv')"
   ]
  },
  {
   "cell_type": "code",
   "execution_count": 71,
   "id": "837f1606",
   "metadata": {},
   "outputs": [
    {
     "data": {
      "text/plain": [
       "Index(['Tên Sách', 'Ảnh bìa', 'Thể loại', 'Tác giả', 'Nội dung tóm tắt',\n",
       "       'Giá bìa', 'Công ty phát hành', 'Nhà xuất bản', 'Ngày xuất bản',\n",
       "       'Kích thước', 'Loại bìa', 'Số trang', 'Thương hiệu', 'Xuất xứ',\n",
       "       'Xuất xứ thương hiệu', 'Dịch Giả', 'Phiên bản', 'Kiểu dáng',\n",
       "       'Hướng dẫn sử dụng', 'Quy cách đóng gói', 'Chất liệu', 'Model',\n",
       "       'Tải trọng tối đa', 'Trọng lượng', 'Dung tích', 'path'],\n",
       "      dtype='object')"
      ]
     },
     "execution_count": 71,
     "metadata": {},
     "output_type": "execute_result"
    }
   ],
   "source": [
    "df.columns"
   ]
  },
  {
   "cell_type": "code",
   "execution_count": 70,
   "id": "bbd3cb7f",
   "metadata": {},
   "outputs": [
    {
     "data": {
      "text/plain": [
       "[nan,\n",
       " nan,\n",
       " '14 x 20.5 cm',\n",
       " '14.5 x 20.5',\n",
       " nan,\n",
       " nan,\n",
       " '\\xa0\\n\\n\\n\\n14 x 20.5 cm\\n\\n\\n',\n",
       " nan,\n",
       " '14 x 20.5 cm',\n",
       " nan,\n",
       " nan,\n",
       " nan,\n",
       " nan,\n",
       " nan,\n",
       " '14 x 20,5 cm',\n",
       " nan,\n",
       " '13 x 20.5 cm\\n14 x 20.5 cm',\n",
       " nan,\n",
       " nan,\n",
       " '13.5 x 20.5 cm ',\n",
       " nan,\n",
       " '16 x 24 cm',\n",
       " '14 x 20 cm',\n",
       " '13 x 19 cm\\n13 x 19 cm',\n",
       " nan,\n",
       " nan,\n",
       " '13 x 20 cm',\n",
       " nan,\n",
       " '14 x 19 cm',\n",
       " nan,\n",
       " nan,\n",
       " '14 x 19 cm',\n",
       " '15,5 x 24 cm',\n",
       " nan,\n",
       " nan,\n",
       " nan,\n",
       " '14 x 20,5cm',\n",
       " nan,\n",
       " '13 x 20 cm\\n13 x 20 cm',\n",
       " '13 x 20 cm',\n",
       " '15.5 x 24 cm',\n",
       " nan,\n",
       " nan,\n",
       " '14.5 x 20.5 cm',\n",
       " nan,\n",
       " 'Sổ tay Jim Rohn - Nhật ký thành công - Success Journal\\nKích thước: B5 (176x250) rộng vừa đủ để mang theo mọi lúc.\\n160 trang, mỗi trang có đánh số thứ tự và có một câu nói khác nhau của Jim Rohn song ngữ Anh - Việt.',\n",
       " '14.5 x 20 cm',\n",
       " '13 x 20 cm',\n",
       " '12.5 x 20 cm',\n",
       " nan,\n",
       " nan,\n",
       " '13.2 x 21\\n13.2 x 21',\n",
       " '14.5x20.5',\n",
       " nan,\n",
       " '16 x 24 cm',\n",
       " nan,\n",
       " nan,\n",
       " nan,\n",
       " nan,\n",
       " '13 x 20 cm\\n13 x 20 cm',\n",
       " '13x19 cm',\n",
       " nan,\n",
       " '14 x 22',\n",
       " nan,\n",
       " nan,\n",
       " nan,\n",
       " '14 x 19 cm\\n14 x 20.5 cm',\n",
       " nan,\n",
       " '13 x 20 cm\\n13 x 20 cm',\n",
       " nan,\n",
       " '14 x 20,5 cm',\n",
       " '14.5 x 20.5 cm',\n",
       " '13 x 20 cm\\n13 x 20 cm',\n",
       " nan,\n",
       " '13 x 20.5 cm\\n13.5 x 20.5 cm',\n",
       " nan,\n",
       " nan,\n",
       " nan,\n",
       " '13 x 20 cm',\n",
       " nan,\n",
       " nan,\n",
       " nan,\n",
       " '13 x 20.5 cm\\n13 x 20.5 cm',\n",
       " '13 x 20 cm\\n13 x 20 cm\\n13 x 20 cm',\n",
       " '12 x 20 cm\\n12 x 20 cm\\n12 x 20 cm',\n",
       " nan,\n",
       " '13 x 19 cm',\n",
       " '13 x 20.5 cm',\n",
       " '15 x 21 cm',\n",
       " '14.5 x 20.5 cm',\n",
       " '13 x 20 cm',\n",
       " '12 x 20 cm\\n12 x 20 cm',\n",
       " '13 x 20.5 cm',\n",
       " nan,\n",
       " nan,\n",
       " '13 x 20 cm ',\n",
       " '13 x 20 cm\\n13 x 20 cm',\n",
       " nan,\n",
       " nan,\n",
       " '13.2 x 21 cm\\n13.2 x 21 cm',\n",
       " '14 x 20,5cm\\n14 x 20.5 cm',\n",
       " nan,\n",
       " '12 x 20 cm\\n12 x 20 cm',\n",
       " '13 x 20 cm\\n13 x 20 cm',\n",
       " '12 x 20 cm\\n12 x 20 cm',\n",
       " nan,\n",
       " nan,\n",
       " '13x20\\n13x20\\n\\xa0',\n",
       " nan,\n",
       " '14.5 x 20.5 cm',\n",
       " '12 x 20 cm\\n12 x 20 cm',\n",
       " '13 x 20cm',\n",
       " '13 x 20 cm',\n",
       " nan,\n",
       " '13 x 20 cm\\n13 x 20 cm',\n",
       " nan,\n",
       " '14 x 20.5 cm\\n14 x 20.5 cm',\n",
       " nan,\n",
       " '13 x 20 cm\\n13 x 20 cm',\n",
       " '13 x 20 cm\\n13 x 20 cm',\n",
       " nan,\n",
       " '12 x 20\\n12 x 20',\n",
       " nan,\n",
       " nan,\n",
       " nan,\n",
       " nan,\n",
       " nan,\n",
       " nan,\n",
       " '13,5 x 20,5 cm',\n",
       " nan,\n",
       " '14.5 x 20.5 cm',\n",
       " nan,\n",
       " '13 x 20.5 cm\\n14 x 20.5 cm',\n",
       " '12 x 20 cm\\n12 x 20 cm',\n",
       " nan,\n",
       " nan,\n",
       " '13 x 19 cm',\n",
       " '13 x 20 cm\\n13 x 20 cm\\n13 x 20 cm',\n",
       " nan,\n",
       " nan,\n",
       " '600mmx600mm',\n",
       " nan,\n",
       " nan,\n",
       " nan,\n",
       " nan,\n",
       " '14*21',\n",
       " '13 x 20 cm\\n13 x 20 cm',\n",
       " nan,\n",
       " '12 x 20 cm\\n12 x 20 cm',\n",
       " '14 x 20.5 cm',\n",
       " 'kích thước 60x90cm\\nkích thước sau dán 60x110cm',\n",
       " nan,\n",
       " nan,\n",
       " '14 x 20.5 cm',\n",
       " nan,\n",
       " nan,\n",
       " '13 x 20.5 cm\\n13 x 20.5 cm',\n",
       " '16x24cm',\n",
       " '14 x 20,5 cm',\n",
       " '19 x 24 cm',\n",
       " '11 x 17 cm',\n",
       " nan,\n",
       " nan,\n",
       " nan,\n",
       " '13.2 x 21\\n13.2 x 21',\n",
       " '12 x 20 cm\\n12 x 20 cm',\n",
       " '14.5 x 20.5 cm',\n",
       " '13 x 20 cm\\n13 x 20 cm',\n",
       " nan,\n",
       " '13 x 19.5',\n",
       " 'Tào Tháo là nhân vật có tính cách phức tạp và nhiều hình tượng nhất trong lịch sử Trung Quốc. Vừa giảo hoạt gian trá, lại thẳng thắn chân thành; vừa khoan dung độ lượng, lại đa nghi khôn cùng; vừa hào sảng, lại hẹp hòi; khí phách anh hùng, tình cảm dạt dào; hành động tàn nhẫn, tâm địa Bồ Tát. Tào Tháo là một nghệ nhân Biến Diện tài tình, lúc thì mang gương mặt này, thoắt cái lật sang gương mặt khác. Có thể hợp nhất những tính cách phức tạp như vậy trong một con người, là điều vô cùng khó, vậy mà tất cả những thứ ấy đều hội tụ nơi ông. Dường như con người Tào Tháo là tổng hòa của mọi mâu thuẫn trên thế gian.',\n",
       " '13 x 20.5 cm',\n",
       " '15.5 x 23 cm',\n",
       " nan,\n",
       " nan,\n",
       " '16 x 24 cm\\n16 x 24 cm',\n",
       " '13 x 19.5',\n",
       " '14*21',\n",
       " '5 m x 9 mm x 5/9/15/23 mm',\n",
       " '16 x 24 cm',\n",
       " nan,\n",
       " '14.5 x 20.5 cm',\n",
       " '19x26,5',\n",
       " '13 x 21 cm',\n",
       " '14 x 20.5 cm\\n14 x 20.5 cm',\n",
       " '13 x 20.5 cm\\n14 x 20.5 cm',\n",
       " nan,\n",
       " '14.5 x 20.5 cm',\n",
       " nan,\n",
       " nan,\n",
       " nan,\n",
       " nan,\n",
       " nan,\n",
       " '14x 20.5 cm\\n13 x 20.5 cm',\n",
       " '14.5 x 20.5 cm',\n",
       " '13 x 20.5 cm',\n",
       " '14 x 20.5 cm',\n",
       " '16 x 24 cm',\n",
       " '5',\n",
       " '14.5 x 20.5 cm',\n",
       " '13 x 20.5 cm',\n",
       " nan,\n",
       " '14.5 x 20.5 cm',\n",
       " nan,\n",
       " nan,\n",
       " '14 x 20.5 cm',\n",
       " nan,\n",
       " '14 x 20.5 cm',\n",
       " '14.5 x 20.5 cm',\n",
       " nan,\n",
       " '13 x 20 cm\\n13 x 20 cm',\n",
       " '15 x 23 cm',\n",
       " nan,\n",
       " nan,\n",
       " nan,\n",
       " '16 x 24 cm',\n",
       " nan,\n",
       " nan,\n",
       " '14 x 20 cm',\n",
       " nan,\n",
       " '12 x 20 cm\\n12 x 20 cm',\n",
       " '13 x 20.5 cm',\n",
       " '14 x 20.5 cm',\n",
       " '14.5 x 20.5 cm',\n",
       " nan,\n",
       " '14 x 20.5 cm\\n14 x 20.5 cm',\n",
       " nan,\n",
       " nan,\n",
       " nan,\n",
       " nan,\n",
       " '13 x 20 cm',\n",
       " '14 x 20.5 cm',\n",
       " nan,\n",
       " nan,\n",
       " '14*21',\n",
       " '13 x 19 cm',\n",
       " nan,\n",
       " nan,\n",
       " '14x20cm',\n",
       " '14 x 20.5 cm',\n",
       " '13 x 20 cm',\n",
       " '13 x 20 cm\\n13 x 20 cm',\n",
       " '60/65mm',\n",
       " nan]"
      ]
     },
     "execution_count": 70,
     "metadata": {},
     "output_type": "execute_result"
    }
   ],
   "source": [
    "[i for i in df['Kích thước']]"
   ]
  },
  {
   "cell_type": "code",
   "execution_count": null,
   "id": "f4d00345",
   "metadata": {},
   "outputs": [],
   "source": [
    "df['Ảnh bìa']"
   ]
  },
  {
   "cell_type": "code",
   "execution_count": null,
   "id": "7df16d8e",
   "metadata": {},
   "outputs": [],
   "source": [
    "for _url,_id in _category.items():\n",
    "    print(_id,_url)\n",
    "    t = Crawler(_id,_url)\n",
    "    t.crawl()"
   ]
  },
  {
   "cell_type": "code",
   "execution_count": null,
   "id": "847f08ca",
   "metadata": {},
   "outputs": [],
   "source": [
    "print(f\"Number of products in my pocket {booksQueue.qsize()}\")"
   ]
  },
  {
   "cell_type": "code",
   "execution_count": 49,
   "id": "322f0953",
   "metadata": {},
   "outputs": [
    {
     "ename": "NameError",
     "evalue": "name 'a' is not defined",
     "output_type": "error",
     "traceback": [
      "\u001b[1;31m---------------------------------------------------------------------------\u001b[0m",
      "\u001b[1;31mNameError\u001b[0m                                 Traceback (most recent call last)",
      "\u001b[1;32mC:\\Users\\WATCHD~1\\AppData\\Local\\Temp/ipykernel_14812/4092125779.py\u001b[0m in \u001b[0;36m<module>\u001b[1;34m\u001b[0m\n\u001b[1;32m----> 1\u001b[1;33m \u001b[0mdf\u001b[0m \u001b[1;33m=\u001b[0m \u001b[0mpd\u001b[0m\u001b[1;33m.\u001b[0m\u001b[0mDataFrame\u001b[0m\u001b[1;33m(\u001b[0m\u001b[0ma\u001b[0m\u001b[1;33m,\u001b[0m \u001b[0mcolumns\u001b[0m\u001b[1;33m=\u001b[0m\u001b[1;33m[\u001b[0m\u001b[1;34m'Tên Sách'\u001b[0m\u001b[1;33m,\u001b[0m \u001b[1;34m'Tên tác giả'\u001b[0m\u001b[1;33m,\u001b[0m\u001b[1;34m'Thể loại'\u001b[0m\u001b[1;33m,\u001b[0m\u001b[1;34m'Nội dung tóm tắt'\u001b[0m\u001b[1;33m,\u001b[0m\u001b[1;34m'Giá bìa'\u001b[0m\u001b[1;33m]\u001b[0m\u001b[1;33m,\u001b[0m\u001b[0mindex\u001b[0m\u001b[1;33m=\u001b[0m\u001b[1;33m[\u001b[0m\u001b[1;36m0\u001b[0m\u001b[1;33m]\u001b[0m\u001b[1;33m)\u001b[0m\u001b[1;33m\u001b[0m\u001b[1;33m\u001b[0m\u001b[0m\n\u001b[0m\u001b[0;32m      2\u001b[0m \u001b[1;32mwhile\u001b[0m \u001b[1;32mnot\u001b[0m \u001b[0mbooksQueue\u001b[0m\u001b[1;33m.\u001b[0m\u001b[0mempty\u001b[0m\u001b[1;33m(\u001b[0m\u001b[1;33m)\u001b[0m\u001b[1;33m:\u001b[0m\u001b[1;33m\u001b[0m\u001b[1;33m\u001b[0m\u001b[0m\n\u001b[0;32m      3\u001b[0m     \u001b[0mdf\u001b[0m \u001b[1;33m=\u001b[0m \u001b[0mdf\u001b[0m\u001b[1;33m.\u001b[0m\u001b[0mappend\u001b[0m\u001b[1;33m(\u001b[0m\u001b[0mbooksQueue\u001b[0m\u001b[1;33m.\u001b[0m\u001b[0mget\u001b[0m\u001b[1;33m(\u001b[0m\u001b[1;33m)\u001b[0m\u001b[1;33m,\u001b[0m\u001b[0mignore_index\u001b[0m\u001b[1;33m=\u001b[0m\u001b[1;32mTrue\u001b[0m\u001b[1;33m)\u001b[0m\u001b[1;33m\u001b[0m\u001b[1;33m\u001b[0m\u001b[0m\n",
      "\u001b[1;31mNameError\u001b[0m: name 'a' is not defined"
     ]
    }
   ],
   "source": [
    "df = pd.DataFrame(columns=['Tên Sách', 'Tên tác giả','Thể loại','Nội dung tóm tắt','Giá bìa'],index=[0])\n",
    "while not booksQueue.empty():\n",
    "    df = df.append(booksQueue.get(),ignore_index=True)"
   ]
  },
  {
   "cell_type": "code",
   "execution_count": null,
   "id": "75bacfe0",
   "metadata": {},
   "outputs": [],
   "source": [
    "df.to_csv(\"tiki_book.csv\",)"
   ]
  },
  {
   "cell_type": "code",
   "execution_count": null,
   "id": "590f97ec",
   "metadata": {},
   "outputs": [],
   "source": [
    "_phuongnam = pd.read_csv(\"_phuongnam.csv\")\n",
    "_phuongnam = _phuongnam.drop(\"Unnamed: 0\",1)\n",
    "_phuongnam = _phuongnam.drop(_phuongnam.index[0])\n",
    "_phuongnam.head()"
   ]
  },
  {
   "cell_type": "code",
   "execution_count": null,
   "id": "74a426bb",
   "metadata": {},
   "outputs": [],
   "source": [
    "_phuongnam.shape"
   ]
  },
  {
   "cell_type": "code",
   "execution_count": null,
   "id": "5f255cc2",
   "metadata": {
    "scrolled": true
   },
   "outputs": [],
   "source": [
    "_suckhoe = pd.read_csv(\"tiki_Chăm sóc sức khỏe.csv\")\n",
    "_suckhoe = _suckhoe.drop(\"Unnamed: 0\",1)\n",
    "_suckhoe = _suckhoe.drop(_suckhoe.index[0])\n",
    "_suckhoe.head()"
   ]
  },
  {
   "cell_type": "code",
   "execution_count": null,
   "id": "b115b1a5",
   "metadata": {},
   "outputs": [],
   "source": [
    "_suckhoe.columns"
   ]
  },
  {
   "cell_type": "code",
   "execution_count": null,
   "id": "62a6a7e3",
   "metadata": {},
   "outputs": [],
   "source": [
    "cols = list(_phuongnam.columns) + list(_suckhoe.columns)\n",
    "set(cols)"
   ]
  },
  {
   "cell_type": "code",
   "execution_count": null,
   "id": "d68f3823",
   "metadata": {},
   "outputs": [],
   "source": [
    "cols[5] == cols[-3]"
   ]
  },
  {
   "cell_type": "code",
   "execution_count": null,
   "id": "8ddb5bc8",
   "metadata": {},
   "outputs": [],
   "source": [
    "cols[-3]"
   ]
  },
  {
   "cell_type": "code",
   "execution_count": null,
   "id": "8952ad01",
   "metadata": {},
   "outputs": [],
   "source": [
    "_suckhoe['Ảnh bìa'][47]"
   ]
  },
  {
   "cell_type": "code",
   "execution_count": null,
   "id": "002b8b15",
   "metadata": {},
   "outputs": [],
   "source": [
    "_suckhoe['Kích thước'][47]"
   ]
  },
  {
   "cell_type": "code",
   "execution_count": null,
   "id": "6f0b0289",
   "metadata": {},
   "outputs": [],
   "source": [
    "for i,v in enumerate(_suckhoe['Kích thước']):\n",
    "    print(i,v)"
   ]
  },
  {
   "cell_type": "code",
   "execution_count": null,
   "id": "4c9c1d67",
   "metadata": {},
   "outputs": [],
   "source": [
    "import glob\n",
    "import re\n",
    "for _ in glob.glob(\"tiki/*\"):\n",
    "#     print(_)\n",
    "    _tiki = pd.read_csv(_)\n",
    "    _df = pd.DataFrame(_tiki,columns=set(cols))\n",
    "    result = re.search('_(.*).csv', _)\n",
    "    for i in _dict:\n",
    "        print(i['Thể loại'])\n",
    "        if n_dict1[i['Thể loại']] == result.group(1):\n",
    "            _df.append(i,ignore_index=True)\n",
    "        \n",
    "    _df.to_csv('allocate/'+result.group(1)+'.csv')\n",
    "    break\n",
    "#     print(n_dict1[result.group(1)])\n",
    "#     _tiki = pd.read_csv(_)\n",
    "#     df = pd.DataFrame(_tiki,columns=cols)\n",
    "    \n",
    "#     for i in \n",
    "#     df.to_csv(_)\n",
    "    \n",
    "    \n",
    "#     print(df.head())\n",
    "#     break\n",
    "#     _tiki.columns = cols\n",
    "    "
   ]
  },
  {
   "cell_type": "code",
   "execution_count": null,
   "id": "6cd54060",
   "metadata": {
    "scrolled": true
   },
   "outputs": [],
   "source": [
    "_phuongnam.head()"
   ]
  },
  {
   "cell_type": "code",
   "execution_count": null,
   "id": "af90d33a",
   "metadata": {},
   "outputs": [],
   "source": [
    "_dict = _phuongnam.to_dict(orient='records')"
   ]
  },
  {
   "cell_type": "code",
   "execution_count": null,
   "id": "758163e5",
   "metadata": {},
   "outputs": [],
   "source": [
    "_dict[0]"
   ]
  },
  {
   "cell_type": "code",
   "execution_count": null,
   "id": "920a0e6d",
   "metadata": {},
   "outputs": [],
   "source": [
    "\n",
    "\n",
    "for _ in _dict:\n",
    "    "
   ]
  },
  {
   "cell_type": "code",
   "execution_count": null,
   "id": "053c0b94",
   "metadata": {},
   "outputs": [],
   "source": [
    "# df = _suckhoe(columns=cols,index=[0])\n",
    "\n",
    "for index, row in _phuongnam.iterrows():\n",
    "    print(row['Thể loại'])\n",
    "    print(index)"
   ]
  },
  {
   "cell_type": "code",
   "execution_count": null,
   "id": "06637b94",
   "metadata": {},
   "outputs": [],
   "source": [
    "df2 = pd.read_csv(\"DATA_v2.csv\")\n",
    "df2.dropna(inplace = True) \n",
    "df2.columns = [\"Thể loại\", \"Nguồn nhập\", \"type\"]\n",
    "\n",
    "# Remove all row that not have tiki\n",
    "# df2 = df2[df2['Nguồn nhập'].str.contains(\"tiki\")]\n",
    "group_f1 = df2.groupby(\"Thể loại\")[\"Nguồn nhập\"].apply(list).to_dict()\n",
    "group_f2 = df2.groupby(\"type\")[\"Thể loại\"].apply(list).to_dict()\n",
    "\n",
    "n_dict1 = defaultdict(dict)\n",
    "for k, v in group_f2.items():\n",
    "    for _ in v:\n",
    "        n_dict1[_] = k\n",
    "        \n",
    "n_dict1\n",
    "#     print(v)\n",
    "#     for stype in v:\n",
    "#         n_dict[k][stype] = group_f1[stype]"
   ]
  },
  {
   "cell_type": "code",
   "execution_count": null,
   "id": "3d188a10",
   "metadata": {},
   "outputs": [],
   "source": [
    "n_dict1['Luyện thi IELTS']"
   ]
  },
  {
   "cell_type": "code",
   "execution_count": null,
   "id": "5d705266",
   "metadata": {},
   "outputs": [],
   "source": [
    "df2.head()"
   ]
  },
  {
   "cell_type": "code",
   "execution_count": null,
   "id": "ff425eca",
   "metadata": {},
   "outputs": [],
   "source": [
    "for _ in glob.glob(\"allocate/*\"):\n",
    "#     print(_)\n",
    "    _tiki = pd.read_csv(_)\n",
    "#     print(_tiki.columns)\n",
    "    _tiki = _tiki.drop(\"Unnamed: 0\",1)\n",
    "    _tiki = _tiki.drop(\"Unnamed: 0.1\",1)\n",
    "    _tiki = _tiki.drop(_tiki.index[0])\n",
    "    \n",
    "    _tiki.to_csv(_)\n",
    "df1 = pd.read_csv(\"allocate/VĂN HỌC.csv\")\n",
    "df1.head()"
   ]
  },
  {
   "cell_type": "code",
   "execution_count": null,
   "id": "0af29e7c",
   "metadata": {},
   "outputs": [],
   "source": [
    "df1 = pd.read_csv(\"allocate/VĂN HỌC.csv\")\n",
    "df1.head()"
   ]
  },
  {
   "cell_type": "code",
   "execution_count": 58,
   "id": "51039ecf",
   "metadata": {},
   "outputs": [],
   "source": [
    "url = \"https://tiki.vn/api/v2/products/23225993?platform=web&spid=23225994\"\n",
    "\n",
    "payload={}\n",
    "headers = {\n",
    "  'authority': 'tiki.vn',\n",
    "  'pragma': 'no-cache',\n",
    "  'cache-control': 'no-cache',\n",
    "  'sec-ch-ua': '\"Chromium\";v=\"94\", \"Google Chrome\";v=\"94\", \";Not A Brand\";v=\"99\"',\n",
    "  'accept': 'application/json, text/plain, */*',\n",
    "  'x-guest-token': 'ZWg0HlfuBYQUPF2LGc8IkxKaTnirszSX',\n",
    "  'sec-ch-ua-mobile': '?0',\n",
    "  'user-agent': 'Mozilla/5.0 (Windows NT 10.0; Win64; x64) AppleWebKit/537.36 (KHTML, like Gecko) Chrome/94.0.4606.81 Safari/537.36',\n",
    "  'sec-ch-ua-platform': '\"Windows\"',\n",
    "  'sec-fetch-site': 'same-origin',\n",
    "  'sec-fetch-mode': 'cors',\n",
    "  'sec-fetch-dest': 'empty',\n",
    "  'referer': 'https://tiki.vn/combo-trai-hoa-vang-va-hoa-hong-xu-khac-tang-kem-so-tay-xuong-rong-p23225993.html?spid=23225994',\n",
    "  'accept-language': 'vi,en-US;q=0.9,en;q=0.8,vi-VN;q=0.7'\n",
    "}\n",
    "\n",
    "response = requests.request(\"GET\", url, headers=headers, data=payload).json()"
   ]
  },
  {
   "cell_type": "code",
   "execution_count": 61,
   "id": "664739aa",
   "metadata": {},
   "outputs": [],
   "source": [
    "from bs4 import BeautifulSoup"
   ]
  },
  {
   "cell_type": "code",
   "execution_count": 65,
   "id": "d2091073",
   "metadata": {},
   "outputs": [
    {
     "data": {
      "text/plain": [
       "'<p><span style=\"color: #242424; font-family: Roboto, Helvetica, Arial, sans-serif; font-size: 13px;\">12 x 20 cm</span></p>\\n<p><span style=\"color: #242424; font-family: Roboto, Helvetica, Arial, sans-serif; font-size: 13px;\">12 x 20 cm</span></p>'"
      ]
     },
     "execution_count": 65,
     "metadata": {},
     "output_type": "execute_result"
    }
   ],
   "source": [
    "response['specifications'][0]['attributes'][2]['value']"
   ]
  },
  {
   "cell_type": "code",
   "execution_count": null,
   "id": "7ebc2cda",
   "metadata": {},
   "outputs": [],
   "source": [
    "BeautifulSoup(response['specifications'][0]['attributes'])"
   ]
  },
  {
   "cell_type": "code",
   "execution_count": 66,
   "id": "a3948343",
   "metadata": {},
   "outputs": [
    {
     "data": {
      "text/plain": [
       "'12 x 20 cm\\n12 x 20 cm'"
      ]
     },
     "execution_count": 66,
     "metadata": {},
     "output_type": "execute_result"
    }
   ],
   "source": [
    "re.sub('<[^<]+?>', '', response['specifications'][0]['attributes'][2]['value'])"
   ]
  }
 ],
 "metadata": {
  "kernelspec": {
   "display_name": "book",
   "language": "python",
   "name": "book"
  },
  "language_info": {
   "codemirror_mode": {
    "name": "ipython",
    "version": 3
   },
   "file_extension": ".py",
   "mimetype": "text/x-python",
   "name": "python",
   "nbconvert_exporter": "python",
   "pygments_lexer": "ipython3",
   "version": "3.7.11"
  }
 },
 "nbformat": 4,
 "nbformat_minor": 5
}
