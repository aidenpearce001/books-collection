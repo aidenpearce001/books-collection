{
 "cells": [
  {
   "cell_type": "code",
   "execution_count": 1,
   "id": "92d68ca4",
   "metadata": {},
   "outputs": [],
   "source": [
    "import requests\n",
    "import pandas as pd \n",
    "import json\n",
    "import concurrent.futures\n",
    "import re\n",
    "import queue\n",
    "import os\n",
    "from bs4 import BeautifulSoup\n",
    "import lxml\n",
    "\n",
    "from collections import defaultdict\n",
    "import unicodedata"
   ]
  },
  {
   "cell_type": "code",
   "execution_count": 2,
   "id": "b066c89b",
   "metadata": {},
   "outputs": [
    {
     "data": {
      "text/plain": [
       "Index(['tên sách', 'ảnh bìa', 'thể loại', 'tác giả', 'nội dung tóm tắt',\n",
       "       'giá bìa', 'công ty phát hành', 'nhà xuất bản', 'ngày xuất bản',\n",
       "       'kích thước', 'loại bìa', 'số trang', 'dịch giả', 'path', 'phiên bản',\n",
       "       'thương hiệu', 'xuất xứ', 'xuất xứ thương hiệu'],\n",
       "      dtype='object')"
      ]
     },
     "execution_count": 2,
     "metadata": {},
     "output_type": "execute_result"
    }
   ],
   "source": [
    "__name = pd.read_csv(\"allocate/VĂN HỌC.csv\")\n",
    "__name.columns"
   ]
  },
  {
   "cell_type": "code",
   "execution_count": 42,
   "id": "cabc6833",
   "metadata": {},
   "outputs": [],
   "source": [
    "df2 = pd.read_csv(\"DATA_v2.csv\")\n",
    "df2.dropna(inplace = True) \n",
    "df2.columns = [\"Thể loại\", \"Nguồn nhập\", \"type\"]\n",
    "\n",
    "# Remove all row that not have fahasa\n",
    "df2 = df2[df2['Nguồn nhập'].str.contains(\"vina\")]\n",
    "group_f1 = df2.groupby(\"Thể loại\")[\"Nguồn nhập\"].apply(list).to_dict()\n",
    "group_f2 = df2.groupby(\"type\")[\"Thể loại\"].apply(list).to_dict()\n",
    "\n",
    "n_dict = defaultdict(dict)\n",
    "for k, v in group_f2.items():\n",
    "    for stype in v:\n",
    "        if type(group_f1[stype]) == list:\n",
    "            _url = group_f1[stype][0]\n",
    "        else:\n",
    "            _url = group_f1[stype]\n",
    "            \n",
    "#         if \"order=num_orders\" not in _url:\n",
    "#             print(group_f1[stype])\n",
    "#             group_f1[stype] = _url + '?order=num_orders&limit={}&p={}'\n",
    "#         else:\n",
    "#             group_f1[stype] = _url.split('?')[0] + '?order=num_orders&limit={}&p={}'\n",
    "        n_dict[k][stype] = group_f1[stype][0] + 'page-{}/?sef_rewrite=1'"
   ]
  },
  {
   "cell_type": "code",
   "execution_count": 43,
   "id": "0eeaac20",
   "metadata": {},
   "outputs": [
    {
     "data": {
      "text/plain": [
       "defaultdict(dict,\n",
       "            {'CHĂM SÓC GIA ĐÌNH': {'Hạnh phúc gia đình': 'https://www.vinabook.com/c513/hanh-phuc-gia-dinh/page-{}/?sef_rewrite=1'},\n",
       "             'HỌC NGÔN NGỮ': {'Tiếng Trung': 'https://www.vinabook.com/c412/tieng-hoa/page-{}/?sef_rewrite=1',\n",
       "              'Tiếng Pháp ': 'https://www.vinabook.com/c411/tieng-phap/page-{}/?sef_rewrite=1',\n",
       "              'Tiếng Nhật ': 'https://www.vinabook.com/c413/tieng-nhat-1/page-{}/?sef_rewrite=1'},\n",
       "             'NGÀNH CÔNG NGHỆ - THÔNG TIN': {'Cơ sở dữ liệu': 'https://www.vinabook.com/c399/co-so-du-lieu/page-{}/?sef_rewrite=1',\n",
       "              'Hệ điều hành': 'https://www.vinabook.com/c400/he-dieu-hanh/page-{}/?sef_rewrite=1',\n",
       "              'Internet - mạng': 'https://www.vinabook.com/c398/internet-mang/page-{}/?sef_rewrite=1',\n",
       "              'Lập trình - Phần mềm ứng dụng': 'https://www.vinabook.com/c397/lap-trinh-phan-mem-ung-dung/page-{}/?sef_rewrite=1',\n",
       "              'Lập trình web': ' https://www.vinabook.com/c396/lap-trinh-web/page-{}/?sef_rewrite=1',\n",
       "              'Phần cứng': 'https://www.vinabook.com/c401/phan-cung/page-{}/?sef_rewrite=1',\n",
       "              'Tin học cơ bản': 'https://www.vinabook.com/c394/tin-hoc-co-ban/page-{}/?sef_rewrite=1',\n",
       "              'Tin học văn phòng': 'https://www.vinabook.com/c395/tin-hoc-van-phong/page-{}/?sef_rewrite=1',\n",
       "              'Thiết kế - đồ họa – âm thanh': 'https://www.vinabook.com/c402/do-hoa/page-{}/?sef_rewrite=1',\n",
       "              'Sách tin học bằng ngoại ngữ': 'https://www.vinabook.com/c403/sach-tin-hoc-bang-ngoai-ngu/page-{}/?sef_rewrite=1'},\n",
       "             'NGÀNH KHOA HỌC KỸ THUẬT – CÔNG NGHỆ': {'Cầu đường': 'https://www.vinabook.com/c447/cau-duong/page-{}/?sef_rewrite=1',\n",
       "              'Cơ khí - Chế tạo máy': 'https://www.vinabook.com/c445/co-khi-che-tao-may/page-{}/?sef_rewrite=1',\n",
       "              'Dầu khí': 'https://www.vinabook.com/c448/dau-khi/page-{}/?sef_rewrite=1',\n",
       "              'Kỹ thuật Công nghệ': 'https://www.vinabook.com/c444/ky-thuat-cong-nghe/page-{}/?sef_rewrite=1',\n",
       "              'Kiến trúc - Xây dựng': 'https://www.vinabook.com/c446/xay-dung/page-{}/?sef_rewrite=1',\n",
       "              'Điện, Điện tử, Tự động hóa': 'https://www.vinabook.com/c443/dien-dien-tu-tu-dong-hoa/page-{}/?sef_rewrite=1',\n",
       "              'Lĩnh vực KHKT khác': 'https://www.vinabook.com/c451/linh-vuc-khac-1/page-{}/?sef_rewrite=1'},\n",
       "             'NGÀNH KHOA HỌC TỰ NHIÊN': {'Hóa học': 'https://www.vinabook.com/c437/hoa-hoc/page-{}/?sef_rewrite=1',\n",
       "              'Khảo cổ học': 'https://www.vinabook.com/c441/khao-co-hoc/page-{}/?sef_rewrite=1',\n",
       "              'Sinh học - Công nghệ sinh học': 'https://www.vinabook.com/c438/sinh-hoc/page-{}/?sef_rewrite=1',\n",
       "              'Thiên văn học': 'https://www.vinabook.com/c440/thien-van-hoc/page-{}/?sef_rewrite=1',\n",
       "              'Toán học': 'https://www.vinabook.com/c435/toan-hoc/page-{}/?sef_rewrite=1',\n",
       "              'Vật lý': 'https://www.vinabook.com/c436/vat-ly/page-{}/?sef_rewrite=1',\n",
       "              'Môi trường': 'https://www.vinabook.com/c449/moi-truong/page-{}/?sef_rewrite=1',\n",
       "              'Địa chất': 'https://www.vinabook.com/c439/dia-chat/page-{}/?sef_rewrite=1',\n",
       "              'Lĩnh vực khác': 'https://www.vinabook.com/c442/linh-vuc-khac/page-{}/?sef_rewrite=1'},\n",
       "             'NGÀNH KHOA HỌC XÃ HỘI VÀ NHÂN VĂN': {'Chính trị': 'https://www.vinabook.com/c459/sach-chinh-tri/page-{}/?sef_rewrite=1',\n",
       "              'Triết học phương Đông': 'https://www.vinabook.com/c460/triet-hoc-phuong-dong/page-{}/?sef_rewrite=1',\n",
       "              'Triết học phương Tây': 'https://www.vinabook.com/c461/triet-hoc-phuong-tay/page-{}/?sef_rewrite=1',\n",
       "              'Du lịch': 'https://www.vinabook.com/c365/du-lich-1/page-{}/?sef_rewrite=1',\n",
       "              'Nghiệp vụ báo chí': 'https://www.vinabook.com/c538/nghiep-vu-bao-chi/page-{}/?sef_rewrite=1',\n",
       "              'khoa học và xã hội': 'https://www.vinabook.com/c537/khoa-hoc-tu-nhien-xa-hoi/page-{}/?sef_rewrite=1',\n",
       "              '- Châu Á': 'https://www.vinabook.com/c469/chau-a/page-{}/?sef_rewrite=1',\n",
       "              '- Châu Âu': 'https://www.vinabook.com/c467/chau-au/page-{}/?sef_rewrite=1',\n",
       "              '- Châu Mỹ': 'https://www.vinabook.com/c468/chau-my/page-{}/?sef_rewrite=1',\n",
       "              '- Châu Phi': 'https://www.vinabook.com/c470/chau-phi/page-{}/?sef_rewrite=1',\n",
       "              '- Thế Giới': 'https://www.vinabook.com/c464/the-gioi-1/page-{}/?sef_rewrite=1',\n",
       "              '- Trung Đông': 'https://www.vinabook.com/c466/trung-dong/page-{}/?sef_rewrite=1',\n",
       "              '- Việt Nam': 'https://www.vinabook.com/c462/viet-nam/page-{}/?sef_rewrite=1',\n",
       "              '- Hồi giáo': 'https://www.vinabook.com/c473/hoi-giao/page-{}/?sef_rewrite=1',\n",
       "              '- Phật giáo': 'https://www.vinabook.com/c472/phat-giao/page-{}/?sef_rewrite=1',\n",
       "              '- Thiên chúa giáo': 'https://www.vinabook.com/c471/thien-chua-giao/page-{}/?sef_rewrite=1',\n",
       "              '- Tôn giáo khác': 'https://www.vinabook.com/c474/ton-giao-khac/page-{}/?sef_rewrite=1'},\n",
       "             'NGÀNH NGHỆ THUẬT': {'Âm nhạc': 'https://www.vinabook.com/c368/am-nhac-1/page-{}/?sef_rewrite=1',\n",
       "              'Sân khấu - Điện ảnh ': 'https://www.vinabook.com/c496/san-khau-dien-anh/page-{}/?sef_rewrite=1',\n",
       "              'Mỹ thuật – hội họa ': 'https://www.vinabook.com/c499/hoi-hoa/page-{}/?sef_rewrite=1',\n",
       "              'Thời trang – may - thêu': 'https://www.vinabook.com/c498/thoi-trang/page-{}/?sef_rewrite=1',\n",
       "              'Nhiếp ảnh – sách ảnh': 'https://www.vinabook.com/c497/nhiep-anhsach-anh/page-{}/?sef_rewrite=1'},\n",
       "             'NGÀNH NÔNG - LÂM - NGƯ NGHIỆP': {'Chăn nuôi – Thú ý': 'https://www.vinabook.com/c487/chan-nuoi/page-{}/?sef_rewrite=1',\n",
       "              'Lâm nghiệp': 'https://www.vinabook.com/c488/lam-nghiep/page-{}/?sef_rewrite=1',\n",
       "              'Trồng trọt': 'https://www.vinabook.com/c486/trong-trot/page-{}/?sef_rewrite=1'},\n",
       "             'NGÀNH PHÁP LUẬT – THUẾ': {'Luật Doanh nghiệp – thương mại': 'https://www.vinabook.com/c388/luat-doanh-nghiep/page-{}/?sef_rewrite=1',\n",
       "              'Luật Lao động và tiền lương': 'https://www.vinabook.com/c390/luat-lao-dong-tien-luong/page-{}/?sef_rewrite=1',\n",
       "              'Luật Quốc tế': 'https://www.vinabook.com/c392/luat-quoc-te/page-{}/?sef_rewrite=1',\n",
       "              'Luật Thương mại': 'https://www.vinabook.com/c389/luat-thuong-mai/page-{}/?sef_rewrite=1',\n",
       "              'Luật Đất đai, nhà ở': 'https://www.vinabook.com/c391/luat-dat-dai-nha-o/page-{}/?sef_rewrite=1',\n",
       "              'Văn bản luật': 'https://www.vinabook.com/c386/van-ban-luat/page-{}/?sef_rewrite=1',\n",
       "              'Các bộ luật khác': 'https://www.vinabook.com/c393/cac-bo-luat-khac/page-{}/?sef_rewrite=1'},\n",
       "             'NGÀNH THỂ DỤC – THỂ THAO': {'Bóng đá': 'https://www.vinabook.com/c493/bong-da/page-{}/?sef_rewrite=1',\n",
       "              'Chơi cờ': 'https://www.vinabook.com/c495/co-vua-co-tuong/page-{}/?sef_rewrite=1',\n",
       "              'Thể dục – yoga – thiền': 'https://www.vinabook.com/c491/the-ducyogathien/page-{}/?sef_rewrite=1',\n",
       "              'Võ thuật': 'https://www.vinabook.com/c492/vo-thuat/page-{}/?sef_rewrite=1',\n",
       "              'Các môn thể thao khác': 'https://www.vinabook.com/c494/cac-mon-the-thao-khac/page-{}/?sef_rewrite=1'},\n",
       "             'NGÀNH Y HỌC': {'Nhi khoa': 'https://www.vinabook.com/c482/nhi-khoa/page-{}/?sef_rewrite=1',\n",
       "              'Nội khoa': 'https://www.vinabook.com/c481/noi-khoa/page-{}/?sef_rewrite=1',\n",
       "              'Sản khoa': 'https://www.vinabook.com/c483/san-khoa/page-{}/?sef_rewrite=1',\n",
       "              'Y học Cổ truyền': 'https://www.vinabook.com/c485/y-hoc-co-truyen/page-{}/?sef_rewrite=1',\n",
       "              'Y học thường thức': 'https://www.vinabook.com/c480/y-hoc-thuong-thuc/page-{}/?sef_rewrite=1',\n",
       "              'Kiến thức y học tổng hợp': 'https://www.vinabook.com/c484/cac-khoa-khac/page-{}/?sef_rewrite=1'},\n",
       "             'NHÀ Ở - PET': {'Cây – cá cảnh': 'https://www.vinabook.com/c534/cay-ca-canh/page-{}/?sef_rewrite=1',\n",
       "              'Pet': 'https://www.vinabook.com/c533/vat-nuoi-trong-nha/page-{}/?sef_rewrite=1',\n",
       "              'Nhà ở - nội thất': 'https://www.vinabook.com/c532/nha-o-noi-that/page-{}/?sef_rewrite=1'},\n",
       "             'NHÂN VẬT - SỰ KIỆN ': {'NHÂN VẬT - SỰ KIỆN ': 'https://www.vinabook.com/c370/danh-nhan/page-{}/?sef_rewrite=1'},\n",
       "             'SÁCH GIÁO TRÌNH': {'Đại học – cao đẳng – thcn': 'https://www.vinabook.com/c455/dai-hoc/page-{}/?sef_rewrite=1',\n",
       "              'Dạy – Học nghề': 'https://www.vinabook.com/c524/sach-hoc-nghe/page-{}/?sef_rewrite=1'},\n",
       "             'SÁCH KINH TẾ': {'Khởi nghiệp ': 'https://www.vinabook.com/c868/khoi-nghiep/page-{}/?sef_rewrite=1',\n",
       "              'Marketing - Bán hàng': 'https://www.vinabook.com/c380/marketing-ban-hang/page-{}/?sef_rewrite=1',\n",
       "              'Lãnh đạo - Quản trị': 'https://www.vinabook.com/c379/quan-tri-lanh-dao/page-{}/?sef_rewrite=1',\n",
       "              'Nhân sự - Việc làm': 'https://www.vinabook.com/c385/nhan-su-viec-lam/page-{}/?sef_rewrite=1',\n",
       "              'Ngoại thương': 'https://www.vinabook.com/c383/ngoai-thuong/page-{}/?sef_rewrite=1',\n",
       "              'Phân tích - Môi trường kinh tế': 'https://www.vinabook.com/c463/phan-tich-moi-truong-kinh-te/page-{}/?sef_rewrite=1',\n",
       "              'Tài chính - Tiền tệ - Ngân hàng': 'https://www.vinabook.com/c382/tai-chinh-tien-te/page-{}/?sef_rewrite=1',\n",
       "              'Đầu tư - chứng khoán – bất động sản': 'https://www.vinabook.com/c384/dau-tu-chung-khoan/page-{}/?sef_rewrite=1',\n",
       "              'Kế toán – Kiểm toán – Thuế': 'https://www.vinabook.com/c381/tai-chinh-ke-toan/page-{}/?sef_rewrite=1',\n",
       "              'Tiền ảo - blockchain ': 'https://www.vinabook.com/c878/sach-blockchain/page-{}/?sef_rewrite=1'},\n",
       "             'SÁCH KỸ NĂNG': {'Nhân vật - bài học kinh doanh': 'https://www.vinabook.com/c387/nhan-vat-bai-hoc-kinh-doanh/page-{}/?sef_rewrite=1',\n",
       "              'Kỹ năng – nghệ thuật sống ': 'https://www.vinabook.com/c519/sach-hoc-lam-nguoi/page-{}/?sef_rewrite=1',\n",
       "              'Tâm lý - Giới tính': 'https://www.vinabook.com/c512/tinh-yeu/page-{}/?sef_rewrite=1',\n",
       "              'Phụ nữ - Làm đẹp ': 'https://www.vinabook.com/c520/bi-quyet-lam-dep/page-{}/?sef_rewrite=1',\n",
       "              'Nấu ăn': 'https://www.vinabook.com/c521/sach-nau-an/page-{}/?sef_rewrite=1'},\n",
       "             'THIẾU NHI ': {'Truyện cổ tích - thần thoại – ngụ ngôn ': 'https://www.vinabook.com/c660/truyen-thieu-nhi/page-{}/?sef_rewrite=1',\n",
       "              'Truyện tranh - manga – comic ': 'https://www.vinabook.com/c530/truyen-tranh/page-{}/?sef_rewrite=1',\n",
       "              'Kiến thức khoa học tự nhiên cho trẻ': 'https://www.vinabook.com/c527/khoa-hoc-tu-nhien/page-{}/?sef_rewrite=1',\n",
       "              'Kiến thức khoa học xã hội cho trẻ': 'https://www.vinabook.com/c526/khoa-hoc-xa-hoi/page-{}/?sef_rewrite=1',\n",
       "              'Âm nhạc – Mỹ thuật cho trẻ': 'https://www.vinabook.com/c529/my-thuat-am-nhac/page-{}/?sef_rewrite=1',\n",
       "              'Tiếng Anh thiếu nhi': 'https://www.vinabook.com/c528/sach-ngoai-ngu/page-{}/?sef_rewrite=1'},\n",
       "             'TỪ ĐIỂN': {'Tiếng Việt': 'https://www.vinabook.com/c408/tieng-viet-1/page-{}/?sef_rewrite=1',\n",
       "              'Tiếng Anh': 'https://www.vinabook.com/c404/tieng-anh-2-2/page-{}/?sef_rewrite=1',\n",
       "              'Tiếng Trung': 'https://www.vinabook.com/c412/tieng-hoa/page-{}/?sef_rewrite=1',\n",
       "              'Tiếng Pháp ': 'https://www.vinabook.com/c411/tieng-phap/page-{}/?sef_rewrite=1',\n",
       "              'Tiếng Nhật': 'https://www.vinabook.com/c407/tieng-nhat-2-2/page-{}/?sef_rewrite=1',\n",
       "              'Nhiều ngôn ngữ': 'https://www.vinabook.com/c409/ngon-ngu-khac/page-{}/?sef_rewrite=1',\n",
       "              'Chuyên ngành': 'https://www.vinabook.com/c502/tu-dien-chuyen-nganh/page-{}/?sef_rewrite=1'},\n",
       "             'VĂN HỌC': {'Truyện ngắn - tản văn – tạp văn': 'https://www.vinabook.com/c415/truyen-ngan-tan-van/page-{}/?sef_rewrite=1',\n",
       "              'Thơ - kịch': 'https://www.vinabook.com/c421/tho-ca/page-{}/?sef_rewrite=1',\n",
       "              'Tự truyện - hồi ký – bút ký – tiểu sử - chân dung nhân vật': 'https://www.vinabook.com/c661/tu-truyen-hoi-ky/page-{}/?sef_rewrite=1',\n",
       "              'Phóng sự - Ký sự': 'https://www.vinabook.com/c420/phong-su-ky-su/page-{}/?sef_rewrite=1',\n",
       "              'Lý luận – nghiên cứu – phê bình văn học': 'https://www.vinabook.com/c422/phe-binh-van-hoc/page-{}/?sef_rewrite=1',\n",
       "              'Truyện lịch sử': 'https://www.vinabook.com/c430/truyen-lich-su/page-{}/?sef_rewrite=1',\n",
       "              'Truyện kiếm hiệp': 'https://www.vinabook.com/c428/truyen-kiem-hiep-phieu-luu/page-{}/?sef_rewrite=1',\n",
       "              'Truyện trinh thám': 'https://www.vinabook.com/c427/truyen-trinh-tham-vu-an-1/page-{}/?sef_rewrite=1',\n",
       "              'Truyện viễn tưởng – phưu lưu – huyền bí ': 'https://www.vinabook.com/c418/truyen-gia-tuong-than-bi/page-{}/?sef_rewrite=1',\n",
       "              'Truyện ngôn tình': 'https://www.vinabook.com/c724/tieu-thuyet-ngon-tinh/page-{}/?sef_rewrite=1',\n",
       "              'Tiểu thuyết - truyện dài': 'https://www.vinabook.com/c414/tieu-thuyet/page-{}/?sef_rewrite=1',\n",
       "              'Tiểu thuyết nước ngoài': 'https://www.vinabook.com/c425/tieu-thuyet-1/page-{}/?sef_rewrite=1',\n",
       "              'Tác giả - tác phẩm': 'https://www.vinabook.com/c433/sach-ve-nhan-vat-van-hoc/page-{}/?sef_rewrite=1'}})"
      ]
     },
     "execution_count": 43,
     "metadata": {},
     "output_type": "execute_result"
    }
   ],
   "source": [
    "n_dict"
   ]
  },
  {
   "cell_type": "code",
   "execution_count": 5,
   "id": "5cb6cc0e",
   "metadata": {},
   "outputs": [],
   "source": [
    "url = \"https://www.vinabook.com/c495/co-vua-co-tuong/page-2/?sef_rewrite=1\"\n",
    "\n",
    "payload={}\n",
    "headers = {\n",
    "  'authority': 'www.vinabook.com',\n",
    "  'pragma': 'no-cache',\n",
    "  'cache-control': 'no-cache',\n",
    "  'upgrade-insecure-requests': '1',\n",
    "  'user-agent': 'Mozilla/5.0 (Windows NT 10.0; Win64; x64) AppleWebKit/537.36 (KHTML, like Gecko) Chrome/94.0.4606.81 Safari/537.36',\n",
    "  'accept': 'text/html,application/xhtml+xml,application/xml;q=0.9,image/avif,image/webp,image/apng,*/*;q=0.8,application/signed-exchange;v=b3;q=0.9',\n",
    "  'sec-fetch-site': 'none',\n",
    "  'sec-fetch-mode': 'navigate',\n",
    "  'sec-fetch-user': '?1',\n",
    "  'sec-fetch-dest': 'document',\n",
    "  'sec-ch-ua': '\"Chromium\";v=\"94\", \"Google Chrome\";v=\"94\", \";Not A Brand\";v=\"99\"',\n",
    "  'sec-ch-ua-mobile': '?0',\n",
    "  'sec-ch-ua-platform': '\"Windows\"',\n",
    "  'accept-language': 'vi,en-US;q=0.9,en;q=0.8,vi-VN;q=0.7',\n",
    "}\n",
    "\n",
    "response = requests.request(\"GET\", url, headers=headers, data=payload)"
   ]
  },
  {
   "cell_type": "code",
   "execution_count": 33,
   "id": "40f3be26",
   "metadata": {},
   "outputs": [],
   "source": [
    "soup = BeautifulSoup(response.text, \"html.parser\")"
   ]
  },
  {
   "cell_type": "code",
   "execution_count": 13,
   "id": "6faf7e8d",
   "metadata": {},
   "outputs": [
    {
     "data": {
      "text/plain": [
       "' https://www.vinabook.com/ma-phao-van-bien-p41969.html'"
      ]
     },
     "execution_count": 13,
     "metadata": {},
     "output_type": "execute_result"
    }
   ],
   "source": [
    "_books = soup.findAll(\"p\",{\"class\":\"price-info-nd\"})\n",
    "_books[0].a['href'].rstrip()"
   ]
  },
  {
   "cell_type": "code",
   "execution_count": 37,
   "id": "58f3eb12",
   "metadata": {},
   "outputs": [
    {
     "data": {
      "text/plain": [
       "5"
      ]
     },
     "execution_count": 37,
     "metadata": {},
     "output_type": "execute_result"
    }
   ],
   "source": [
    "int(soup.find(\"span\",{\"class\":\"group-paging-label\"}).text.split(\"/\")[1])"
   ]
  },
  {
   "cell_type": "code",
   "execution_count": 22,
   "id": "47d5a7a6",
   "metadata": {},
   "outputs": [],
   "source": [
    "_detail = requests.request(\"GET\", _books[0].a['href'].rstrip(), headers=headers, data=payload)\n",
    "_soup = BeautifulSoup(_detail.text, \"html.parser\")"
   ]
  },
  {
   "cell_type": "code",
   "execution_count": 31,
   "id": "1f31a6ea",
   "metadata": {},
   "outputs": [
    {
     "name": "stdout",
     "output_type": "stream",
     "text": [
      "Tác giả:  Lý Anh Mậu\n",
      "                            ,                                                     Đào Bá Kiều\n",
      "Nhà xuất bản:  NXB Đồng Nai\n",
      "Nhà phát hành:  Thị Nghè\n",
      "Khối lượng: \n",
      "            150.00 gam\n",
      "Định dạng: \n",
      "                \n",
      "                    \n",
      "                        \n",
      "                    \n",
      "                        \n",
      "                    \n",
      "                \n",
      "                                        Bìa mềm\n",
      "Kích thước: \n",
      "                \n",
      "                    \n",
      "                        \n",
      "                    \n",
      "                        \n",
      "                    \n",
      "                \n",
      "                                        14.5 x 20.5 cm\n",
      "Ngày phát hành:  \n",
      "                        10/2010\n",
      "Số trang:  132\n"
     ]
    }
   ],
   "source": [
    "_specific = _soup.find(\"div\",{\"class\":\"product-feature\"})\n",
    "_information = {}\n",
    "for _ in _specific.findAll(\"li\"):\n",
    "#     print(_)\n",
    "    _regex = re.sub('\\s+',' ',_.text).split(\":\")\n",
    "    _information[_regex[0]] = _regex[1]\n",
    "    print(_.text.strip())"
   ]
  },
  {
   "cell_type": "code",
   "execution_count": 32,
   "id": "8a7045b4",
   "metadata": {},
   "outputs": [
    {
     "data": {
      "text/plain": [
       "{' Tác giả': ' Lý Anh Mậu , Đào Bá Kiều ',\n",
       " ' Nhà xuất bản': ' NXB Đồng Nai ',\n",
       " ' Nhà phát hành': ' Thị Nghè ',\n",
       " ' Khối lượng': ' 150.00 gam ',\n",
       " ' Định dạng': ' Bìa mềm ',\n",
       " ' Kích thước': ' 14.5 x 20.5 cm ',\n",
       " ' Ngày phát hành': ' 10/2010 ',\n",
       " ' Số trang': ' 132 '}"
      ]
     },
     "execution_count": 32,
     "metadata": {},
     "output_type": "execute_result"
    }
   ],
   "source": [
    "_information"
   ]
  },
  {
   "cell_type": "code",
   "execution_count": 30,
   "id": "02427f9f",
   "metadata": {},
   "outputs": [
    {
     "data": {
      "text/plain": [
       "' Tác giả: Lý Anh Mậu , Đào Bá Kiều '"
      ]
     },
     "execution_count": 30,
     "metadata": {},
     "output_type": "execute_result"
    }
   ],
   "source": [
    "re.sub('\\s+',' ',_specific.findAll(\"li\")[0].text)"
   ]
  },
  {
   "cell_type": "code",
   "execution_count": 44,
   "id": "c6c57648",
   "metadata": {},
   "outputs": [],
   "source": [
    "_big_dict = {}\n",
    "booksQueue = queue.Queue()\n",
    "\n",
    "class Crawler():\n",
    "    def __init__(self, url, cname):\n",
    "        self.url = url\n",
    "        self.category_name = cname\n",
    "        \n",
    "    def crawl(self):\n",
    "        _concurrent = self._bookshelf()\n",
    "        \n",
    "        print(_concurrent)\n",
    "        \n",
    "        with concurrent.futures.ThreadPoolExecutor(max_workers=os.cpu_count()*3) as executor:\n",
    "            executor.map(self._books, _concurrent)\n",
    "            \n",
    "    def _books(self, _url,):\n",
    "        \n",
    "        book = {}\n",
    "        __res =  requests.request(\"GET\",_url, headers=headers)\n",
    "        _soup = BeautifulSoup(__res.text, \"html.parser\")\n",
    "        _books = _soup.find('div',{'class':'product_view_tab_content_ad'})\n",
    "        table = _books.find('table')\n",
    "        \n",
    "        df = pd.read_html(str(table))[0]\n",
    "        \n",
    "        book['tên dách'] = re.sub(\"(?m)^\\s+\",\"\", _soup.h1.text.rstrip())\n",
    "        book['ảnh bìa'] = _soup.find(\"div\",{\"class\":\"product-view-image-product\"}).img['src']\n",
    "        book['thể loại'] = self.category_name\n",
    "        book['tác giả'] = df[1][3]\n",
    "        \n",
    "        book['nội dung tóm tắt'] = _soup.find(\"div\",{\"id\":\"desc_content\"}).text\n",
    "        book['giá bìa'] = unicodedata.normalize(\"NFKD\",_soup.findAll(\"span\",{\"class\":\"price\"})[-1].text)\n",
    "        \n",
    "        \n",
    "        booksQueue.put(book)\n",
    "        print(f\"Number of products in my pocket {booksQueue.qsize()}\")\n",
    "        \n",
    "    def _bookshelf(self):\n",
    "        \n",
    "        _bookshelf = []\n",
    "        print(self.url.format(48, 1))\n",
    "        _res = requests.request(\"GET\", self.url.format(1), headers=headers)\n",
    "        soup = BeautifulSoup(_res.text, \"html.parser\")\n",
    "        _pages = int(soup.find(\"span\",{\"class\":\"group-paging-label\"}).text.split(\"/\")[1]) + 1\n",
    "        \n",
    "        for _ in range(_pages):\n",
    "            _ =+1\n",
    "#             print(f\"total page of {self.urlkey} : {_total}\")\n",
    "            _res = requests.request(\"GET\", self.url.format(_), headers=headers)\n",
    "            soup = BeautifulSoup(_res.text, \"html.parser\")\n",
    "            for _ in soup.findAll(\"p\",{\"class\":\"price-info-nd\"}):\n",
    "                _bookshelf.append(_.a['href'].rstrip())\n",
    "            \n",
    "        return _bookshelf"
   ]
  },
  {
   "cell_type": "code",
   "execution_count": 48,
   "id": "e843bacb",
   "metadata": {},
   "outputs": [
    {
     "name": "stdout",
     "output_type": "stream",
     "text": [
      "https://www.vinabook.com/c430/truyen-lich-su/page-48/?sef_rewrite=1\n",
      "[' https://www.vinabook.com/tam-quoc-dien-nghia-bo-3-cuon--p93877.html', ' https://www.vinabook.com/mot-chien-dich-o-bac-ky-1-p92657.html', ' https://www.vinabook.com/combo-tam-quoc-chi-thong-tuc-dien-nghia-hop-3-tap-ban-dac-biet-tang-kem-cuon-tu-p91020.html', ' https://www.vinabook.com/combo-tam-quoc-chi-thong-tuc-dien-nghia-bo-3-tap-ban-thuong-p91019.html', ' https://www.vinabook.com/chien-quoc-tung-hoanh-the-cuc-quy-coc-tu-tap-9-p90684.html', ' https://www.vinabook.com/nhung-con-duong-to-lua-p90066.html', ' https://www.vinabook.com/ton-tu-binh-phap-tai-ban-2019-p88143.html', ' https://www.vinabook.com/vuong-trieu-tudor-cuoi-cung-p87773.html', ' https://www.vinabook.com/combo-tam-quoc-dien-nghia-hop-3-cuon-p86854.html', ' https://www.vinabook.com/muu-luoc-trong-chinh-tri-quan-su-doi-song-p86676.html', ' https://www.vinabook.com/song-sot-o-berlin-p85517.html', ' https://www.vinabook.com/vang-trang-mau-p84786.html', ' https://www.vinabook.com/tao-thao-thanh-nhan-de-tien-tap-3-tai-ban-2018-p83649.html', ' https://www.vinabook.com/tao-thao-thanh-nhan-de-tien-tap-5-tai-ban-2018-p83113.html', ' https://www.vinabook.com/nhung-ngay-cuoi-cung-cua-hitler-p82740.html', ' https://www.vinabook.com/tao-thao-thanh-nhan-de-tien-tap-10-p82460.html', ' https://www.vinabook.com/odyssey-tai-ban-2018-p81636.html', ' https://www.vinabook.com/nhung-cuoc-chinh-phat-cua-alexander-dai-de-tai-ban-2018-p81635.html', ' https://www.vinabook.com/iliad-tai-ban-2018-p81631.html', ' https://www.vinabook.com/chien-quoc-tung-hoanh-the-cuc-quy-coc-tu-tron-phan-1-hop-8-cuon-p81345.html', ' https://www.vinabook.com/ong-chua-duc-hue-p78782.html', ' https://www.vinabook.com/tao-thao-thanh-nhan-de-tien-tap-9-p78074.html', ' https://www.vinabook.com/tao-thao-thanh-nhan-de-tien-tap-8-p76448.html', ' https://www.vinabook.com/tao-thao-thanh-nhan-de-tien-tap-7-p75977.html', ' https://www.vinabook.com/hop-tuyen-van-hoc-co-dien-han-quoc-p75941.html', ' https://www.vinabook.com/hop-tuyen-van-hoc-dan-gian-han-quoc-p75940.html', ' https://www.vinabook.com/su-ky-tap-2-liet-truyen-thuong-p72333.html', ' https://www.vinabook.com/dong-chu-liet-quoc-tap-2-p72221.html', ' https://www.vinabook.com/dong-chu-liet-quoc-tap-1-p72220.html', ' https://www.vinabook.com/chien-quoc-tung-hoanh-the-cuc-quy-coc-tu-tap-7-p66763.html', ' https://www.vinabook.com/tam-quoc-dien-nghia-bo-3-cuon--p93877.html', ' https://www.vinabook.com/mot-chien-dich-o-bac-ky-1-p92657.html', ' https://www.vinabook.com/combo-tam-quoc-chi-thong-tuc-dien-nghia-hop-3-tap-ban-dac-biet-tang-kem-cuon-tu-p91020.html', ' https://www.vinabook.com/combo-tam-quoc-chi-thong-tuc-dien-nghia-bo-3-tap-ban-thuong-p91019.html', ' https://www.vinabook.com/chien-quoc-tung-hoanh-the-cuc-quy-coc-tu-tap-9-p90684.html', ' https://www.vinabook.com/nhung-con-duong-to-lua-p90066.html', ' https://www.vinabook.com/ton-tu-binh-phap-tai-ban-2019-p88143.html', ' https://www.vinabook.com/vuong-trieu-tudor-cuoi-cung-p87773.html', ' https://www.vinabook.com/combo-tam-quoc-dien-nghia-hop-3-cuon-p86854.html', ' https://www.vinabook.com/muu-luoc-trong-chinh-tri-quan-su-doi-song-p86676.html', ' https://www.vinabook.com/song-sot-o-berlin-p85517.html', ' https://www.vinabook.com/vang-trang-mau-p84786.html', ' https://www.vinabook.com/tao-thao-thanh-nhan-de-tien-tap-3-tai-ban-2018-p83649.html', ' https://www.vinabook.com/tao-thao-thanh-nhan-de-tien-tap-5-tai-ban-2018-p83113.html', ' https://www.vinabook.com/nhung-ngay-cuoi-cung-cua-hitler-p82740.html', ' https://www.vinabook.com/tao-thao-thanh-nhan-de-tien-tap-10-p82460.html', ' https://www.vinabook.com/odyssey-tai-ban-2018-p81636.html', ' https://www.vinabook.com/nhung-cuoc-chinh-phat-cua-alexander-dai-de-tai-ban-2018-p81635.html', ' https://www.vinabook.com/iliad-tai-ban-2018-p81631.html', ' https://www.vinabook.com/chien-quoc-tung-hoanh-the-cuc-quy-coc-tu-tron-phan-1-hop-8-cuon-p81345.html', ' https://www.vinabook.com/ong-chua-duc-hue-p78782.html', ' https://www.vinabook.com/tao-thao-thanh-nhan-de-tien-tap-9-p78074.html', ' https://www.vinabook.com/tao-thao-thanh-nhan-de-tien-tap-8-p76448.html', ' https://www.vinabook.com/tao-thao-thanh-nhan-de-tien-tap-7-p75977.html', ' https://www.vinabook.com/hop-tuyen-van-hoc-co-dien-han-quoc-p75941.html', ' https://www.vinabook.com/hop-tuyen-van-hoc-dan-gian-han-quoc-p75940.html', ' https://www.vinabook.com/su-ky-tap-2-liet-truyen-thuong-p72333.html', ' https://www.vinabook.com/dong-chu-liet-quoc-tap-2-p72221.html', ' https://www.vinabook.com/dong-chu-liet-quoc-tap-1-p72220.html', ' https://www.vinabook.com/chien-quoc-tung-hoanh-the-cuc-quy-coc-tu-tap-7-p66763.html', ' https://www.vinabook.com/tam-quoc-dien-nghia-bo-3-cuon--p93877.html', ' https://www.vinabook.com/mot-chien-dich-o-bac-ky-1-p92657.html', ' https://www.vinabook.com/combo-tam-quoc-chi-thong-tuc-dien-nghia-hop-3-tap-ban-dac-biet-tang-kem-cuon-tu-p91020.html', ' https://www.vinabook.com/combo-tam-quoc-chi-thong-tuc-dien-nghia-bo-3-tap-ban-thuong-p91019.html', ' https://www.vinabook.com/chien-quoc-tung-hoanh-the-cuc-quy-coc-tu-tap-9-p90684.html', ' https://www.vinabook.com/nhung-con-duong-to-lua-p90066.html', ' https://www.vinabook.com/ton-tu-binh-phap-tai-ban-2019-p88143.html', ' https://www.vinabook.com/vuong-trieu-tudor-cuoi-cung-p87773.html', ' https://www.vinabook.com/combo-tam-quoc-dien-nghia-hop-3-cuon-p86854.html', ' https://www.vinabook.com/muu-luoc-trong-chinh-tri-quan-su-doi-song-p86676.html', ' https://www.vinabook.com/song-sot-o-berlin-p85517.html', ' https://www.vinabook.com/vang-trang-mau-p84786.html', ' https://www.vinabook.com/tao-thao-thanh-nhan-de-tien-tap-3-tai-ban-2018-p83649.html', ' https://www.vinabook.com/tao-thao-thanh-nhan-de-tien-tap-5-tai-ban-2018-p83113.html', ' https://www.vinabook.com/nhung-ngay-cuoi-cung-cua-hitler-p82740.html', ' https://www.vinabook.com/tao-thao-thanh-nhan-de-tien-tap-10-p82460.html', ' https://www.vinabook.com/odyssey-tai-ban-2018-p81636.html', ' https://www.vinabook.com/nhung-cuoc-chinh-phat-cua-alexander-dai-de-tai-ban-2018-p81635.html', ' https://www.vinabook.com/iliad-tai-ban-2018-p81631.html', ' https://www.vinabook.com/chien-quoc-tung-hoanh-the-cuc-quy-coc-tu-tron-phan-1-hop-8-cuon-p81345.html', ' https://www.vinabook.com/ong-chua-duc-hue-p78782.html', ' https://www.vinabook.com/tao-thao-thanh-nhan-de-tien-tap-9-p78074.html', ' https://www.vinabook.com/tao-thao-thanh-nhan-de-tien-tap-8-p76448.html', ' https://www.vinabook.com/tao-thao-thanh-nhan-de-tien-tap-7-p75977.html', ' https://www.vinabook.com/hop-tuyen-van-hoc-co-dien-han-quoc-p75941.html', ' https://www.vinabook.com/hop-tuyen-van-hoc-dan-gian-han-quoc-p75940.html', ' https://www.vinabook.com/su-ky-tap-2-liet-truyen-thuong-p72333.html', ' https://www.vinabook.com/dong-chu-liet-quoc-tap-2-p72221.html', ' https://www.vinabook.com/dong-chu-liet-quoc-tap-1-p72220.html', ' https://www.vinabook.com/chien-quoc-tung-hoanh-the-cuc-quy-coc-tu-tap-7-p66763.html', ' https://www.vinabook.com/tam-quoc-dien-nghia-bo-3-cuon--p93877.html', ' https://www.vinabook.com/mot-chien-dich-o-bac-ky-1-p92657.html', ' https://www.vinabook.com/combo-tam-quoc-chi-thong-tuc-dien-nghia-hop-3-tap-ban-dac-biet-tang-kem-cuon-tu-p91020.html', ' https://www.vinabook.com/combo-tam-quoc-chi-thong-tuc-dien-nghia-bo-3-tap-ban-thuong-p91019.html', ' https://www.vinabook.com/chien-quoc-tung-hoanh-the-cuc-quy-coc-tu-tap-9-p90684.html', ' https://www.vinabook.com/nhung-con-duong-to-lua-p90066.html', ' https://www.vinabook.com/ton-tu-binh-phap-tai-ban-2019-p88143.html', ' https://www.vinabook.com/vuong-trieu-tudor-cuoi-cung-p87773.html', ' https://www.vinabook.com/combo-tam-quoc-dien-nghia-hop-3-cuon-p86854.html', ' https://www.vinabook.com/muu-luoc-trong-chinh-tri-quan-su-doi-song-p86676.html', ' https://www.vinabook.com/song-sot-o-berlin-p85517.html', ' https://www.vinabook.com/vang-trang-mau-p84786.html', ' https://www.vinabook.com/tao-thao-thanh-nhan-de-tien-tap-3-tai-ban-2018-p83649.html', ' https://www.vinabook.com/tao-thao-thanh-nhan-de-tien-tap-5-tai-ban-2018-p83113.html', ' https://www.vinabook.com/nhung-ngay-cuoi-cung-cua-hitler-p82740.html', ' https://www.vinabook.com/tao-thao-thanh-nhan-de-tien-tap-10-p82460.html', ' https://www.vinabook.com/odyssey-tai-ban-2018-p81636.html', ' https://www.vinabook.com/nhung-cuoc-chinh-phat-cua-alexander-dai-de-tai-ban-2018-p81635.html', ' https://www.vinabook.com/iliad-tai-ban-2018-p81631.html', ' https://www.vinabook.com/chien-quoc-tung-hoanh-the-cuc-quy-coc-tu-tron-phan-1-hop-8-cuon-p81345.html', ' https://www.vinabook.com/ong-chua-duc-hue-p78782.html', ' https://www.vinabook.com/tao-thao-thanh-nhan-de-tien-tap-9-p78074.html', ' https://www.vinabook.com/tao-thao-thanh-nhan-de-tien-tap-8-p76448.html', ' https://www.vinabook.com/tao-thao-thanh-nhan-de-tien-tap-7-p75977.html', ' https://www.vinabook.com/hop-tuyen-van-hoc-co-dien-han-quoc-p75941.html', ' https://www.vinabook.com/hop-tuyen-van-hoc-dan-gian-han-quoc-p75940.html', ' https://www.vinabook.com/su-ky-tap-2-liet-truyen-thuong-p72333.html', ' https://www.vinabook.com/dong-chu-liet-quoc-tap-2-p72221.html', ' https://www.vinabook.com/dong-chu-liet-quoc-tap-1-p72220.html', ' https://www.vinabook.com/chien-quoc-tung-hoanh-the-cuc-quy-coc-tu-tap-7-p66763.html', ' https://www.vinabook.com/tam-quoc-dien-nghia-bo-3-cuon--p93877.html', ' https://www.vinabook.com/mot-chien-dich-o-bac-ky-1-p92657.html', ' https://www.vinabook.com/combo-tam-quoc-chi-thong-tuc-dien-nghia-hop-3-tap-ban-dac-biet-tang-kem-cuon-tu-p91020.html', ' https://www.vinabook.com/combo-tam-quoc-chi-thong-tuc-dien-nghia-bo-3-tap-ban-thuong-p91019.html', ' https://www.vinabook.com/chien-quoc-tung-hoanh-the-cuc-quy-coc-tu-tap-9-p90684.html', ' https://www.vinabook.com/nhung-con-duong-to-lua-p90066.html', ' https://www.vinabook.com/ton-tu-binh-phap-tai-ban-2019-p88143.html', ' https://www.vinabook.com/vuong-trieu-tudor-cuoi-cung-p87773.html', ' https://www.vinabook.com/combo-tam-quoc-dien-nghia-hop-3-cuon-p86854.html', ' https://www.vinabook.com/muu-luoc-trong-chinh-tri-quan-su-doi-song-p86676.html', ' https://www.vinabook.com/song-sot-o-berlin-p85517.html', ' https://www.vinabook.com/vang-trang-mau-p84786.html', ' https://www.vinabook.com/tao-thao-thanh-nhan-de-tien-tap-3-tai-ban-2018-p83649.html', ' https://www.vinabook.com/tao-thao-thanh-nhan-de-tien-tap-5-tai-ban-2018-p83113.html', ' https://www.vinabook.com/nhung-ngay-cuoi-cung-cua-hitler-p82740.html', ' https://www.vinabook.com/tao-thao-thanh-nhan-de-tien-tap-10-p82460.html', ' https://www.vinabook.com/odyssey-tai-ban-2018-p81636.html', ' https://www.vinabook.com/nhung-cuoc-chinh-phat-cua-alexander-dai-de-tai-ban-2018-p81635.html', ' https://www.vinabook.com/iliad-tai-ban-2018-p81631.html', ' https://www.vinabook.com/chien-quoc-tung-hoanh-the-cuc-quy-coc-tu-tron-phan-1-hop-8-cuon-p81345.html', ' https://www.vinabook.com/ong-chua-duc-hue-p78782.html', ' https://www.vinabook.com/tao-thao-thanh-nhan-de-tien-tap-9-p78074.html', ' https://www.vinabook.com/tao-thao-thanh-nhan-de-tien-tap-8-p76448.html', ' https://www.vinabook.com/tao-thao-thanh-nhan-de-tien-tap-7-p75977.html', ' https://www.vinabook.com/hop-tuyen-van-hoc-co-dien-han-quoc-p75941.html', ' https://www.vinabook.com/hop-tuyen-van-hoc-dan-gian-han-quoc-p75940.html', ' https://www.vinabook.com/su-ky-tap-2-liet-truyen-thuong-p72333.html', ' https://www.vinabook.com/dong-chu-liet-quoc-tap-2-p72221.html', ' https://www.vinabook.com/dong-chu-liet-quoc-tap-1-p72220.html', ' https://www.vinabook.com/chien-quoc-tung-hoanh-the-cuc-quy-coc-tu-tap-7-p66763.html', ' https://www.vinabook.com/tam-quoc-dien-nghia-bo-3-cuon--p93877.html', ' https://www.vinabook.com/mot-chien-dich-o-bac-ky-1-p92657.html', ' https://www.vinabook.com/combo-tam-quoc-chi-thong-tuc-dien-nghia-hop-3-tap-ban-dac-biet-tang-kem-cuon-tu-p91020.html', ' https://www.vinabook.com/combo-tam-quoc-chi-thong-tuc-dien-nghia-bo-3-tap-ban-thuong-p91019.html', ' https://www.vinabook.com/chien-quoc-tung-hoanh-the-cuc-quy-coc-tu-tap-9-p90684.html', ' https://www.vinabook.com/nhung-con-duong-to-lua-p90066.html', ' https://www.vinabook.com/ton-tu-binh-phap-tai-ban-2019-p88143.html', ' https://www.vinabook.com/vuong-trieu-tudor-cuoi-cung-p87773.html', ' https://www.vinabook.com/combo-tam-quoc-dien-nghia-hop-3-cuon-p86854.html', ' https://www.vinabook.com/muu-luoc-trong-chinh-tri-quan-su-doi-song-p86676.html', ' https://www.vinabook.com/song-sot-o-berlin-p85517.html', ' https://www.vinabook.com/vang-trang-mau-p84786.html', ' https://www.vinabook.com/tao-thao-thanh-nhan-de-tien-tap-3-tai-ban-2018-p83649.html', ' https://www.vinabook.com/tao-thao-thanh-nhan-de-tien-tap-5-tai-ban-2018-p83113.html', ' https://www.vinabook.com/nhung-ngay-cuoi-cung-cua-hitler-p82740.html', ' https://www.vinabook.com/tao-thao-thanh-nhan-de-tien-tap-10-p82460.html', ' https://www.vinabook.com/odyssey-tai-ban-2018-p81636.html', ' https://www.vinabook.com/nhung-cuoc-chinh-phat-cua-alexander-dai-de-tai-ban-2018-p81635.html', ' https://www.vinabook.com/iliad-tai-ban-2018-p81631.html', ' https://www.vinabook.com/chien-quoc-tung-hoanh-the-cuc-quy-coc-tu-tron-phan-1-hop-8-cuon-p81345.html', ' https://www.vinabook.com/ong-chua-duc-hue-p78782.html', ' https://www.vinabook.com/tao-thao-thanh-nhan-de-tien-tap-9-p78074.html', ' https://www.vinabook.com/tao-thao-thanh-nhan-de-tien-tap-8-p76448.html', ' https://www.vinabook.com/tao-thao-thanh-nhan-de-tien-tap-7-p75977.html', ' https://www.vinabook.com/hop-tuyen-van-hoc-co-dien-han-quoc-p75941.html', ' https://www.vinabook.com/hop-tuyen-van-hoc-dan-gian-han-quoc-p75940.html', ' https://www.vinabook.com/su-ky-tap-2-liet-truyen-thuong-p72333.html', ' https://www.vinabook.com/dong-chu-liet-quoc-tap-2-p72221.html', ' https://www.vinabook.com/dong-chu-liet-quoc-tap-1-p72220.html', ' https://www.vinabook.com/chien-quoc-tung-hoanh-the-cuc-quy-coc-tu-tap-7-p66763.html', ' https://www.vinabook.com/tam-quoc-dien-nghia-bo-3-cuon--p93877.html', ' https://www.vinabook.com/mot-chien-dich-o-bac-ky-1-p92657.html', ' https://www.vinabook.com/combo-tam-quoc-chi-thong-tuc-dien-nghia-hop-3-tap-ban-dac-biet-tang-kem-cuon-tu-p91020.html', ' https://www.vinabook.com/combo-tam-quoc-chi-thong-tuc-dien-nghia-bo-3-tap-ban-thuong-p91019.html', ' https://www.vinabook.com/chien-quoc-tung-hoanh-the-cuc-quy-coc-tu-tap-9-p90684.html', ' https://www.vinabook.com/nhung-con-duong-to-lua-p90066.html', ' https://www.vinabook.com/ton-tu-binh-phap-tai-ban-2019-p88143.html', ' https://www.vinabook.com/vuong-trieu-tudor-cuoi-cung-p87773.html', ' https://www.vinabook.com/combo-tam-quoc-dien-nghia-hop-3-cuon-p86854.html', ' https://www.vinabook.com/muu-luoc-trong-chinh-tri-quan-su-doi-song-p86676.html', ' https://www.vinabook.com/song-sot-o-berlin-p85517.html', ' https://www.vinabook.com/vang-trang-mau-p84786.html', ' https://www.vinabook.com/tao-thao-thanh-nhan-de-tien-tap-3-tai-ban-2018-p83649.html', ' https://www.vinabook.com/tao-thao-thanh-nhan-de-tien-tap-5-tai-ban-2018-p83113.html', ' https://www.vinabook.com/nhung-ngay-cuoi-cung-cua-hitler-p82740.html', ' https://www.vinabook.com/tao-thao-thanh-nhan-de-tien-tap-10-p82460.html', ' https://www.vinabook.com/odyssey-tai-ban-2018-p81636.html', ' https://www.vinabook.com/nhung-cuoc-chinh-phat-cua-alexander-dai-de-tai-ban-2018-p81635.html', ' https://www.vinabook.com/iliad-tai-ban-2018-p81631.html', ' https://www.vinabook.com/chien-quoc-tung-hoanh-the-cuc-quy-coc-tu-tron-phan-1-hop-8-cuon-p81345.html', ' https://www.vinabook.com/ong-chua-duc-hue-p78782.html', ' https://www.vinabook.com/tao-thao-thanh-nhan-de-tien-tap-9-p78074.html', ' https://www.vinabook.com/tao-thao-thanh-nhan-de-tien-tap-8-p76448.html', ' https://www.vinabook.com/tao-thao-thanh-nhan-de-tien-tap-7-p75977.html', ' https://www.vinabook.com/hop-tuyen-van-hoc-co-dien-han-quoc-p75941.html', ' https://www.vinabook.com/hop-tuyen-van-hoc-dan-gian-han-quoc-p75940.html', ' https://www.vinabook.com/su-ky-tap-2-liet-truyen-thuong-p72333.html', ' https://www.vinabook.com/dong-chu-liet-quoc-tap-2-p72221.html', ' https://www.vinabook.com/dong-chu-liet-quoc-tap-1-p72220.html', ' https://www.vinabook.com/chien-quoc-tung-hoanh-the-cuc-quy-coc-tu-tap-7-p66763.html', ' https://www.vinabook.com/tam-quoc-dien-nghia-bo-3-cuon--p93877.html', ' https://www.vinabook.com/mot-chien-dich-o-bac-ky-1-p92657.html', ' https://www.vinabook.com/combo-tam-quoc-chi-thong-tuc-dien-nghia-hop-3-tap-ban-dac-biet-tang-kem-cuon-tu-p91020.html', ' https://www.vinabook.com/combo-tam-quoc-chi-thong-tuc-dien-nghia-bo-3-tap-ban-thuong-p91019.html', ' https://www.vinabook.com/chien-quoc-tung-hoanh-the-cuc-quy-coc-tu-tap-9-p90684.html', ' https://www.vinabook.com/nhung-con-duong-to-lua-p90066.html', ' https://www.vinabook.com/ton-tu-binh-phap-tai-ban-2019-p88143.html', ' https://www.vinabook.com/vuong-trieu-tudor-cuoi-cung-p87773.html', ' https://www.vinabook.com/combo-tam-quoc-dien-nghia-hop-3-cuon-p86854.html', ' https://www.vinabook.com/muu-luoc-trong-chinh-tri-quan-su-doi-song-p86676.html', ' https://www.vinabook.com/song-sot-o-berlin-p85517.html', ' https://www.vinabook.com/vang-trang-mau-p84786.html', ' https://www.vinabook.com/tao-thao-thanh-nhan-de-tien-tap-3-tai-ban-2018-p83649.html', ' https://www.vinabook.com/tao-thao-thanh-nhan-de-tien-tap-5-tai-ban-2018-p83113.html', ' https://www.vinabook.com/nhung-ngay-cuoi-cung-cua-hitler-p82740.html', ' https://www.vinabook.com/tao-thao-thanh-nhan-de-tien-tap-10-p82460.html', ' https://www.vinabook.com/odyssey-tai-ban-2018-p81636.html', ' https://www.vinabook.com/nhung-cuoc-chinh-phat-cua-alexander-dai-de-tai-ban-2018-p81635.html', ' https://www.vinabook.com/iliad-tai-ban-2018-p81631.html', ' https://www.vinabook.com/chien-quoc-tung-hoanh-the-cuc-quy-coc-tu-tron-phan-1-hop-8-cuon-p81345.html', ' https://www.vinabook.com/ong-chua-duc-hue-p78782.html', ' https://www.vinabook.com/tao-thao-thanh-nhan-de-tien-tap-9-p78074.html', ' https://www.vinabook.com/tao-thao-thanh-nhan-de-tien-tap-8-p76448.html', ' https://www.vinabook.com/tao-thao-thanh-nhan-de-tien-tap-7-p75977.html', ' https://www.vinabook.com/hop-tuyen-van-hoc-co-dien-han-quoc-p75941.html', ' https://www.vinabook.com/hop-tuyen-van-hoc-dan-gian-han-quoc-p75940.html', ' https://www.vinabook.com/su-ky-tap-2-liet-truyen-thuong-p72333.html', ' https://www.vinabook.com/dong-chu-liet-quoc-tap-2-p72221.html', ' https://www.vinabook.com/dong-chu-liet-quoc-tap-1-p72220.html', ' https://www.vinabook.com/chien-quoc-tung-hoanh-the-cuc-quy-coc-tu-tap-7-p66763.html']\n"
     ]
    }
   ],
   "source": [
    "t = Crawler('https://www.vinabook.com/c430/truyen-lich-su/page-{}/?sef_rewrite=1','test')\n",
    "print(t._bookshelf())"
   ]
  }
 ],
 "metadata": {
  "kernelspec": {
   "display_name": "book",
   "language": "python",
   "name": "book"
  },
  "language_info": {
   "codemirror_mode": {
    "name": "ipython",
    "version": 3
   },
   "file_extension": ".py",
   "mimetype": "text/x-python",
   "name": "python",
   "nbconvert_exporter": "python",
   "pygments_lexer": "ipython3",
   "version": "3.7.11"
  }
 },
 "nbformat": 4,
 "nbformat_minor": 5
}
