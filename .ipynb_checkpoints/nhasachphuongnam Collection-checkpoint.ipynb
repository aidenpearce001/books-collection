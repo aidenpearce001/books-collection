{
 "cells": [
  {
   "cell_type": "code",
   "execution_count": 1,
   "id": "01c51601",
   "metadata": {},
   "outputs": [],
   "source": [
    "import requests\n",
    "from bs4 import BeautifulSoup\n",
    "import json\n",
    "import concurrent.futures\n",
    "import re\n",
    "import queue\n",
    "import pandas as pd"
   ]
  },
  {
   "cell_type": "code",
   "execution_count": 2,
   "id": "5e5aef8a",
   "metadata": {},
   "outputs": [],
   "source": [
    "_genre = {\n",
    "    'van-hoc-duong-dai':'Văn học đương đại',\n",
    "    'van-hoc-kinh-dien-co-dien':'Văn học kinh điển – cổ điển',\n",
    "    'van-hoc-my': 'Văn học Mỹ',\n",
    "    'van-hoc-anh':'Vân học Anh',\n",
    "    'van-hoc-phap':'Văn học Pháp',\n",
    "    'van-hoc-duc':'Văn học Đức',\n",
    "    'van-hoc-nhat':'Văn học Nhật Bản',\n",
    "    'van-hoc-han-quoc':'Văn học Hàn Quốc',\n",
    "    'van-hoc-trung-quoc':'Văn học Trung Quốc',\n",
    "    'van-hoc-nga':'Văn học Nga',\n",
    "    'sach-van-hoc-nuoc-ngoai-khac':'Văn học các nước khác',\n",
    "    'tho-van':'Thơ - kịch',\n",
    "    'hoi-ky-but-ky-chan-dung-nhan-vat-2-page-17':'Tự truyện - hồi ký – bút ký – tiểu sử - chân dung nhân vật',\n",
    "    'ly-luan-nghien-cuu-phe-binh':'Lý luận – nghiên cứu – phê bình văn học',\n",
    "    'truyen-lich-su':'Truyện lịch sử',\n",
    "    'truyen-trinh-tham-1':'Truyện trinh thám',\n",
    "    'truyen-kinh-di':'Truyện kinh dị',\n",
    "    'light-novel':'Light Novel',\n",
    "    'tuc-ngu-ca-dao-truyen-cuoi':'Ca dao – tục ngữ - thành ngữ - câu đố'\n",
    "}"
   ]
  },
  {
   "cell_type": "code",
   "execution_count": 41,
   "id": "2a05eb2e",
   "metadata": {},
   "outputs": [],
   "source": [
    "_phuongnam_url = \"https://nhasachphuongnam.com/vi/{}-page-{}.html?items_per_page=128&result_ids=pagination_contents&is_ajax=1\"\n",
    "\n",
    "headers = {\n",
    "  'Connection': 'keep-alive',\n",
    "  'Pragma': 'no-cache',\n",
    "  'Cache-Control': 'no-cache',\n",
    "  'sec-ch-ua': '\"Chromium\";v=\"94\", \"Google Chrome\";v=\"94\", \";Not A Brand\";v=\"99\"',\n",
    "  'Accept': 'application/json, text/javascript, */*; q=0.01',\n",
    "  'X-Requested-With': 'XMLHttpRequest',\n",
    "  'sec-ch-ua-mobile': '?0',\n",
    "  'User-Agent': 'Mozilla/5.0 (Windows NT 10.0; Win64; x64) AppleWebKit/537.36 (KHTML, like Gecko) Chrome/94.0.4606.71 Safari/537.36',\n",
    "  'sec-ch-ua-platform': '\"Windows\"',\n",
    "  'Sec-Fetch-Site': 'same-origin',\n",
    "  'Sec-Fetch-Mode': 'cors',\n",
    "  'Sec-Fetch-Dest': 'empty',\n",
    "  'Accept-Language': 'vi,en-US;q=0.9,en;q=0.8,vi-VN;q=0.7',\n",
    "  'Cookie': 'sid_customer_d577e=c81a4f54e12eb374c53db1cf4d78f94e-C'\n",
    "}"
   ]
  },
  {
   "cell_type": "code",
   "execution_count": 8,
   "id": "f463b09f",
   "metadata": {},
   "outputs": [
    {
     "data": {
      "text/plain": [
       "dict_keys(['current_url', 'html', 'notifications'])"
      ]
     },
     "execution_count": 8,
     "metadata": {},
     "output_type": "execute_result"
    }
   ],
   "source": [
    "response.keys()"
   ]
  },
  {
   "cell_type": "code",
   "execution_count": 12,
   "id": "bad1f6c7",
   "metadata": {},
   "outputs": [],
   "source": [
    "html = BeautifulSoup(response['html']['pagination_contents'])"
   ]
  },
  {
   "cell_type": "code",
   "execution_count": 24,
   "id": "2c20dd11",
   "metadata": {},
   "outputs": [
    {
     "data": {
      "text/plain": [
       "'https://nhasachphuongnam.com/vi/bai-tap-tieng-anh-theo-chuong-trinh-moi-cua-bo-gddt-lop-9-tap-2-co-dap-an.html'"
      ]
     },
     "execution_count": 24,
     "metadata": {},
     "output_type": "execute_result"
    }
   ],
   "source": [
    "book_html=  html.find('div',{'class':'grid-list vs-grid-table-wrapper et-grid-table-wrapper'})\n",
    "bookshelf = book_html.findAll('div',{'class':'vs-grid vs-grid-table et-grid'})\n",
    "bookshelf[0].a['href']"
   ]
  },
  {
   "cell_type": "code",
   "execution_count": 5,
   "id": "b0b8d164",
   "metadata": {},
   "outputs": [
    {
     "name": "stderr",
     "output_type": "stream",
     "text": [
      "C:\\Users\\Watch Dogs\\Anaconda3\\envs\\books\\lib\\site-packages\\urllib3\\connectionpool.py:1020: InsecureRequestWarning: Unverified HTTPS request is being made to host 'nhasachphuongnam.com'. Adding certificate verification is strongly advised. See: https://urllib3.readthedocs.io/en/1.26.x/advanced-usage.html#ssl-warnings\n",
      "  InsecureRequestWarning,\n"
     ]
    }
   ],
   "source": [
    "infor = 'https://nhasachphuongnam.com/vi/hoang-tu-va-em-tai-ban-lan-2.html'\n",
    "\n",
    "response = requests.request(\"GET\", infor, headers=headers, verify=False)"
   ]
  },
  {
   "cell_type": "code",
   "execution_count": 6,
   "id": "afa90042",
   "metadata": {},
   "outputs": [
    {
     "data": {
      "text/plain": [
       "<script src=\"https://nhasachphuongnam.com/js/tygh/exceptions.js?ver=1633957843\" type=\"text/javascript\"></script> <div class=\"product-main-info vs-product-main-info-responsive ty-product-block ty-product-detail et-product-main-info\"> <div class=\"clearfix\"> <div itemscope=\"\" itemtype=\"http://schema.org/Product\"> <meta content=\"893497412312\" itemprop=\"sku\"/> <meta content=\"Hoàng Tử Và Em (Tái bản lần 2)\" itemprop=\"name\"/> <meta content='Lân cười, môi anh đặt trên vành tai cô. \"Anh yêu em, chỉ một mình em. Em có nghi ngờ anh không?\" Ơtec lại một lần nữa đỏ mặt. \n",
       "... Lân nhìn cô ngắm chiếc nhẫn, không chờ được, anh cầm lấy nó từ tay cô, nghiêng lại để cô nhìn thấy dòng chữ khắc bên trong. \n",
       "Không phải My heart will go on, Forever be yours... Không hoa mỹ, không cầu kỳ, nó thực sự là điều anh muôn nói với cô, là tiếng nói tận sâu thẳm lòng anh. \n",
       "Vỏn vẹn mấy chữ... \n",
       "- Give me your hand -For Euterpe, my princess.\n",
       " \n",
       "Một câu chuyện tình như mơ của một nữ sinh viên Y khoa nhan sắc vừa phải nhưng cá tính sắc sảo với một chàng đẹp trai tài giỏi con nhà giầu. Một câu chuyện nhẹ nhàng, hấp dẫn, thu hút bạn đọc theo dõi một mạch.\n",
       " \n",
       "Quyển sách đầu tay của tác giả Meggie Phạm, 19 tuổi.\n",
       " \n",
       "Nếu bạn muốn biết về những người trẻ họ sống, học và yêu như thế nào, hãy mở cuốn sách này.' itemprop=\"description\"/> <meta content=\"https://nhasachphuongnam.com/images/detailed/171/hoang_tu_va_em_tb_2.jpg\" itemprop=\"image\"/> <div itemprop=\"offers\" itemscope=\"\" itemtype=\"http://schema.org/Offer\"> <link href=\"https://nhasachphuongnam.com/vi/hoang-tu-va-em-tai-ban-lan-2.html\" itemprop=\"url\"/> <link href=\"http://schema.org/InStock\" itemprop=\"availability\"/> <meta content=\"VND\" itemprop=\"priceCurrency\"/> <meta content=\"63000\" itemprop=\"price\"/> </div> </div> <form action=\"https://nhasachphuongnam.com/vi/\" class=\"cm-disable-empty-files cm-ajax cm-ajax-full-render cm-ajax-status-middle\" enctype=\"multipart/form-data\" method=\"post\" name=\"product_form_79366\"> <input name=\"result_ids\" type=\"hidden\" value=\"cart_status*,wish_list*,checkout*,account_info*\"/> <input name=\"redirect_url\" type=\"hidden\" value=\"index.php?sl=vi&amp;dispatch=products.view&amp;product_id=79366\"/> <input name=\"product_data[79366][product_id]\" type=\"hidden\" value=\"79366\"/> <div class=\"image-wrap ty-float-left clreafix et-image-wrapper\"> <div class=\"image-border ty-center cm-reload-79366\" data-ca-previewer=\"true\" id=\"product_images_79366_update\"> <div class=\"clearfix\"> <style type=\"text/css\">\n",
       "      .et-big-image-wrapper{\n",
       "      width: 502px;\n",
       "      }\n",
       "    </style> <div class=\"et-big-image-wrapper\"> <div class=\"ty-product-img cm-preview-wrapper\"> <a class=\"cm-image-previewer cm-previewer ty-previewer\" data-ca-image-height=\"1165\" data-ca-image-id=\"preview[product_images_79366616439219091a]\" data-ca-image-width=\"764\" href=\"https://nhasachphuongnam.com/images/thumbnails/1165/1165/detailed/171/hoang_tu_va_em_tb_2.jpg\" id=\"det_img_link_79366616439219091a_171600\" title=\"\"><img alt=\"\" class=\"ty-pict cm-image\" data-src=\"\" id=\"det_img_79366616439219091a_171600\" src=\"https://nhasachphuongnam.com/images/thumbnails/500/500/detailed/171/hoang_tu_va_em_tb_2.jpg\" style=\"\" title=\"\"/><svg aria-hidden=\"true\" class=\"ty-pict__container\" height=\"500\" style=\"max-height: 100%; max-width: 100%; position: absolute; top: 0; left: 50%; transform: translateX(-50%); z-index: -1;\" viewbox=\"0 0 500 500\" width=\"500\"><rect fill=\"transparent\" height=\"500\" width=\"500\"></rect></svg> <span class=\"ty-previewer__icon hidden-phone\"></span></a> </div> </div> </div> <script src=\"https://nhasachphuongnam.com/js/tygh/previewers/owl.previewer.js?ver=1633957843\" type=\"text/javascript\"></script> <script src=\"https://nhasachphuongnam.com/design/themes/energot/js/et-product_image_gallery.js?ver=1633957843\" type=\"text/javascript\"></script> <!--product_images_79366_update--></div> </div> <div class=\"product-info\"> <div class=\"et-title clearfix\"> <h1 class=\"ty-mainbox-title\"><bdi>Hoàng Tử Và Em (Tái bản lần 2)</bdi></h1> </div> <div class=\"clearfix et-rating-brand\"> <div class=\"ty-discussion__rating-wrapper\" id=\"average_rating_product\"> <a class=\"ty-discussion__review-write cm-dialog-opener cm-dialog-auto-size\" data-ca-target-id=\"new_post_dialog_main_info_title_79366\" href=\"https://nhasachphuongnam.com/index.php?dispatch=discussion.get_new_post_form&amp;object_type=P&amp;object_id=79366&amp;obj_prefix=main_info_title_&amp;post_redirect_url=index.php%3Fsl%3Dvi%26dispatch%3Dproducts.view%26product_id%3D79366%26selected_section%3Ddiscussion%23discussion\" id=\"opener_new_post_main_info_title_79366\" rel=\"nofollow\" title=\"Viết đánh giá của bạn\">Viết đánh giá của bạn</a> <!--average_rating_product--></div> </div> <div class=\"note-promo\"> </div> <div class=\"prices-container price-wrap clearfix product-detail-price et-price\"> <div class=\"product-prices clearfix\"> <div class=\"actual-price\"> <span class=\"cm-reload-79366 ty-price-update\" id=\"price_update_79366\"> <input name=\"appearance[show_price_values]\" type=\"hidden\" value=\"1\"/> <input name=\"appearance[show_price]\" type=\"hidden\" value=\"1\"/> <span class=\"ty-price\" id=\"line_discounted_price_79366\"><bdi><span class=\"ty-price-num\" id=\"sec_discounted_price_79366\">63,000</span> <span class=\"ty-price-num\">đ</span></bdi></span> <!--price_update_79366--></span> <br/> </div> <div class=\"et-old-price\"> <span class=\"cm-reload-79366\" id=\"old_price_update_79366\"> <!--old_price_update_79366--></span> </div> </div> </div> <div class=\"product-note indented et-short-descr-wrapper\"> <div class=\"note-descr\"> <div class=\"et-short-descr-title\">Mô tả ngắn:</div> <div>  Lân cười, môi anh đặt trên vành tai cô. \"Anh yêu em, chỉ một mình em. Em có nghi ngờ anh không?\" Ơtec lại một lần nữa đỏ mặt.   \n",
       "  ... Lân nhìn cô ngắm chiếc nhẫn, không chờ được, anh cầm lấy nó từ tay cô, nghiêng lại để cô nhìn thấy dòng chữ khắc bên trong.   \n",
       "  Không phải My heart will go...</div> </div> </div> <div class=\"options-wrapper et-options-wrapper indented hidden\"> <div class=\"cm-reload-79366 js-product-options-79366\" id=\"product_options_update_79366\"> <div class=\"vs-opt-block\"> <input name=\"appearance[show_product_options]\" type=\"hidden\" value=\"1\"/> <input name=\"appearance[details_page]\" type=\"hidden\" value=\"1\"/> <input name=\"additional_info[info_type]\" type=\"hidden\" value=\"D\"/> <input name=\"additional_info[is_preview]\" type=\"hidden\" value=\"\"/> <input name=\"additional_info[get_icon]\" type=\"hidden\" value=\"1\"/> <input name=\"additional_info[get_detailed]\" type=\"hidden\" value=\"1\"/> <input name=\"additional_info[get_additional]\" type=\"hidden\" value=\"\"/> <input name=\"additional_info[get_options]\" type=\"hidden\" value=\"1\"/> <input name=\"additional_info[get_discounts]\" type=\"hidden\" value=\"1\"/> <input name=\"additional_info[get_features]\" type=\"hidden\" value=\"\"/> <input name=\"additional_info[get_extra]\" type=\"hidden\" value=\"\"/> <input name=\"additional_info[get_taxed_prices]\" type=\"hidden\" value=\"1\"/> <input name=\"additional_info[get_for_one_product]\" type=\"hidden\" value=\"1\"/> <input name=\"additional_info[detailed_params]\" type=\"hidden\" value=\"1\"/> <input name=\"additional_info[features_display_on]\" type=\"hidden\" value=\"C\"/> <input name=\"additional_info[get_active_options]\" type=\"hidden\" value=\"\"/> <input name=\"additional_info[get_variation_features_variants]\" type=\"hidden\" value=\"1\"/> <input name=\"additional_info[get_variation_info]\" type=\"hidden\" value=\"1\"/> <input name=\"additional_info[get_variation_name]\" type=\"hidden\" value=\"1\"/> <input name=\"additional_info[get_product_type]\" type=\"hidden\" value=\"\"/> <script type=\"text/javascript\">\n",
       "(function(_, $) {\n",
       "    $.ceEvent('on', 'ce.formpre_product_form_79366', function(frm, elm) {\n",
       "        if ($('#warning_79366').length) {\n",
       "            $.ceNotification('show', {\n",
       "                type: 'W', \n",
       "                title: _.tr('warning'), \n",
       "                message: _.tr('cannot_buy')\n",
       "            });\n",
       "\n",
       "            return false;\n",
       "        }\n",
       "            \n",
       "        return true;\n",
       "    });\n",
       "}(Tygh, Tygh.$));\n",
       "</script> </div> <!--product_options_update_79366--></div> </div> <div class=\"et-info-wrapper clearfix\"> <div class=\"advanced-options-wrapper clearfix\"> <div class=\"cm-reload-79366\" id=\"advanced_options_update_79366\"> <div class=\"ty-control-group product-list-field\"> <label class=\"ty-control-group__label\">Nhà bán hàng:</label> <span class=\"ty-control-group__item ty-company-name\"><a href=\"https://nhasachphuongnam.com/vi/phuong-nam-online/\">Phương Nam Online</a></span> <a class=\"cm-dialog-opener cm-dialog-auto-size ty-vendor-communication__post-write\" data-ca-target-id=\"new_thread_login_form\" href=\"https://nhasachphuongnam.com/vi/auth-loginform/?return_url=index.php%3Fsl%3Dvi%26dispatch%3Dproducts.view%26product_id%3D79366\" rel=\"nofollow\" title=\"Đặt câu hỏi về sản phẩm\"> <i class=\"ty-icon-chat\"></i> <span>Đặt câu hỏi về sản phẩm</span> </a> </div> <!--advanced_options_update_79366--></div> </div> <div class=\"sku-options-wrapper vs-sku\"> <div class=\"ty-control-group ty-sku-item cm-hidden-wrapper\" id=\"sku_update_79366\"> <input name=\"appearance[show_sku]\" type=\"hidden\" value=\"1\"/> <label class=\"ty-control-group__label\" id=\"sku_79366\">Barcode:</label> <span class=\"ty-control-group__item cm-reload-79366\" id=\"product_code_79366\">893497412312<!--product_code_79366--></span> </div> </div> <div class=\"vs-stock\"> <div class=\"cm-reload-79366 stock-wrap\" id=\"product_amount_update_79366\"> <input name=\"appearance[show_product_amount]\" type=\"hidden\" value=\"1\"/> <div class=\"ty-control-group product-list-field\"> <label class=\"ty-control-group__label\">Còn hàng:</label> <span class=\"ty-qty-in-stock ty-control-group__item\" id=\"qty_in_stock_79366\">\n",
       "                                                                            4 sản phẩm\n",
       "                                                                    </span> </div> <!--product_amount_update_79366--></div> </div> </div> <div class=\"product-fields-wrapper indented et-qty-wrapper\"> <div class=\"product-fields-group\"> <div class=\"cm-reload-79366\" id=\"qty_update_79366\"> <input name=\"appearance[show_qty]\" type=\"hidden\" value=\"1\"/> <input name=\"appearance[capture_options_vs_qty]\" type=\"hidden\" value=\"\"/> <div class=\"ty-qty et-qty clearfix changer\" id=\"qty_79366\"> <label class=\"ty-control-group__label\" for=\"qty_count_79366\">Số lượng:</label> <div class=\"ty-center ty-value-changer cm-value-changer\"> <a class=\"cm-increase ty-value-changer__increase\">+</a> <input class=\"ty-value-changer__input cm-amount\" data-ca-min-qty=\"1\" id=\"qty_count_79366\" name=\"product_data[79366][amount]\" size=\"5\" type=\"text\" value=\"1\"/> <a class=\"cm-decrease ty-value-changer__decrease\">−</a> </div> </div> <!--qty_update_79366--></div> </div> </div> <div class=\"buttons-container et-button-container clearfix\"> <div class=\"cm-reload-79366\" id=\"add_to_cart_update_79366\"> <input name=\"appearance[show_add_to_cart]\" type=\"hidden\" value=\"1\"/> <input name=\"appearance[show_list_buttons]\" type=\"hidden\" value=\"1\"/> <input name=\"appearance[but_role]\" type=\"hidden\" value=\"big\"/> <input name=\"appearance[quick_view]\" type=\"hidden\" value=\"\"/> <div class=\"buttons-container clearfix\" id=\"cart_add_block_79366\"> <button class=\"ty-btn et-icon-atc cm-submit text-button vs-text-w-icon\" id=\"button_cart_79366\" name=\"dispatch[checkout.add..79366]\"> <i class=\"et-icon-cart\"></i>CHỌN MUA\n",
       "    </button> </div><div class=\"add-buttons-wrap no-margin\"><div class=\"add-buttons-inner-wrap clearfix\"><div class=\"add-buttons add-to-wish clearfix\" id=\"cart_buttons_block_79366\"><a class=\"cm-tooltip vs-button vs-add-to-wishlist cm-submit\" data-ca-dispatch=\"dispatch[wishlist.add..79366]\" id=\"button_wishlist_79366\" title=\"Thêm vào danh sách yêu thích\"> <i class=\"ty-icon-heart\"></i> </a> </div></div></div> <!--add_to_cart_update_79366--></div> </div> <div class=\"vs-product-social clearfix\"> <div class=\"clear\"></div> <ul class=\"social-buttons social-buttons_ul clearfix\"> <li class=\"social-buttons_li clearfix ty-float-left vs-product-social-facebook\"><div id=\"fb-root\"></div> <div class=\"fb-like\" data-action=\"like\" data-colorscheme=\"light\" data-font=\"arial\" data-href=\"https://nhasachphuongnam.com/vi/hoang-tu-va-em-tai-ban-lan-2.html\" data-lang=\"vi\" data-layout=\"button_count\" data-send=\"true\" data-show-faces=\"false\" data-width=\"450\"></div> <script class=\"cm-ajax-force\" type=\"text/javascript\">\n",
       "    (function(_, $) {\n",
       "    if ($(\".fb-like\").length > 0) {\n",
       "        if (typeof (FB) != 'undefined') {\n",
       "            FB.init({ status: true, cookie: true, xfbml: true });\n",
       "        } else {\n",
       "            $.getScript(\"//connect.facebook.net/en_US/all.js#xfbml=1&appId=\", function () {\n",
       "                FB.init({ status: true, cookie: true, xfbml: true });\n",
       "            });\n",
       "        }\n",
       "    }\n",
       "    }(Tygh, Tygh.$));\n",
       "</script> </li> </ul> </div> </div> </form> <div class=\"hidden ty-vendor-communication-login\" id=\"new_thread_login_form\" title=\"Đăng nhập\"> <div class=\"ty-login-popup\"> <h3>\n",
       "            Please sign in so that we can notify you about a reply\n",
       "        </h3> <form action=\"https://nhasachphuongnam.com/vi/\" class=\"cm-ajax cm-ajax-full-render\" method=\"post\" name=\"new_thread_login_form_popup_form\"> <input name=\"result_ids\" type=\"hidden\" value=\"login_error_new_thread_login_form_popup\"/> <input name=\"error_container_id\" type=\"hidden\" value=\"login_error_new_thread_login_form_popup\"/> <input name=\"quick_login\" type=\"hidden\" value=\"1\"/> <input name=\"return_url\" type=\"hidden\" value=\"index.php?sl=vi&amp;dispatch=products.view&amp;product_id=79366\"/> <input name=\"redirect_url\" type=\"hidden\" value=\"index.php?sl=vi&amp;dispatch=products.view&amp;product_id=79366\"/> <div class=\"ty-control-group\"> <label class=\"ty-login__filed-label ty-control-group__label cm-required cm-trim cm-email\" for=\"login_new_thread_login_form_popup\">E-mail</label> <input class=\"ty-login__input cm-focus\" id=\"login_new_thread_login_form_popup\" name=\"user_login\" size=\"30\" type=\"text\" value=\"\"/> </div> <div class=\"ty-control-group ty-password-forgot\"> <label class=\"ty-login__filed-label ty-control-group__label ty-password-forgot__label cm-required\" for=\"psw_new_thread_login_form_popup\">Mật khẩu</label><a class=\"ty-password-forgot__a\" href=\"https://nhasachphuongnam.com/index.php?dispatch=auth.recover_password\" tabindex=\"5\">Quên mật khẩu?</a> <input class=\"ty-login__input\" id=\"psw_new_thread_login_form_popup\" maxlength=\"32\" name=\"password\" size=\"30\" type=\"password\" value=\"\"/> </div> <div class=\"ty-login-form__wrong-credentials-container\" id=\"login_error_new_thread_login_form_popup\"> <!--login_error_new_thread_login_form_popup--></div> <div class=\"vs-social-login\"> <div class=\"center space-top vs-social-text ty-center\">Hoặc đăng nhập với nhận dạng nhà cung cấp khác</div> <div class=\"vs-auth social-login\"> <input name=\"redirect_url\" type=\"hidden\" value=\"\"/><a class=\"cm-login-provider vs-login-google\" data-idp=\"google\"> <img alt=\"\" src=\"https://developers.google.com/identity/images/g-logo.png\" style=\"width:18px;height:18px; margin-right: 18px;\"/>Login with Google</a> </div> </div> <div class=\"ty-login-reglink ty-center\"> <a class=\"ty-login-reglink__a\" href=\"https://nhasachphuongnam.com/vi/profiles-add-vi/\" rel=\"nofollow\">Đăng ký tài khoản mới</a> </div> <div class=\"buttons-container clearfix\"> <div class=\"ty-float-right\"> <button class=\"ty-btn__login ty-btn__secondary ty-btn\" name=\"dispatch[auth.login]\" type=\"submit\">Đăng nhập</button> </div> <div class=\"ty-login__remember-me\"> <label class=\"ty-login__remember-me-label\" for=\"remember_me_new_thread_login_form_popup\"><input class=\"checkbox\" id=\"remember_me_new_thread_login_form_popup\" name=\"remember_me\" type=\"checkbox\" value=\"Y\"/>Nhớ mật khẩu</label> </div> </div> </form> </div> </div> </div> <script src=\"https://nhasachphuongnam.com/js/tygh/tabs.js?ver=1633957843\" type=\"text/javascript\"></script> <div class=\"ty-tabs cm-j-tabs clearfix\"> <ul class=\"ty-tabs__list\"> <li class=\"ty-tabs__item cm-js active\" id=\"description\"><a class=\"ty-tabs__a\">Mô tả sản phẩm</a></li> <li class=\"ty-tabs__item cm-js\" id=\"features\"><a class=\"ty-tabs__a\">Thông tin chi tiết</a></li> <li class=\"ty-tabs__item cm-js\" id=\"discussion\"><a class=\"ty-tabs__a\">Đánh giá của khách hàng</a></li> </ul> </div> <div class=\"cm-tabs-content ty-tabs__content clearfix\" id=\"tabs_content\"> <div class=\"ty-wysiwyg-content content-description\" id=\"content_description\"> <div><p style=\"text-align: justify;\"><em>Lân cười, môi anh đặt trên vành tai cô. \"Anh yêu em, chỉ một mình em. Em có nghi ngờ anh không?\" Ơtec lại một lần nữa đỏ mặt. </em></p> <p style=\"text-align: justify;\"><em>... Lân nhìn cô ngắm chiếc nhẫn, không chờ được, anh cầm lấy nó từ tay cô, nghiêng lại để cô nhìn thấy dòng chữ khắc bên trong. </em></p> <p style=\"text-align: justify;\"><em>Không phải My heart will go on, Forever be yours... Không hoa mỹ, không cầu kỳ, nó thực sự là điều anh muôn nói với cô, là tiếng nói tận sâu thẳm lòng anh. </em></p> <p style=\"text-align: justify;\"><em>Vỏn vẹn mấy chữ... </em></p> <p style=\"text-align: justify;\"><em>- Give me your hand -For Euterpe, my princess.</em></p> <p style=\"text-align: justify;\"> </p> <p style=\"text-align: justify;\">Một câu chuyện tình như mơ của một nữ sinh viên Y khoa nhan sắc vừa phải nhưng cá tính sắc sảo với một chàng đẹp trai tài giỏi con nhà giầu. Một câu chuyện nhẹ nhàng, hấp dẫn, thu hút bạn đọc theo dõi một mạch.</p> <p style=\"text-align: justify;\"> </p> <p style=\"text-align: justify;\">Quyển sách đầu tay của tác giả Meggie Phạm, 19 tuổi.</p> <p style=\"text-align: justify;\"> </p> <p style=\"text-align: justify;\">Nếu bạn muốn biết về những người trẻ họ sống, học và yêu như thế nào, hãy mở cuốn sách này.</p></div> </div> <div class=\"ty-wysiwyg-content content-features\" id=\"content_features\"> <div class=\"ty-product-feature\"> <span class=\"ty-product-feature__label\">Loại sản phẩm:</span> <div class=\"ty-product-feature__value\">Bìa mềm</div> </div> <div class=\"ty-product-feature\"> <span class=\"ty-product-feature__label\">Kích thước:</span> <div class=\"ty-product-feature__value\">13 x 20<span class=\"ty-product-feature__suffix\"> cm</span></div> </div> <div class=\"ty-product-feature\"> <span class=\"ty-product-feature__label\">Số trang:</span> <div class=\"ty-product-feature__value\">257</div> </div> <div class=\"ty-product-feature\"> <span class=\"ty-product-feature__label\">Tác giả:</span> <div class=\"ty-product-feature__value\"><ul class=\"ty-product-feature__multiple\"><li class=\"ty-product-feature__multiple-item\"><span class=\"ty-compare-checkbox\"><i class=\"ty-compare-checkbox__icon ty-icon-ok\"></i></span><span class=\"ty-product-feature__prefix\"></span>Meggie Phạm<span class=\"ty-product-feature__suffix\"></span></li></ul></div> </div> <div class=\"ty-product-feature\"> <span class=\"ty-product-feature__label\">Nhà Xuất Bản:</span> <div class=\"ty-product-feature__value\"><ul class=\"ty-product-feature__multiple\"><li class=\"ty-product-feature__multiple-item\"><span class=\"ty-compare-checkbox\"><i class=\"ty-compare-checkbox__icon ty-icon-ok\"></i></span><span class=\"ty-product-feature__prefix\"></span>NXB Trẻ<span class=\"ty-product-feature__suffix\"></span></li></ul></div> </div> </div> <div class=\"ty-wysiwyg-content content-files\" id=\"content_files\"> </div> <div class=\"ty-wysiwyg-content content-tags\" id=\"content_tags\"> </div> <div class=\"ty-wysiwyg-content content-attachments\" id=\"content_attachments\"> </div> <div class=\"ty-wysiwyg-content content-discussion\" id=\"content_discussion\"> <div class=\"discussion-block\" id=\"content_discussion_block\"> <div id=\"posts_list_79366\"> <p class=\"ty-no-items\">Sản phẩm này chưa nhận được đánh giá nào. Bạn hãy là người đầu tiên đánh giá nhé! </p> <!--posts_list_79366--></div> <a class=\"ty-btn cm-dialog-opener cm-dialog-auto-size ty-btn__primary\" data-ca-target-id=\"new_post_dialog_79366\" href=\"https://nhasachphuongnam.com/index.php?dispatch=discussion.get_new_post_form&amp;object_type=P&amp;object_id=79366&amp;obj_prefix=&amp;post_redirect_url=index.php%3Fsl%3Dvi%26dispatch%3Dproducts.view%26product_id%3D79366%26selected_section%3Ddiscussion%23discussion\" rel=\"nofollow\" title=\"Viết đánh giá của bạn\">Viết đánh giá của bạn</a> </div> </div> <div class=\"ty-wysiwyg-content content-required_products\" id=\"content_required_products\"> </div> <div class=\"ty-wysiwyg-content content-sb__deal_of_the_day\" id=\"content_sb__deal_of_the_day\"> </div> </div> </div> <div class=\"product-details\"> </div>"
      ]
     },
     "execution_count": 6,
     "metadata": {},
     "output_type": "execute_result"
    }
   ],
   "source": [
    "soup = BeautifulSoup(response.text,'html.parser')\n",
    "soup"
   ]
  },
  {
   "cell_type": "code",
   "execution_count": 21,
   "id": "0976d950",
   "metadata": {},
   "outputs": [
    {
     "data": {
      "text/plain": [
       "'https://nhasachphuongnam.com/images/thumbnails/1165/1165/detailed/171/hoang_tu_va_em_tb_2.jpg'"
      ]
     },
     "execution_count": 21,
     "metadata": {},
     "output_type": "execute_result"
    }
   ],
   "source": [
    "soup.find('a',{'class':'cm-image-previewer cm-previewer ty-previewer'})['href']"
   ]
  },
  {
   "cell_type": "code",
   "execution_count": 16,
   "id": "22c9694d",
   "metadata": {},
   "outputs": [
    {
     "data": {
      "text/plain": [
       "'  Lân cười, môi anh đặt trên vành tai cô. \"Anh yêu em, chỉ một mình em. Em có nghi ngờ anh không?\" Ơtec lại một lần nữa đỏ mặt.   \\n  ... Lân nhìn cô ngắm chiếc nhẫn, không chờ được, anh cầm lấy nó từ tay cô, nghiêng lại để cô nhìn thấy dòng chữ khắc bên trong.   \\n  Không phải My heart will go...'"
      ]
     },
     "execution_count": 16,
     "metadata": {},
     "output_type": "execute_result"
    }
   ],
   "source": [
    "soup.find('div',{'class':'product-note indented et-short-descr-wrapper'}).findChildren()[-1].text"
   ]
  },
  {
   "cell_type": "code",
   "execution_count": 26,
   "id": "7c7d42bc",
   "metadata": {},
   "outputs": [
    {
     "data": {
      "text/plain": [
       "[<div class=\"ty-product-feature\"> <span class=\"ty-product-feature__label\">Loại sản phẩm:</span> <div class=\"ty-product-feature__value\">Bìa mềm</div> </div>,\n",
       " <span class=\"ty-product-feature__label\">Loại sản phẩm:</span>,\n",
       " <div class=\"ty-product-feature__value\">Bìa mềm</div>,\n",
       " <div class=\"ty-product-feature\"> <span class=\"ty-product-feature__label\">Kích thước:</span> <div class=\"ty-product-feature__value\">13 x 20<span class=\"ty-product-feature__suffix\"> cm</span></div> </div>,\n",
       " <span class=\"ty-product-feature__label\">Kích thước:</span>,\n",
       " <div class=\"ty-product-feature__value\">13 x 20<span class=\"ty-product-feature__suffix\"> cm</span></div>,\n",
       " <span class=\"ty-product-feature__suffix\"> cm</span>,\n",
       " <div class=\"ty-product-feature\"> <span class=\"ty-product-feature__label\">Số trang:</span> <div class=\"ty-product-feature__value\">257</div> </div>,\n",
       " <span class=\"ty-product-feature__label\">Số trang:</span>,\n",
       " <div class=\"ty-product-feature__value\">257</div>,\n",
       " <div class=\"ty-product-feature\"> <span class=\"ty-product-feature__label\">Tác giả:</span> <div class=\"ty-product-feature__value\"><ul class=\"ty-product-feature__multiple\"><li class=\"ty-product-feature__multiple-item\"><span class=\"ty-compare-checkbox\"><i class=\"ty-compare-checkbox__icon ty-icon-ok\"></i></span><span class=\"ty-product-feature__prefix\"></span>Meggie Phạm<span class=\"ty-product-feature__suffix\"></span></li></ul></div> </div>,\n",
       " <span class=\"ty-product-feature__label\">Tác giả:</span>,\n",
       " <div class=\"ty-product-feature__value\"><ul class=\"ty-product-feature__multiple\"><li class=\"ty-product-feature__multiple-item\"><span class=\"ty-compare-checkbox\"><i class=\"ty-compare-checkbox__icon ty-icon-ok\"></i></span><span class=\"ty-product-feature__prefix\"></span>Meggie Phạm<span class=\"ty-product-feature__suffix\"></span></li></ul></div>,\n",
       " <ul class=\"ty-product-feature__multiple\"><li class=\"ty-product-feature__multiple-item\"><span class=\"ty-compare-checkbox\"><i class=\"ty-compare-checkbox__icon ty-icon-ok\"></i></span><span class=\"ty-product-feature__prefix\"></span>Meggie Phạm<span class=\"ty-product-feature__suffix\"></span></li></ul>,\n",
       " <li class=\"ty-product-feature__multiple-item\"><span class=\"ty-compare-checkbox\"><i class=\"ty-compare-checkbox__icon ty-icon-ok\"></i></span><span class=\"ty-product-feature__prefix\"></span>Meggie Phạm<span class=\"ty-product-feature__suffix\"></span></li>,\n",
       " <span class=\"ty-compare-checkbox\"><i class=\"ty-compare-checkbox__icon ty-icon-ok\"></i></span>,\n",
       " <i class=\"ty-compare-checkbox__icon ty-icon-ok\"></i>,\n",
       " <span class=\"ty-product-feature__prefix\"></span>,\n",
       " <span class=\"ty-product-feature__suffix\"></span>,\n",
       " <div class=\"ty-product-feature\"> <span class=\"ty-product-feature__label\">Nhà Xuất Bản:</span> <div class=\"ty-product-feature__value\"><ul class=\"ty-product-feature__multiple\"><li class=\"ty-product-feature__multiple-item\"><span class=\"ty-compare-checkbox\"><i class=\"ty-compare-checkbox__icon ty-icon-ok\"></i></span><span class=\"ty-product-feature__prefix\"></span>NXB Trẻ<span class=\"ty-product-feature__suffix\"></span></li></ul></div> </div>,\n",
       " <span class=\"ty-product-feature__label\">Nhà Xuất Bản:</span>,\n",
       " <div class=\"ty-product-feature__value\"><ul class=\"ty-product-feature__multiple\"><li class=\"ty-product-feature__multiple-item\"><span class=\"ty-compare-checkbox\"><i class=\"ty-compare-checkbox__icon ty-icon-ok\"></i></span><span class=\"ty-product-feature__prefix\"></span>NXB Trẻ<span class=\"ty-product-feature__suffix\"></span></li></ul></div>,\n",
       " <ul class=\"ty-product-feature__multiple\"><li class=\"ty-product-feature__multiple-item\"><span class=\"ty-compare-checkbox\"><i class=\"ty-compare-checkbox__icon ty-icon-ok\"></i></span><span class=\"ty-product-feature__prefix\"></span>NXB Trẻ<span class=\"ty-product-feature__suffix\"></span></li></ul>,\n",
       " <li class=\"ty-product-feature__multiple-item\"><span class=\"ty-compare-checkbox\"><i class=\"ty-compare-checkbox__icon ty-icon-ok\"></i></span><span class=\"ty-product-feature__prefix\"></span>NXB Trẻ<span class=\"ty-product-feature__suffix\"></span></li>,\n",
       " <span class=\"ty-compare-checkbox\"><i class=\"ty-compare-checkbox__icon ty-icon-ok\"></i></span>,\n",
       " <i class=\"ty-compare-checkbox__icon ty-icon-ok\"></i>,\n",
       " <span class=\"ty-product-feature__prefix\"></span>,\n",
       " <span class=\"ty-product-feature__suffix\"></span>]"
      ]
     },
     "execution_count": 26,
     "metadata": {},
     "output_type": "execute_result"
    }
   ],
   "source": [
    "soup.find('div',{'id':'content_features'}).findChildren()"
   ]
  },
  {
   "cell_type": "code",
   "execution_count": 38,
   "id": "0567c405",
   "metadata": {},
   "outputs": [
    {
     "data": {
      "text/plain": [
       "'NXB Trẻ'"
      ]
     },
     "execution_count": 38,
     "metadata": {},
     "output_type": "execute_result"
    }
   ],
   "source": [
    "soup.find('div',{'id':'content_features'}).findChildren()[21].text"
   ]
  },
  {
   "cell_type": "code",
   "execution_count": 48,
   "id": "414dcb78",
   "metadata": {},
   "outputs": [],
   "source": [
    "booksQueue = queue.Queue()\n",
    "\n",
    "class _phuongnam_Crawler():\n",
    "    def __init__(self, category):\n",
    "        self.category = category\n",
    "        \n",
    "    def crawl(self):\n",
    "        _response = requests.request(\"GET\", _category_path.format(self.categoryid, 1, self.urlkey), headers=headers, data=payload).json()['paging']['last_page']\n",
    "        print(f'total pages {_response}')\n",
    "        _concurrent = [_ for _ in range(_response+1)]\n",
    "        print(_concurrent)\n",
    "        \n",
    "        with concurrent.futures.ThreadPoolExecutor(max_workers=20) as executor:\n",
    "            executor.map(self._products, _concurrent)\n",
    "    \n",
    "    def _books(self, book_url, category):\n",
    "        \n",
    "        book = {}\n",
    "        \n",
    "        _res = requests.request(\"GET\", book_url, headers=headers, verify=False)\n",
    "        soup = BeautifulSoup(_res.text,'html.parser')\n",
    "        _child = soup.find('div',{'id':'content_features'}).findChildren()\n",
    "        \n",
    "        book['Tên Sách'] = soup.find('h1',{'class':'ty-mainbox-title'}).text\n",
    "        book['Ảnh bìa'] = soup.find('a',{'class':'cm-image-previewer cm-previewer ty-previewer'})['href']\n",
    "        book['Thể loại'] = _genre[self.category]\n",
    "        book['Nội dung tóm tắt'] = soup.find('div',{'id':'content_description'}).text\n",
    "        book['Tên tác giả'] = _child[9].text\n",
    "        book['Só trang'] = _child[12].text\n",
    "        book['Nhà xuất bản'] = _child[21].text\n",
    "        book['Giá bìa'] = soup.find('span',{'class':'ty-price-num'}).text\n",
    "        \n",
    "        print(book)\n",
    "        booksQueue.put(book)\n",
    "            \n",
    "        print(f\"Number of products in my pocket {booksQueue.qsize()}\")\n",
    "        \n",
    "    def _bookshelf(self,pages):\n",
    "        _bookshelf = []\n",
    "        \n",
    "        response = requests.request(\"GET\", _phuongnam_url.format(self.category, pages), headers=headers, verify=False).json()\n",
    "        \n",
    "        html = BeautifulSoup(response['html']['pagination_contents'])\n",
    "        book_html=  html.find('div',{'class':'grid-list vs-grid-table-wrapper et-grid-table-wrapper'})\n",
    "        books = book_html.findAll('div',{'class':'vs-grid vs-grid-table et-grid'})\n",
    "        \n",
    "        _bookshelf = [_.a['href'] for _ in books]\n",
    "        \n",
    "        return _bookshelf"
   ]
  },
  {
   "cell_type": "code",
   "execution_count": 9,
   "id": "dea445f8",
   "metadata": {},
   "outputs": [
    {
     "ename": "TypeError",
     "evalue": "__init__() missing 1 required positional argument: 'urlkey'",
     "output_type": "error",
     "traceback": [
      "\u001b[1;31m---------------------------------------------------------------------------\u001b[0m",
      "\u001b[1;31mTypeError\u001b[0m                                 Traceback (most recent call last)",
      "\u001b[1;32mC:\\Users\\WATCHD~1\\AppData\\Local\\Temp/ipykernel_14604/4049456513.py\u001b[0m in \u001b[0;36m<module>\u001b[1;34m\u001b[0m\n\u001b[1;32m----> 1\u001b[1;33m \u001b[0mt\u001b[0m \u001b[1;33m=\u001b[0m \u001b[0m_phuongnam_Crawler\u001b[0m\u001b[1;33m(\u001b[0m\u001b[1;34m'van-hoc-duong-dai'\u001b[0m\u001b[1;33m)\u001b[0m\u001b[1;33m\u001b[0m\u001b[1;33m\u001b[0m\u001b[0m\n\u001b[0m\u001b[0;32m      2\u001b[0m \u001b[0mt\u001b[0m\u001b[1;33m.\u001b[0m\u001b[0m_bookshelf\u001b[0m\u001b[1;33m\u001b[0m\u001b[1;33m\u001b[0m\u001b[0m\n",
      "\u001b[1;31mTypeError\u001b[0m: __init__() missing 1 required positional argument: 'urlkey'"
     ]
    }
   ],
   "source": [
    "for k,v in _genre:\n",
    "\n",
    "t = _phuongnam_Crawler('van-hoc-duong-dai')\n",
    "t._bookshelf"
   ]
  },
  {
   "cell_type": "code",
   "execution_count": 49,
   "id": "d6fd6c42",
   "metadata": {},
   "outputs": [
    {
     "name": "stderr",
     "output_type": "stream",
     "text": [
      "C:\\Users\\Watch Dogs\\Anaconda3\\envs\\books\\lib\\site-packages\\urllib3\\connectionpool.py:1020: InsecureRequestWarning: Unverified HTTPS request is being made to host 'nhasachphuongnam.com'. Adding certificate verification is strongly advised. See: https://urllib3.readthedocs.io/en/1.26.x/advanced-usage.html#ssl-warnings\n",
      "  InsecureRequestWarning,\n"
     ]
    },
    {
     "name": "stdout",
     "output_type": "stream",
     "text": [
      "{'Tên Sách': 'Yên Lam', 'Ảnh bìa': 'https://nhasachphuongnam.com/images/thumbnails/900/900/detailed/215/yen-lam.jpg', 'Thể loại': 'Văn học đương đại', 'Nội dung tóm tắt': '  “Khắc ngồi rất lâu như thế, bất động. Chợt con mèo Jin từ đâu nhảy vào lòng anh làm anh giật nảy người. Màn hình đã tự động khóa từ lúc nào. Tay run run, anh mở lại chiếc điện thoại, gương mặt Lam hiện ra ở góc trên trái màn hình, nhìn vào anh như muốn nói “Xin chào!”... Chào em! Anh thốt lên trong vô thức, chợt nghe tim mình nhói đau. Đã bao lâu rồi anh không nhìn thấy cô? Đã bao lâu rồi anh như đã quên mất giọng nói của cô? Hai mươi năm là một khoảng thời gian dài, rất dài, có thể khiến con người ta quên đi mình là ai, mình đã từng như thế nào...”.  ', 'Tên tác giả': ' cm', 'Só trang': '254', 'Nhà xuất bản': '', 'Giá bìa': '97,000'}\n",
      "Number of products in my pocket 1\n",
      "None\n"
     ]
    }
   ],
   "source": [
    "t = _phuongnam_Crawler('van-hoc-duong-dai')\n",
    "# print(t._bookshelf(1))\n",
    "print(t._books(\"https://nhasachphuongnam.com/vi/yen-lam.html\",\"van-hoc-duong-dai\"))"
   ]
  }
 ],
 "metadata": {
  "kernelspec": {
   "display_name": "book",
   "language": "python",
   "name": "book"
  },
  "language_info": {
   "codemirror_mode": {
    "name": "ipython",
    "version": 3
   },
   "file_extension": ".py",
   "mimetype": "text/x-python",
   "name": "python",
   "nbconvert_exporter": "python",
   "pygments_lexer": "ipython3",
   "version": "3.7.11"
  }
 },
 "nbformat": 4,
 "nbformat_minor": 5
}
